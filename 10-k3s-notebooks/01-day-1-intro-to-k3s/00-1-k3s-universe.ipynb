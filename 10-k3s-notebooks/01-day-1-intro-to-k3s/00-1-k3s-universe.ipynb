{
 "cells": [
  {
   "cell_type": "markdown",
   "metadata": {},
   "source": [
    "# K3s\n",
    "\n",
    "![](https://rancher.com/imgs/why-rancher/screen2-thumbnail.svg)\n",
    "\n",
    "\n",
    "\n",
    "### Kubectl\n",
    "https://kubernetes.io/docs/tasks/tools/install-kubectl/#install-kubectl-on-linux"
   ]
  },
  {
   "cell_type": "markdown",
   "metadata": {},
   "source": [
    "# References\n",
    "\n",
    "https://rancher.com/docs/k3s/latest/en/\n",
    "\n",
    "https://github.com/rancher/k3d\n",
    "\n",
    "https://github.com/rancher/k3d/blob/master/docs/examples.md"
   ]
  },
  {
   "cell_type": "markdown",
   "metadata": {},
   "source": [
    "# Why Rancher\n",
    "> Rancher lets you streamline cluster deployment on bare metal, private clouds, public clouds or vSphere and secure them using global security policies.\n",
    "\n",
    "1. Nice integrated gui\n",
    "2. Trys to make kubernetes complexity tolerable\n",
    "3. "
   ]
  },
  {
   "cell_type": "markdown",
   "metadata": {},
   "source": [
    "### Using Docker for k3s\n",
    "\n",
    "https://medium.com/@yannalbou/k3d-k3s-k8s-perfect-match-for-dev-and-testing-896c8953acc0\n",
    "\n",
    "https://github.com/tonybutzer/k8s101/blob/master/pkg/k3s/Readme.md\n",
    "    "
   ]
  },
  {
   "cell_type": "markdown",
   "metadata": {},
   "source": [
    "# k3s GITHUB\n",
    "\n",
    "https://github.com/rancher/k3s/tree/master/pkg\n",
    "\n",
    "## Networking Examples\n",
    "https://github.com/rancher/k3d/blob/master/docs/examples.md"
   ]
  },
  {
   "cell_type": "markdown",
   "metadata": {},
   "source": [
    "# Someday swarm - I swear - -tony\n",
    "\n",
    "https://sysadmins.co.za/shipping-your-logs-from-docker-swarm-to-elasticsearch-with-fluentd/"
   ]
  },
  {
   "cell_type": "markdown",
   "metadata": {},
   "source": [
    "# RKE Sadness\n",
    "\n",
    "https://github.com/rancher/rancher/issues/19713\n",
    "\n",
    "https://github.com/rancher/rancher/issues/26265\n",
    "\n",
    "https://github.com/rancher/rancher/issues/23045\n",
    "\n",
    "i purchased a qotom to test RKE on libert/kvms\n",
    "\n",
    "this should be cool\n",
    "\n",
    "# RKE and libvirt/KVM\n",
    "\n",
    "1. How to install a Kubernetes Cluster with Rancher - Henrik Hoegh\n",
    "    - https://www.youtube.com/watch?v=OSpGfc9X3s4\n",
    "\n",
    "https://github.com/tonybutzer/k8s101/tree/master/tfinfra/chs-rancher-custom/rke\n",
    "https://github.com/tonybutzer/k8s101/blob/master/tfinfra/chs-rancher-custom/Readme.md\n",
    "\n",
    "https://rancher.com/docs/rke/latest/en/installation/\n",
    "\n",
    "https://rancher.com/docs/rke/latest/en/os/#ports\n",
    "\n",
    "https://rancher.com/docs/rke/latest/en/example-yamls/#minimal-cluster-yml-example\n"
   ]
  },
  {
   "cell_type": "markdown",
   "metadata": {},
   "source": [
    "# More References\n",
    "\n",
    "1. [ Kube 18 ] How to setup Rancher to manage your Kubernetes Cluster\n",
    "    - https://www.youtube.com/watch?v=jF5L6IgZ5To\n",
    "\n",
    "2. https://k3s.io/"
   ]
  },
  {
   "cell_type": "code",
   "execution_count": 1,
   "metadata": {},
   "outputs": [
    {
     "name": "stdout",
     "output_type": "stream",
     "text": [
      "/home/ubuntu/.config/k3d/dev/kubeconfig.yaml\r\n"
     ]
    }
   ],
   "source": [
    "! k3d get-kubeconfig --name='dev'"
   ]
  },
  {
   "cell_type": "code",
   "execution_count": null,
   "metadata": {},
   "outputs": [],
   "source": []
  },
  {
   "cell_type": "code",
   "execution_count": 2,
   "metadata": {},
   "outputs": [
    {
     "name": "stdout",
     "output_type": "stream",
     "text": [
      "env: KUBECONFIG=/home/ubuntu/.config/k3d/dev/kubeconfig.yaml\n"
     ]
    }
   ],
   "source": [
    "%env KUBECONFIG=/home/ubuntu/.config/k3d/dev/kubeconfig.yaml"
   ]
  },
  {
   "cell_type": "code",
   "execution_count": 3,
   "metadata": {},
   "outputs": [
    {
     "name": "stdout",
     "output_type": "stream",
     "text": [
      "NAME             CPU(cores)   CPU%   MEMORY(bytes)   MEMORY%   \n",
      "k3d-dev-server   71m          3%     570Mi           7%        \n",
      "NAMESPACE     NAME                                      CPU(cores)   MEMORY(bytes)   \n",
      "default       nginx-85ff79dd56-jt99w                    0m           2Mi             \n",
      "default       nginx-85ff79dd56-r9hxn                    0m           2Mi             \n",
      "default       nginx-85ff79dd56-zd4zp                    0m           2Mi             \n",
      "kube-system   coredns-d798c9dd-nm5cs                    3m           7Mi             \n",
      "kube-system   local-path-provisioner-58fb86bdfd-f6l9c   2m           6Mi             \n",
      "kube-system   metrics-server-58c885686f-46ddw           2m           10Mi            \n",
      "kube-system   svclb-traefik-xs2rq                       0m           1Mi             \n",
      "kube-system   traefik-6787cddb4b-x7b8z                  3m           12Mi            \n"
     ]
    }
   ],
   "source": [
    "%%bash\n",
    "\n",
    "export KUBECONFIG='/home/ubuntu/.config/k3d/dev/kubeconfig.yaml'\n",
    "kubectl top node\n",
    "kubectl top pod --all-namespaces"
   ]
  },
  {
   "cell_type": "code",
   "execution_count": 4,
   "metadata": {},
   "outputs": [
    {
     "name": "stdout",
     "output_type": "stream",
     "text": [
      "/home/ubuntu/.config/k3d/dev/kubeconfig.yaml\n",
      "NAME             CPU(cores)   CPU%   MEMORY(bytes)   MEMORY%   \n",
      "k3d-dev-server   71m          3%     570Mi           7%        \n"
     ]
    }
   ],
   "source": [
    "! echo $KUBECONFIG; kubectl top node"
   ]
  },
  {
   "cell_type": "code",
   "execution_count": 5,
   "metadata": {},
   "outputs": [
    {
     "name": "stdout",
     "output_type": "stream",
     "text": [
      "env: k=kubectl\n"
     ]
    }
   ],
   "source": [
    "%env k=kubectl"
   ]
  },
  {
   "cell_type": "code",
   "execution_count": 7,
   "metadata": {},
   "outputs": [
    {
     "name": "stdout",
     "output_type": "stream",
     "text": [
      "env: a=--all-namespaces\n"
     ]
    }
   ],
   "source": [
    "%env a=--all-namespaces"
   ]
  },
  {
   "cell_type": "code",
   "execution_count": 8,
   "metadata": {},
   "outputs": [
    {
     "name": "stdout",
     "output_type": "stream",
     "text": [
      "NAMESPACE     NAME                                      CPU(cores)   MEMORY(bytes)   \r\n",
      "default       nginx-85ff79dd56-jt99w                    0m           2Mi             \r\n",
      "default       nginx-85ff79dd56-r9hxn                    0m           2Mi             \r\n",
      "default       nginx-85ff79dd56-zd4zp                    0m           2Mi             \r\n",
      "kube-system   coredns-d798c9dd-nm5cs                    3m           7Mi             \r\n",
      "kube-system   local-path-provisioner-58fb86bdfd-f6l9c   2m           6Mi             \r\n",
      "kube-system   metrics-server-58c885686f-46ddw           2m           10Mi            \r\n",
      "kube-system   svclb-traefik-xs2rq                       0m           1Mi             \r\n",
      "kube-system   traefik-6787cddb4b-x7b8z                  3m           12Mi            \r\n"
     ]
    }
   ],
   "source": [
    "! $k top pod $a"
   ]
  },
  {
   "cell_type": "code",
   "execution_count": 9,
   "metadata": {},
   "outputs": [
    {
     "name": "stdout",
     "output_type": "stream",
     "text": [
      "<!DOCTYPE html>\r\n",
      "<html>\r\n",
      "<head>\r\n",
      "<title>Welcome to nginx!</title>\r\n",
      "<style>\r\n",
      "    body {\r\n",
      "        width: 35em;\r\n",
      "        margin: 0 auto;\r\n",
      "        font-family: Tahoma, Verdana, Arial, sans-serif;\r\n",
      "    }\r\n",
      "</style>\r\n",
      "</head>\r\n",
      "<body>\r\n",
      "<h1>Welcome to nginx!</h1>\r\n",
      "<p>If you see this page, the nginx web server is successfully installed and\r\n",
      "working. Further configuration is required.</p>\r\n",
      "\r\n",
      "<p>For online documentation and support please refer to\r\n",
      "<a href=\"http://nginx.org/\">nginx.org</a>.<br/>\r\n",
      "Commercial support is available at\r\n",
      "<a href=\"http://nginx.com/\">nginx.com</a>.</p>\r\n",
      "\r\n",
      "<p><em>Thank you for using nginx.</em></p>\r\n",
      "</body>\r\n",
      "</html>\r\n"
     ]
    }
   ],
   "source": [
    "! curl http://localhost:8081"
   ]
  },
  {
   "cell_type": "code",
   "execution_count": 10,
   "metadata": {},
   "outputs": [
    {
     "name": "stdout",
     "output_type": "stream",
     "text": [
      "IMAGE                                      TAG                 IMAGE ID            SIZE\r\n",
      "docker.io/coredns/coredns                  1.6.3               c4d3d16fe508b       14.2MB\r\n",
      "docker.io/library/nginx                    latest              ed21b7a8aee9c       51MB\r\n",
      "docker.io/library/traefik                  1.7.19              aa764f7db3051       24MB\r\n",
      "docker.io/rancher/klipper-helm             v0.2.3              274808e7f6b83       46.8MB\r\n",
      "docker.io/rancher/klipper-lb               v0.1.2              897ce3c5fc8ff       2.71MB\r\n",
      "docker.io/rancher/local-path-provisioner   v0.0.11             9d12f9848b99f       12MB\r\n",
      "docker.io/rancher/metrics-server           v0.3.6              9dd718864ce61       10.5MB\r\n",
      "k8s.gcr.io/metrics-server-amd64            v0.3.6              9dd718864ce61       10.5MB\r\n",
      "docker.io/rancher/pause                    3.1                 da86e6ba6ca19       327kB\r\n"
     ]
    }
   ],
   "source": [
    "! docker exec -it k3d-dev-server crictl images"
   ]
  },
  {
   "cell_type": "code",
   "execution_count": 11,
   "metadata": {},
   "outputs": [
    {
     "name": "stdout",
     "output_type": "stream",
     "text": [
      "CONTAINER           IMAGE               CREATED             STATE               NAME                     ATTEMPT             POD ID\r\n",
      "dcb133a2a5b49       ed21b7a8aee9c       12 hours ago        Running             nginx                    0                   5b78c0702ca95\r\n",
      "64b4d7c58a19c       ed21b7a8aee9c       12 hours ago        Running             nginx                    0                   3a8e146906064\r\n",
      "e78c70bf140d0       ed21b7a8aee9c       14 hours ago        Running             nginx                    0                   f73a40ba0c524\r\n",
      "92d9535ec27de       9dd718864ce61       14 hours ago        Running             metrics-server           0                   05b79be8d51da\r\n",
      "5fb7ac0ffd47d       aa764f7db3051       14 hours ago        Running             traefik                  0                   1274b5be6dc61\r\n",
      "a676332518a14       897ce3c5fc8ff       14 hours ago        Running             lb-port-443              0                   5a951d97a260d\r\n",
      "934587563ee63       897ce3c5fc8ff       14 hours ago        Running             lb-port-80               0                   5a951d97a260d\r\n",
      "70ff828a8a084       c4d3d16fe508b       14 hours ago        Running             coredns                  0                   31600440760e3\r\n",
      "7f483adbd56b0       9d12f9848b99f       14 hours ago        Running             local-path-provisioner   0                   a2dc64284e4a9\r\n"
     ]
    }
   ],
   "source": [
    "! docker exec -it k3d-dev-server crictl ps"
   ]
  },
  {
   "cell_type": "code",
   "execution_count": 12,
   "metadata": {},
   "outputs": [
    {
     "name": "stdout",
     "output_type": "stream",
     "text": [
      "dcb133a2a5b49       ed21b7a8aee9c       12 hours ago        Running             nginx                    0                   5b78c0702ca95\r\n",
      "64b4d7c58a19c       ed21b7a8aee9c       12 hours ago        Running             nginx                    0                   3a8e146906064\r\n",
      "e78c70bf140d0       ed21b7a8aee9c       14 hours ago        Running             nginx                    0                   f73a40ba0c524\r\n"
     ]
    }
   ],
   "source": [
    "! docker exec -it k3d-dev-server crictl ps |grep nginx"
   ]
  },
  {
   "cell_type": "code",
   "execution_count": 13,
   "metadata": {},
   "outputs": [
    {
     "name": "stdout",
     "output_type": "stream",
     "text": [
      "[]\r\n",
      "Error: No such container: dcb133a2a5b49\r\n"
     ]
    }
   ],
   "source": [
    "! docker  container inspect dcb133a2a5b49 "
   ]
  },
  {
   "cell_type": "markdown",
   "metadata": {},
   "source": [
    "# remember its docker in docker \n",
    "\n",
    "## and use crictl for containerd"
   ]
  },
  {
   "cell_type": "code",
   "execution_count": 14,
   "metadata": {},
   "outputs": [
    {
     "name": "stdout",
     "output_type": "stream",
     "text": [
      "{\r\n",
      "  \"status\": {\r\n",
      "    \"id\": \"dcb133a2a5b4945e6d67714dbf48adbf2b731d5c4fe5c1f738804019735527c4\",\r\n",
      "    \"metadata\": {\r\n",
      "      \"attempt\": 0,\r\n",
      "      \"name\": \"nginx\"\r\n",
      "    },\r\n",
      "    \"state\": \"CONTAINER_RUNNING\",\r\n",
      "    \"createdAt\": \"2020-04-07T00:28:39.831815993Z\",\r\n",
      "    \"startedAt\": \"2020-04-07T00:28:40.008705838Z\",\r\n",
      "    \"finishedAt\": \"1970-01-01T00:00:00Z\",\r\n",
      "    \"exitCode\": 0,\r\n",
      "    \"image\": {\r\n",
      "      \"image\": \"docker.io/library/nginx:latest\"\r\n",
      "    },\r\n",
      "    \"imageRef\": \"docker.io/library/nginx@sha256:282530fcb7cd19f3848c7b611043f82ae4be3781cb00105a1d593d7e6286b596\",\r\n",
      "    \"reason\": \"\",\r\n",
      "    \"message\": \"\",\r\n",
      "    \"labels\": {\r\n",
      "      \"io.kubernetes.container.name\": \"nginx\",\r\n",
      "      \"io.kubernetes.pod.name\": \"nginx-85ff79dd56-jt99w\",\r\n",
      "      \"io.kubernetes.pod.namespace\": \"default\",\r\n",
      "      \"io.kubernetes.pod.uid\": \"715a2505-043f-43cc-9e3f-7946b7f885f6\"\r\n",
      "    },\r\n",
      "    \"annotations\": {\r\n",
      "      \"io.kubernetes.container.hash\": \"576a2b1d\",\r\n",
      "      \"io.kubernetes.container.ports\": \"[{\\\"containerPort\\\":80,\\\"protocol\\\":\\\"TCP\\\"}]\",\r\n",
      "      \"io.kubernetes.container.restartCount\": \"0\",\r\n",
      "      \"io.kubernetes.container.terminationMessagePath\": \"/dev/termination-log\",\r\n",
      "      \"io.kubernetes.container.terminationMessagePolicy\": \"File\",\r\n",
      "      \"io.kubernetes.pod.terminationGracePeriod\": \"30\"\r\n",
      "    },\r\n",
      "    \"mounts\": [\r\n",
      "      {\r\n",
      "        \"containerPath\": \"/var/run/secrets/kubernetes.io/serviceaccount\",\r\n",
      "        \"hostPath\": \"/var/lib/kubelet/pods/715a2505-043f-43cc-9e3f-7946b7f885f6/volumes/kubernetes.io~secret/default-token-k4rtn\",\r\n",
      "        \"propagation\": \"PROPAGATION_PRIVATE\",\r\n",
      "        \"readonly\": true,\r\n",
      "        \"selinuxRelabel\": false\r\n",
      "      },\r\n",
      "      {\r\n",
      "        \"containerPath\": \"/etc/hosts\",\r\n",
      "        \"hostPath\": \"/var/lib/kubelet/pods/715a2505-043f-43cc-9e3f-7946b7f885f6/etc-hosts\",\r\n",
      "        \"propagation\": \"PROPAGATION_PRIVATE\",\r\n",
      "        \"readonly\": false,\r\n",
      "        \"selinuxRelabel\": false\r\n",
      "      },\r\n",
      "      {\r\n",
      "        \"containerPath\": \"/dev/termination-log\",\r\n",
      "        \"hostPath\": \"/var/lib/kubelet/pods/715a2505-043f-43cc-9e3f-7946b7f885f6/containers/nginx/bdcd1faf\",\r\n",
      "        \"propagation\": \"PROPAGATION_PRIVATE\",\r\n",
      "        \"readonly\": false,\r\n",
      "        \"selinuxRelabel\": false\r\n",
      "      }\r\n",
      "    ],\r\n",
      "    \"logPath\": \"/var/log/pods/default_nginx-85ff79dd56-jt99w_715a2505-043f-43cc-9e3f-7946b7f885f6/nginx/0.log\"\r\n",
      "  },\r\n",
      "  \"info\": {\r\n",
      "    \"sandboxID\": \"5b78c0702ca95469c87b066253062bc1abd1a721f58934162756d399a5af4bd5\",\r\n",
      "    \"pid\": 16503,\r\n",
      "    \"removing\": false,\r\n",
      "    \"snapshotKey\": \"dcb133a2a5b4945e6d67714dbf48adbf2b731d5c4fe5c1f738804019735527c4\",\r\n",
      "    \"snapshotter\": \"overlayfs\",\r\n",
      "    \"runtimeType\": \"io.containerd.runc.v2\",\r\n",
      "    \"runtimeOptions\": null,\r\n",
      "    \"config\": {\r\n",
      "      \"metadata\": {\r\n",
      "        \"name\": \"nginx\"\r\n",
      "      },\r\n",
      "      \"image\": {\r\n",
      "        \"image\": \"sha256:ed21b7a8aee9cc677df6d7f38a641fa0e3c05f65592c592c9f28c42b3dd89291\"\r\n",
      "      },\r\n",
      "      \"envs\": [\r\n",
      "        {\r\n",
      "          \"key\": \"KUBERNETES_PORT_443_TCP_PORT\",\r\n",
      "          \"value\": \"443\"\r\n",
      "        },\r\n",
      "        {\r\n",
      "          \"key\": \"KUBERNETES_PORT\",\r\n",
      "          \"value\": \"tcp://10.43.0.1:443\"\r\n",
      "        },\r\n",
      "        {\r\n",
      "          \"key\": \"NGINX_PORT_80_TCP_PORT\",\r\n",
      "          \"value\": \"80\"\r\n",
      "        },\r\n",
      "        {\r\n",
      "          \"key\": \"KUBERNETES_SERVICE_PORT\",\r\n",
      "          \"value\": \"443\"\r\n",
      "        },\r\n",
      "        {\r\n",
      "          \"key\": \"KUBERNETES_PORT_443_TCP\",\r\n",
      "          \"value\": \"tcp://10.43.0.1:443\"\r\n",
      "        },\r\n",
      "        {\r\n",
      "          \"key\": \"NGINX_PORT_80_TCP_PROTO\",\r\n",
      "          \"value\": \"tcp\"\r\n",
      "        },\r\n",
      "        {\r\n",
      "          \"key\": \"NGINX_PORT\",\r\n",
      "          \"value\": \"tcp://10.43.12.169:80\"\r\n",
      "        },\r\n",
      "        {\r\n",
      "          \"key\": \"NGINX_PORT_80_TCP\",\r\n",
      "          \"value\": \"tcp://10.43.12.169:80\"\r\n",
      "        },\r\n",
      "        {\r\n",
      "          \"key\": \"NGINX_PORT_80_TCP_ADDR\",\r\n",
      "          \"value\": \"10.43.12.169\"\r\n",
      "        },\r\n",
      "        {\r\n",
      "          \"key\": \"KUBERNETES_SERVICE_HOST\",\r\n",
      "          \"value\": \"10.43.0.1\"\r\n",
      "        },\r\n",
      "        {\r\n",
      "          \"key\": \"KUBERNETES_SERVICE_PORT_HTTPS\",\r\n",
      "          \"value\": \"443\"\r\n",
      "        },\r\n",
      "        {\r\n",
      "          \"key\": \"NGINX_SERVICE_HOST\",\r\n",
      "          \"value\": \"10.43.12.169\"\r\n",
      "        },\r\n",
      "        {\r\n",
      "          \"key\": \"KUBERNETES_PORT_443_TCP_PROTO\",\r\n",
      "          \"value\": \"tcp\"\r\n",
      "        },\r\n",
      "        {\r\n",
      "          \"key\": \"KUBERNETES_PORT_443_TCP_ADDR\",\r\n",
      "          \"value\": \"10.43.0.1\"\r\n",
      "        },\r\n",
      "        {\r\n",
      "          \"key\": \"NGINX_SERVICE_PORT\",\r\n",
      "          \"value\": \"80\"\r\n",
      "        }\r\n",
      "      ],\r\n",
      "      \"mounts\": [\r\n",
      "        {\r\n",
      "          \"container_path\": \"/var/run/secrets/kubernetes.io/serviceaccount\",\r\n",
      "          \"host_path\": \"/var/lib/kubelet/pods/715a2505-043f-43cc-9e3f-7946b7f885f6/volumes/kubernetes.io~secret/default-token-k4rtn\",\r\n",
      "          \"readonly\": true\r\n",
      "        },\r\n",
      "        {\r\n",
      "          \"container_path\": \"/etc/hosts\",\r\n",
      "          \"host_path\": \"/var/lib/kubelet/pods/715a2505-043f-43cc-9e3f-7946b7f885f6/etc-hosts\"\r\n",
      "        },\r\n",
      "        {\r\n",
      "          \"container_path\": \"/dev/termination-log\",\r\n",
      "          \"host_path\": \"/var/lib/kubelet/pods/715a2505-043f-43cc-9e3f-7946b7f885f6/containers/nginx/bdcd1faf\"\r\n",
      "        }\r\n",
      "      ],\r\n",
      "      \"labels\": {\r\n",
      "        \"io.kubernetes.container.name\": \"nginx\",\r\n",
      "        \"io.kubernetes.pod.name\": \"nginx-85ff79dd56-jt99w\",\r\n",
      "        \"io.kubernetes.pod.namespace\": \"default\",\r\n",
      "        \"io.kubernetes.pod.uid\": \"715a2505-043f-43cc-9e3f-7946b7f885f6\"\r\n",
      "      },\r\n",
      "      \"annotations\": {\r\n",
      "        \"io.kubernetes.container.hash\": \"576a2b1d\",\r\n",
      "        \"io.kubernetes.container.ports\": \"[{\\\"containerPort\\\":80,\\\"protocol\\\":\\\"TCP\\\"}]\",\r\n",
      "        \"io.kubernetes.container.restartCount\": \"0\",\r\n",
      "        \"io.kubernetes.container.terminationMessagePath\": \"/dev/termination-log\",\r\n",
      "        \"io.kubernetes.container.terminationMessagePolicy\": \"File\",\r\n",
      "        \"io.kubernetes.pod.terminationGracePeriod\": \"30\"\r\n",
      "      },\r\n",
      "      \"log_path\": \"nginx/0.log\",\r\n",
      "      \"linux\": {\r\n",
      "        \"resources\": {\r\n",
      "          \"cpu_shares\": 2,\r\n",
      "          \"oom_score_adj\": 1000\r\n",
      "        },\r\n",
      "        \"security_context\": {\r\n",
      "          \"namespace_options\": {\r\n",
      "            \"pid\": 1\r\n",
      "          },\r\n",
      "          \"run_as_user\": {},\r\n",
      "          \"masked_paths\": [\r\n",
      "            \"/proc/acpi\",\r\n",
      "            \"/proc/kcore\",\r\n",
      "            \"/proc/keys\",\r\n",
      "            \"/proc/latency_stats\",\r\n",
      "            \"/proc/timer_list\",\r\n",
      "            \"/proc/timer_stats\",\r\n",
      "            \"/proc/sched_debug\",\r\n",
      "            \"/proc/scsi\",\r\n",
      "            \"/sys/firmware\"\r\n",
      "          ],\r\n",
      "          \"readonly_paths\": [\r\n",
      "            \"/proc/asound\",\r\n",
      "            \"/proc/bus\",\r\n",
      "            \"/proc/fs\",\r\n",
      "            \"/proc/irq\",\r\n",
      "            \"/proc/sys\",\r\n",
      "            \"/proc/sysrq-trigger\"\r\n",
      "          ]\r\n",
      "        }\r\n",
      "      }\r\n",
      "    },\r\n",
      "    \"runtimeSpec\": {\r\n",
      "      \"ociVersion\": \"1.0.1-dev\",\r\n",
      "      \"process\": {\r\n",
      "        \"user\": {\r\n",
      "          \"uid\": 0,\r\n",
      "          \"gid\": 0\r\n",
      "        },\r\n",
      "        \"args\": [\r\n",
      "          \"nginx\",\r\n",
      "          \"-g\",\r\n",
      "          \"daemon off;\"\r\n",
      "        ],\r\n",
      "        \"env\": [\r\n",
      "          \"PATH=/usr/local/sbin:/usr/local/bin:/usr/sbin:/usr/bin:/sbin:/bin\",\r\n",
      "          \"HOSTNAME=nginx-85ff79dd56-jt99w\",\r\n",
      "          \"NGINX_VERSION=1.17.9\",\r\n",
      "          \"NJS_VERSION=0.3.9\",\r\n",
      "          \"PKG_RELEASE=1~buster\",\r\n",
      "          \"KUBERNETES_PORT_443_TCP_PORT=443\",\r\n",
      "          \"KUBERNETES_PORT=tcp://10.43.0.1:443\",\r\n",
      "          \"NGINX_PORT_80_TCP_PORT=80\",\r\n",
      "          \"KUBERNETES_SERVICE_PORT=443\",\r\n",
      "          \"KUBERNETES_PORT_443_TCP=tcp://10.43.0.1:443\",\r\n",
      "          \"NGINX_PORT_80_TCP_PROTO=tcp\",\r\n",
      "          \"NGINX_PORT=tcp://10.43.12.169:80\",\r\n",
      "          \"NGINX_PORT_80_TCP=tcp://10.43.12.169:80\",\r\n",
      "          \"NGINX_PORT_80_TCP_ADDR=10.43.12.169\",\r\n",
      "          \"KUBERNETES_SERVICE_HOST=10.43.0.1\",\r\n",
      "          \"KUBERNETES_SERVICE_PORT_HTTPS=443\",\r\n",
      "          \"NGINX_SERVICE_HOST=10.43.12.169\",\r\n",
      "          \"KUBERNETES_PORT_443_TCP_PROTO=tcp\",\r\n",
      "          \"KUBERNETES_PORT_443_TCP_ADDR=10.43.0.1\",\r\n",
      "          \"NGINX_SERVICE_PORT=80\"\r\n",
      "        ],\r\n",
      "        \"cwd\": \"/\",\r\n",
      "        \"capabilities\": {\r\n",
      "          \"bounding\": [\r\n",
      "            \"CAP_CHOWN\",\r\n",
      "            \"CAP_DAC_OVERRIDE\",\r\n",
      "            \"CAP_FSETID\",\r\n",
      "            \"CAP_FOWNER\",\r\n",
      "            \"CAP_MKNOD\",\r\n",
      "            \"CAP_NET_RAW\",\r\n",
      "            \"CAP_SETGID\",\r\n",
      "            \"CAP_SETUID\",\r\n",
      "            \"CAP_SETFCAP\",\r\n",
      "            \"CAP_SETPCAP\",\r\n",
      "            \"CAP_NET_BIND_SERVICE\",\r\n",
      "            \"CAP_SYS_CHROOT\",\r\n",
      "            \"CAP_KILL\",\r\n",
      "            \"CAP_AUDIT_WRITE\"\r\n",
      "          ],\r\n",
      "          \"effective\": [\r\n",
      "            \"CAP_CHOWN\",\r\n",
      "            \"CAP_DAC_OVERRIDE\",\r\n",
      "            \"CAP_FSETID\",\r\n",
      "            \"CAP_FOWNER\",\r\n",
      "            \"CAP_MKNOD\",\r\n",
      "            \"CAP_NET_RAW\",\r\n",
      "            \"CAP_SETGID\",\r\n",
      "            \"CAP_SETUID\",\r\n",
      "            \"CAP_SETFCAP\",\r\n",
      "            \"CAP_SETPCAP\",\r\n",
      "            \"CAP_NET_BIND_SERVICE\",\r\n",
      "            \"CAP_SYS_CHROOT\",\r\n",
      "            \"CAP_KILL\",\r\n",
      "            \"CAP_AUDIT_WRITE\"\r\n",
      "          ],\r\n",
      "          \"inheritable\": [\r\n",
      "            \"CAP_CHOWN\",\r\n",
      "            \"CAP_DAC_OVERRIDE\",\r\n",
      "            \"CAP_FSETID\",\r\n",
      "            \"CAP_FOWNER\",\r\n",
      "            \"CAP_MKNOD\",\r\n",
      "            \"CAP_NET_RAW\",\r\n",
      "            \"CAP_SETGID\",\r\n",
      "            \"CAP_SETUID\",\r\n",
      "            \"CAP_SETFCAP\",\r\n",
      "            \"CAP_SETPCAP\",\r\n",
      "            \"CAP_NET_BIND_SERVICE\",\r\n",
      "            \"CAP_SYS_CHROOT\",\r\n",
      "            \"CAP_KILL\",\r\n",
      "            \"CAP_AUDIT_WRITE\"\r\n",
      "          ],\r\n",
      "          \"permitted\": [\r\n",
      "            \"CAP_CHOWN\",\r\n",
      "            \"CAP_DAC_OVERRIDE\",\r\n",
      "            \"CAP_FSETID\",\r\n",
      "            \"CAP_FOWNER\",\r\n",
      "            \"CAP_MKNOD\",\r\n",
      "            \"CAP_NET_RAW\",\r\n",
      "            \"CAP_SETGID\",\r\n",
      "            \"CAP_SETUID\",\r\n",
      "            \"CAP_SETFCAP\",\r\n",
      "            \"CAP_SETPCAP\",\r\n",
      "            \"CAP_NET_BIND_SERVICE\",\r\n",
      "            \"CAP_SYS_CHROOT\",\r\n",
      "            \"CAP_KILL\",\r\n",
      "            \"CAP_AUDIT_WRITE\"\r\n",
      "          ]\r\n",
      "        },\r\n",
      "        \"oomScoreAdj\": 1000\r\n",
      "      },\r\n",
      "      \"root\": {\r\n",
      "        \"path\": \"rootfs\"\r\n",
      "      },\r\n",
      "      \"mounts\": [\r\n",
      "        {\r\n",
      "          \"destination\": \"/proc\",\r\n",
      "          \"type\": \"proc\",\r\n",
      "          \"source\": \"proc\",\r\n",
      "          \"options\": [\r\n",
      "            \"nosuid\",\r\n",
      "            \"noexec\",\r\n",
      "            \"nodev\"\r\n",
      "          ]\r\n",
      "        },\r\n",
      "        {\r\n",
      "          \"destination\": \"/dev\",\r\n",
      "          \"type\": \"tmpfs\",\r\n",
      "          \"source\": \"tmpfs\",\r\n",
      "          \"options\": [\r\n",
      "            \"nosuid\",\r\n",
      "            \"strictatime\",\r\n",
      "            \"mode=755\",\r\n",
      "            \"size=65536k\"\r\n",
      "          ]\r\n",
      "        },\r\n",
      "        {\r\n",
      "          \"destination\": \"/dev/pts\",\r\n",
      "          \"type\": \"devpts\",\r\n",
      "          \"source\": \"devpts\",\r\n",
      "          \"options\": [\r\n",
      "            \"nosuid\",\r\n",
      "            \"noexec\",\r\n",
      "            \"newinstance\",\r\n",
      "            \"ptmxmode=0666\",\r\n",
      "            \"mode=0620\",\r\n",
      "            \"gid=5\"\r\n",
      "          ]\r\n",
      "        },\r\n",
      "        {\r\n",
      "          \"destination\": \"/dev/mqueue\",\r\n",
      "          \"type\": \"mqueue\",\r\n",
      "          \"source\": \"mqueue\",\r\n",
      "          \"options\": [\r\n",
      "            \"nosuid\",\r\n",
      "            \"noexec\",\r\n",
      "            \"nodev\"\r\n",
      "          ]\r\n",
      "        },\r\n",
      "        {\r\n",
      "          \"destination\": \"/sys\",\r\n",
      "          \"type\": \"sysfs\",\r\n",
      "          \"source\": \"sysfs\",\r\n",
      "          \"options\": [\r\n",
      "            \"nosuid\",\r\n",
      "            \"noexec\",\r\n",
      "            \"nodev\",\r\n",
      "            \"ro\"\r\n",
      "          ]\r\n",
      "        },\r\n",
      "        {\r\n",
      "          \"destination\": \"/sys/fs/cgroup\",\r\n",
      "          \"type\": \"cgroup\",\r\n",
      "          \"source\": \"cgroup\",\r\n",
      "          \"options\": [\r\n",
      "            \"nosuid\",\r\n",
      "            \"noexec\",\r\n",
      "            \"nodev\",\r\n",
      "            \"relatime\",\r\n",
      "            \"ro\"\r\n",
      "          ]\r\n",
      "        },\r\n",
      "        {\r\n",
      "          \"destination\": \"/etc/hosts\",\r\n",
      "          \"type\": \"bind\",\r\n",
      "          \"source\": \"/var/lib/kubelet/pods/715a2505-043f-43cc-9e3f-7946b7f885f6/etc-hosts\",\r\n",
      "          \"options\": [\r\n",
      "            \"rbind\",\r\n",
      "            \"rprivate\",\r\n",
      "            \"rw\"\r\n",
      "          ]\r\n",
      "        },\r\n",
      "        {\r\n",
      "          \"destination\": \"/dev/termination-log\",\r\n",
      "          \"type\": \"bind\",\r\n",
      "          \"source\": \"/var/lib/kubelet/pods/715a2505-043f-43cc-9e3f-7946b7f885f6/containers/nginx/bdcd1faf\",\r\n",
      "          \"options\": [\r\n",
      "            \"rbind\",\r\n",
      "            \"rprivate\",\r\n",
      "            \"rw\"\r\n",
      "          ]\r\n",
      "        },\r\n",
      "        {\r\n",
      "          \"destination\": \"/etc/hostname\",\r\n",
      "          \"type\": \"bind\",\r\n",
      "          \"source\": \"/var/lib/rancher/k3s/agent/containerd/io.containerd.grpc.v1.cri/sandboxes/5b78c0702ca95469c87b066253062bc1abd1a721f58934162756d399a5af4bd5/hostname\",\r\n",
      "          \"options\": [\r\n",
      "            \"rbind\",\r\n",
      "            \"rprivate\",\r\n",
      "            \"rw\"\r\n",
      "          ]\r\n",
      "        },\r\n",
      "        {\r\n",
      "          \"destination\": \"/etc/resolv.conf\",\r\n",
      "          \"type\": \"bind\",\r\n",
      "          \"source\": \"/var/lib/rancher/k3s/agent/containerd/io.containerd.grpc.v1.cri/sandboxes/5b78c0702ca95469c87b066253062bc1abd1a721f58934162756d399a5af4bd5/resolv.conf\",\r\n",
      "          \"options\": [\r\n",
      "            \"rbind\",\r\n",
      "            \"rprivate\",\r\n",
      "            \"rw\"\r\n",
      "          ]\r\n",
      "        },\r\n",
      "        {\r\n",
      "          \"destination\": \"/dev/shm\",\r\n",
      "          \"type\": \"bind\",\r\n",
      "          \"source\": \"/run/k3s/containerd/io.containerd.grpc.v1.cri/sandboxes/5b78c0702ca95469c87b066253062bc1abd1a721f58934162756d399a5af4bd5/shm\",\r\n",
      "          \"options\": [\r\n",
      "            \"rbind\",\r\n",
      "            \"rprivate\",\r\n",
      "            \"rw\"\r\n",
      "          ]\r\n",
      "        },\r\n",
      "        {\r\n",
      "          \"destination\": \"/var/run/secrets/kubernetes.io/serviceaccount\",\r\n",
      "          \"type\": \"bind\",\r\n",
      "          \"source\": \"/var/lib/kubelet/pods/715a2505-043f-43cc-9e3f-7946b7f885f6/volumes/kubernetes.io~secret/default-token-k4rtn\",\r\n",
      "          \"options\": [\r\n",
      "            \"rbind\",\r\n",
      "            \"rprivate\",\r\n",
      "            \"ro\"\r\n",
      "          ]\r\n",
      "        }\r\n",
      "      ],\r\n",
      "      \"annotations\": {\r\n",
      "        \"io.kubernetes.cri.container-type\": \"container\",\r\n",
      "        \"io.kubernetes.cri.sandbox-id\": \"5b78c0702ca95469c87b066253062bc1abd1a721f58934162756d399a5af4bd5\"\r\n",
      "      },\r\n",
      "      \"linux\": {\r\n",
      "        \"resources\": {\r\n",
      "          \"devices\": [\r\n",
      "            {\r\n",
      "              \"allow\": false,\r\n",
      "              \"access\": \"rwm\"\r\n",
      "            }\r\n",
      "          ],\r\n",
      "          \"memory\": {},\r\n",
      "          \"cpu\": {\r\n",
      "            \"shares\": 2\r\n",
      "          }\r\n",
      "        },\r\n",
      "        \"cgroupsPath\": \"/kubepods/besteffort/pod715a2505-043f-43cc-9e3f-7946b7f885f6/dcb133a2a5b4945e6d67714dbf48adbf2b731d5c4fe5c1f738804019735527c4\",\r\n",
      "        \"namespaces\": [\r\n",
      "          {\r\n",
      "            \"type\": \"pid\"\r\n",
      "          },\r\n",
      "          {\r\n",
      "            \"type\": \"ipc\",\r\n",
      "            \"path\": \"/proc/16420/ns/ipc\"\r\n",
      "          },\r\n",
      "          {\r\n",
      "            \"type\": \"uts\",\r\n",
      "            \"path\": \"/proc/16420/ns/uts\"\r\n",
      "          },\r\n",
      "          {\r\n",
      "            \"type\": \"mount\"\r\n",
      "          },\r\n",
      "          {\r\n",
      "            \"type\": \"network\",\r\n",
      "            \"path\": \"/proc/16420/ns/net\"\r\n",
      "          }\r\n",
      "        ],\r\n",
      "        \"maskedPaths\": [\r\n",
      "          \"/proc/acpi\",\r\n",
      "          \"/proc/kcore\",\r\n",
      "          \"/proc/keys\",\r\n",
      "          \"/proc/latency_stats\",\r\n",
      "          \"/proc/timer_list\",\r\n",
      "          \"/proc/timer_stats\",\r\n",
      "          \"/proc/sched_debug\",\r\n",
      "          \"/proc/scsi\",\r\n",
      "          \"/sys/firmware\"\r\n",
      "        ],\r\n",
      "        \"readonlyPaths\": [\r\n",
      "          \"/proc/asound\",\r\n",
      "          \"/proc/bus\",\r\n",
      "          \"/proc/fs\",\r\n",
      "          \"/proc/irq\",\r\n",
      "          \"/proc/sys\",\r\n",
      "          \"/proc/sysrq-trigger\"\r\n",
      "        ]\r\n",
      "      }\r\n",
      "    }\r\n",
      "  }\r\n",
      "}\r\n"
     ]
    }
   ],
   "source": [
    "! docker exec -it k3d-dev-server crictl inspect dcb133a2a5b49"
   ]
  },
  {
   "cell_type": "code",
   "execution_count": 15,
   "metadata": {},
   "outputs": [
    {
     "name": "stdout",
     "output_type": "stream",
     "text": [
      "OCI runtime exec failed: exec failed: container_linux.go:349: starting container process caused \"exec: \\\"curl\\\": executable file not found in $PATH\": unknown\r\n"
     ]
    }
   ],
   "source": [
    "! docker exec -it k3d-dev-server curl tcp://10.43.12.169:80"
   ]
  },
  {
   "cell_type": "markdown",
   "metadata": {},
   "source": [
    "# What's Next - A: RANCHER!\n",
    "\n",
    "https://rancher.com/docs/rancher/v2.x/en/installation/other-installation-methods/single-node-docker/\n",
    "\n",
    "https://rancher.com/docs/rancher/v2.x/en/cluster-provisioning/"
   ]
  },
  {
   "cell_type": "markdown",
   "metadata": {},
   "source": [
    "# also create a readme.md for a deeper dive 2nd pass at all of this\n",
    "\n",
    "\n",
    "![](https://rancher.com/docs/img/rancher/k3s-architecture-single-server.png)"
   ]
  },
  {
   "cell_type": "markdown",
   "metadata": {},
   "source": [
    "# Bare metal from AWS - Cool\n",
    "\n",
    "https://www.twosixlabs.com/running-thousands-of-kvm-guests-on-amazons-new-i3-metal-instances/\n",
    "\n",
    "https://aws.amazon.com/ec2/instance-types/i3/"
   ]
  },
  {
   "cell_type": "code",
   "execution_count": null,
   "metadata": {},
   "outputs": [],
   "source": []
  }
 ],
 "metadata": {
  "kernelspec": {
   "display_name": "Python 3",
   "language": "python",
   "name": "python3"
  },
  "language_info": {
   "codemirror_mode": {
    "name": "ipython",
    "version": 3
   },
   "file_extension": ".py",
   "mimetype": "text/x-python",
   "name": "python",
   "nbconvert_exporter": "python",
   "pygments_lexer": "ipython3",
   "version": "3.6.9"
  }
 },
 "nbformat": 4,
 "nbformat_minor": 4
}
