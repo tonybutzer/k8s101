{
 "cells": [
  {
   "cell_type": "markdown",
   "metadata": {},
   "source": [
    "# 00-1-nginx-everythin-you-need-to-know"
   ]
  },
  {
   "cell_type": "code",
   "execution_count": 1,
   "metadata": {},
   "outputs": [
    {
     "name": "stdout",
     "output_type": "stream",
     "text": [
      "env: k=kubectl\n"
     ]
    }
   ],
   "source": [
    "%env k=kubectl"
   ]
  },
  {
   "cell_type": "code",
   "execution_count": 3,
   "metadata": {},
   "outputs": [
    {
     "name": "stdout",
     "output_type": "stream",
     "text": [
      "/home/ubuntu/.config/k3d/dev/kubeconfig.yaml\r\n"
     ]
    }
   ],
   "source": [
    "! find ~ -name \"kubecon*\""
   ]
  },
  {
   "cell_type": "code",
   "execution_count": 4,
   "metadata": {},
   "outputs": [
    {
     "name": "stdout",
     "output_type": "stream",
     "text": [
      "env: KUBECONFIG=/home/ubuntu/.config/k3d/dev/kubeconfig.yaml\n"
     ]
    }
   ],
   "source": [
    "%env KUBECONFIG=/home/ubuntu/.config/k3d/dev/kubeconfig.yaml"
   ]
  },
  {
   "cell_type": "code",
   "execution_count": 7,
   "metadata": {},
   "outputs": [
    {
     "name": "stdout",
     "output_type": "stream",
     "text": [
      "NAME                     READY   STATUS    RESTARTS   AGE   IP           NODE             NOMINATED NODE   READINESS GATES\r\n",
      "nginx-85ff79dd56-r9hxn   1/1     Running   0          17h   10.42.0.10   k3d-dev-server   <none>           <none>\r\n",
      "nginx-85ff79dd56-jt99w   1/1     Running   0          15h   10.42.0.11   k3d-dev-server   <none>           <none>\r\n",
      "nginx-85ff79dd56-zd4zp   1/1     Running   0          15h   10.42.0.12   k3d-dev-server   <none>           <none>\r\n"
     ]
    }
   ],
   "source": [
    "!$k get pods -o wide"
   ]
  },
  {
   "cell_type": "code",
   "execution_count": 10,
   "metadata": {},
   "outputs": [
    {
     "name": "stdout",
     "output_type": "stream",
     "text": [
      "NAME         TYPE        CLUSTER-IP     EXTERNAL-IP   PORT(S)   AGE   SELECTOR\r\n",
      "kubernetes   ClusterIP   10.43.0.1      <none>        443/TCP   17h   <none>\r\n",
      "nginx        ClusterIP   10.43.12.169   <none>        80/TCP    17h   app=nginx\r\n"
     ]
    }
   ],
   "source": [
    "! $k get svc -o wide"
   ]
  },
  {
   "cell_type": "code",
   "execution_count": 11,
   "metadata": {},
   "outputs": [
    {
     "name": "stdout",
     "output_type": "stream",
     "text": [
      "<!DOCTYPE html>\r\n",
      "<html>\r\n",
      "<head>\r\n",
      "<title>Welcome to nginx!</title>\r\n",
      "<style>\r\n",
      "    body {\r\n",
      "        width: 35em;\r\n",
      "        margin: 0 auto;\r\n",
      "        font-family: Tahoma, Verdana, Arial, sans-serif;\r\n",
      "    }\r\n",
      "</style>\r\n",
      "</head>\r\n",
      "<body>\r\n",
      "<h1>Welcome to nginx!</h1>\r\n",
      "<p>If you see this page, the nginx web server is successfully installed and\r\n",
      "working. Further configuration is required.</p>\r\n",
      "\r\n",
      "<p>For online documentation and support please refer to\r\n",
      "<a href=\"http://nginx.org/\">nginx.org</a>.<br/>\r\n",
      "Commercial support is available at\r\n",
      "<a href=\"http://nginx.com/\">nginx.com</a>.</p>\r\n",
      "\r\n",
      "<p><em>Thank you for using nginx.</em></p>\r\n",
      "</body>\r\n",
      "</html>\r\n"
     ]
    }
   ],
   "source": [
    "! curl localhost:8081"
   ]
  },
  {
   "cell_type": "code",
   "execution_count": 13,
   "metadata": {},
   "outputs": [
    {
     "name": "stdout",
     "output_type": "stream",
     "text": [
      "NAME:\r\n",
      "   k3d - Run k3s in Docker!\r\n",
      "\r\n",
      "USAGE:\r\n",
      "   k3d [global options] command [command options] [arguments...]\r\n",
      "\r\n",
      "VERSION:\r\n",
      "   v1.7.0\r\n",
      "\r\n",
      "COMMANDS:\r\n",
      "     check-tools, ct   Check if docker is running\r\n",
      "     shell             Start a subshell for a cluster\r\n",
      "     create, c         Create a single- or multi-node k3s cluster in docker containers\r\n",
      "     add-node          [EXPERIMENTAL] Add nodes to an existing k3d/k3s cluster (k3d by default)\r\n",
      "     delete, d, del    Delete cluster\r\n",
      "     stop              Stop cluster\r\n",
      "     start             Start a stopped cluster\r\n",
      "     list, ls, l       List all clusters\r\n",
      "     get-kubeconfig    Get kubeconfig location for cluster\r\n",
      "     import-images, i  Import a comma- or space-separated list of container images from your local docker daemon into the cluster\r\n",
      "     version           print k3d and k3s version\r\n",
      "     help, h           Shows a list of commands or help for one command\r\n",
      "\r\n",
      "GLOBAL OPTIONS:\r\n",
      "   --verbose      Enable verbose output\r\n",
      "   --timestamp    Enable timestamps in logs messages\r\n",
      "   --help, -h     show help\r\n",
      "   --version, -v  print the version\r\n"
     ]
    }
   ],
   "source": [
    "!k3d --help"
   ]
  },
  {
   "cell_type": "code",
   "execution_count": 16,
   "metadata": {},
   "outputs": [
    {
     "name": "stdout",
     "output_type": "stream",
     "text": [
      "+------+------------------------------------+---------+---------+\r\n",
      "| NAME |               IMAGE                | STATUS  | WORKERS |\r\n",
      "+------+------------------------------------+---------+---------+\r\n",
      "| dev  | docker.io/rancher/k3s:v1.17.3-k3s1 | running |   0/0   |\r\n",
      "+------+------------------------------------+---------+---------+\r\n"
     ]
    }
   ],
   "source": [
    "!k3d --verbose list"
   ]
  },
  {
   "cell_type": "code",
   "execution_count": 17,
   "metadata": {},
   "outputs": [
    {
     "name": "stdout",
     "output_type": "stream",
     "text": [
      "\u001b[31mFATA\u001b[0m[0000] No cluster(s) found                          \r\n"
     ]
    }
   ],
   "source": [
    "!k3d get-kubeconfig"
   ]
  },
  {
   "cell_type": "code",
   "execution_count": 19,
   "metadata": {},
   "outputs": [
    {
     "name": "stdout",
     "output_type": "stream",
     "text": [
      "\u001b[36mINFO\u001b[0m[0000] Checking docker...                           \r\n",
      "\u001b[36mINFO\u001b[0m[0000] SUCCESS: Checking docker succeeded (API: v1.40) \r\n"
     ]
    }
   ],
   "source": [
    "! k3d check-tools"
   ]
  },
  {
   "cell_type": "code",
   "execution_count": 20,
   "metadata": {},
   "outputs": [
    {
     "name": "stdout",
     "output_type": "stream",
     "text": [
      "k3d version v1.7.0\r\n",
      "k3s version v1.17.3-k3s1\r\n"
     ]
    }
   ],
   "source": [
    "!k3d version"
   ]
  },
  {
   "cell_type": "code",
   "execution_count": 21,
   "metadata": {},
   "outputs": [
    {
     "name": "stdout",
     "output_type": "stream",
     "text": [
      "      1 coredns/coredns:1.6.3\n",
      "      1 docker.io/coredns/coredns:1.6.3\n",
      "      3 docker.io/library/nginx:latest\n",
      "      1 docker.io/library/traefik:1.7.19\n",
      "      1 docker.io/rancher/klipper-helm:v0.2.3\n",
      "      2 docker.io/rancher/klipper-lb:v0.1.2\n",
      "      1 docker.io/rancher/local-path-provisioner:v0.0.11\n",
      "      1 docker.io/rancher/metrics-server:v0.3.6\n",
      "      1 k8s.gcr.io/metrics-server-amd64:v0.3.6\n",
      "      3 nginx\n",
      "      1 rancher/klipper-helm:v0.2.3\n",
      "      2 rancher/klipper-lb:v0.1.2\n",
      "      1 rancher/local-path-provisioner:v0.0.11\n",
      "      1 traefik:1.7.19\n"
     ]
    }
   ],
   "source": [
    "%%bash # list container images\n",
    "kubectl get pods --all-namespaces -o jsonpath=\"{..image}\" |\\\n",
    "tr -s '[[:space:]]' '\\n' |\\\n",
    "sort |\\\n",
    "uniq -c"
   ]
  },
  {
   "cell_type": "code",
   "execution_count": 22,
   "metadata": {},
   "outputs": [
    {
     "name": "stdout",
     "output_type": "stream",
     "text": [
      "ls: cannot access '/var/log/containers': No such file or directory\r\n"
     ]
    }
   ],
   "source": [
    "! ls /var/log/containers"
   ]
  },
  {
   "cell_type": "code",
   "execution_count": 23,
   "metadata": {},
   "outputs": [
    {
     "name": "stdout",
     "output_type": "stream",
     "text": [
      "NAME                     READY   STATUS    RESTARTS   AGE   IP           NODE             NOMINATED NODE   READINESS GATES\r\n",
      "nginx-85ff79dd56-r9hxn   1/1     Running   0          17h   10.42.0.10   k3d-dev-server   <none>           <none>\r\n",
      "nginx-85ff79dd56-jt99w   1/1     Running   0          15h   10.42.0.11   k3d-dev-server   <none>           <none>\r\n",
      "nginx-85ff79dd56-zd4zp   1/1     Running   0          15h   10.42.0.12   k3d-dev-server   <none>           <none>\r\n"
     ]
    }
   ],
   "source": [
    "! $k get pods -o wide"
   ]
  },
  {
   "cell_type": "code",
   "execution_count": 24,
   "metadata": {},
   "outputs": [
    {
     "name": "stdout",
     "output_type": "stream",
     "text": [
      "10.42.0.6 - - [06/Apr/2020:22:23:39 +0000] \"GET / HTTP/1.1\" 200 612 \"-\" \"curl/7.58.0\" \"10.42.0.1\"\r\n",
      "10.42.0.6 - - [06/Apr/2020:23:04:57 +0000] \"GET / HTTP/1.1\" 200 612 \"-\" \"curl/7.58.0\" \"10.42.0.1\"\r\n",
      "10.42.0.6 - - [06/Apr/2020:23:08:26 +0000] \"GET / HTTP/1.1\" 200 612 \"-\" \"curl/7.58.0\" \"10.42.0.1\"\r\n",
      "10.42.0.6 - - [06/Apr/2020:23:12:57 +0000] \"GET / HTTP/1.1\" 200 612 \"-\" \"curl/7.58.0\" \"10.42.0.1\"\r\n",
      "10.42.0.6 - - [06/Apr/2020:23:17:29 +0000] \"GET / HTTP/1.1\" 200 612 \"-\" \"Mozilla/5.0 (Windows NT 10.0; Win64; x64; rv:73.0) Gecko/20100101 Firefox/73.0\" \"10.42.0.1\"\r\n",
      "10.42.0.6 - - [06/Apr/2020:23:17:29 +0000] \"GET /favicon.ico HTTP/1.1\" 404 153 \"-\" \"Mozilla/5.0 (Windows NT 10.0; Win64; x64; rv:73.0) Gecko/20100101 Firefox/73.0\" \"10.42.0.1\"\r\n",
      "2020/04/06 23:17:29 [error] 7#7: *5 open() \"/usr/share/nginx/html/favicon.ico\" failed (2: No such file or directory), client: 10.42.0.6, server: localhost, request: \"GET /favicon.ico HTTP/1.1\", host: \"localhost:8080\"\r\n",
      "10.42.0.6 - - [07/Apr/2020:12:26:13 +0000] \"GET / HTTP/1.1\" 200 612 \"-\" \"curl/7.58.0\" \"10.42.0.1\"\r\n"
     ]
    }
   ],
   "source": [
    "!$k logs nginx-85ff79dd56-r9hxn"
   ]
  },
  {
   "cell_type": "code",
   "execution_count": 26,
   "metadata": {},
   "outputs": [
    {
     "name": "stdout",
     "output_type": "stream",
     "text": [
      "tcp6       0      0 :::8081                 :::*                    LISTEN      6306/docker-proxy   \r\n"
     ]
    }
   ],
   "source": [
    "! sudo netstat -anlp |grep 8081"
   ]
  },
  {
   "cell_type": "code",
   "execution_count": 27,
   "metadata": {},
   "outputs": [
    {
     "name": "stdout",
     "output_type": "stream",
     "text": [
      "tcp6       0      0 :::8081                 :::*                    LISTEN      6306/docker-proxy   \r\n",
      "tcp6       0      0 :::6551                 :::*                    LISTEN      6319/docker-proxy   \r\n",
      "unix  2      [ ACC ]     STREAM     LISTENING     34027    1/systemd            /var/run/docker.sock\r\n",
      "unix  2      [ ACC ]     STREAM     LISTENING     33088    5695/dockerd         /var/run/docker/metrics.sock\r\n",
      "unix  2      [ ACC ]     STREAM     LISTENING     34179    5695/dockerd         /var/run/docker/libnetwork/78275d60bc5d.sock\r\n",
      "unix  2      [ ]         DGRAM                    34053    5695/dockerd         \r\n",
      "unix  3      [ ]         STREAM     CONNECTED     34064    5695/dockerd         \r\n",
      "unix  3      [ ]         STREAM     CONNECTED     33089    5695/dockerd         \r\n",
      "unix  3      [ ]         STREAM     CONNECTED     33050    5695/dockerd         \r\n"
     ]
    }
   ],
   "source": [
    "! sudo netstat -anlp |grep docker"
   ]
  },
  {
   "cell_type": "markdown",
   "metadata": {},
   "source": [
    "# docker proxy reference - fail!\n",
    "\n",
    "https://www.serverlab.ca/tutorials/containers/docker/how-to-set-the-proxy-for-docker-on-ubuntu/"
   ]
  },
  {
   "cell_type": "code",
   "execution_count": 29,
   "metadata": {},
   "outputs": [
    {
     "name": "stdout",
     "output_type": "stream",
     "text": [
      "ls: cannot access '/etc/systemd/system/docker.service.d': No such file or directory\r\n"
     ]
    }
   ],
   "source": [
    "! ls -l /etc/systemd/system/docker.service.d"
   ]
  },
  {
   "cell_type": "code",
   "execution_count": 34,
   "metadata": {},
   "outputs": [
    {
     "name": "stdout",
     "output_type": "stream",
     "text": [
      "NETWORK ID          NAME                DRIVER              SCOPE\r\n",
      "9eee2f8f9024        bridge              bridge              local\r\n",
      "d9d3aa640125        host                host                local\r\n",
      "a334a78253d5        k3d-dev             bridge              local\r\n",
      "3a666e053788        none                null                local\r\n"
     ]
    }
   ],
   "source": [
    "! docker network ls "
   ]
  },
  {
   "cell_type": "code",
   "execution_count": 35,
   "metadata": {},
   "outputs": [
    {
     "name": "stdout",
     "output_type": "stream",
     "text": [
      "[\r\n",
      "    {\r\n",
      "        \"Name\": \"host\",\r\n",
      "        \"Id\": \"d9d3aa6401254409869956b9cd028fe72913365a39c3f49c1c1a18519225fb66\",\r\n",
      "        \"Created\": \"2020-04-06T21:55:07.328285941Z\",\r\n",
      "        \"Scope\": \"local\",\r\n",
      "        \"Driver\": \"host\",\r\n",
      "        \"EnableIPv6\": false,\r\n",
      "        \"IPAM\": {\r\n",
      "            \"Driver\": \"default\",\r\n",
      "            \"Options\": null,\r\n",
      "            \"Config\": []\r\n",
      "        },\r\n",
      "        \"Internal\": false,\r\n",
      "        \"Attachable\": false,\r\n",
      "        \"Ingress\": false,\r\n",
      "        \"ConfigFrom\": {\r\n",
      "            \"Network\": \"\"\r\n",
      "        },\r\n",
      "        \"ConfigOnly\": false,\r\n",
      "        \"Containers\": {},\r\n",
      "        \"Options\": {},\r\n",
      "        \"Labels\": {}\r\n",
      "    }\r\n",
      "]\r\n"
     ]
    }
   ],
   "source": [
    "!docker network inspect host"
   ]
  },
  {
   "cell_type": "code",
   "execution_count": 36,
   "metadata": {},
   "outputs": [
    {
     "name": "stdout",
     "output_type": "stream",
     "text": [
      "[\r\n",
      "    {\r\n",
      "        \"Name\": \"k3d-dev\",\r\n",
      "        \"Id\": \"a334a78253d50a2e9858fe37eb75e8281aba231d325d6c7e00433fc02c98b03e\",\r\n",
      "        \"Created\": \"2020-04-06T22:04:44.845596105Z\",\r\n",
      "        \"Scope\": \"local\",\r\n",
      "        \"Driver\": \"bridge\",\r\n",
      "        \"EnableIPv6\": false,\r\n",
      "        \"IPAM\": {\r\n",
      "            \"Driver\": \"default\",\r\n",
      "            \"Options\": null,\r\n",
      "            \"Config\": [\r\n",
      "                {\r\n",
      "                    \"Subnet\": \"172.18.0.0/16\",\r\n",
      "                    \"Gateway\": \"172.18.0.1\"\r\n",
      "                }\r\n",
      "            ]\r\n",
      "        },\r\n",
      "        \"Internal\": false,\r\n",
      "        \"Attachable\": false,\r\n",
      "        \"Ingress\": false,\r\n",
      "        \"ConfigFrom\": {\r\n",
      "            \"Network\": \"\"\r\n",
      "        },\r\n",
      "        \"ConfigOnly\": false,\r\n",
      "        \"Containers\": {\r\n",
      "            \"90ceb56035e73fdc5de4dcad005225ce805faec671eb971f14bafd04653d9b5f\": {\r\n",
      "                \"Name\": \"k3d-dev-server\",\r\n",
      "                \"EndpointID\": \"b69619d991b01e3c5e8f149e197a060f11852b764389f95254fd944cad92deca\",\r\n",
      "                \"MacAddress\": \"02:42:ac:12:00:02\",\r\n",
      "                \"IPv4Address\": \"172.18.0.2/16\",\r\n",
      "                \"IPv6Address\": \"\"\r\n",
      "            }\r\n",
      "        },\r\n",
      "        \"Options\": {},\r\n",
      "        \"Labels\": {\r\n",
      "            \"app\": \"k3d\",\r\n",
      "            \"cluster\": \"dev\"\r\n",
      "        }\r\n",
      "    }\r\n",
      "]\r\n"
     ]
    }
   ],
   "source": [
    "!docker network inspect k3d-dev"
   ]
  },
  {
   "cell_type": "code",
   "execution_count": 37,
   "metadata": {},
   "outputs": [
    {
     "name": "stdout",
     "output_type": "stream",
     "text": [
      "NAME                     READY   STATUS    RESTARTS   AGE\r\n",
      "nginx-85ff79dd56-r9hxn   1/1     Running   0          18h\r\n",
      "nginx-85ff79dd56-jt99w   1/1     Running   0          15h\r\n",
      "nginx-85ff79dd56-zd4zp   1/1     Running   0          15h\r\n"
     ]
    }
   ],
   "source": [
    "!$k get pods"
   ]
  },
  {
   "cell_type": "code",
   "execution_count": 40,
   "metadata": {},
   "outputs": [
    {
     "name": "stdout",
     "output_type": "stream",
     "text": [
      "apiVersion: v1\r\n",
      "kind: Pod\r\n",
      "metadata:\r\n",
      "  creationTimestamp: \"2020-04-06T22:23:06Z\"\r\n",
      "  generateName: nginx-85ff79dd56-\r\n",
      "  labels:\r\n",
      "    app: nginx\r\n",
      "    pod-template-hash: 85ff79dd56\r\n",
      "  name: nginx-85ff79dd56-r9hxn\r\n",
      "  namespace: default\r\n",
      "  ownerReferences:\r\n",
      "  - apiVersion: apps/v1\r\n",
      "    blockOwnerDeletion: true\r\n",
      "    controller: true\r\n",
      "    kind: ReplicaSet\r\n",
      "    name: nginx-85ff79dd56\r\n",
      "    uid: 6aedd8d2-fe12-4ad0-8ef9-418933fd7664\r\n",
      "  resourceVersion: \"1306\"\r\n",
      "  selfLink: /api/v1/namespaces/default/pods/nginx-85ff79dd56-r9hxn\r\n",
      "  uid: cf9284fc-f7cd-426f-a8cf-7bf278262f1c\r\n",
      "spec:\r\n",
      "  containers:\r\n",
      "  - image: nginx\r\n",
      "    imagePullPolicy: Always\r\n",
      "    name: nginx\r\n",
      "    ports:\r\n",
      "    - containerPort: 80\r\n",
      "      protocol: TCP\r\n",
      "    resources: {}\r\n",
      "    terminationMessagePath: /dev/termination-log\r\n",
      "    terminationMessagePolicy: File\r\n",
      "    volumeMounts:\r\n",
      "    - mountPath: /var/run/secrets/kubernetes.io/serviceaccount\r\n",
      "      name: default-token-k4rtn\r\n",
      "      readOnly: true\r\n",
      "  dnsPolicy: ClusterFirst\r\n",
      "  enableServiceLinks: true\r\n",
      "  nodeName: k3d-dev-server\r\n",
      "  priority: 0\r\n",
      "  restartPolicy: Always\r\n",
      "  schedulerName: default-scheduler\r\n",
      "  securityContext: {}\r\n",
      "  serviceAccount: default\r\n",
      "  serviceAccountName: default\r\n",
      "  terminationGracePeriodSeconds: 30\r\n",
      "  tolerations:\r\n",
      "  - effect: NoExecute\r\n",
      "    key: node.kubernetes.io/not-ready\r\n",
      "    operator: Exists\r\n",
      "    tolerationSeconds: 300\r\n",
      "  - effect: NoExecute\r\n",
      "    key: node.kubernetes.io/unreachable\r\n",
      "    operator: Exists\r\n",
      "    tolerationSeconds: 300\r\n",
      "  volumes:\r\n",
      "  - name: default-token-k4rtn\r\n",
      "    secret:\r\n",
      "      defaultMode: 420\r\n",
      "      secretName: default-token-k4rtn\r\n",
      "status:\r\n",
      "  conditions:\r\n",
      "  - lastProbeTime: null\r\n",
      "    lastTransitionTime: \"2020-04-06T22:23:06Z\"\r\n",
      "    status: \"True\"\r\n",
      "    type: Initialized\r\n",
      "  - lastProbeTime: null\r\n",
      "    lastTransitionTime: \"2020-04-06T22:23:13Z\"\r\n",
      "    status: \"True\"\r\n",
      "    type: Ready\r\n",
      "  - lastProbeTime: null\r\n",
      "    lastTransitionTime: \"2020-04-06T22:23:13Z\"\r\n",
      "    status: \"True\"\r\n",
      "    type: ContainersReady\r\n",
      "  - lastProbeTime: null\r\n",
      "    lastTransitionTime: \"2020-04-06T22:23:06Z\"\r\n",
      "    status: \"True\"\r\n",
      "    type: PodScheduled\r\n",
      "  containerStatuses:\r\n",
      "  - containerID: containerd://e78c70bf140d09f0a3fbe6df1a6c621a21f5ddcd58d245f6dedf7dde19071c96\r\n",
      "    image: docker.io/library/nginx:latest\r\n",
      "    imageID: docker.io/library/nginx@sha256:282530fcb7cd19f3848c7b611043f82ae4be3781cb00105a1d593d7e6286b596\r\n",
      "    lastState: {}\r\n",
      "    name: nginx\r\n",
      "    ready: true\r\n",
      "    restartCount: 0\r\n",
      "    started: true\r\n",
      "    state:\r\n",
      "      running:\r\n",
      "        startedAt: \"2020-04-06T22:23:13Z\"\r\n",
      "  hostIP: 172.18.0.2\r\n",
      "  phase: Running\r\n",
      "  podIP: 10.42.0.10\r\n",
      "  podIPs:\r\n",
      "  - ip: 10.42.0.10\r\n",
      "  qosClass: BestEffort\r\n",
      "  startTime: \"2020-04-06T22:23:06Z\"\r\n"
     ]
    }
   ],
   "source": [
    "!kubectl get pod nginx-85ff79dd56-r9hxn -o yaml"
   ]
  },
  {
   "cell_type": "code",
   "execution_count": 42,
   "metadata": {},
   "outputs": [
    {
     "name": "stdout",
     "output_type": "stream",
     "text": [
      "<!doctype html>\r\n",
      "<html>\r\n",
      "\r\n",
      "<head>\r\n",
      "  <title>Docker Hub</title>\r\n",
      "  <!-- Google Font -->\r\n",
      "  <meta name=\"viewport\" content=\"width=device-width, initial-scale=1.0, maximum-scale=1.0, user-scalable=0\">\r\n",
      "  <link href=\"https://fonts.googleapis.com/css?family=Comfortaa|Open+Sans:300,400,400i,600,600i,700\" rel=\"stylesheet\">\r\n",
      "  <!-- Google Webmaster -->\r\n",
      "  <meta name=\"google-site-verification\" content=\"u4812of_thlIvAZUrmDNK4dCM30Us49hReSqGAlttNM\" />\r\n",
      "  <meta name=\"fragment\" content=\"!\">\r\n",
      "  \r\n",
      "  <script type=\"text/javascript\">window.ASSET_PATH = 'https://d36jcksde1wxzq.cloudfront.net/';</script>\r\n",
      "  \r\n",
      "  <script type=\"text/javascript\">var analyticsQueue = window.analyticsQueue || [];</script>\r\n",
      "  <!-- Optimizely -->\r\n",
      "  <script src=\"https://cdn-pci.optimizely.com/js/14166430330.js\"></script>\r\n",
      "  <!-- Mouseflow: heatmap and recording tool -->\r\n",
      "  <script type=\"text/javascript\" src=\"https://cdn.mouseflow.com/projects/31c8bb38-cfeb-4bd8-a60c-d5650a6d6f23.js\" async=\"\"></script>\r\n",
      "  <!-- Bugsnag -->\r\n",
      "  <script src=\"//d2wy8f7a9ursnm.cloudfront.net/bugsnag-3.min.js\" data-apikey=\"aebb7f3442de072b3209127919cf37c0\"></script>\r\n",
      "  <script>\r\n",
      "    if (window.Bugsnag) {\r\n",
      "      window.Bugsnag.releaseStage = 'production';\r\n",
      "      window.Bugsnag.notifyReleaseStages = ['production', 'staging'];\r\n",
      "      \r\n",
      "    }\r\n",
      "  </script>\r\n",
      "  <!-- Google Tag Manager -->\r\n",
      "  <script>(function(w,d,s,l,i){w[l]=w[l]||[];w[l].push({'gtm.start':\r\n",
      "  new Date().getTime(),event:'gtm.js'});var f=d.getElementsByTagName(s)[0],\r\n",
      "  j=d.createElement(s),dl=l!='dataLayer'?'&l='+l:'';j.async=true;j.src=\r\n",
      "  'https://www.googletagmanager.com/gtm.js?id='+i+dl;f.parentNode.insertBefore(j,f);\r\n",
      "  })(window,document,'script','dataLayer','GTM-WL2QLG5');</script>\r\n",
      "  <link rel=\"stylesheet\" href=\"https://d36jcksde1wxzq.cloudfront.net/main.53b7b06722cafc3c3f4f.css\">\r\n",
      "</head>\r\n",
      "\r\n",
      "<body>\r\n",
      "  <div id=\"app\"></div>\r\n",
      "  <script>\r\n",
      "    window.recaptchaOptions = {\r\n",
      "      useRecaptchaNet: true\r\n",
      "    };\r\n",
      "  </script>\r\n",
      "  <script src=\"https://d36jcksde1wxzq.cloudfront.net/vendor.675c193ff4173065f5c2.js\"></script>\r\n",
      "  <script src=\"https://d36jcksde1wxzq.cloudfront.net/main.53b7b06722cafc3c3f4f.js\"></script>\r\n",
      "</body>\r\n",
      "\r\n",
      "</html>\r\n"
     ]
    }
   ],
   "source": [
    "! curl 'https://hub.docker.com/search?q=tbutzer&type=image'"
   ]
  },
  {
   "cell_type": "code",
   "execution_count": 44,
   "metadata": {},
   "outputs": [
    {
     "name": "stdout",
     "output_type": "stream",
     "text": [
      "-------------------------------------\n",
      "This is line 1 of the message.\n",
      "This is line 2 of the message.\n",
      "This is line 3 of the message.\n",
      "This is line 4 of the message.\n",
      "This is the last line of the message.\n",
      "-------------------------------------\n"
     ]
    }
   ],
   "source": [
    "%%bash\n",
    "\n",
    "cat << EOF\n",
    "-------------------------------------\n",
    "This is line 1 of the message.\n",
    "This is line 2 of the message.\n",
    "This is line 3 of the message.\n",
    "This is line 4 of the message.\n",
    "This is the last line of the message.\n",
    "-------------------------------------\n",
    "EOF"
   ]
  },
  {
   "cell_type": "code",
   "execution_count": 46,
   "metadata": {},
   "outputs": [
    {
     "name": "stdout",
     "output_type": "stream",
     "text": [
      "Error: unknown flag: --image\r\n",
      "See 'kubectl --help' for usage.\r\n"
     ]
    }
   ],
   "source": [
    "!kubectl --image tbutzer/bash-tester --command \"curl 172.18.0.2\""
   ]
  },
  {
   "cell_type": "markdown",
   "metadata": {},
   "source": [
    "# getting inside docker in docker and snooping using bash-tester\n",
    "\n",
    "1. kubectl run -i --tty temp1 --image tbutzer/bash-tester --command /bin/bash\n",
    "\n",
    "2.  nslookup nginx\n",
    "\n",
    "3. curl 172.18.0.2  ## POD Address from above inspect\n",
    "\n",
    "4. curl 10.43.12.169 ## ClusterIP Address - from nslookup dns resource discover\n",
    "\n",
    "```\n",
    "\n",
    "If you don't see a command prompt, try pressing enter.\n",
    "\n",
    "root@temp1:/data#\n",
    "root@temp1:/data#\n",
    "root@temp1:/data#\n",
    "root@temp1:/data#\n",
    "Server:         10.43.0.10\n",
    "Address:        10.43.0.10#53\n",
    "\n",
    "Name:   nginx.default.svc.cluster.local\n",
    "Address: 10.43.12.169\n",
    "\n",
    "root@temp1:/data#\n",
    "root@temp1:/data# curl 10.43.12.169\n",
    "<!DOCTYPE html>\n",
    "<html>\n",
    "<head>\n",
    "<title>Welcome to nginx!</title>\n",
    "<style>\n",
    "    body {\n",
    "        width: 35em;\n",
    "        margin: 0 auto;\n",
    "        font-family: Tahoma, Verdana, Arial, sans-serif;\n",
    "    }\n",
    "</style>\n",
    "</head>\n",
    "<body>\n",
    "<h1>Welcome to nginx!</h1>\n",
    "<p>If you see this page, the nginx web server is successfully installed and\n",
    "working. Further configuration is required.</p>\n",
    "\n",
    "<p>For online documentation and support please refer to\n",
    "<a href=\"http://nginx.org/\">nginx.org</a>.<br/>\n",
    "Commercial support is available at\n",
    "<a href=\"http://nginx.com/\">nginx.com</a>.</p>\n",
    "\n",
    "<p><em>Thank you for using nginx.</em></p>\n",
    "</body>\n",
    "</html>\n",
    "root@temp1:/data# curl 172.18.0.2\n",
    "<!DOCTYPE html>\n",
    "<html>\n",
    "<head>\n",
    "<title>Welcome to nginx!</title>\n",
    "<style>\n",
    "    body {\n",
    "        width: 35em;\n",
    "        margin: 0 auto;\n",
    "        font-family: Tahoma, Verdana, Arial, sans-serif;\n",
    "    }\n",
    "</style>\n",
    "</head>\n",
    "<body>\n",
    "<h1>Welcome to nginx!</h1>\n",
    "<p>If you see this page, the nginx web server is successfully installed and\n",
    "working. Further configuration is required.</p>\n",
    "\n",
    "<p>For online documentation and support please refer to\n",
    "<a href=\"http://nginx.org/\">nginx.org</a>.<br/>\n",
    "Commercial support is available at\n",
    "<a href=\"http://nginx.com/\">nginx.com</a>.</p>\n",
    "\n",
    "<p><em>Thank you for using nginx.</em></p>\n",
    "</body>\n",
    "</html>\n",
    "root@temp1:/data#\n",
    "```"
   ]
  },
  {
   "cell_type": "code",
   "execution_count": 48,
   "metadata": {},
   "outputs": [
    {
     "name": "stdout",
     "output_type": "stream",
     "text": [
      "{\r\n",
      "    \"apiVersion\": \"v1\",\r\n",
      "    \"kind\": \"Pod\",\r\n",
      "    \"metadata\": {\r\n",
      "        \"creationTimestamp\": \"2020-04-06T22:23:06Z\",\r\n",
      "        \"generateName\": \"nginx-85ff79dd56-\",\r\n",
      "        \"labels\": {\r\n",
      "            \"app\": \"nginx\",\r\n",
      "            \"pod-template-hash\": \"85ff79dd56\"\r\n",
      "        },\r\n",
      "        \"name\": \"nginx-85ff79dd56-r9hxn\",\r\n",
      "        \"namespace\": \"default\",\r\n",
      "        \"ownerReferences\": [\r\n",
      "            {\r\n",
      "                \"apiVersion\": \"apps/v1\",\r\n",
      "                \"blockOwnerDeletion\": true,\r\n",
      "                \"controller\": true,\r\n",
      "                \"kind\": \"ReplicaSet\",\r\n",
      "                \"name\": \"nginx-85ff79dd56\",\r\n",
      "                \"uid\": \"6aedd8d2-fe12-4ad0-8ef9-418933fd7664\"\r\n",
      "            }\r\n",
      "        ],\r\n",
      "        \"resourceVersion\": \"1306\",\r\n",
      "        \"selfLink\": \"/api/v1/namespaces/default/pods/nginx-85ff79dd56-r9hxn\",\r\n",
      "        \"uid\": \"cf9284fc-f7cd-426f-a8cf-7bf278262f1c\"\r\n",
      "    },\r\n",
      "    \"spec\": {\r\n",
      "        \"containers\": [\r\n",
      "            {\r\n",
      "                \"image\": \"nginx\",\r\n",
      "                \"imagePullPolicy\": \"Always\",\r\n",
      "                \"name\": \"nginx\",\r\n",
      "                \"ports\": [\r\n",
      "                    {\r\n",
      "                        \"containerPort\": 80,\r\n",
      "                        \"protocol\": \"TCP\"\r\n",
      "                    }\r\n",
      "                ],\r\n",
      "                \"resources\": {},\r\n",
      "                \"terminationMessagePath\": \"/dev/termination-log\",\r\n",
      "                \"terminationMessagePolicy\": \"File\",\r\n",
      "                \"volumeMounts\": [\r\n",
      "                    {\r\n",
      "                        \"mountPath\": \"/var/run/secrets/kubernetes.io/serviceaccount\",\r\n",
      "                        \"name\": \"default-token-k4rtn\",\r\n",
      "                        \"readOnly\": true\r\n",
      "                    }\r\n",
      "                ]\r\n",
      "            }\r\n",
      "        ],\r\n",
      "        \"dnsPolicy\": \"ClusterFirst\",\r\n",
      "        \"enableServiceLinks\": true,\r\n",
      "        \"nodeName\": \"k3d-dev-server\",\r\n",
      "        \"priority\": 0,\r\n",
      "        \"restartPolicy\": \"Always\",\r\n",
      "        \"schedulerName\": \"default-scheduler\",\r\n",
      "        \"securityContext\": {},\r\n",
      "        \"serviceAccount\": \"default\",\r\n",
      "        \"serviceAccountName\": \"default\",\r\n",
      "        \"terminationGracePeriodSeconds\": 30,\r\n",
      "        \"tolerations\": [\r\n",
      "            {\r\n",
      "                \"effect\": \"NoExecute\",\r\n",
      "                \"key\": \"node.kubernetes.io/not-ready\",\r\n",
      "                \"operator\": \"Exists\",\r\n",
      "                \"tolerationSeconds\": 300\r\n",
      "            },\r\n",
      "            {\r\n",
      "                \"effect\": \"NoExecute\",\r\n",
      "                \"key\": \"node.kubernetes.io/unreachable\",\r\n",
      "                \"operator\": \"Exists\",\r\n",
      "                \"tolerationSeconds\": 300\r\n",
      "            }\r\n",
      "        ],\r\n",
      "        \"volumes\": [\r\n",
      "            {\r\n",
      "                \"name\": \"default-token-k4rtn\",\r\n",
      "                \"secret\": {\r\n",
      "                    \"defaultMode\": 420,\r\n",
      "                    \"secretName\": \"default-token-k4rtn\"\r\n",
      "                }\r\n",
      "            }\r\n",
      "        ]\r\n",
      "    },\r\n",
      "    \"status\": {\r\n",
      "        \"conditions\": [\r\n",
      "            {\r\n",
      "                \"lastProbeTime\": null,\r\n",
      "                \"lastTransitionTime\": \"2020-04-06T22:23:06Z\",\r\n",
      "                \"status\": \"True\",\r\n",
      "                \"type\": \"Initialized\"\r\n",
      "            },\r\n",
      "            {\r\n",
      "                \"lastProbeTime\": null,\r\n",
      "                \"lastTransitionTime\": \"2020-04-06T22:23:13Z\",\r\n",
      "                \"status\": \"True\",\r\n",
      "                \"type\": \"Ready\"\r\n",
      "            },\r\n",
      "            {\r\n",
      "                \"lastProbeTime\": null,\r\n",
      "                \"lastTransitionTime\": \"2020-04-06T22:23:13Z\",\r\n",
      "                \"status\": \"True\",\r\n",
      "                \"type\": \"ContainersReady\"\r\n",
      "            },\r\n",
      "            {\r\n",
      "                \"lastProbeTime\": null,\r\n",
      "                \"lastTransitionTime\": \"2020-04-06T22:23:06Z\",\r\n",
      "                \"status\": \"True\",\r\n",
      "                \"type\": \"PodScheduled\"\r\n",
      "            }\r\n",
      "        ],\r\n",
      "        \"containerStatuses\": [\r\n",
      "            {\r\n",
      "                \"containerID\": \"containerd://e78c70bf140d09f0a3fbe6df1a6c621a21f5ddcd58d245f6dedf7dde19071c96\",\r\n",
      "                \"image\": \"docker.io/library/nginx:latest\",\r\n",
      "                \"imageID\": \"docker.io/library/nginx@sha256:282530fcb7cd19f3848c7b611043f82ae4be3781cb00105a1d593d7e6286b596\",\r\n",
      "                \"lastState\": {},\r\n",
      "                \"name\": \"nginx\",\r\n",
      "                \"ready\": true,\r\n",
      "                \"restartCount\": 0,\r\n",
      "                \"started\": true,\r\n",
      "                \"state\": {\r\n",
      "                    \"running\": {\r\n",
      "                        \"startedAt\": \"2020-04-06T22:23:13Z\"\r\n",
      "                    }\r\n",
      "                }\r\n",
      "            }\r\n",
      "        ],\r\n",
      "        \"hostIP\": \"172.18.0.2\",\r\n",
      "        \"phase\": \"Running\",\r\n",
      "        \"podIP\": \"10.42.0.10\",\r\n",
      "        \"podIPs\": [\r\n",
      "            {\r\n",
      "                \"ip\": \"10.42.0.10\"\r\n",
      "            }\r\n",
      "        ],\r\n",
      "        \"qosClass\": \"BestEffort\",\r\n",
      "        \"startTime\": \"2020-04-06T22:23:06Z\"\r\n",
      "    }\r\n",
      "}\r\n"
     ]
    }
   ],
   "source": [
    "!kubectl get pod nginx-85ff79dd56-r9hxn -o json"
   ]
  },
  {
   "cell_type": "code",
   "execution_count": null,
   "metadata": {},
   "outputs": [],
   "source": []
  }
 ],
 "metadata": {
  "kernelspec": {
   "display_name": "Python 3",
   "language": "python",
   "name": "python3"
  },
  "language_info": {
   "codemirror_mode": {
    "name": "ipython",
    "version": 3
   },
   "file_extension": ".py",
   "mimetype": "text/x-python",
   "name": "python",
   "nbconvert_exporter": "python",
   "pygments_lexer": "ipython3",
   "version": "3.6.9"
  }
 },
 "nbformat": 4,
 "nbformat_minor": 4
}
