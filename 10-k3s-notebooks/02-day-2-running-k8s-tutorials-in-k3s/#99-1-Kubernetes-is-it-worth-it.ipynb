{
 "cells": [
  {
   "cell_type": "markdown",
   "metadata": {},
   "source": [
    "# 99-1 Kubernetes is it worth it?"
   ]
  },
  {
   "cell_type": "markdown",
   "metadata": {},
   "source": [
    "    Kubernetes can be an overkill for simple applications. ...\n",
    "    Kubernetes is very complex and can reduce productivity. ...\n",
    "    The transition to Kubernetes can be cumbersome. ...\n",
    "    Kubernetes can be more expensive than its alternatives."
   ]
  },
  {
   "cell_type": "markdown",
   "metadata": {},
   "source": [
    "## 3. Kubernetes is a future proof solution\n",
    "\n",
    "If you decide to use Kubernetes, you can be pretty sure that this solution is feasible for many years for several reasons:\n",
    "\n",
    "    All major cloud vendors are supporting Kubernetes providing out-of-the-box solutions for it.\n",
    "    Alternative container orchestration solutions are far behind k8s in terms of adoption, support by cloud vendors and their ecosystems. Even companies previously focused on competing technologies are now endorsing Kubernetes: Docker is offering Docker Kubernetes Service instead of just Docker Swarm solutions and Mesosphere changed its name to D2IQ to be more open for Kubernetes and not purely focused on Apache Mesos.\n",
    "    And of course: The Kubernetes ecosystem is growing incredibly fast and new products supporting different needs on top of the Kubernetes platform are being released every day.\n",
    "\n",
    "> Note the growth is what may actually break k8s for me - just like elasticsearch7 did"
   ]
  },
  {
   "cell_type": "markdown",
   "metadata": {},
   "source": [
    "### Kubernetes is able to auto-scale \n",
    "\n",
    "- depending on the needs of your application and the incoming traffic \n",
    "- and load processed by your applications. "
   ]
  },
  {
   "cell_type": "markdown",
   "metadata": {},
   "source": [
    "## Drawbacks 1\n",
    "\n",
    "- 1. Kubernetes can be an overkill for simple applications\n",
    "- 2. Kubernetes is very complex and can reduce productivity\n",
    "- 3. The transition to Kubernetes can be cumbersome"
   ]
  },
  {
   "cell_type": "markdown",
   "metadata": {},
   "source": [
    " ### the average salary in the US for people with k8s skills is \n",
    " # more than $140,000, \n",
    "\n"
   ]
  },
  {
   "cell_type": "markdown",
   "metadata": {},
   "source": [
    "# Conclusion 1\n",
    "\n",
    "from:\n",
    "    https://devspace.cloud/blog/2019/10/31/advantages-and-disadvantages-of-kubernetes\n",
    "\n",
    "There is no easy answer if adopting Kubernetes is the right choice for you or not. It depends on your specific needs and priorities and many technical reasons were not even mentioned here."
   ]
  },
  {
   "cell_type": "markdown",
   "metadata": {},
   "source": [
    "# Kubernetes Pros\n",
    "\n",
    "Now that you have a basic idea of how Kubernetes works under the hood, let’s discuss key advantages of the platform. We’ve compiled a list of the following benefits:\n",
    "\n",
    "- Broad adoption in the cloud native community\n",
    "- Great ecosystem of supporting tools and interfaces\n",
    "- Deep integration into the cloud native ecosystem\n",
    "- Broad support for containers runtimes\n",
    "- Multiple workloads and deployment options\n",
    "- Great support for stateful apps\n",
    "- Flat networking model\n",
    "- Efficient application updates\n",
    "- Efficient resource management\n",
    "- Built-in security\n",
    "- Extensibility and pluggability\n",
    "- Integration with major cloud providers\n"
   ]
  },
  {
   "cell_type": "markdown",
   "metadata": {},
   "source": [
    "# Kubernetes Cons\n",
    "\n",
    "Kubernetes is great, but, as anything in the world, it’s not perfect. Moreover, transitioning to Kubernetes is associated with numerous challenges which must be addressed by companies seeking to adopt it. Here’s our list of cons and challenges.\n",
    "\n",
    "- Steep learning curve\n",
    "- Hard to install and configure manually\n",
    "- Missing High Availability piece\n",
    "- K8s talent may be expensive\n",
    "\n",
    "    from:\n",
    "        https://supergiant.io/blog/pros-and-cons-of-adopting-kubernetes-in-2019/"
   ]
  },
  {
   "cell_type": "markdown",
   "metadata": {},
   "source": [
    "![](https://d1o2okarmduwny.cloudfront.net/wp-content/uploads/2019/12/Kubernetes-architecture-1024x698.png)"
   ]
  },
  {
   "cell_type": "markdown",
   "metadata": {},
   "source": [
    "# When you Should Not Use Kubernetes\n",
    "## Simple, lightweight applications\n",
    "If your application makes use of a monolithic architecture it may be tough to see the real benefits of containers and a tool used to orchestrate them. That’s because the very nature of a monolithic architecture is to have every piece of the application intertwined — from IO to the data processing to rendering, whereas containers are used to separate your application into individual components.\n",
    "\n",
    "## Culture doesn’t reflect the changes ahead\n",
    "Kubernetes notoriously has a steep learning curve, meaning you’ll be spending a good amount of time educating teams and addressing the challenges of a new solution, etc. If you don’t have a team that’s willing to experiment and take risks then it’s probably not the choice for you"
   ]
  },
  {
   "cell_type": "markdown",
   "metadata": {},
   "source": [
    "# Kubernetes is hard\n",
    "\n",
    "https://pasztor.at/blog/kubernetes-is-hard\n",
    "\n",
    ">Kubernetes won the container wars... allegedly. However, Kubernetes is still hard and causing a lot of grief. "
   ]
  },
  {
   "cell_type": "markdown",
   "metadata": {},
   "source": [
    "# First, installation. \n",
    "\n",
    "You really want to have some sort of an automated installation. It doesn’t matter if it’s Ansible, Terraform or other tools, you want to have it automated. kops, for example, helps you with this, but using kops means that you won’t know how exactly it is set up and that may cause issues when you later want to debug something. This automation should be tested, and tested regularly."
   ]
  },
  {
   "cell_type": "markdown",
   "metadata": {},
   "source": [
    "Next up, you need to \n",
    "# monitor your Kubernetes installation. \n",
    "So right away you need something like Prometheus, Grafana, etc. Do you run it inside of your Kubernetes? If your Kubernetes has a problem, is your monitoring then down? Or do you run it separately? If yes, then where do you run it?"
   ]
  },
  {
   "cell_type": "markdown",
   "metadata": {},
   "source": [
    "# Data storage\n",
    "\n",
    "Finally, let’s talk about the elephant in the room: storage. Kubernetes in and of itself does not provide a storage solution. Of course, you can mount a directory from the host machine, but that is neither recommended, nor is it simple.\n",
    "\n",
    "You basically need to provide some sort of storage under Kubernetes. rook, for example, makes it relatively simple to run Ceph as an underlying block storage for your data storage needs, but my experience with Ceph is that it has a lot of knobs that need tuning, so you are by no means out of the woods by simply hitting next-next-finish."
   ]
  },
  {
   "cell_type": "markdown",
   "metadata": {},
   "source": [
    "# Debugging\n",
    "\n",
    "When talking about Kubernetes with developers, one common pattern came up quite regularly: when using a managed Kubernetes, people had problems debugging their applications. Even simple problems, such as a container failing to start, caused confusion.\n",
    "\n",
    "This, of course, is an education problem. Over the past few decades developers have learned debugging “classic” setups: reading log files in /var/log, etc. But with containers we don’t even know which server the container is running on, so it presents a paradigm shift.\n",
    "The problem: complexity\n",
    "\n",
    "You may have noticed that I’m skipping over the things cloud providers give you, even if it’s not a full managed Kubernetes. Of course, if you use a managed Kubernetes solution, that’s great, and you won’t need to deal with any of this, except for **debugging.**\n",
    "\n",
    "## But isn't debugging time hard to estimate\n",
    "\n",
    "## Consider Swarm"
   ]
  },
  {
   "cell_type": "markdown",
   "metadata": {},
   "source": [
    "# Do you really need Kubernetes?\n",
    "> Is Kubernetes the perfect defense against cloud lock-in, or a needlessly complex solution to a problem nobody has?\n",
    "\n",
    "from:\n",
    "    https://www.infoworld.com/article/3527217/do-you-really-need-kubernetes.html"
   ]
  },
  {
   "cell_type": "markdown",
   "metadata": {},
   "source": [
    "## Why the regret\n",
    "> Why the regret? Because with Kubernetes comes complexity, complexity that they didn’t have with the vehicle they need most for cloud portability, the lowly Docker container. Or simple shell scripts. Indeed, as Johnston goes on, Kubernetes ends up “way overcomplicating something that has been done for years in multiple different ways.”\n",
    "\n",
    "### overcomplicating something that has been done for years in multiple different ways"
   ]
  },
  {
   "cell_type": "markdown",
   "metadata": {},
   "source": [
    "# Counterpoint here \n",
    "\n",
    "https://techbeacon.com/devops/one-year-using-kubernetes-production-lessons-learned"
   ]
  },
  {
   "cell_type": "markdown",
   "metadata": {},
   "source": [
    "What is Kubernetes?\n",
    "\n",
    "Kubernetes is a Greek word for “governor” or “helmsman”. This project is an open-source orchestrator for containers workloads."
   ]
  },
  {
   "cell_type": "markdown",
   "metadata": {},
   "source": [
    "# Overview of Docker Swarm\n",
    "\n",
    "Docker swarm is Docker’s own container’s orchestration. It uses the standard Docker API and networking, making it easy to drop into an environment where you’re already working with the Docker containers. Dock Swarm is designed to work around four key principles:\n",
    "\n",
    "    Simple yet powerful with a “just works” user experience\n",
    "    Resilient zero single-point-of-failure architecture\n",
    "    Secure by default with automatically generated certificates\n",
    "    Backward compatibility with existing components\n",
    "\n",
    "from: \n",
    "    https://vexxhost.com/blog/kubernetes-vs-docker-swarm-containerization-platforms/"
   ]
  },
  {
   "cell_type": "markdown",
   "metadata": {},
   "source": [
    "\n",
    "## Installation and set-up\n",
    "\n",
    "In Kubernetes, installation is manual and it takes serious planning to make Kubernetes up and running. \n",
    "\n",
    "> Also a million ways to install it\n",
    "\n",
    "- and a million books to read\n",
    "- and so many layers and networks your head hurts"
   ]
  },
  {
   "cell_type": "markdown",
   "metadata": {},
   "source": [
    "\n",
    "## Docker Swarm is simple to install \n",
    "as compared to Kubernetes.\n",
    "\n",
    "## Docker Swarm is a tool of Docker, \n",
    "same common language is used to navigate within a structure.\n",
    "\n",
    "This provides variability and speed to this tool and gives Docker a significant usability edge."
   ]
  },
  {
   "cell_type": "code",
   "execution_count": null,
   "metadata": {},
   "outputs": [],
   "source": []
  }
 ],
 "metadata": {
  "kernelspec": {
   "display_name": "Python 3",
   "language": "python",
   "name": "python3"
  },
  "language_info": {
   "codemirror_mode": {
    "name": "ipython",
    "version": 3
   },
   "file_extension": ".py",
   "mimetype": "text/x-python",
   "name": "python",
   "nbconvert_exporter": "python",
   "pygments_lexer": "ipython3",
   "version": "3.6.9"
  }
 },
 "nbformat": 4,
 "nbformat_minor": 4
}
