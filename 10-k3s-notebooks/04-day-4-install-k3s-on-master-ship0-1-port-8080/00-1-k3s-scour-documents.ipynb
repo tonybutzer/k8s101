{
 "cells": [
  {
   "cell_type": "markdown",
   "metadata": {},
   "source": [
    "# Fantastic References\n",
    "\n",
    "https://levelup.gitconnected.com/kubernetes-cluster-with-k3s-and-multipass-7532361affa3"
   ]
  },
  {
   "cell_type": "markdown",
   "metadata": {},
   "source": [
    "# Step 1 bring up a single node in aws and curl the install script\n",
    "\n",
    "## butz2\n",
    "\n",
    "- git pull\n",
    "- clone the tfinfra master\n",
    "- edit the files/os_boot \n",
    "- edit the name\n",
    "- terraform apply\n",
    "- git ignore "
   ]
  },
  {
   "cell_type": "markdown",
   "metadata": {},
   "source": [
    "# goal set k3s master to tunnel on port 8080"
   ]
  },
  {
   "cell_type": "markdown",
   "metadata": {},
   "source": [
    "# step 2 curl the install script\n",
    "\n",
    "curl  https://get.k3s.io"
   ]
  },
  {
   "cell_type": "markdown",
   "metadata": {},
   "source": [
    "use the docker one as the master"
   ]
  },
  {
   "cell_type": "code",
   "execution_count": null,
   "metadata": {},
   "outputs": [],
   "source": [
    "# history hints\n",
    "\n",
    "```\n",
    "k3d create --name tony --api-port 8080 --publish 9999:80\n",
    "  116  k3d create --name tony --api-port 80 --publish 9999:80\n",
    "  117  kubectl cluster-info\n",
    "  118  export KUBECONFIG=\"$(k3d get-kubeconfig --name='tony')\"\n",
    "  119  kubectl cluster-info\n",
    "  120  k3d stop --name=stag\n",
    "  121  k3d stop --name=tony\n",
    "  122  k3d --help\n",
    "  123  k3d delete --name=tony\n",
    "  124  k3d create --name tony --api-port 7777 --publish 9999:80\n",
    "  125  export KUBECONFIG=\"$(k3d get-kubeconfig --name='tony')\"\n",
    "  126  kubectl cluster-info\n",
    "  127  k3d delete --name=tony\n",
    "  128  k3d create --name tony --api-port 5439 --publish 80:80\n",
    "  129  export KUBECONFIG=\"$(k3d get-kubeconfig --name='tony')\"\n",
    "  130  kubectl cluster-info\n",
    "  131  sudo cat /var/lib/rancher/k3s/server/node-token\n",
    "  132  docker ps\n",
    "  133  docker -it 1e07da7de8c9 bash\n",
    "  134  docker exec  -it 1e07da7de8c9 bash\n",
    "  135  docker exec  -it 1e07da7de8c9 sh\n",
    "```"
   ]
  },
  {
   "cell_type": "markdown",
   "metadata": {},
   "source": [
    "# Someday **sigh**\n",
    "\n",
    "# Multipass\n",
    "First, we need a virtualization layer in order to run any number of Kubernetes nodes. Very likely, the easiest way to get an Ubuntu VM on OS X using multipass, created by Canonical Ltd:\n",
    "\n",
    "It’s a system that orchestrates the creation, management and maintenance of virtual machines and associated Ubuntu images to simplify development."
   ]
  },
  {
   "cell_type": "markdown",
   "metadata": {},
   "source": [
    "# Priority C1 References\n",
    "\n",
    "https://medium.com/@rboulanouar/hands-on-k3os-k3s-cluster-5fe6c3497a1e"
   ]
  },
  {
   "cell_type": "code",
   "execution_count": null,
   "metadata": {},
   "outputs": [],
   "source": []
  }
 ],
 "metadata": {
  "kernelspec": {
   "display_name": "Python 3",
   "language": "python",
   "name": "python3"
  },
  "language_info": {
   "codemirror_mode": {
    "name": "ipython",
    "version": 3
   },
   "file_extension": ".py",
   "mimetype": "text/x-python",
   "name": "python",
   "nbconvert_exporter": "python",
   "pygments_lexer": "ipython3",
   "version": "3.6.9"
  }
 },
 "nbformat": 4,
 "nbformat_minor": 4
}
