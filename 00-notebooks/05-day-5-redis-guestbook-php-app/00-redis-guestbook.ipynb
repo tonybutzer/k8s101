{
 "cells": [
  {
   "cell_type": "markdown",
   "metadata": {},
   "source": [
    "# Redis Guest Book\n",
    "\n",
    "## Reference\n",
    "\n",
    "https://kubernetes.io/docs/tutorials/stateless-application/guestbook/#objectives"
   ]
  },
  {
   "cell_type": "code",
   "execution_count": 1,
   "metadata": {},
   "outputs": [
    {
     "name": "stdout",
     "output_type": "stream",
     "text": [
      "env: k=microk8s.kubectl\n"
     ]
    }
   ],
   "source": [
    "%env k=microk8s.kubectl"
   ]
  },
  {
   "cell_type": "code",
   "execution_count": 2,
   "metadata": {},
   "outputs": [
    {
     "name": "stdout",
     "output_type": "stream",
     "text": [
      "Client Version: version.Info{Major:\"1\", Minor:\"17\", GitVersion:\"v1.17.2\", GitCommit:\"59603c6e503c87169aea6106f57b9f242f64df89\", GitTreeState:\"clean\", BuildDate:\"2020-01-18T23:30:10Z\", GoVersion:\"go1.13.5\", Compiler:\"gc\", Platform:\"linux/amd64\"}\r\n",
      "Server Version: version.Info{Major:\"1\", Minor:\"17\", GitVersion:\"v1.17.2\", GitCommit:\"59603c6e503c87169aea6106f57b9f242f64df89\", GitTreeState:\"clean\", BuildDate:\"2020-01-18T23:22:30Z\", GoVersion:\"go1.13.5\", Compiler:\"gc\", Platform:\"linux/amd64\"}\r\n"
     ]
    }
   ],
   "source": [
    "! $k version"
   ]
  },
  {
   "cell_type": "markdown",
   "metadata": {},
   "source": [
    "# ! wget application/guestbook/redis-master-deployment.yaml \n",
    "\n",
    "```yaml\n",
    "apiVersion: apps/v1 # for versions before 1.9.0 use apps/v1beta2\n",
    "kind: Deployment\n",
    "metadata:\n",
    "  name: redis-master\n",
    "  labels:\n",
    "    app: redis\n",
    "spec:\n",
    "  selector:\n",
    "    matchLabels:\n",
    "      app: redis\n",
    "      role: master\n",
    "      tier: backend\n",
    "  replicas: 1\n",
    "  template:\n",
    "    metadata:\n",
    "      labels:\n",
    "        app: redis\n",
    "        role: master\n",
    "        tier: backend\n",
    "    spec:\n",
    "      containers:\n",
    "      - name: master\n",
    "        image: k8s.gcr.io/redis:e2e  # or just image: redis\n",
    "        resources:\n",
    "          requests:\n",
    "            cpu: 100m\n",
    "            memory: 100Mi\n",
    "        ports:\n",
    "        - containerPort: 6379\n",
    "\n",
    "```\n"
   ]
  },
  {
   "cell_type": "code",
   "execution_count": 3,
   "metadata": {},
   "outputs": [
    {
     "name": "stdout",
     "output_type": "stream",
     "text": [
      "--2020-03-08 05:08:38--  https://raw.githubusercontent.com/kubernetes/website/master/content/en/examples/application/guestbook/redis-master-deployment.yaml\n",
      "Resolving raw.githubusercontent.com (raw.githubusercontent.com)... 151.101.52.133\n",
      "Connecting to raw.githubusercontent.com (raw.githubusercontent.com)|151.101.52.133|:443... connected.\n",
      "HTTP request sent, awaiting response... 200 OK\n",
      "Length: 586 [text/plain]\n",
      "Saving to: ‘redis-master-deployment.yaml’\n",
      "\n",
      "redis-master-deploy 100%[===================>]     586  --.-KB/s    in 0s      \n",
      "\n",
      "2020-03-08 05:08:39 (97.2 MB/s) - ‘redis-master-deployment.yaml’ saved [586/586]\n",
      "\n"
     ]
    }
   ],
   "source": [
    "! wget https://raw.githubusercontent.com/kubernetes/website/master/content/en/examples/application/guestbook/redis-master-deployment.yaml"
   ]
  },
  {
   "cell_type": "code",
   "execution_count": 4,
   "metadata": {},
   "outputs": [
    {
     "name": "stdout",
     "output_type": "stream",
     "text": [
      "apiVersion: apps/v1 # for versions before 1.9.0 use apps/v1beta2\r\n",
      "kind: Deployment\r\n",
      "metadata:\r\n",
      "  name: redis-master\r\n",
      "  labels:\r\n",
      "    app: redis\r\n",
      "spec:\r\n",
      "  selector:\r\n",
      "    matchLabels:\r\n",
      "      app: redis\r\n",
      "      role: master\r\n",
      "      tier: backend\r\n",
      "  replicas: 1\r\n",
      "  template:\r\n",
      "    metadata:\r\n",
      "      labels:\r\n",
      "        app: redis\r\n",
      "        role: master\r\n",
      "        tier: backend\r\n",
      "    spec:\r\n",
      "      containers:\r\n",
      "      - name: master\r\n",
      "        image: k8s.gcr.io/redis:e2e  # or just image: redis\r\n",
      "        resources:\r\n",
      "          requests:\r\n",
      "            cpu: 100m\r\n",
      "            memory: 100Mi\r\n",
      "        ports:\r\n",
      "        - containerPort: 6379\r\n"
     ]
    }
   ],
   "source": [
    "! cat redis-master-deployment.yaml"
   ]
  },
  {
   "cell_type": "code",
   "execution_count": 7,
   "metadata": {},
   "outputs": [
    {
     "name": "stdout",
     "output_type": "stream",
     "text": [
      "  name: redis-master\r\n",
      "    app: redis\r\n",
      "      app: redis\r\n",
      "        app: redis\r\n",
      "      - name: master\r\n",
      "        image: k8s.gcr.io/redis:e2e  # or just image: redis\r\n",
      "        - containerPort: 6379\r\n"
     ]
    }
   ],
   "source": [
    "! cat redis-master-deployment.yaml | egrep 'app:|Port|name|image'"
   ]
  },
  {
   "cell_type": "code",
   "execution_count": 8,
   "metadata": {},
   "outputs": [
    {
     "name": "stdout",
     "output_type": "stream",
     "text": [
      "deployment.apps/redis-master created\r\n"
     ]
    }
   ],
   "source": [
    "!   $k  apply -f https://k8s.io/examples/application/guestbook/redis-master-deployment.yaml"
   ]
  },
  {
   "cell_type": "code",
   "execution_count": 9,
   "metadata": {},
   "outputs": [
    {
     "name": "stdout",
     "output_type": "stream",
     "text": [
      "NAME                  READY   UP-TO-DATE   AVAILABLE   AGE\r\n",
      "kubernetes-bootcamp   1/1     1            1           28h\r\n",
      "microbot              2/2     2            2           26h\r\n",
      "product-deployment    2/2     2            2           34m\r\n",
      "product-service       4/4     4            4           14h\r\n",
      "redis-master          0/1     1            0           13s\r\n"
     ]
    }
   ],
   "source": [
    "! $k get deployments"
   ]
  },
  {
   "cell_type": "code",
   "execution_count": 10,
   "metadata": {},
   "outputs": [
    {
     "name": "stdout",
     "output_type": "stream",
     "text": [
      "redis-master          1/1     1            1           41s   master                k8s.gcr.io/redis:e2e                           app=redis,role=master,tier=backend\r\n"
     ]
    }
   ],
   "source": [
    "! $k get deployments -o wide |grep redis"
   ]
  },
  {
   "cell_type": "code",
   "execution_count": 11,
   "metadata": {},
   "outputs": [
    {
     "name": "stdout",
     "output_type": "stream",
     "text": [
      "NAME                                   READY   STATUS    RESTARTS   AGE   IP          NODE   NOMINATED NODE   READINESS GATES\r\n",
      "kubernetes-bootcamp-69fbc6f4cf-cmtnn   1/1     Running   0          28h   10.1.6.2    k8s    <none>           <none>\r\n",
      "microbot-5bb7fd7f5d-8tf4t              1/1     Running   0          26h   10.1.6.8    k8s    <none>           <none>\r\n",
      "microbot-5bb7fd7f5d-xrxd8              1/1     Running   0          26h   10.1.6.9    k8s    <none>           <none>\r\n",
      "product-deployment-595f4456-mnwsj      1/1     Running   0          35m   10.1.6.15   k8s    <none>           <none>\r\n",
      "product-deployment-595f4456-rkpjq      1/1     Running   0          35m   10.1.6.14   k8s    <none>           <none>\r\n",
      "product-service-57f7889bd6-7jpxd       1/1     Running   0          14h   10.1.6.11   k8s    <none>           <none>\r\n",
      "product-service-57f7889bd6-mvxtg       1/1     Running   0          14h   10.1.6.13   k8s    <none>           <none>\r\n",
      "product-service-57f7889bd6-rfk7z       1/1     Running   0          14h   10.1.6.10   k8s    <none>           <none>\r\n",
      "product-service-57f7889bd6-sv2gq       1/1     Running   0          14h   10.1.6.12   k8s    <none>           <none>\r\n",
      "redis-master-7db7f6579f-b6cdk          1/1     Running   0          70s   10.1.6.16   k8s    <none>           <none>\r\n"
     ]
    }
   ],
   "source": [
    "! $k get pods -o wide"
   ]
  },
  {
   "cell_type": "code",
   "execution_count": 12,
   "metadata": {},
   "outputs": [
    {
     "name": "stdout",
     "output_type": "stream",
     "text": [
      "deployment.apps \"product-deployment\" deleted\r\n"
     ]
    }
   ],
   "source": [
    "! $k delete deployment product-deployment"
   ]
  },
  {
   "cell_type": "code",
   "execution_count": 14,
   "metadata": {},
   "outputs": [
    {
     "name": "stdout",
     "output_type": "stream",
     "text": [
      "NAME                                   READY   STATUS    RESTARTS   AGE    IP          NODE   NOMINATED NODE   READINESS GATES\r\n",
      "kubernetes-bootcamp-69fbc6f4cf-cmtnn   1/1     Running   0          28h    10.1.6.2    k8s    <none>           <none>\r\n",
      "microbot-5bb7fd7f5d-8tf4t              1/1     Running   0          26h    10.1.6.8    k8s    <none>           <none>\r\n",
      "microbot-5bb7fd7f5d-xrxd8              1/1     Running   0          26h    10.1.6.9    k8s    <none>           <none>\r\n",
      "product-service-57f7889bd6-7jpxd       1/1     Running   0          14h    10.1.6.11   k8s    <none>           <none>\r\n",
      "product-service-57f7889bd6-mvxtg       1/1     Running   0          14h    10.1.6.13   k8s    <none>           <none>\r\n",
      "product-service-57f7889bd6-rfk7z       1/1     Running   0          14h    10.1.6.10   k8s    <none>           <none>\r\n",
      "product-service-57f7889bd6-sv2gq       1/1     Running   0          14h    10.1.6.12   k8s    <none>           <none>\r\n",
      "redis-master-7db7f6579f-b6cdk          1/1     Running   0          3m3s   10.1.6.16   k8s    <none>           <none>\r\n"
     ]
    }
   ],
   "source": [
    "! $k get pods -o wide"
   ]
  },
  {
   "cell_type": "code",
   "execution_count": 15,
   "metadata": {},
   "outputs": [
    {
     "name": "stdout",
     "output_type": "stream",
     "text": [
      "Error from server (NotFound): pods \"product-service\" not found\r\n"
     ]
    }
   ],
   "source": [
    "! $k delete po product-service"
   ]
  },
  {
   "cell_type": "code",
   "execution_count": 19,
   "metadata": {},
   "outputs": [
    {
     "name": "stdout",
     "output_type": "stream",
     "text": [
      "NAME                  READY   UP-TO-DATE   AVAILABLE   AGE\r\n",
      "kubernetes-bootcamp   1/1     1            1           28h\r\n",
      "microbot              2/2     2            2           26h\r\n",
      "product-service       4/4     4            4           14h\r\n",
      "redis-master          1/1     1            1           4m55s\r\n"
     ]
    }
   ],
   "source": [
    "! $k get deployments"
   ]
  },
  {
   "cell_type": "code",
   "execution_count": 20,
   "metadata": {},
   "outputs": [
    {
     "name": "stdout",
     "output_type": "stream",
     "text": [
      "deployment.apps \"product-service\" deleted\r\n"
     ]
    }
   ],
   "source": [
    "! $k delete deployment product-service"
   ]
  },
  {
   "cell_type": "code",
   "execution_count": 24,
   "metadata": {},
   "outputs": [
    {
     "name": "stdout",
     "output_type": "stream",
     "text": [
      "redis-master-7db7f6579f-b6cdk          1/1     Running   0          5m49s   10.1.6.16   k8s    <none>           <none>\r\n"
     ]
    }
   ],
   "source": [
    "! $k get pods -o wide |grep redi"
   ]
  },
  {
   "cell_type": "code",
   "execution_count": 31,
   "metadata": {},
   "outputs": [
    {
     "name": "stdout",
     "output_type": "stream",
     "text": [
      "NAME                            READY   STATUS    RESTARTS   AGE\n",
      "redis-master-7db7f6579f-b6cdk   1/1     Running   0          11m\n"
     ]
    }
   ],
   "source": [
    "%%bash\n",
    "$k get pods -l 'app = redis'"
   ]
  },
  {
   "cell_type": "code",
   "execution_count": 37,
   "metadata": {},
   "outputs": [
    {
     "name": "stdout",
     "output_type": "stream",
     "text": [
      "redis-master-7db7f6579f-b6cdk\n"
     ]
    }
   ],
   "source": [
    "%%bash\n",
    "podname=$($k get pods -l 'app = redis' | grep redis | cut -d \" \" -f1)\n",
    "echo $podname\n",
    "#$k logs -f $podname"
   ]
  },
  {
   "cell_type": "code",
   "execution_count": 39,
   "metadata": {},
   "outputs": [
    {
     "name": "stdout",
     "output_type": "stream",
     "text": [
      "                _._                                                  \r\n",
      "           _.-``__ ''-._                                             \r\n",
      "      _.-``    `.  `_.  ''-._           Redis 2.8.19 (00000000/0) 64 bit\r\n",
      "  .-`` .-```.  ```\\/    _.,_ ''-._                                   \r\n",
      " (    '      ,       .-`  | `,    )     Running in stand alone mode\r\n",
      " |`-._`-...-` __...-.``-._|'` _.-'|     Port: 6379\r\n",
      " |    `-._   `._    /     _.-'    |     PID: 1\r\n",
      "  `-._    `-._  `-./  _.-'    _.-'                                   \r\n",
      " |`-._`-._    `-.__.-'    _.-'_.-'|                                  \r\n",
      " |    `-._`-._        _.-'_.-'    |           http://redis.io        \r\n",
      "  `-._    `-._`-.__.-'_.-'    _.-'                                   \r\n",
      " |`-._`-._    `-.__.-'    _.-'_.-'|                                  \r\n",
      " |    `-._`-._        _.-'_.-'    |                                  \r\n",
      "  `-._    `-._`-.__.-'_.-'    _.-'                                   \r\n",
      "      `-._    `-.__.-'    _.-'                                       \r\n",
      "          `-._        _.-'                                           \r\n",
      "              `-.__.-'                                               \r\n",
      "\r\n",
      "[1] 08 Mar 05:11:54.149 # Server started, Redis version 2.8.19\r\n",
      "[1] 08 Mar 05:11:54.149 # WARNING you have Transparent Huge Pages (THP) support enabled in your kernel. This will create latency and memory usage issues with Redis. To fix this issue run the command 'echo never > /sys/kernel/mm/transparent_hugepage/enabled' as root, and add it to your /etc/rc.local in order to retain the setting after a reboot. Redis must be restarted after THP is disabled.\r\n",
      "[1] 08 Mar 05:11:54.149 # WARNING: The TCP backlog setting of 511 cannot be enforced because /proc/sys/net/core/somaxconn is set to the lower value of 128.\r\n",
      "[1] 08 Mar 05:11:54.149 * The server is now ready to accept connections on port 6379\r\n"
     ]
    }
   ],
   "source": [
    "!$k logs redis-master-7db7f6579f-b6cdk"
   ]
  },
  {
   "cell_type": "code",
   "execution_count": 40,
   "metadata": {},
   "outputs": [
    {
     "name": "stdout",
     "output_type": "stream",
     "text": [
      "--2020-03-08 05:28:00--  https://raw.githubusercontent.com/kubernetes/website/master/content/en/examples/application/guestbook/redis-master-service.yaml\n",
      "Resolving raw.githubusercontent.com (raw.githubusercontent.com)... 151.101.52.133\n",
      "Connecting to raw.githubusercontent.com (raw.githubusercontent.com)|151.101.52.133|:443... connected.\n",
      "HTTP request sent, awaiting response... 200 OK\n",
      "Length: 233 [text/plain]\n",
      "Saving to: ‘redis-master-service.yaml’\n",
      "\n",
      "redis-master-servic 100%[===================>]     233  --.-KB/s    in 0s      \n",
      "\n",
      "2020-03-08 05:28:00 (12.5 MB/s) - ‘redis-master-service.yaml’ saved [233/233]\n",
      "\n"
     ]
    }
   ],
   "source": [
    "! wget https://raw.githubusercontent.com/kubernetes/website/master/content/en/examples/application/guestbook/redis-master-service.yaml"
   ]
  },
  {
   "cell_type": "code",
   "execution_count": 41,
   "metadata": {},
   "outputs": [
    {
     "name": "stdout",
     "output_type": "stream",
     "text": [
      "service/redis-master created\r\n"
     ]
    }
   ],
   "source": [
    "! $k apply -f https://k8s.io/examples/application/guestbook/redis-master-service.yaml"
   ]
  },
  {
   "cell_type": "code",
   "execution_count": 42,
   "metadata": {},
   "outputs": [
    {
     "name": "stdout",
     "output_type": "stream",
     "text": [
      "NAME               TYPE        CLUSTER-IP       EXTERNAL-IP   PORT(S)        AGE\r\n",
      "kubernetes         ClusterIP   10.152.183.1     <none>        443/TCP        28h\r\n",
      "microbot-service   NodePort    10.152.183.195   <none>        80:31914/TCP   26h\r\n",
      "redis-master       ClusterIP   10.152.183.198   <none>        6379/TCP       9s\r\n"
     ]
    }
   ],
   "source": [
    "! $k get svc"
   ]
  },
  {
   "cell_type": "markdown",
   "metadata": {},
   "source": [
    "## Start up the Redis Slaves\n",
    "\n",
    "Although the Redis master is a single pod, you can make it highly available to meet traffic demands by adding replica Redis slaves.\n",
    "Creating"
   ]
  },
  {
   "cell_type": "code",
   "execution_count": 44,
   "metadata": {},
   "outputs": [
    {
     "name": "stdout",
     "output_type": "stream",
     "text": [
      "--2020-03-08 05:30:32--  https://raw.githubusercontent.com/kubernetes/website/master/content/en/examples/application/guestbook/redis-slave-deployment.yaml\n",
      "Resolving raw.githubusercontent.com (raw.githubusercontent.com)... 151.101.52.133\n",
      "Connecting to raw.githubusercontent.com (raw.githubusercontent.com)|151.101.52.133|:443... connected.\n",
      "HTTP request sent, awaiting response... 200 OK\n",
      "Length: 1134 (1.1K) [text/plain]\n",
      "Saving to: ‘redis-slave-deployment.yaml’\n",
      "\n",
      "redis-slave-deploym 100%[===================>]   1.11K  --.-KB/s    in 0s      \n",
      "\n",
      "2020-03-08 05:30:33 (215 MB/s) - ‘redis-slave-deployment.yaml’ saved [1134/1134]\n",
      "\n"
     ]
    }
   ],
   "source": [
    "! wget https://raw.githubusercontent.com/kubernetes/website/master/content/en/examples/application/guestbook/redis-slave-deployment.yaml"
   ]
  },
  {
   "cell_type": "code",
   "execution_count": 45,
   "metadata": {},
   "outputs": [
    {
     "name": "stdout",
     "output_type": "stream",
     "text": [
      "deployment.apps/redis-slave created\r\n"
     ]
    }
   ],
   "source": [
    "!   $k apply -f https://k8s.io/examples/application/guestbook/redis-slave-deployment.yaml"
   ]
  },
  {
   "cell_type": "code",
   "execution_count": 47,
   "metadata": {},
   "outputs": [
    {
     "name": "stdout",
     "output_type": "stream",
     "text": [
      "redis-master-7db7f6579f-b6cdk          1/1     Running   0          19m\r\n",
      "redis-slave-7664787fbc-fjnzc           1/1     Running   0          20s\r\n",
      "redis-slave-7664787fbc-wh8qd           1/1     Running   0          20s\r\n"
     ]
    }
   ],
   "source": [
    "! $k get pods |grep redis"
   ]
  },
  {
   "cell_type": "code",
   "execution_count": 48,
   "metadata": {},
   "outputs": [
    {
     "name": "stdout",
     "output_type": "stream",
     "text": [
      "--2020-03-08 05:32:15--  https://raw.githubusercontent.com/kubernetes/website/master/content/en/examples/application/guestbook/redis-slave-service.yaml\n",
      "Resolving raw.githubusercontent.com (raw.githubusercontent.com)... 151.101.52.133\n",
      "Connecting to raw.githubusercontent.com (raw.githubusercontent.com)|151.101.52.133|:443... connected.\n",
      "HTTP request sent, awaiting response... 200 OK\n",
      "Length: 209 [text/plain]\n",
      "Saving to: ‘redis-slave-service.yaml’\n",
      "\n",
      "redis-slave-service 100%[===================>]     209  --.-KB/s    in 0s      \n",
      "\n",
      "2020-03-08 05:32:16 (38.6 MB/s) - ‘redis-slave-service.yaml’ saved [209/209]\n",
      "\n"
     ]
    }
   ],
   "source": [
    "# redsis salve service\n",
    "! wget https://raw.githubusercontent.com/kubernetes/website/master/content/en/examples/application/guestbook/redis-slave-service.yaml"
   ]
  },
  {
   "cell_type": "code",
   "execution_count": 49,
   "metadata": {},
   "outputs": [
    {
     "name": "stdout",
     "output_type": "stream",
     "text": [
      "service/redis-slave created\r\n"
     ]
    }
   ],
   "source": [
    "! $k apply -f https://k8s.io/examples/application/guestbook/redis-slave-service.yaml"
   ]
  },
  {
   "cell_type": "code",
   "execution_count": 50,
   "metadata": {},
   "outputs": [
    {
     "name": "stdout",
     "output_type": "stream",
     "text": [
      "NAME               TYPE        CLUSTER-IP       EXTERNAL-IP   PORT(S)        AGE\r\n",
      "kubernetes         ClusterIP   10.152.183.1     <none>        443/TCP        28h\r\n",
      "microbot-service   NodePort    10.152.183.195   <none>        80:31914/TCP   26h\r\n",
      "redis-master       ClusterIP   10.152.183.198   <none>        6379/TCP       4m16s\r\n",
      "redis-slave        ClusterIP   10.152.183.78    <none>        6379/TCP       13s\r\n"
     ]
    }
   ],
   "source": [
    "! $k get svc"
   ]
  },
  {
   "cell_type": "code",
   "execution_count": 52,
   "metadata": {},
   "outputs": [
    {
     "name": "stdout",
     "output_type": "stream",
     "text": [
      "NAMESPACE     NAME                                                  READY   STATUS    RESTARTS   AGE\r\n",
      "default       pod/kubernetes-bootcamp-69fbc6f4cf-cmtnn              1/1     Running   0          28h\r\n",
      "default       pod/microbot-5bb7fd7f5d-8tf4t                         1/1     Running   0          26h\r\n",
      "default       pod/microbot-5bb7fd7f5d-xrxd8                         1/1     Running   0          26h\r\n",
      "default       pod/redis-master-7db7f6579f-b6cdk                     1/1     Running   0          24m\r\n",
      "default       pod/redis-slave-7664787fbc-fjnzc                      1/1     Running   0          5m1s\r\n",
      "default       pod/redis-slave-7664787fbc-wh8qd                      1/1     Running   0          5m1s\r\n",
      "kube-system   pod/coredns-9b8997588-xq4rf                           1/1     Running   0          28h\r\n",
      "kube-system   pod/dashboard-metrics-scraper-687667bb6c-zn7pd        1/1     Running   0          28h\r\n",
      "kube-system   pod/heapster-v1.5.2-5c58f64f8b-hdk4r                  4/4     Running   1          28h\r\n",
      "kube-system   pod/kubernetes-dashboard-5c848cc544-qwcg4             1/1     Running   0          28h\r\n",
      "kube-system   pod/monitoring-influxdb-grafana-v4-6d599df6bf-9cx6f   2/2     Running   0          28h\r\n",
      "\r\n",
      "NAMESPACE     NAME                                TYPE        CLUSTER-IP       EXTERNAL-IP   PORT(S)                  AGE\r\n",
      "default       service/kubernetes                  ClusterIP   10.152.183.1     <none>        443/TCP                  29h\r\n",
      "default       service/microbot-service            NodePort    10.152.183.195   <none>        80:31914/TCP             26h\r\n",
      "default       service/redis-master                ClusterIP   10.152.183.198   <none>        6379/TCP                 7m22s\r\n",
      "default       service/redis-slave                 ClusterIP   10.152.183.78    <none>        6379/TCP                 3m19s\r\n",
      "kube-system   service/dashboard-metrics-scraper   ClusterIP   10.152.183.5     <none>        8000/TCP                 28h\r\n",
      "kube-system   service/heapster                    ClusterIP   10.152.183.125   <none>        80/TCP                   28h\r\n",
      "kube-system   service/kube-dns                    ClusterIP   10.152.183.10    <none>        53/UDP,53/TCP,9153/TCP   28h\r\n",
      "kube-system   service/kubernetes-dashboard        ClusterIP   10.152.183.159   <none>        443/TCP                  28h\r\n",
      "kube-system   service/monitoring-grafana          ClusterIP   10.152.183.44    <none>        80/TCP                   28h\r\n",
      "kube-system   service/monitoring-influxdb         ClusterIP   10.152.183.196   <none>        8083/TCP,8086/TCP        28h\r\n",
      "\r\n",
      "NAMESPACE     NAME                                             READY   UP-TO-DATE   AVAILABLE   AGE\r\n",
      "default       deployment.apps/kubernetes-bootcamp              1/1     1            1           28h\r\n",
      "default       deployment.apps/microbot                         2/2     2            2           26h\r\n",
      "default       deployment.apps/redis-master                     1/1     1            1           24m\r\n",
      "default       deployment.apps/redis-slave                      2/2     2            2           5m1s\r\n",
      "kube-system   deployment.apps/coredns                          1/1     1            1           28h\r\n",
      "kube-system   deployment.apps/dashboard-metrics-scraper        1/1     1            1           28h\r\n",
      "kube-system   deployment.apps/heapster-v1.5.2                  1/1     1            1           28h\r\n",
      "kube-system   deployment.apps/kubernetes-dashboard             1/1     1            1           28h\r\n",
      "kube-system   deployment.apps/monitoring-influxdb-grafana-v4   1/1     1            1           28h\r\n",
      "\r\n",
      "NAMESPACE     NAME                                                        DESIRED   CURRENT   READY   AGE\r\n",
      "default       replicaset.apps/kubernetes-bootcamp-69fbc6f4cf              1         1         1       28h\r\n",
      "default       replicaset.apps/microbot-5bb7fd7f5d                         2         2         2       26h\r\n",
      "default       replicaset.apps/redis-master-7db7f6579f                     1         1         1       24m\r\n",
      "default       replicaset.apps/redis-slave-7664787fbc                      2         2         2       5m1s\r\n",
      "kube-system   replicaset.apps/coredns-9b8997588                           1         1         1       28h\r\n",
      "kube-system   replicaset.apps/dashboard-metrics-scraper-687667bb6c        1         1         1       28h\r\n",
      "kube-system   replicaset.apps/heapster-v1.5.2-5c58f64f8b                  1         1         1       28h\r\n",
      "kube-system   replicaset.apps/kubernetes-dashboard-5c848cc544             1         1         1       28h\r\n",
      "kube-system   replicaset.apps/monitoring-influxdb-grafana-v4-6d599df6bf   1         1         1       28h\r\n"
     ]
    }
   ],
   "source": [
    "! $k get all --all-namespaces"
   ]
  },
  {
   "cell_type": "code",
   "execution_count": 53,
   "metadata": {},
   "outputs": [
    {
     "name": "stdout",
     "output_type": "stream",
     "text": [
      "microk8s is running\r\n",
      "addons:\r\n",
      "cilium: disabled\r\n",
      "dashboard: enabled\r\n",
      "dns: enabled\r\n",
      "fluentd: disabled\r\n",
      "gpu: disabled\r\n",
      "helm: disabled\r\n",
      "ingress: disabled\r\n",
      "istio: disabled\r\n",
      "jaeger: disabled\r\n",
      "juju: disabled\r\n",
      "knative: disabled\r\n",
      "kubeflow: disabled\r\n",
      "linkerd: disabled\r\n",
      "metallb: disabled\r\n",
      "metrics-server: disabled\r\n",
      "prometheus: disabled\r\n",
      "rbac: disabled\r\n",
      "registry: disabled\r\n",
      "storage: disabled\r\n"
     ]
    }
   ],
   "source": [
    "! microk8s.status --wait-ready"
   ]
  },
  {
   "cell_type": "code",
   "execution_count": 54,
   "metadata": {},
   "outputs": [
    {
     "name": "stdout",
     "output_type": "stream",
     "text": [
      "dns: enabled\r\n"
     ]
    }
   ],
   "source": [
    "! microk8s.status --wait-ready | grep dns"
   ]
  },
  {
   "cell_type": "markdown",
   "metadata": {},
   "source": [
    "# DNS is important in multi-tier apps"
   ]
  },
  {
   "cell_type": "code",
   "execution_count": 55,
   "metadata": {},
   "outputs": [
    {
     "name": "stdout",
     "output_type": "stream",
     "text": [
      "--2020-03-08 05:40:18--  https://raw.githubusercontent.com/kubernetes/website/master/content/en/examples/application/guestbook/frontend-deployment.yaml\n",
      "Resolving raw.githubusercontent.com (raw.githubusercontent.com)... 151.101.52.133\n",
      "Connecting to raw.githubusercontent.com (raw.githubusercontent.com)|151.101.52.133|:443... connected.\n",
      "HTTP request sent, awaiting response... 200 OK\n",
      "Length: 1107 (1.1K) [text/plain]\n",
      "Saving to: ‘frontend-deployment.yaml’\n",
      "\n",
      "frontend-deployment 100%[===================>]   1.08K  --.-KB/s    in 0s      \n",
      "\n",
      "2020-03-08 05:40:18 (185 MB/s) - ‘frontend-deployment.yaml’ saved [1107/1107]\n",
      "\n"
     ]
    }
   ],
   "source": [
    "# guestbook\n",
    "! wget https://raw.githubusercontent.com/kubernetes/website/master/content/en/examples/application/guestbook/frontend-deployment.yaml"
   ]
  },
  {
   "cell_type": "code",
   "execution_count": 56,
   "metadata": {},
   "outputs": [
    {
     "name": "stdout",
     "output_type": "stream",
     "text": [
      "deployment.apps/frontend created\r\n"
     ]
    }
   ],
   "source": [
    "! $k apply -f https://k8s.io/examples/application/guestbook/frontend-deployment.yaml"
   ]
  },
  {
   "cell_type": "code",
   "execution_count": 57,
   "metadata": {},
   "outputs": [
    {
     "name": "stdout",
     "output_type": "stream",
     "text": [
      "NAME                        READY   STATUS              RESTARTS   AGE\r\n",
      "frontend-6cb7f8bd65-hclq9   0/1     ContainerCreating   0          19s\r\n",
      "frontend-6cb7f8bd65-lks7s   0/1     ContainerCreating   0          19s\r\n",
      "frontend-6cb7f8bd65-sprzn   0/1     ContainerCreating   0          19s\r\n"
     ]
    }
   ],
   "source": [
    "! $k  get pods -l app=guestbook -l tier=frontend"
   ]
  },
  {
   "cell_type": "markdown",
   "metadata": {},
   "source": [
    "# In these labs we use NodePort \n",
    "\n",
    "### in production we would use some loadbalancer front end\n",
    "\n",
    "## now expose the front end service as a nodeport"
   ]
  },
  {
   "cell_type": "code",
   "execution_count": 59,
   "metadata": {},
   "outputs": [
    {
     "name": "stdout",
     "output_type": "stream",
     "text": [
      "--2020-03-08 05:45:25--  https://raw.githubusercontent.com/kubernetes/website/master/content/en/examples/application/guestbook/frontend-service.yaml\n",
      "Resolving raw.githubusercontent.com (raw.githubusercontent.com)... 151.101.52.133\n",
      "Connecting to raw.githubusercontent.com (raw.githubusercontent.com)|151.101.52.133|:443... connected.\n",
      "HTTP request sent, awaiting response... 200 OK\n",
      "Length: 438 [text/plain]\n",
      "Saving to: ‘frontend-service.yaml’\n",
      "\n",
      "frontend-service.ya 100%[===================>]     438  --.-KB/s    in 0s      \n",
      "\n",
      "2020-03-08 05:45:25 (80.5 MB/s) - ‘frontend-service.yaml’ saved [438/438]\n",
      "\n"
     ]
    }
   ],
   "source": [
    "! wget https://raw.githubusercontent.com/kubernetes/website/master/content/en/examples/application/guestbook/frontend-service.yaml"
   ]
  },
  {
   "cell_type": "code",
   "execution_count": 61,
   "metadata": {},
   "outputs": [
    {
     "name": "stdout",
     "output_type": "stream",
     "text": [
      "service/frontend created\n",
      "NAME               TYPE        CLUSTER-IP       EXTERNAL-IP   PORT(S)        AGE\n",
      "frontend           NodePort    10.152.183.182   <none>        80:30537/TCP   1s\n",
      "kubernetes         ClusterIP   10.152.183.1     <none>        443/TCP        29h\n",
      "microbot-service   NodePort    10.152.183.195   <none>        80:31914/TCP   26h\n",
      "redis-master       ClusterIP   10.152.183.198   <none>        6379/TCP       18m\n",
      "redis-slave        ClusterIP   10.152.183.78    <none>        6379/TCP       14m\n"
     ]
    }
   ],
   "source": [
    "! $k apply -f https://k8s.io/examples/application/guestbook/frontend-service.yaml\n",
    "! $k get svc"
   ]
  },
  {
   "cell_type": "code",
   "execution_count": 63,
   "metadata": {},
   "outputs": [
    {
     "name": "stdout",
     "output_type": "stream",
     "text": [
      "frontend           NodePort    10.152.183.182   <none>        80:30537/TCP   77s\r\n"
     ]
    }
   ],
   "source": [
    "! $k get svc |grep frontend "
   ]
  },
  {
   "cell_type": "code",
   "execution_count": 64,
   "metadata": {},
   "outputs": [
    {
     "name": "stdout",
     "output_type": "stream",
     "text": [
      "Name:                     frontend\r\n",
      "Namespace:                default\r\n",
      "Labels:                   app=guestbook\r\n",
      "                          tier=frontend\r\n",
      "Annotations:              kubectl.kubernetes.io/last-applied-configuration:\r\n",
      "                            {\"apiVersion\":\"v1\",\"kind\":\"Service\",\"metadata\":{\"annotations\":{},\"labels\":{\"app\":\"guestbook\",\"tier\":\"frontend\"},\"name\":\"frontend\",\"namespa...\r\n",
      "Selector:                 app=guestbook,tier=frontend\r\n",
      "Type:                     NodePort\r\n",
      "IP:                       10.152.183.182\r\n",
      "Port:                     <unset>  80/TCP\r\n",
      "TargetPort:               80/TCP\r\n",
      "NodePort:                 <unset>  30537/TCP\r\n",
      "Endpoints:                10.1.6.19:80,10.1.6.20:80,10.1.6.21:80\r\n",
      "Session Affinity:         None\r\n",
      "External Traffic Policy:  Cluster\r\n",
      "Events:                   <none>\r\n"
     ]
    }
   ],
   "source": [
    "! $k describe svc frontend"
   ]
  },
  {
   "cell_type": "code",
   "execution_count": 65,
   "metadata": {},
   "outputs": [
    {
     "name": "stdout",
     "output_type": "stream",
     "text": [
      "Type:                     NodePort\r\n",
      "NodePort:                 <unset>  30537/TCP\r\n"
     ]
    }
   ],
   "source": [
    "! $k describe svc frontend |grep NodePort"
   ]
  },
  {
   "cell_type": "code",
   "execution_count": 66,
   "metadata": {},
   "outputs": [
    {
     "name": "stdout",
     "output_type": "stream",
     "text": [
      "<html ng-app=\"redis\">\r\n",
      "  <head>\r\n",
      "    <title>Guestbook</title>\r\n",
      "    <link rel=\"stylesheet\" href=\"//netdna.bootstrapcdn.com/bootstrap/3.1.1/css/bootstrap.min.css\">\r\n",
      "    <script src=\"https://ajax.googleapis.com/ajax/libs/angularjs/1.2.12/angular.min.js\"></script>\r\n",
      "    <script src=\"controllers.js\"></script>\r\n",
      "    <script src=\"https://cdnjs.cloudflare.com/ajax/libs/angular-ui-bootstrap/0.13.0/ui-bootstrap-tpls.js\"></script>\r\n",
      "  </head>\r\n",
      "  <body ng-controller=\"RedisCtrl\">\r\n",
      "    <div style=\"width: 50%; margin-left: 20px\">\r\n",
      "      <h2>Guestbook</h2>\r\n",
      "    <form>\r\n",
      "    <fieldset>\r\n",
      "    <input ng-model=\"msg\" placeholder=\"Messages\" class=\"form-control\" type=\"text\" name=\"input\"><br>\r\n",
      "    <button type=\"button\" class=\"btn btn-primary\" ng-click=\"controller.onRedis()\">Submit</button>\r\n",
      "    </fieldset>\r\n",
      "    </form>\r\n",
      "    <div>\r\n",
      "      <div ng-repeat=\"msg in messages track by $index\">\r\n",
      "        {{msg}}\r\n",
      "      </div>\r\n",
      "    </div>\r\n",
      "    </div>\r\n",
      "  </body>\r\n",
      "</html>\r\n"
     ]
    }
   ],
   "source": [
    "! curl localhost:30537"
   ]
  },
  {
   "cell_type": "code",
   "execution_count": null,
   "metadata": {},
   "outputs": [],
   "source": []
  }
 ],
 "metadata": {
  "kernelspec": {
   "display_name": "Python 3",
   "language": "python",
   "name": "python3"
  },
  "language_info": {
   "codemirror_mode": {
    "name": "ipython",
    "version": 3
   },
   "file_extension": ".py",
   "mimetype": "text/x-python",
   "name": "python",
   "nbconvert_exporter": "python",
   "pygments_lexer": "ipython3",
   "version": "3.6.9"
  }
 },
 "nbformat": 4,
 "nbformat_minor": 4
}
