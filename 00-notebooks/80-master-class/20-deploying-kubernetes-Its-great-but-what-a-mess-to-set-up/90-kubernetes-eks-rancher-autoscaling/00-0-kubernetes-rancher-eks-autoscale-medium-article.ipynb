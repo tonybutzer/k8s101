{
 "cells": [
  {
   "cell_type": "markdown",
   "metadata": {},
   "source": [
    "# Reference\n",
    "\n",
    "https://medium.com/@maxpastor/how-to-set-up-an-autoscaling-kubernetes-cluster-on-amazon-eks-with-rancher-932263b532c6"
   ]
  },
  {
   "cell_type": "markdown",
   "metadata": {},
   "source": [
    "# Kubernetes & Rancher\n",
    "Kubernetes is a great tool that allows you to deploy and scale services in a cluster of servers. It’s great, but what a mess to set up! You have to write YAML files that have more lines than a zebra with a CLI that’s cool but not that visual. When you manage a complex infrastructure it’s nice to have visual feedback on what’s happening at the moment.\n",
    "And that’s why we have Rancher. An easy to set up dashboard that allows you to create and manage your Kubernetes clusters the way you want to. Visually or with the CLI.\n",
    "I won’t go into the details of installing Rancher on a machine. If you are here you might already have an instance of Rancher running. If not, just go on their website and follow the instructions. It’s super simple!\n",
    "\n",
    "https://rancher.com/"
   ]
  },
  {
   "cell_type": "markdown",
   "metadata": {},
   "source": [
    "## AWS EKS\n",
    "Now when you have a Kubernetes cluster running, you have to scale it to meet the demand. But, if you’re Uber or Deliveroo, you might need 100 servers running the cluster at 9 pm but at 2 am …. You won’t need these resources anymore. So what do you do? Do you struggle to change the size of the cluster every day by clicking on buttons or do you use a tool that does that on its own?\n",
    "And that’s why Amazon EKS is a good choice. Because this service allows you to create autoscaling policies that will grow the size of your infrastructure when you have a peak of traffic and then shrink it when you don’t need that much computing power anymore.\n",
    "It saves you time, money, the trouble of not having sized the cluster properly and it’s kind of a green approach since you’re not wasting power anymore.\n",
    "Thanks for the explanation man, but how do I mount this thing? — Thomas, the passionate CTO without much patience\n",
    "Well, let’s go then. Let’s set this beast up!"
   ]
  },
  {
   "cell_type": "markdown",
   "metadata": {},
   "source": [
    "## Creating the IAM policy and user\n",
    "\n",
    "It’s not a surprise if you’re familiar with AWS, when you interact with AWS via the API, you have to create an IAM policy and the user that comes with it. This allows you to secure your integration by allowing the client to do only what you want it to do.\n",
    "I invite you to go to your AWS Console to create a new policy and click on JSON.\n",
    "This is what you want to paste in it:"
   ]
  },
  {
   "cell_type": "markdown",
   "metadata": {},
   "source": [
    "\n",
    "```\n",
    "{\n",
    " “Version”: “2012–10–17”,\n",
    " “Statement”: [\n",
    " {\n",
    " “Sid”: “VisualEditor0”,\n",
    " “Effect”: “Allow”,\n",
    " “Action”: [\n",
    " “elasticloadbalancing:ModifyListener”,\n",
    " “elasticloadbalancing:DetachLoadBalancerFromSubnets”,\n",
    " “elasticloadbalancing:ConfigureHealthCheck”,\n",
    " “elasticloadbalancing:RegisterTargets”,\n",
    " “autoscaling:DescribeLaunchConfigurations”,\n",
    " “autoscaling:*”,\n",
    " “elasticloadbalancing:DeleteLoadBalancer”,\n",
    " “elasticloadbalancing:DescribeLoadBalancers”,\n",
    " “elasticloadbalancing:CreateListener”,\n",
    " “elasticloadbalancing:DescribeListeners”,\n",
    " “autoscaling:DescribeAutoScalingGroups”,\n",
    " “ec2:CreateInternetGateway”,\n",
    " “kms:*”,\n",
    " “elasticloadbalancing:DescribeLoadBalancerPolicies”,\n",
    " “elasticloadbalancing:ApplySecurityGroupsToLoadBalancer”,\n",
    " “tag:*”,\n",
    " “elasticloadbalancing:DeregisterInstancesFromLoadBalancer”,\n",
    " “elasticloadbalancing:RegisterInstancesWithLoadBalancer”,\n",
    " “elasticloadbalancing:CreateLoadBalancerPolicy”,\n",
    " “elasticloadbalancing:SetLoadBalancerPoliciesForBackendServer”,\n",
    " “elasticloadbalancing:CreateLoadBalancer”,\n",
    " “elasticloadbalancing:AttachLoadBalancerToSubnets”,\n",
    " “autoscaling:DescribeTags”,\n",
    " “elasticloadbalancing:CreateTargetGroup”,\n",
    " “cloudformation:*”,\n",
    " “elasticloadbalancing:*”,\n",
    " “autoscaling-plans:*”,\n",
    " “elasticloadbalancing:DeleteTargetGroup”,\n",
    " “elasticloadbalancing:CreateLoadBalancerListeners”,\n",
    " “iam:*”,\n",
    " “elasticloadbalancing:DescribeLoadBalancerAttributes”,\n",
    " “elasticloadbalancing:SetLoadBalancerPoliciesOfListener”,\n",
    " “elasticloadbalancing:AddTags”,\n",
    " “elasticloadbalancing:DescribeTargetHealth”,\n",
    " “elasticloadbalancing:DescribeTargetGroups”,\n",
    " “elasticloadbalancing:DeleteLoadBalancerListeners”,\n",
    " “ec2:*”,\n",
    " “eks:*”,\n",
    " “elasticloadbalancing:ModifyLoadBalancerAttributes”,\n",
    " “elasticloadbalancing:ModifyTargetGroup”,\n",
    " “elasticloadbalancing:DeleteListener”\n",
    " ],\n",
    " “Resource”: “*”\n",
    " }\n",
    " ]\n",
    "}\n",
    "\n",
    "```"
   ]
  },
  {
   "cell_type": "markdown",
   "metadata": {},
   "source": [
    "These permissions will allow our user to create all of the resources that we will need to launch an EKS cluster and to create a classic Kubernetes cluster from Rancher without EKS (the old way).\n",
    "Now that you’ve named and described your policy it’s time to create a user.\n"
   ]
  },
  {
   "cell_type": "markdown",
   "metadata": {},
   "source": [
    "![](https://miro.medium.com/max/1400/1*H_gCJzp9_ZYkr2fv8Gk8pQ.png)"
   ]
  },
  {
   "cell_type": "markdown",
   "metadata": {},
   "source": [
    "Name it and specify that you want a Programmatic Access.\n",
    "On the next step, click on “Attach existing policies directly” and search for the policy we’ve just created. Then add tags.\n",
    "It’s not necessary to add tags, but people from AWS will advise you to put some on so you can find your resources more easily and have a better visualization over your costs.\n",
    "You can now create your user.\n",
    "Now the console shows you your keys. Download the CSV and keep it in a safe place.\n",
    "Congratulations. We now have everything we need to create the cluster. So let’s jump on Rancher and launch this thing!"
   ]
  },
  {
   "cell_type": "markdown",
   "metadata": {},
   "source": [
    "## Creating the EKS cluster via Rancher\n",
    "So you are now on your Rancher dashboard. Click on Add cluster. And you should land on something that looks like this."
   ]
  },
  {
   "cell_type": "markdown",
   "metadata": {},
   "source": [
    "![](https://miro.medium.com/max/1400/1*pgHGx-Zpa8gRflb1QEIMnw.png)"
   ]
  },
  {
   "cell_type": "markdown",
   "metadata": {},
   "source": [
    "So obviously you will choose Amazon EKS and from there it’s easy. Choose your region, pass the credentials that you downloaded earlier, select the default options each time until you get to the node section.\n",
    "\n",
    "![](https://miro.medium.com/max/1400/1*U6OzQUcx_iDd_JWQg9UHDg.png)"
   ]
  },
  {
   "cell_type": "markdown",
   "metadata": {},
   "source": [
    "There you will want to customize things. Select the instance that suits your needs, select the minimum cluster size (when your cluster will shrink it will not go below this number), same thing with the maximum cluster size. Then, select how much GB you want for each machine. Click create and you’re good to go!\n",
    "At that point, you will have to wait for 10 to 20 minutes while everything magically rises from the ground."
   ]
  },
  {
   "cell_type": "markdown",
   "metadata": {},
   "source": [
    "## Configuring your cluster\n",
    "This might be why you came here and this is why I wrote this. It took me a lot of time to figure out how to set everything up properly.\n",
    "How do you route your traffic to a service? How do you automatically sync your route53 DNS records with your Application Load Balancer? How do you launch the autoscaling part of the infrastructure?\n",
    "Well, this part will guide you through all of this so that it works and you know how to customize things later."
   ]
  },
  {
   "attachments": {},
   "cell_type": "markdown",
   "metadata": {},
   "source": [
    "## Creating your first service\n",
    "To start we are going to create a simple HelloWorld service. It consists of a simple express app that will return a basic message when we hit a specific URL.\n",
    "If you have such a service containerized go ahead and use it, if not I’ve set one up for you.\n",
    "I invite you to go to your cluster’s default namespace and click on deploy.\n",
    "\n",
    "![](![image.png](attachment:image.png))"
   ]
  },
  {
   "cell_type": "markdown",
   "metadata": {},
   "source": [
    "![](https://miro.medium.com/max/1400/1*gQ6xriAamVx0zClYOkq3Qg.png)\n",
    "\n",
    "![](https://miro.medium.com/max/1400/1*O9RXPzlOZ84S23b9iN7GeA.png)"
   ]
  },
  {
   "cell_type": "markdown",
   "metadata": {},
   "source": [
    "Now you want to use tactill/helloworld image, map the port 8080 and add an environment variable named PORT with the value 8080 so that the script knows which port to map.\n",
    "\n",
    "Scroll down and click “Launch”"
   ]
  },
  {
   "cell_type": "markdown",
   "metadata": {},
   "source": [
    "## Routing with alb ingress controller\n",
    "Let’s dive into the more technical part of things.\n",
    "First, you will have to create a new policy in your IAM console. This policy will allow the user that you created to manage resources related to the Application Loadbalancer. Same procedure as the last one, you can find the JSON here."
   ]
  },
  {
   "cell_type": "markdown",
   "metadata": {},
   "source": [
    "When the policy is created, just add it to your user. You then have to download this aws-alb-ingress-controller.yaml file and change the values to match your config. You will have to uncomment and change the cluster name, the aws credentials, the region, and the vpc.\n",
    "To find the VPC of your cluster you just have to go to your AWS console, and take a look at your EKS cluster. It looks like this:\n",
    "\n",
    "![](https://miro.medium.com/max/1400/1*nDRV1xWnKHSRXGiks5DXtQ.png)"
   ]
  },
  {
   "cell_type": "markdown",
   "metadata": {},
   "source": [
    "When your file is ready, go back to your Rancher cluster. Click on your cluster name and you will find this page."
   ]
  },
  {
   "cell_type": "markdown",
   "metadata": {},
   "source": [
    "![](https://miro.medium.com/max/1400/1*IRYWIbVIP7uJcrUCptIHsw.png)"
   ]
  },
  {
   "cell_type": "markdown",
   "metadata": {},
   "source": [
    "Click on “Launch kubectl” so we have access to the Kubernetes CLI.\n",
    "In the terminal, you will have to download your files. Make sure to do this securely or that it’s only temporarily accessible because it contains sensitive credentials in them. When your files are on the cluster you will be able to launch the Kubernetes controller. It looks like this:\n",
    "\n",
    "```\n",
    "curl -sS https://xxxx.xx/aws-alb-ingress-controller.yaml > controller.yaml\n",
    "curl -sS https://raw.githubusercontent.com/kubernetes-sigs/aws-alb-ingress-controller/master/docs/examples/rbac-role.yaml > rbac-role.yaml\n",
    "kubectl apply -f rbac-role.yaml\n",
    "kubectl apply -f controller.yaml\n",
    "```"
   ]
  },
  {
   "cell_type": "markdown",
   "metadata": {},
   "source": [
    "## Automatic Route 53 synchronization\n",
    "We are going to add the last dependency and this one will help us with DNS level routing. It means that when we will be creating a route in rancher, it will create, update or delete DNS records so we won’t have to go to the AWS console to do it ourselves.\n",
    "First, you will need to add a new IAM policy to your user. Here’s the JSON."
   ]
  },
  {
   "cell_type": "markdown",
   "metadata": {},
   "source": [
    "```\n",
    "{\n",
    "    \"Version\": \"2012-10-17\",\n",
    "    \"Statement\": [\n",
    "        {\n",
    "            \"Effect\": \"Allow\",\n",
    "            \"Action\": [\n",
    "                \"route53:ChangeResourceRecordSets\"\n",
    "            ],\n",
    "            \"Resource\": [\n",
    "                \"arn:aws:route53:::hostedzone/*\"\n",
    "            ]\n",
    "        },\n",
    "        {\n",
    "            \"Effect\": \"Allow\",\n",
    "            \"Action\": [\n",
    "                \"route53:ListHostedZones\",\n",
    "                \"route53:ListResourceRecordSets\"\n",
    "            ],\n",
    "            \"Resource\": [\n",
    "                \"*\"\n",
    "            ]\n",
    "        }\n",
    "    ]\n",
    "}\n",
    "```\n"
   ]
  },
  {
   "cell_type": "markdown",
   "metadata": {},
   "source": [
    "Then, you will need to customize this file. The things you need to change are the domain name you’re targetting and the policy. By default, it’s set to upsert-only which means that it will only create and update records. Personally, I set it to sync so it can delete records too. Yet, it also means that you will have to be careful when playing with your routes.\n",
    "Let’s go back to the Rancher dashboard in Default and click “import yaml”.\n",
    "Upload your file and click on import.\n",
    "Great! We’re close to the end. The last thing we need to do is to actually create the ingress for the actual routing!"
   ]
  },
  {
   "cell_type": "markdown",
   "metadata": {},
   "source": [
    "## Creating the LoadBalancer\n",
    "Go into your default namespace and click on Loadbalancing.\n",
    "\n",
    "![](https://miro.medium.com/max/1400/1*OAnb8QozvJPAnlOuVkNcLA.png)\n",
    "\n",
    "Click on add ingress and get ready for the final configuration.\n",
    "\n",
    "![](https://miro.medium.com/max/1400/1*I6BnNOJtgDMMOD9mPbMxzw.png)\n",
    "\n",
    "You will have to specify a hostname (that our DNS manager will create in Route53) and a service you want to route to.\n",
    "Then, scroll a bit and add a few annotations. This will let our ingress-controller know that we want to route this thing and create an ALB.\n",
    "\n",
    "![](https://miro.medium.com/max/1400/1*2IwwCvm7TOhPOzS1nJXxsQ.png)"
   ]
  },
  {
   "cell_type": "markdown",
   "metadata": {},
   "source": [
    "You can find your subnets in your EKS cluster page in your AWS console. The same page where we found the VPC name.\n",
    "Click on save and you’re ready to go!\n",
    "Just wait a few minutes for everything to be created and propagated and then go to ekstutorial.yourdomain.com/helloworld."
   ]
  },
  {
   "attachments": {},
   "cell_type": "markdown",
   "metadata": {},
   "source": [
    "## Autoscaling the cluster\n",
    "The cluster will not autoscale by default. You have to create the policy in your AWS console. If you look in your Rancher dashboard you will see that by default you have 3 nodes running. It’s a wait of resources for a tutorial. So let’s set up the autoscaling policy so that it shrinks to 1 node and adapts to the demand.\n",
    "Go to https://console.aws.amazon.com/awsautoscaling/home?region=us-east-1#dashboard and add a scaling plan.\n",
    "Choose EC2 scaling group and select yours.\n",
    "\n",
    "![](https://miro.medium.com/max/1400/1*9axqPMkHdsfeJdxKm1UG6w.png)\n",
    "\n",
    "Configure it for your needs.\n",
    "\n",
    "![](https://miro.medium.com/max/1400/1*srdc5x7dPjNEmVTx7DF8GA.png)"
   ]
  },
  {
   "cell_type": "markdown",
   "metadata": {},
   "source": [
    "And just create it!\n",
    "If you go back to your nodes on Rancher you will see them shrink.\n",
    "You now have an autoscaling eks cluster managed with Rancher\n",
    "# Conclusion\n",
    "So this was a journey! I tried to make it as easy as possible while keeping a detailed technical approach. I hope that you made it here and that your cluster works great.\n",
    "If you have any comments or suggestions feel free to ask them, I’ll be glad to help you and adjust this article if needed!\n",
    "See you soon for another one of these!"
   ]
  },
  {
   "cell_type": "code",
   "execution_count": null,
   "metadata": {},
   "outputs": [],
   "source": []
  }
 ],
 "metadata": {
  "kernelspec": {
   "display_name": "Python 3",
   "language": "python",
   "name": "python3"
  },
  "language_info": {
   "codemirror_mode": {
    "name": "ipython",
    "version": 3
   },
   "file_extension": ".py",
   "mimetype": "text/x-python",
   "name": "python",
   "nbconvert_exporter": "python",
   "pygments_lexer": "ipython3",
   "version": "3.6.9"
  }
 },
 "nbformat": 4,
 "nbformat_minor": 4
}
