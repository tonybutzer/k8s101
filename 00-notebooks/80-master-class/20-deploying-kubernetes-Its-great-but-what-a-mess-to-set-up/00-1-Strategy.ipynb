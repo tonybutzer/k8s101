{
 "cells": [
  {
   "cell_type": "markdown",
   "metadata": {},
   "source": [
    "## Kubernetes Deployment Strategy\n",
    "\n",
    "There are a number of ways to deploy k8s =- too many.\n",
    "\n",
    "Its a shame that Rancher chose to go all in on kubernetes.\n",
    "\n",
    "Swarm and Cattle were more simple and easy to use.\n",
    "\n",
    "So it means Tony has to learn Kubernetes - Its a Tall Milkshake Partner.\n",
    "\n",
    "**Rancher** Looks Promising so this strategy will start there.\n",
    "\n",
    "### Deferred Items\n",
    "\n",
    "1. KOPS\n",
    "2. eksctl\n",
    "3. Straight Terraform like the aussies repo - probably second best\n",
    "4. kubeadm\n",
    "\n",
    "You see kubernetes is so painfull to deploy many have tried to ease that pain.\n",
    "\n",
    "I kinda hate this.\n",
    "\n",
    "I have always been one to understand the pieces from the bare metal.\n",
    "\n",
    "I guess this is sort of how docker eases the pain and hides the details in cgroups etc for containers.\n",
    "\n",
    "But now its multiple layers of hiding and depnedency on magic.\n",
    "\n",
    "\n",
    "### Let the Journey Begin:"
   ]
  },
  {
   "cell_type": "markdown",
   "metadata": {},
   "source": [
    "---\n",
    "---\n",
    "\n",
    "# Rancher on a custom setup\n",
    "\n",
    "### Steps:\n",
    "\n",
    "1. start a directory here for rancher-on-custom-nodes-via-rke-config\n",
    "2. build a tfinfra from swarm dogs examples.  -- refine via better terraform - if i get time - HA HA\n",
    "3. review Rancher Custom docs and summarize in the startegy note book.\n",
    "\n",
    "all for now ..."
   ]
  },
  {
   "cell_type": "code",
   "execution_count": null,
   "metadata": {},
   "outputs": [],
   "source": []
  }
 ],
 "metadata": {
  "kernelspec": {
   "display_name": "Python 3",
   "language": "python",
   "name": "python3"
  },
  "language_info": {
   "codemirror_mode": {
    "name": "ipython",
    "version": 3
   },
   "file_extension": ".py",
   "mimetype": "text/x-python",
   "name": "python",
   "nbconvert_exporter": "python",
   "pygments_lexer": "ipython3",
   "version": "3.6.9"
  }
 },
 "nbformat": 4,
 "nbformat_minor": 4
}
