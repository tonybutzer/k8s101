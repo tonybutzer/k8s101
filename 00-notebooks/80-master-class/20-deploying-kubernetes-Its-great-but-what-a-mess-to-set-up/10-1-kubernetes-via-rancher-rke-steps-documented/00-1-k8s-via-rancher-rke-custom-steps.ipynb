{
 "cells": [
  {
   "cell_type": "markdown",
   "metadata": {},
   "source": [
    "# Rancher for terraform geeks"
   ]
  },
  {
   "cell_type": "markdown",
   "metadata": {},
   "source": [
    "# Step 1 - Build Master and 2 Slaves Minions Workers\n",
    "\n",
    "1. Copy Example from Dogs - search Github and Copy\n",
    "    - Search github\n",
    "    - close this down and do it on butz2 in chs\n",
    "        - cd /opt/k8s101; make\n",
    "        - cd /opt/k8s101 git pull"
   ]
  },
  {
   "cell_type": "code",
   "execution_count": null,
   "metadata": {},
   "outputs": [],
   "source": []
  }
 ],
 "metadata": {
  "kernelspec": {
   "display_name": "Python 3",
   "language": "python",
   "name": "python3"
  },
  "language_info": {
   "codemirror_mode": {
    "name": "ipython",
    "version": 3
   },
   "file_extension": ".py",
   "mimetype": "text/x-python",
   "name": "python",
   "nbconvert_exporter": "python",
   "pygments_lexer": "ipython3",
   "version": "3.6.9"
  }
 },
 "nbformat": 4,
 "nbformat_minor": 4
}
