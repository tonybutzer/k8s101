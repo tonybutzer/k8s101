{
 "cells": [
  {
   "cell_type": "markdown",
   "metadata": {},
   "source": [
    "# Plan for Logging"
   ]
  },
  {
   "cell_type": "markdown",
   "metadata": {},
   "source": [
    "## References\n",
    "\n",
    "https://www.youtube.com/watch?v=_2titfEMq7k\n",
    "\n",
    "https://www.fluentd.org/guides/recipes/docker-logging\n",
    "\n",
    "https://www.digitalocean.com/community/tutorials/how-to-set-up-an-elasticsearch-fluentd-and-kibana-efk-logging-stack-on-kubernetes\n",
    "\n",
    "https://www.digitalocean.com/community/tutorials/how-to-set-up-an-elasticsearch-fluentd-and-kibana-efk-logging-stack-on-kubernetes\n",
    "\n",
    "\n",
    "https://www.powerupcloud.com/kubernetes-log-management-using-fluentd-as-a-sidecar-container-and-prestop-lifecycle-hook-part-iv/\n",
    "\n",
    "\n",
    "https://medium.com/@alluri.prithvi/application-logs-from-kubernetes-to-s3-and-elasticsearch-using-fluentd-2f1b09a9872e\n",
    "\n",
    "\n",
    "https://github.com/prithviraju/kubernetes-fluentd-logging\n",
    "\n",
    "## Too Hard to Implement\n",
    "https://sematext.com/blog/kubernetes-elasticsearch/"
   ]
  },
  {
   "cell_type": "markdown",
   "metadata": {},
   "source": [
    "## Steps\n",
    "\n",
    "1. Practice with Docker Elasticsearch\n",
    "2. Elasticsearch and Kibana in K8s"
   ]
  },
  {
   "cell_type": "markdown",
   "metadata": {},
   "source": [
    "---\n",
    "---\n",
    "# Step 1 find docker elasticsearch implementation and practice\n",
    "\n",
    "1. installDocker on k8s microk8s instance\n",
    "    - https://github.com/tonybutzer/cube/tree/master/labs/elastic-compose"
   ]
  },
  {
   "cell_type": "markdown",
   "metadata": {},
   "source": [
    "# Step 1.1 Install Cube\n",
    "\n",
    "```\n",
    "(cd /opt; git clone http://github.com/tonybutzer/cube)\n",
    "```\n",
    "\n",
    "1. cd //opt/cube/labs/elastic-compose/\n",
    "1. make up\n",
    "\n",
    "# Fail - not enuf memory\n",
    "\n",
    "1. build a larger instance to test elasticsearch with...\n",
    "\n",
    "/opt/k8s101/tfinfra/\n"
   ]
  },
  {
   "cell_type": "code",
   "execution_count": null,
   "metadata": {},
   "outputs": [],
   "source": []
  }
 ],
 "metadata": {
  "kernelspec": {
   "display_name": "Python 3",
   "language": "python",
   "name": "python3"
  },
  "language_info": {
   "codemirror_mode": {
    "name": "ipython",
    "version": 3
   },
   "file_extension": ".py",
   "mimetype": "text/x-python",
   "name": "python",
   "nbconvert_exporter": "python",
   "pygments_lexer": "ipython3",
   "version": "3.6.9"
  }
 },
 "nbformat": 4,
 "nbformat_minor": 4
}
