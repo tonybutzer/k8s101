{
 "cells": [
  {
   "cell_type": "markdown",
   "metadata": {},
   "source": [
    "# Plan for Logging"
   ]
  },
  {
   "cell_type": "markdown",
   "metadata": {},
   "source": [
    "## References\n",
    "\n",
    "https://www.youtube.com/watch?v=_2titfEMq7k\n",
    "\n",
    "https://www.fluentd.org/guides/recipes/docker-logging\n",
    "\n",
    "https://www.digitalocean.com/community/tutorials/how-to-set-up-an-elasticsearch-fluentd-and-kibana-efk-logging-stack-on-kubernetes\n",
    "\n",
    "https://www.digitalocean.com/community/tutorials/how-to-set-up-an-elasticsearch-fluentd-and-kibana-efk-logging-stack-on-kubernetes\n",
    "\n",
    "\n",
    "https://www.powerupcloud.com/kubernetes-log-management-using-fluentd-as-a-sidecar-container-and-prestop-lifecycle-hook-part-iv/\n",
    "\n",
    "\n",
    "https://medium.com/@alluri.prithvi/application-logs-from-kubernetes-to-s3-and-elasticsearch-using-fluentd-2f1b09a9872e\n",
    "\n",
    "\n",
    "https://github.com/prithviraju/kubernetes-fluentd-logging\n",
    "\n",
    "## Too Hard to Implement\n",
    "https://sematext.com/blog/kubernetes-elasticsearch/"
   ]
  },
  {
   "cell_type": "markdown",
   "metadata": {},
   "source": [
    "## Steps\n",
    "\n",
    "1. Practice with Docker Elasticsearch\n",
    "2. Elasticsearch and Kibana in K8s"
   ]
  },
  {
   "cell_type": "markdown",
   "metadata": {},
   "source": [
    "---\n",
    "---\n",
    "# Step 1 find docker elasticsearch implementation and practice\n",
    "\n",
    "1. installDocker on k8s microk8s instance\n",
    "    - https://github.com/tonybutzer/cube/tree/master/labs/elastic-compose"
   ]
  },
  {
   "cell_type": "markdown",
   "metadata": {},
   "source": [
    "# Step 1.1 Install Cube\n",
    "\n",
    "```\n",
    "(cd /opt; git clone http://github.com/tonybutzer/cube)\n",
    "```\n",
    "\n",
    "1. cd //opt/cube/labs/elastic-compose/\n",
    "1. make up\n",
    "\n",
    "# Fail - not enuf memory\n",
    "\n",
    "1. build a larger instance to test elasticsearch with...\n",
    "\n",
    "/opt/k8s101/tfinfra/\n"
   ]
  },
  {
   "cell_type": "markdown",
   "metadata": {},
   "source": [
    "# run fluentd on ubuntu host\n",
    "\n",
    "1. https://docs.fluentd.org/configuration\n",
    "2. EFK Stack | Elastic,Fluentd & Kibana | Installation & Setup | Ep. 2\n",
    "3. https://www.youtube.com/watch?v=f7-v54GEcxA\n",
    "\n"
   ]
  },
  {
   "cell_type": "markdown",
   "metadata": {},
   "source": [
    "# all of this in k8s101/pkg/fluentd\n",
    "\n",
    "https://www.digitalocean.com/community/tutorials/how-to-centralize-your-docker-logs-with-fluentd-and-elasticsearch-on-ubuntu-16-04"
   ]
  },
  {
   "cell_type": "code",
   "execution_count": 2,
   "metadata": {},
   "outputs": [
    {
     "name": "stdout",
     "output_type": "stream",
     "text": [
      "curl: (7) Failed to connect to localhost port 9200: Connection refused\r\n"
     ]
    }
   ],
   "source": [
    "!curl localhost:9200"
   ]
  },
  {
   "cell_type": "markdown",
   "metadata": {},
   "source": [
    "\n",
    "```\n",
    "\n",
    "{\n",
    "  \"name\" : \"m1ScJwJ\",\n",
    "  \"cluster_name\" : \"docker-cluster\",\n",
    "  \"cluster_uuid\" : \"vN1qpNbJQTmWgEA9KQjFaw\",\n",
    "  \"version\" : {\n",
    "    \"number\" : \"6.4.3\",\n",
    "    \"build_flavor\" : \"default\",\n",
    "    \"build_type\" : \"tar\",\n",
    "    \"build_hash\" : \"fe40335\",\n",
    "    \"build_date\" : \"2018-10-30T23:17:19.084789Z\",\n",
    "    \"build_snapshot\" : false,\n",
    "    \"lucene_version\" : \"7.4.0\",\n",
    "    \"minimum_wire_compatibility_version\" : \"5.6.0\",\n",
    "    \"minimum_index_compatibility_version\" : \"5.0.0\"\n",
    "  },\n",
    "  \"tagline\" : \"You Know, for Search\"\n",
    "}\n",
    "```\n"
   ]
  },
  {
   "cell_type": "markdown",
   "metadata": {},
   "source": [
    "```\n",
    "ubuntu@ip-172-31-48-237:/opt/k8s101/pkg/fluentd$ more sample-td-agent.conf \n",
    "\n",
    "<source>\n",
    "  @type forward\n",
    "  port  24224\n",
    "</source>\n",
    "\n",
    "<match **>\n",
    "  @type elasticsearch\n",
    "  logstash_format true\n",
    "  host 127.0.0.1\n",
    "  port 9200\n",
    "  flush_interval 5s\n",
    "</match>\n",
    "```\n"
   ]
  },
  {
   "cell_type": "markdown",
   "metadata": {},
   "source": [
    "## Python Tutorial: Logging Advanced - Loggers, Handlers, and Formatters\n",
    "https://www.youtube.com/watch?v=jxmzY9soFXg"
   ]
  },
  {
   "cell_type": "code",
   "execution_count": 7,
   "metadata": {},
   "outputs": [],
   "source": [
    "import logging\n",
    "\n",
    "def make_logger(nameV):\n",
    "   \n",
    "    LOGGER = logging.getLogger(nameV)\n",
    "\n",
    "    LOGGER.setLevel(logging.INFO)\n",
    "    formatter = logging.Formatter('%(asctime)s - %(name)s - %(levelname)s - %(message)s')\n",
    "   \n",
    "    myStreamTypicallySTDOUT = logging.StreamHandler()\n",
    "    myStreamTypicallySTDOUT.setFormatter(formatter)\n",
    "    LOGGER.addHandler(myStreamTypicallySTDOUT)\n",
    "    \n",
    "    LOGGER.info(\"Logging Begins\")\n",
    "    return LOGGER\n",
    "\n"
   ]
  },
  {
   "cell_type": "code",
   "execution_count": 8,
   "metadata": {},
   "outputs": [
    {
     "name": "stderr",
     "output_type": "stream",
     "text": [
      "2020-04-04 14:19:08,413 - PNGER_APP - INFO - Logging Begins\n"
     ]
    }
   ],
   "source": [
    "log=make_logger('PNGER_APP')"
   ]
  },
  {
   "cell_type": "code",
   "execution_count": 9,
   "metadata": {},
   "outputs": [
    {
     "name": "stderr",
     "output_type": "stream",
     "text": [
      "2020-04-04 14:20:03,518 - PNGER_APP - ERROR - bullshit\n"
     ]
    }
   ],
   "source": [
    "log.error(\"bullshit\")"
   ]
  },
  {
   "cell_type": "code",
   "execution_count": 10,
   "metadata": {},
   "outputs": [
    {
     "name": "stderr",
     "output_type": "stream",
     "text": [
      "2020-04-04 14:20:29,117 - PNGER_APP - ERROR - i hate stack traces\n",
      "NoneType: None\n"
     ]
    }
   ],
   "source": [
    "log.exception('i hate stack traces')"
   ]
  },
  {
   "cell_type": "code",
   "execution_count": null,
   "metadata": {},
   "outputs": [],
   "source": []
  }
 ],
 "metadata": {
  "kernelspec": {
   "display_name": "Python 3",
   "language": "python",
   "name": "python3"
  },
  "language_info": {
   "codemirror_mode": {
    "name": "ipython",
    "version": 3
   },
   "file_extension": ".py",
   "mimetype": "text/x-python",
   "name": "python",
   "nbconvert_exporter": "python",
   "pygments_lexer": "ipython3",
   "version": "3.6.9"
  }
 },
 "nbformat": 4,
 "nbformat_minor": 4
}
