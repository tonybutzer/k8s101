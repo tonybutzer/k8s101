{
 "cells": [
  {
   "cell_type": "markdown",
   "metadata": {},
   "source": [
    "# STudy Queus"
   ]
  },
  {
   "cell_type": "code",
   "execution_count": 1,
   "metadata": {},
   "outputs": [
    {
     "name": "stdout",
     "output_type": "stream",
     "text": [
      "CONTAINER ID        IMAGE               COMMAND             CREATED             STATUS              PORTS               NAMES\r\n"
     ]
    }
   ],
   "source": [
    "! docker ps"
   ]
  },
  {
   "cell_type": "code",
   "execution_count": 6,
   "metadata": {},
   "outputs": [
    {
     "name": "stdout",
     "output_type": "stream",
     "text": [
      "some-redis\r\n"
     ]
    }
   ],
   "source": [
    "! docker rm some-redis"
   ]
  },
  {
   "cell_type": "code",
   "execution_count": 7,
   "metadata": {},
   "outputs": [
    {
     "name": "stdout",
     "output_type": "stream",
     "text": [
      "835b7a58ea27b396a82d3035348d293951ee8607787f94d7784ed19014670983\r\n"
     ]
    }
   ],
   "source": [
    "#! docker run -p 6379:6379 --rm --name some-redis -d redis"
   ]
  },
  {
   "cell_type": "code",
   "execution_count": 9,
   "metadata": {},
   "outputs": [
    {
     "name": "stdout",
     "output_type": "stream",
     "text": [
      "PONG\r\n"
     ]
    }
   ],
   "source": [
    "! redis-cli ping"
   ]
  },
  {
   "cell_type": "code",
   "execution_count": 11,
   "metadata": {},
   "outputs": [],
   "source": [
    "# my_module"
   ]
  },
  {
   "cell_type": "code",
   "execution_count": 13,
   "metadata": {},
   "outputs": [
    {
     "name": "stdout",
     "output_type": "stream",
     "text": [
      "Defaulting to user installation because normal site-packages is not writeable\n",
      "Collecting redis\n",
      "  Downloading redis-3.4.1-py2.py3-none-any.whl (71 kB)\n",
      "\u001b[K     |████████████████████████████████| 71 kB 4.1 MB/s eta 0:00:011\n",
      "\u001b[?25hInstalling collected packages: redis\n",
      "Successfully installed redis-3.4.1\n"
     ]
    }
   ],
   "source": [
    "#! pip install redis"
   ]
  },
  {
   "cell_type": "code",
   "execution_count": 14,
   "metadata": {},
   "outputs": [
    {
     "name": "stdout",
     "output_type": "stream",
     "text": [
      "Defaulting to user installation because normal site-packages is not writeable\n",
      "Collecting rq\n",
      "  Downloading rq-1.3.0-py2.py3-none-any.whl (59 kB)\n",
      "\u001b[K     |████████████████████████████████| 59 kB 3.4 MB/s eta 0:00:011\n",
      "\u001b[?25hRequirement already satisfied: redis>=3.0.0 in /home/ubuntu/.local/lib/python3.6/site-packages (from rq) (3.4.1)\n",
      "Requirement already satisfied: click>=5.0 in /usr/lib/python3/dist-packages (from rq) (6.7)\n",
      "Installing collected packages: rq\n",
      "Successfully installed rq-1.3.0\n"
     ]
    }
   ],
   "source": [
    "#! pip install rq"
   ]
  },
  {
   "cell_type": "code",
   "execution_count": 18,
   "metadata": {},
   "outputs": [],
   "source": [
    "from redis import Redis\n",
    "from rq import Queue\n",
    "\n",
    "q = Queue(connection=Redis())"
   ]
  },
  {
   "cell_type": "code",
   "execution_count": 21,
   "metadata": {},
   "outputs": [],
   "source": [
    "from my_module import count_words_at_url\n",
    "result = q.enqueue(\n",
    "             count_words_at_url, 'http://nvie.com')"
   ]
  },
  {
   "cell_type": "code",
   "execution_count": 20,
   "metadata": {},
   "outputs": [
    {
     "name": "stdout",
     "output_type": "stream",
     "text": [
      "16:07:45 Worker rq:worker:3fe9fd193ab14a788fd94091440b847a: started, version 1.3.0\n",
      "16:07:45 *** Listening on \u001b[32mdefault\u001b[39;49;00m...\n",
      "16:07:45 Cleaning registries for queue: default\n",
      "16:07:45 \u001b[32mdefault\u001b[39;49;00m: \u001b[34mmy_module.count_words_at_url('http://nvie.com')\u001b[39;49;00m (f0dac4ac-9090-460f-9f1a-4ecb43793ae6)\n",
      "16:07:46 \u001b[32mdefault\u001b[39;49;00m: \u001b[34mJob OK\u001b[39;49;00m (f0dac4ac-9090-460f-9f1a-4ecb43793ae6)\n",
      "16:07:46 Result is kept for 500 seconds\n",
      "^C\n",
      "16:09:30 Warm shut down requested\n"
     ]
    }
   ],
   "source": [
    "#! rq worker"
   ]
  },
  {
   "cell_type": "code",
   "execution_count": null,
   "metadata": {},
   "outputs": [],
   "source": []
  }
 ],
 "metadata": {
  "kernelspec": {
   "display_name": "Python 3",
   "language": "python",
   "name": "python3"
  },
  "language_info": {
   "codemirror_mode": {
    "name": "ipython",
    "version": 3
   },
   "file_extension": ".py",
   "mimetype": "text/x-python",
   "name": "python",
   "nbconvert_exporter": "python",
   "pygments_lexer": "ipython3",
   "version": "3.6.9"
  }
 },
 "nbformat": 4,
 "nbformat_minor": 4
}
