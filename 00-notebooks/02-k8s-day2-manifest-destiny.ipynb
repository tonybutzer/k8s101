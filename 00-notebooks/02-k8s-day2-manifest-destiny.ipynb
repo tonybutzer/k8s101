{
 "cells": [
  {
   "cell_type": "markdown",
   "metadata": {},
   "source": [
    "# 02-k8s-day2-manifest-destiny"
   ]
  },
  {
   "cell_type": "code",
   "execution_count": 1,
   "metadata": {},
   "outputs": [
    {
     "name": "stdout",
     "output_type": "stream",
     "text": [
      "NAMESPACE     NAME                        TYPE        CLUSTER-IP       EXTERNAL-IP   PORT(S)                  AGE\r\n",
      "default       kubernetes                  ClusterIP   10.152.183.1     <none>        443/TCP                  14m\r\n",
      "kube-system   dashboard-metrics-scraper   ClusterIP   10.152.183.250   <none>        8000/TCP                 7m13s\r\n",
      "kube-system   heapster                    ClusterIP   10.152.183.127   <none>        80/TCP                   7m13s\r\n",
      "kube-system   kube-dns                    ClusterIP   10.152.183.10    <none>        53/UDP,53/TCP,9153/TCP   7m11s\r\n",
      "kube-system   kubernetes-dashboard        ClusterIP   10.152.183.254   <none>        443/TCP                  7m13s\r\n",
      "kube-system   monitoring-grafana          ClusterIP   10.152.183.82    <none>        80/TCP                   7m13s\r\n",
      "kube-system   monitoring-influxdb         ClusterIP   10.152.183.106   <none>        8083/TCP,8086/TCP        7m13s\r\n"
     ]
    }
   ],
   "source": [
    "! microk8s.kubectl get services --all-namespaces"
   ]
  },
  {
   "cell_type": "code",
   "execution_count": 2,
   "metadata": {},
   "outputs": [
    {
     "name": "stdout",
     "output_type": "stream",
     "text": [
      "NAMESPACE     NAME                                                  READY   STATUS    RESTARTS   AGE\r\n",
      "kube-system   pod/coredns-9b8997588-48jxl                           1/1     Running   0          7m13s\r\n",
      "kube-system   pod/dashboard-metrics-scraper-687667bb6c-ghnxq        1/1     Running   0          7m15s\r\n",
      "kube-system   pod/heapster-v1.5.2-5c58f64f8b-n5xtn                  4/4     Running   0          7m15s\r\n",
      "kube-system   pod/kubernetes-dashboard-5c848cc544-h2sdj             1/1     Running   0          7m15s\r\n",
      "kube-system   pod/monitoring-influxdb-grafana-v4-6d599df6bf-f5h8x   2/2     Running   0          7m15s\r\n",
      "\r\n",
      "NAMESPACE     NAME                                TYPE        CLUSTER-IP       EXTERNAL-IP   PORT(S)                  AGE\r\n",
      "default       service/kubernetes                  ClusterIP   10.152.183.1     <none>        443/TCP                  14m\r\n",
      "kube-system   service/dashboard-metrics-scraper   ClusterIP   10.152.183.250   <none>        8000/TCP                 7m15s\r\n",
      "kube-system   service/heapster                    ClusterIP   10.152.183.127   <none>        80/TCP                   7m15s\r\n",
      "kube-system   service/kube-dns                    ClusterIP   10.152.183.10    <none>        53/UDP,53/TCP,9153/TCP   7m13s\r\n",
      "kube-system   service/kubernetes-dashboard        ClusterIP   10.152.183.254   <none>        443/TCP                  7m15s\r\n",
      "kube-system   service/monitoring-grafana          ClusterIP   10.152.183.82    <none>        80/TCP                   7m15s\r\n",
      "kube-system   service/monitoring-influxdb         ClusterIP   10.152.183.106   <none>        8083/TCP,8086/TCP        7m15s\r\n",
      "\r\n",
      "NAMESPACE     NAME                                             READY   UP-TO-DATE   AVAILABLE   AGE\r\n",
      "kube-system   deployment.apps/coredns                          1/1     1            1           7m13s\r\n",
      "kube-system   deployment.apps/dashboard-metrics-scraper        1/1     1            1           7m15s\r\n",
      "kube-system   deployment.apps/heapster-v1.5.2                  1/1     1            1           7m15s\r\n",
      "kube-system   deployment.apps/kubernetes-dashboard             1/1     1            1           7m15s\r\n",
      "kube-system   deployment.apps/monitoring-influxdb-grafana-v4   1/1     1            1           7m15s\r\n",
      "\r\n",
      "NAMESPACE     NAME                                                        DESIRED   CURRENT   READY   AGE\r\n",
      "kube-system   replicaset.apps/coredns-9b8997588                           1         1         1       7m13s\r\n",
      "kube-system   replicaset.apps/dashboard-metrics-scraper-687667bb6c        1         1         1       7m15s\r\n",
      "kube-system   replicaset.apps/heapster-v1.5.2-5c58f64f8b                  1         1         1       7m15s\r\n",
      "kube-system   replicaset.apps/kubernetes-dashboard-5c848cc544             1         1         1       7m15s\r\n",
      "kube-system   replicaset.apps/monitoring-influxdb-grafana-v4-6d599df6bf   1         1         1       7m15s\r\n"
     ]
    }
   ],
   "source": [
    "! microk8s.kubectl get all --all-namespaces"
   ]
  },
  {
   "cell_type": "code",
   "execution_count": 4,
   "metadata": {},
   "outputs": [
    {
     "name": "stdout",
     "output_type": "stream",
     "text": [
      "env: K=microk8s.kubectl\n"
     ]
    }
   ],
   "source": [
    "%env K=microk8s.kubectl"
   ]
  },
  {
   "cell_type": "code",
   "execution_count": 5,
   "metadata": {},
   "outputs": [
    {
     "name": "stdout",
     "output_type": "stream",
     "text": [
      "No resources found in default namespace.\r\n"
     ]
    }
   ],
   "source": [
    "! $K get deployments"
   ]
  },
  {
   "cell_type": "code",
   "execution_count": 3,
   "metadata": {},
   "outputs": [
    {
     "name": "stdout",
     "output_type": "stream",
     "text": [
      "env: k=microk8s.kubectl\n"
     ]
    }
   ],
   "source": [
    "%env k=microk8s.kubectl"
   ]
  },
  {
   "cell_type": "code",
   "execution_count": 6,
   "metadata": {},
   "outputs": [
    {
     "name": "stdout",
     "output_type": "stream",
     "text": [
      "No resources found in default namespace.\r\n"
     ]
    }
   ],
   "source": [
    "! $k get replicasets"
   ]
  },
  {
   "cell_type": "markdown",
   "metadata": {},
   "source": [
    "# gcr.io/google-samples/kubernetes-bootcamp\n",
    "\n",
    "\n",
    "### More than a private Docker repository\n",
    "\n",
    "Container Registry is a single place for your team to manage Docker images, perform vulnerability analysis, and decide who can access what with fine-grained access control. Existing CI/CD integrations let you set up fully automated Docker pipelines to get fast feedback.\n",
    "\n",
    "\n",
    "> \"We've loved using Container Registry since we started with containers and Kubernetes last fall. It's easy to forget how valuable it is, because it just works.\"\n",
    "    Steve Reed, Principal Software Engineer, zulily \n",
    "    \n",
    "\n",
    "https://kubernetes.io/docs/reference/kubectl/cheatsheet/"
   ]
  },
  {
   "cell_type": "code",
   "execution_count": 7,
   "metadata": {},
   "outputs": [
    {
     "name": "stdout",
     "output_type": "stream",
     "text": [
      "/home/ubuntu/.bash_aliases  /home/ubuntu/.bashrc\r\n",
      "/home/ubuntu/.bash_history  /home/ubuntu/.profile\r\n",
      "/home/ubuntu/.bash_logout   /home/ubuntu/.sudo_as_admin_successful\r\n",
      "\r\n",
      "/home/ubuntu/.cache:\r\n",
      "motd.legal-displayed  pip\r\n",
      "\r\n",
      "/home/ubuntu/.gnupg:\r\n",
      "private-keys-v1.d\r\n",
      "\r\n",
      "/home/ubuntu/.ipython:\r\n",
      "extensions  nbextensions  profile_default\r\n",
      "\r\n",
      "/home/ubuntu/.kube:\r\n",
      "cache  http-cache\r\n",
      "\r\n",
      "/home/ubuntu/.local:\r\n",
      "bin  etc  lib  share\r\n",
      "\r\n",
      "/home/ubuntu/.ssh:\r\n",
      "authorized_keys\r\n"
     ]
    }
   ],
   "source": [
    "! ls $HOME/.??*"
   ]
  },
  {
   "cell_type": "code",
   "execution_count": 8,
   "metadata": {},
   "outputs": [
    {
     "name": "stdout",
     "output_type": "stream",
     "text": [
      "cache  http-cache\r\n"
     ]
    }
   ],
   "source": [
    "! ls $HOME/.kube"
   ]
  },
  {
   "cell_type": "code",
   "execution_count": 9,
   "metadata": {},
   "outputs": [
    {
     "name": "stdout",
     "output_type": "stream",
     "text": [
      "127.0.0.1_16443\r\n"
     ]
    }
   ],
   "source": [
    "! ls $HOME/.kube/cache/discovery/"
   ]
  },
  {
   "cell_type": "markdown",
   "metadata": {},
   "source": [
    "# manifest gravitas\n",
    "\n",
    "https://kubernetes.io/docs/tasks/run-application/run-stateless-application-deployment/\n",
    "\n",
    "\n",
    "```\n",
    "apiVersion: apps/v1 # for versions before 1.9.0 use apps/v1beta2\n",
    "kind: Deployment\n",
    "metadata:\n",
    "  name: nginx-deployment\n",
    "spec:\n",
    "  selector:\n",
    "    matchLabels:\n",
    "      app: nginx\n",
    "  replicas: 2 # tells deployment to run 2 pods matching the template\n",
    "  template:\n",
    "    metadata:\n",
    "      labels:\n",
    "        app: nginx\n",
    "    spec:\n",
    "      containers:\n",
    "      - name: nginx\n",
    "        image: nginx:1.7.9\n",
    "        ports:\n",
    "        - containerPort: 80\n",
    "```"
   ]
  },
  {
   "cell_type": "code",
   "execution_count": 10,
   "metadata": {},
   "outputs": [
    {
     "name": "stdout",
     "output_type": "stream",
     "text": [
      "my_nginx_example_deployment.yml  upgrade_my_nginx_please.yml\r\n"
     ]
    }
   ],
   "source": [
    "! ls *.yml"
   ]
  },
  {
   "cell_type": "code",
   "execution_count": 11,
   "metadata": {},
   "outputs": [
    {
     "name": "stdout",
     "output_type": "stream",
     "text": [
      "apiVersion: apps/v1 # for versions before 1.9.0 use apps/v1beta2\r\n",
      "kind: Deployment\r\n",
      "metadata:\r\n",
      "  name: nginx-deployment\r\n",
      "spec:\r\n",
      "  selector:\r\n",
      "    matchLabels:\r\n",
      "      app: nginx\r\n",
      "  replicas: 2 # tells deployment to run 2 pods matching the template\r\n",
      "  template:\r\n",
      "    metadata:\r\n",
      "      labels:\r\n",
      "        app: nginx\r\n",
      "    spec:\r\n",
      "      containers:\r\n",
      "      - name: nginx\r\n",
      "        image: nginx:1.7.9\r\n",
      "        ports:\r\n",
      "        - containerPort: 80\r\n",
      "\r\n"
     ]
    }
   ],
   "source": [
    "! cat my_nginx_example_deployment.yml"
   ]
  },
  {
   "cell_type": "code",
   "execution_count": 14,
   "metadata": {},
   "outputs": [
    {
     "name": "stdout",
     "output_type": "stream",
     "text": [
      "deployment.apps/nginx-deployment created\r\n"
     ]
    }
   ],
   "source": [
    "# local file - but could be a url - of course - that makes sense\n",
    "! $k apply -f my_nginx_example_deployment.yml"
   ]
  },
  {
   "cell_type": "code",
   "execution_count": 15,
   "metadata": {},
   "outputs": [
    {
     "name": "stdout",
     "output_type": "stream",
     "text": [
      "NAME               READY   UP-TO-DATE   AVAILABLE   AGE\r\n",
      "nginx-deployment   0/2     2            0           2s\r\n"
     ]
    }
   ],
   "source": [
    "! $k get deployments"
   ]
  },
  {
   "cell_type": "code",
   "execution_count": 16,
   "metadata": {},
   "outputs": [
    {
     "name": "stdout",
     "output_type": "stream",
     "text": [
      "NAME         TYPE        CLUSTER-IP     EXTERNAL-IP   PORT(S)   AGE\r\n",
      "kubernetes   ClusterIP   10.152.183.1   <none>        443/TCP   15m\r\n"
     ]
    }
   ],
   "source": [
    "! $k get services"
   ]
  },
  {
   "cell_type": "markdown",
   "metadata": {},
   "source": [
    "# No Service for nginx - wtf\n",
    "\n",
    "https://kubernetes.io/docs/tasks/run-application/run-stateless-application-deployment/"
   ]
  },
  {
   "cell_type": "code",
   "execution_count": 17,
   "metadata": {},
   "outputs": [
    {
     "name": "stdout",
     "output_type": "stream",
     "text": [
      "NAME                                READY   STATUS    RESTARTS   AGE\r\n",
      "nginx-deployment-54f57cf6bf-7z6l7   1/1     Running   0          21s\r\n",
      "nginx-deployment-54f57cf6bf-bf85r   1/1     Running   0          21s\r\n"
     ]
    }
   ],
   "source": [
    "! $k get pods"
   ]
  },
  {
   "cell_type": "code",
   "execution_count": 28,
   "metadata": {},
   "outputs": [],
   "source": [
    "# hmm 2 pods - that's cool!"
   ]
  },
  {
   "cell_type": "code",
   "execution_count": 29,
   "metadata": {},
   "outputs": [
    {
     "name": "stdout",
     "output_type": "stream",
     "text": [
      "Name:                   nginx-deployment\r\n",
      "Namespace:              default\r\n",
      "CreationTimestamp:      Fri, 06 Mar 2020 14:43:18 +0000\r\n",
      "Labels:                 <none>\r\n",
      "Annotations:            deployment.kubernetes.io/revision: 1\r\n",
      "                        kubectl.kubernetes.io/last-applied-configuration:\r\n",
      "                          {\"apiVersion\":\"apps/v1\",\"kind\":\"Deployment\",\"metadata\":{\"annotations\":{},\"name\":\"nginx-deployment\",\"namespace\":\"default\"},\"spec\":{\"replica...\r\n",
      "Selector:               app=nginx\r\n",
      "Replicas:               2 desired | 2 updated | 2 total | 2 available | 0 unavailable\r\n",
      "StrategyType:           RollingUpdate\r\n",
      "MinReadySeconds:        0\r\n",
      "RollingUpdateStrategy:  25% max unavailable, 25% max surge\r\n",
      "Pod Template:\r\n",
      "  Labels:  app=nginx\r\n",
      "  Containers:\r\n",
      "   nginx:\r\n",
      "    Image:        nginx:1.7.9\r\n",
      "    Port:         80/TCP\r\n",
      "    Host Port:    0/TCP\r\n",
      "    Environment:  <none>\r\n",
      "    Mounts:       <none>\r\n",
      "  Volumes:        <none>\r\n",
      "Conditions:\r\n",
      "  Type           Status  Reason\r\n",
      "  ----           ------  ------\r\n",
      "  Available      True    MinimumReplicasAvailable\r\n",
      "  Progressing    True    NewReplicaSetAvailable\r\n",
      "OldReplicaSets:  <none>\r\n",
      "NewReplicaSet:   nginx-deployment-54f57cf6bf (2/2 replicas created)\r\n",
      "Events:\r\n",
      "  Type    Reason             Age    From                   Message\r\n",
      "  ----    ------             ----   ----                   -------\r\n",
      "  Normal  ScalingReplicaSet  2m43s  deployment-controller  Scaled up replica set nginx-deployment-54f57cf6bf to 2\r\n"
     ]
    }
   ],
   "source": [
    "! $k describe deployment nginx-deployment"
   ]
  },
  {
   "cell_type": "code",
   "execution_count": 18,
   "metadata": {},
   "outputs": [
    {
     "name": "stdout",
     "output_type": "stream",
     "text": [
      "    Port:         80/TCP\r\n",
      "    Host Port:    0/TCP\r\n"
     ]
    }
   ],
   "source": [
    "! $k describe deployment nginx-deployment |grep Port"
   ]
  },
  {
   "cell_type": "code",
   "execution_count": 21,
   "metadata": {},
   "outputs": [
    {
     "name": "stdout",
     "output_type": "stream",
     "text": [
      "NAME                                READY   STATUS    RESTARTS   AGE\r\n",
      "nginx-deployment-54f57cf6bf-7z6l7   1/1     Running   0          59s\r\n",
      "nginx-deployment-54f57cf6bf-bf85r   1/1     Running   0          59s\r\n"
     ]
    }
   ],
   "source": [
    "! $k get pods -l app=nginx"
   ]
  },
  {
   "cell_type": "code",
   "execution_count": 19,
   "metadata": {},
   "outputs": [],
   "source": [
    "# oh thats why we have a label in the yml manifest - so we can filter"
   ]
  },
  {
   "cell_type": "code",
   "execution_count": 22,
   "metadata": {},
   "outputs": [
    {
     "name": "stdout",
     "output_type": "stream",
     "text": [
      "Name:         nginx-deployment-54f57cf6bf-7z6l7\r\n",
      "Namespace:    default\r\n",
      "Priority:     0\r\n",
      "Node:         k8s/10.12.69.127\r\n",
      "Start Time:   Mon, 09 Mar 2020 15:47:46 +0000\r\n",
      "Labels:       app=nginx\r\n",
      "              pod-template-hash=54f57cf6bf\r\n",
      "Annotations:  <none>\r\n",
      "Status:       Running\r\n",
      "IP:           10.1.52.8\r\n",
      "IPs:\r\n",
      "  IP:           10.1.52.8\r\n",
      "Controlled By:  ReplicaSet/nginx-deployment-54f57cf6bf\r\n",
      "Containers:\r\n",
      "  nginx:\r\n",
      "    Container ID:   containerd://0b86f4869a54495cfe01b37523119833cd83d6ea1f0717f20ecfe98f0857af27\r\n",
      "    Image:          nginx:1.7.9\r\n",
      "    Image ID:       sha256:35d28df486f6150fa3174367499d1eb01f22f5a410afe4b9581ac0e0e58b3eaf\r\n",
      "    Port:           80/TCP\r\n",
      "    Host Port:      0/TCP\r\n",
      "    State:          Running\r\n",
      "      Started:      Mon, 09 Mar 2020 15:48:06 +0000\r\n",
      "    Ready:          True\r\n",
      "    Restart Count:  0\r\n",
      "    Environment:    <none>\r\n",
      "    Mounts:\r\n",
      "      /var/run/secrets/kubernetes.io/serviceaccount from default-token-kcnpn (ro)\r\n",
      "Conditions:\r\n",
      "  Type              Status\r\n",
      "  Initialized       True \r\n",
      "  Ready             True \r\n",
      "  ContainersReady   True \r\n",
      "  PodScheduled      True \r\n",
      "Volumes:\r\n",
      "  default-token-kcnpn:\r\n",
      "    Type:        Secret (a volume populated by a Secret)\r\n",
      "    SecretName:  default-token-kcnpn\r\n",
      "    Optional:    false\r\n",
      "QoS Class:       BestEffort\r\n",
      "Node-Selectors:  <none>\r\n",
      "Tolerations:     node.kubernetes.io/not-ready:NoExecute for 300s\r\n",
      "                 node.kubernetes.io/unreachable:NoExecute for 300s\r\n",
      "Events:\r\n",
      "  Type     Reason     Age        From               Message\r\n",
      "  ----     ------     ----       ----               -------\r\n",
      "  Normal   Scheduled  <unknown>  default-scheduler  Successfully assigned default/nginx-deployment-54f57cf6bf-7z6l7 to k8s\r\n",
      "  Normal   Pulling    73s        kubelet, k8s       Pulling image \"nginx:1.7.9\"\r\n",
      "  Warning  Failed     56s        kubelet, k8s       Failed to pull image \"nginx:1.7.9\": rpc error: code = Unknown desc = failed to pull and unpack image \"docker.io/library/nginx:1.7.9\": unexpected EOF\r\n",
      "  Warning  Failed     56s        kubelet, k8s       Error: ErrImagePull\r\n",
      "  Normal   Pulled     56s        kubelet, k8s       Container image \"nginx:1.7.9\" already present on machine\r\n",
      "  Normal   Created    56s        kubelet, k8s       Created container nginx\r\n",
      "  Normal   Started    55s        kubelet, k8s       Started container nginx\r\n"
     ]
    }
   ],
   "source": [
    "! $k describe pod nginx-deployment-54f57cf6bf-7z6l7"
   ]
  },
  {
   "cell_type": "code",
   "execution_count": 23,
   "metadata": {},
   "outputs": [
    {
     "name": "stdout",
     "output_type": "stream",
     "text": [
      "IP:           10.1.52.8\r\n",
      "  IP:           10.1.52.8\r\n"
     ]
    }
   ],
   "source": [
    "! $k describe pod nginx-deployment-54f57cf6bf-7z6l7 | egrep 'IP:'"
   ]
  },
  {
   "cell_type": "code",
   "execution_count": 24,
   "metadata": {},
   "outputs": [
    {
     "name": "stdout",
     "output_type": "stream",
     "text": [
      "Node:         k8s/10.12.69.127\r\n",
      "IP:           10.1.52.8\r\n",
      "  IP:           10.1.52.8\r\n",
      "    Port:           80/TCP\r\n",
      "    Host Port:      0/TCP\r\n",
      "  Normal   Pulled     79s        kubelet, k8s       Container image \"nginx:1.7.9\" already present on machine\r\n"
     ]
    }
   ],
   "source": [
    "! $k describe pod nginx-deployment-54f57cf6bf-7z6l7 | egrep 'IP:|Node:|Pulled|Port'"
   ]
  },
  {
   "cell_type": "code",
   "execution_count": 25,
   "metadata": {},
   "outputs": [
    {
     "name": "stdout",
     "output_type": "stream",
     "text": [
      "00-console-dashboard-8080-1.13\t    99-mc-traefik\r\n",
      "00-microk8s-just-started.ipynb\t    Makefile\r\n",
      "02-k8s-day2-manifest-destiny.ipynb  Readme.md\r\n",
      "03-day-3\t\t\t    my_nginx_example_deployment.yml\r\n",
      "04-day-4\t\t\t    upgrade_my_nginx_please.yml\r\n",
      "05-day-5-redis-guestbook-php-app\r\n"
     ]
    }
   ],
   "source": [
    "!ls"
   ]
  },
  {
   "cell_type": "code",
   "execution_count": 26,
   "metadata": {},
   "outputs": [],
   "source": [
    "# Hey tony why you running 1.7.9 - all the cool kids are running 1.8 fo sho"
   ]
  },
  {
   "cell_type": "code",
   "execution_count": 27,
   "metadata": {},
   "outputs": [
    {
     "name": "stdout",
     "output_type": "stream",
     "text": [
      "deployment.apps/nginx-deployment configured\r\n"
     ]
    }
   ],
   "source": [
    "! $k apply -f upgrade_my_nginx_please.yml"
   ]
  },
  {
   "cell_type": "code",
   "execution_count": 32,
   "metadata": {},
   "outputs": [
    {
     "name": "stdout",
     "output_type": "stream",
     "text": [
      "NAME                             READY   STATUS    RESTARTS   AGE\r\n",
      "nginx-deployment-9f46bb5-frggd   1/1     Running   0          63s\r\n",
      "nginx-deployment-9f46bb5-p6n4l   1/1     Running   0          53s\r\n"
     ]
    }
   ],
   "source": [
    "! $k get pods -l app=nginx"
   ]
  },
  {
   "cell_type": "code",
   "execution_count": 44,
   "metadata": {},
   "outputs": [],
   "source": [
    "# 10 s ago maybe it upgraded"
   ]
  },
  {
   "cell_type": "code",
   "execution_count": 29,
   "metadata": {},
   "outputs": [
    {
     "name": "stdout",
     "output_type": "stream",
     "text": [
      "Error from server (NotFound): pods \"nginx-deployment-54f57cf6bf-7z6l7\" not found\r\n"
     ]
    }
   ],
   "source": [
    "! $k describe pod nginx-deployment-54f57cf6bf-7z6l7 | egrep 'IP:|Node:|Pulled|Port'"
   ]
  },
  {
   "cell_type": "code",
   "execution_count": 30,
   "metadata": {},
   "outputs": [],
   "source": [
    "# old pods gone that makes sense"
   ]
  },
  {
   "cell_type": "code",
   "execution_count": 33,
   "metadata": {},
   "outputs": [
    {
     "name": "stdout",
     "output_type": "stream",
     "text": [
      "Node:         k8s/10.12.69.127\r\n",
      "IP:           10.1.52.10\r\n",
      "  IP:           10.1.52.10\r\n",
      "    Port:           80/TCP\r\n",
      "    Host Port:      0/TCP\r\n",
      "  Normal  Pulled     70s        kubelet, k8s       Successfully pulled image \"nginx:1.8\"\r\n"
     ]
    }
   ],
   "source": [
    "! $k describe pod  nginx-deployment-9f46bb5-frggd | egrep 'IP:|Node:|Pulled|Port'"
   ]
  },
  {
   "cell_type": "code",
   "execution_count": 34,
   "metadata": {},
   "outputs": [
    {
     "name": "stdout",
     "output_type": "stream",
     "text": [
      "    Image:          nginx:1.8\r\n"
     ]
    }
   ],
   "source": [
    "! $k describe pod  nginx-deployment-9f46bb5-frggd | egrep 'Image:'"
   ]
  },
  {
   "cell_type": "code",
   "execution_count": 35,
   "metadata": {},
   "outputs": [],
   "source": [
    "# you one of the cool kats now 1.8\n",
    "# you cold add more replicas - but thast no longer excites you - since docker swarm - the first cool orchestrators\n",
    "# docker swarm still my favorite *sigh*"
   ]
  },
  {
   "cell_type": "code",
   "execution_count": 36,
   "metadata": {},
   "outputs": [
    {
     "name": "stdout",
     "output_type": "stream",
     "text": [
      "deployment.apps \"nginx-deployment\" deleted\r\n"
     ]
    }
   ],
   "source": [
    "! $k delete deployment nginx-deployment"
   ]
  },
  {
   "cell_type": "code",
   "execution_count": 37,
   "metadata": {},
   "outputs": [
    {
     "name": "stdout",
     "output_type": "stream",
     "text": [
      "No resources found in default namespace.\r\n"
     ]
    }
   ],
   "source": [
    "! $k get deployments"
   ]
  },
  {
   "cell_type": "code",
   "execution_count": 38,
   "metadata": {},
   "outputs": [
    {
     "name": "stdout",
     "output_type": "stream",
     "text": [
      "Error from server (NotFound): deployments.apps \"kubernetes-bootcamp\" not found\r\n"
     ]
    }
   ],
   "source": [
    "! $k delete deployment kubernetes-bootcamp"
   ]
  },
  {
   "cell_type": "code",
   "execution_count": 39,
   "metadata": {},
   "outputs": [
    {
     "name": "stdout",
     "output_type": "stream",
     "text": [
      "No resources found in default namespace.\r\n"
     ]
    }
   ],
   "source": [
    "! $k get deployments"
   ]
  },
  {
   "cell_type": "markdown",
   "metadata": {},
   "source": [
    "# Good Night John-boy"
   ]
  },
  {
   "cell_type": "code",
   "execution_count": null,
   "metadata": {},
   "outputs": [],
   "source": []
  }
 ],
 "metadata": {
  "kernelspec": {
   "display_name": "Python 3",
   "language": "python",
   "name": "python3"
  },
  "language_info": {
   "codemirror_mode": {
    "name": "ipython",
    "version": 3
   },
   "file_extension": ".py",
   "mimetype": "text/x-python",
   "name": "python",
   "nbconvert_exporter": "python",
   "pygments_lexer": "ipython3",
   "version": "3.6.9"
  }
 },
 "nbformat": 4,
 "nbformat_minor": 4
}
