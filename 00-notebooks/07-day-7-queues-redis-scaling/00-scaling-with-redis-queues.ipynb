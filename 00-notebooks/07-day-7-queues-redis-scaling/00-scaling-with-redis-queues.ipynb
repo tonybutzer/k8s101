{
 "cells": [
  {
   "cell_type": "markdown",
   "metadata": {},
   "source": [
    "# SCaling and Queues\n",
    "\n",
    "\n",
    "## reference\n",
    "\n",
    "https://kubernetes.io/docs/tasks/job/fine-parallel-processing-work-queue/\n",
    "\n",
    "\n",
    "In this example, we will run a Kubernetes Job with multiple parallel worker processes in a given pod.\n",
    "\n",
    "In this example, as each pod is created, it picks up one unit of work from a task queue, processes it, and repeats until the end of the queue is reached.\n",
    "\n",
    "\n",
    "1. Start a storage service to hold the work queue.\n",
    "2. Create a queue, and fill it with messages. \n",
    "3. Start a Job that works on tasks from the queue. \n"
   ]
  },
  {
   "cell_type": "code",
   "execution_count": 1,
   "metadata": {},
   "outputs": [
    {
     "name": "stdout",
     "output_type": "stream",
     "text": [
      "env: k=microk8s.kubectl\n"
     ]
    }
   ],
   "source": [
    "%env k=microk8s.kubectl"
   ]
  },
  {
   "cell_type": "code",
   "execution_count": 2,
   "metadata": {},
   "outputs": [
    {
     "name": "stdout",
     "output_type": "stream",
     "text": [
      "NAME                 TYPE        CLUSTER-IP     EXTERNAL-IP   PORT(S)   AGE\r\n",
      "service/kubernetes   ClusterIP   10.152.183.1   <none>        443/TCP   23m\r\n"
     ]
    }
   ],
   "source": [
    "! $k get all"
   ]
  },
  {
   "cell_type": "code",
   "execution_count": 4,
   "metadata": {},
   "outputs": [
    {
     "name": "stdout",
     "output_type": "stream",
     "text": [
      "dns: enabled\r\n"
     ]
    }
   ],
   "source": [
    "! microk8s.status |grep dns"
   ]
  },
  {
   "cell_type": "code",
   "execution_count": 5,
   "metadata": {},
   "outputs": [],
   "source": [
    "! mkdir -p redis"
   ]
  },
  {
   "cell_type": "code",
   "execution_count": 6,
   "metadata": {},
   "outputs": [
    {
     "name": "stdout",
     "output_type": "stream",
     "text": [
      "--2020-03-30 14:22:06--  https://kubernetes.io/examples/application/job/redis/redis-pod.yaml\n",
      "Resolving kubernetes.io (kubernetes.io)... 147.75.40.148\n",
      "Connecting to kubernetes.io (kubernetes.io)|147.75.40.148|:443... connected.\n",
      "HTTP request sent, awaiting response... 200 OK\n",
      "Length: 240 [application/x-yaml]\n",
      "Saving to: ‘redis-pod.yaml’\n",
      "\n",
      "redis-pod.yaml      100%[===================>]     240  --.-KB/s    in 0s      \n",
      "\n",
      "2020-03-30 14:22:07 (7.74 MB/s) - ‘redis-pod.yaml’ saved [240/240]\n",
      "\n"
     ]
    }
   ],
   "source": [
    "! (cd redis; wget https://kubernetes.io/examples/application/job/redis/redis-pod.yaml)"
   ]
  },
  {
   "cell_type": "code",
   "execution_count": 8,
   "metadata": {},
   "outputs": [
    {
     "name": "stdout",
     "output_type": "stream",
     "text": [
      "total 4\r\n",
      "-rw-rw-r-- 1 ubuntu ubuntu 240 Mar 30 14:22 redis-pod.yaml\r\n"
     ]
    }
   ],
   "source": [
    "! ls -l redis"
   ]
  },
  {
   "cell_type": "code",
   "execution_count": 9,
   "metadata": {},
   "outputs": [
    {
     "name": "stderr",
     "output_type": "stream",
     "text": [
      "--2020-03-30 14:23:58--  https://kubernetes.io/examples/application/job/redis/redis-service.yaml\n",
      "Resolving kubernetes.io (kubernetes.io)... 147.75.40.148\n",
      "Connecting to kubernetes.io (kubernetes.io)|147.75.40.148|:443... connected.\n",
      "HTTP request sent, awaiting response... 200 OK\n",
      "Length: 135 [application/x-yaml]\n",
      "Saving to: ‘redis-service.yaml’\n",
      "\n",
      "     0K                                                       100% 6.59M=0s\n",
      "\n",
      "2020-03-30 14:23:59 (6.59 MB/s) - ‘redis-service.yaml’ saved [135/135]\n",
      "\n",
      "--2020-03-30 14:23:59--  https://kubernetes.io/examples/application/job/redis/Dockerfile\n",
      "Resolving kubernetes.io (kubernetes.io)... 147.75.40.148\n",
      "Connecting to kubernetes.io (kubernetes.io)|147.75.40.148|:443... connected.\n",
      "HTTP request sent, awaiting response... 200 OK\n",
      "Length: 115 [text/plain]\n",
      "Saving to: ‘Dockerfile’\n",
      "\n",
      "     0K                                                       100% 5.87M=0s\n",
      "\n",
      "2020-03-30 14:23:59 (5.87 MB/s) - ‘Dockerfile’ saved [115/115]\n",
      "\n",
      "--2020-03-30 14:23:59--  https://kubernetes.io/examples/application/job/redis/job.yaml\n",
      "Resolving kubernetes.io (kubernetes.io)... 147.75.40.148\n",
      "Connecting to kubernetes.io (kubernetes.io)|147.75.40.148|:443... connected.\n",
      "HTTP request sent, awaiting response... 200 OK\n",
      "Length: 244 [application/x-yaml]\n",
      "Saving to: ‘job.yaml’\n",
      "\n",
      "     0K                                                       100% 12.5M=0s\n",
      "\n",
      "2020-03-30 14:23:59 (12.5 MB/s) - ‘job.yaml’ saved [244/244]\n",
      "\n",
      "--2020-03-30 14:23:59--  https://kubernetes.io/examples/application/job/redis/rediswq.py\n",
      "Resolving kubernetes.io (kubernetes.io)... 147.75.40.148\n",
      "Connecting to kubernetes.io (kubernetes.io)|147.75.40.148|:443... connected.\n",
      "HTTP request sent, awaiting response... 200 OK\n",
      "Length: 5545 (5.4K) [text/x-python3]\n",
      "Saving to: ‘rediswq.py’\n",
      "\n",
      "     0K .....                                                 100%  169M=0s\n",
      "\n",
      "2020-03-30 14:24:00 (169 MB/s) - ‘rediswq.py’ saved [5545/5545]\n",
      "\n",
      "--2020-03-30 14:24:00--  https://kubernetes.io/examples/application/job/redis/worker.py\n",
      "Resolving kubernetes.io (kubernetes.io)... 147.75.40.148\n",
      "Connecting to kubernetes.io (kubernetes.io)|147.75.40.148|:443... connected.\n",
      "HTTP request sent, awaiting response... 200 OK\n",
      "Length: 657 [text/x-python3]\n",
      "Saving to: ‘worker.py’\n",
      "\n",
      "     0K                                                       100% 32.2M=0s\n",
      "\n",
      "2020-03-30 14:24:00 (32.2 MB/s) - ‘worker.py’ saved [657/657]\n",
      "\n"
     ]
    }
   ],
   "source": [
    "%%bash\n",
    "\n",
    "cd redis\n",
    "wget https://kubernetes.io/examples/application/job/redis/redis-service.yaml\n",
    "wget https://kubernetes.io/examples/application/job/redis/Dockerfile\n",
    "wget https://kubernetes.io/examples/application/job/redis/job.yaml\n",
    "wget https://kubernetes.io/examples/application/job/redis/rediswq.py\n",
    "wget https://kubernetes.io/examples/application/job/redis/worker.py"
   ]
  },
  {
   "cell_type": "code",
   "execution_count": 10,
   "metadata": {},
   "outputs": [
    {
     "name": "stdout",
     "output_type": "stream",
     "text": [
      "total 28\r\n",
      "-rw-rw-r-- 1 ubuntu ubuntu  115 Mar 30 14:23 Dockerfile\r\n",
      "-rw-rw-r-- 1 ubuntu ubuntu  244 Mar 30 14:23 job.yaml\r\n",
      "-rw-rw-r-- 1 ubuntu ubuntu  240 Mar 30 14:22 redis-pod.yaml\r\n",
      "-rw-rw-r-- 1 ubuntu ubuntu  135 Mar 30 14:23 redis-service.yaml\r\n",
      "-rw-rw-r-- 1 ubuntu ubuntu 5545 Mar 30 14:24 rediswq.py\r\n",
      "-rw-rw-r-- 1 ubuntu ubuntu  657 Mar 30 14:24 worker.py\r\n"
     ]
    }
   ],
   "source": [
    "! ls -l redis"
   ]
  },
  {
   "cell_type": "markdown",
   "metadata": {},
   "source": [
    "# Run the redis cli interactively\n",
    "\n",
    "in a terminal windo do this\n",
    "\n",
    "## kubectl run -i --tty temp --image redis --command \"/bin/sh\""
   ]
  },
  {
   "cell_type": "markdown",
   "metadata": {},
   "source": [
    "# OOPS - need a basic redis service up"
   ]
  },
  {
   "cell_type": "code",
   "execution_count": 11,
   "metadata": {},
   "outputs": [
    {
     "name": "stdout",
     "output_type": "stream",
     "text": [
      "pod/redis-master created\r\n"
     ]
    }
   ],
   "source": [
    "! $k create -f ./redis/redis-pod.yaml"
   ]
  },
  {
   "cell_type": "code",
   "execution_count": 12,
   "metadata": {},
   "outputs": [
    {
     "name": "stdout",
     "output_type": "stream",
     "text": [
      "service/redis created\r\n"
     ]
    }
   ],
   "source": [
    "! $k create -f ./redis/redis-service.yaml"
   ]
  },
  {
   "cell_type": "code",
   "execution_count": 13,
   "metadata": {},
   "outputs": [
    {
     "name": "stdout",
     "output_type": "stream",
     "text": [
      "job.batch/job-wq-2 created\r\n"
     ]
    }
   ],
   "source": [
    "! $k create -f ./redis/job.yaml"
   ]
  },
  {
   "cell_type": "code",
   "execution_count": 14,
   "metadata": {},
   "outputs": [
    {
     "name": "stdout",
     "output_type": "stream",
     "text": [
      "NAME                    READY   STATUS         RESTARTS   AGE\r\n",
      "job-wq-2-pzmc6          0/1     ErrImagePull   0          9s\r\n",
      "job-wq-2-qxmhb          0/1     ErrImagePull   0          9s\r\n",
      "redis-master            1/1     Running        0          9m5s\r\n",
      "temp-5878477f6c-zxqvx   1/1     Running        0          11m\r\n"
     ]
    }
   ],
   "source": [
    "! $k get pods"
   ]
  },
  {
   "cell_type": "code",
   "execution_count": 15,
   "metadata": {},
   "outputs": [
    {
     "name": "stdout",
     "output_type": "stream",
     "text": [
      "Name:           job-wq-2\r\n",
      "Namespace:      default\r\n",
      "Selector:       controller-uid=9182c9c5-97f9-44c9-89b0-cb9fcf67fdf8\r\n",
      "Labels:         controller-uid=9182c9c5-97f9-44c9-89b0-cb9fcf67fdf8\r\n",
      "                job-name=job-wq-2\r\n",
      "Annotations:    <none>\r\n",
      "Parallelism:    2\r\n",
      "Completions:    <unset>\r\n",
      "Start Time:     Mon, 30 Mar 2020 14:39:39 +0000\r\n",
      "Pods Statuses:  2 Running / 0 Succeeded / 0 Failed\r\n",
      "Pod Template:\r\n",
      "  Labels:  controller-uid=9182c9c5-97f9-44c9-89b0-cb9fcf67fdf8\r\n",
      "           job-name=job-wq-2\r\n",
      "  Containers:\r\n",
      "   c:\r\n",
      "    Image:        gcr.io/myproject/job-wq-2\r\n",
      "    Port:         <none>\r\n",
      "    Host Port:    <none>\r\n",
      "    Environment:  <none>\r\n",
      "    Mounts:       <none>\r\n",
      "  Volumes:        <none>\r\n",
      "Events:\r\n",
      "  Type    Reason            Age   From            Message\r\n",
      "  ----    ------            ----  ----            -------\r\n",
      "  Normal  SuccessfulCreate  48s   job-controller  Created pod: job-wq-2-qxmhb\r\n",
      "  Normal  SuccessfulCreate  48s   job-controller  Created pod: job-wq-2-pzmc6\r\n"
     ]
    }
   ],
   "source": [
    "! $k describe jobs/job-wq-2"
   ]
  },
  {
   "cell_type": "code",
   "execution_count": 17,
   "metadata": {},
   "outputs": [
    {
     "name": "stdout",
     "output_type": "stream",
     "text": [
      "Error from server (BadRequest): container \"c\" in pod \"job-wq-2-pzmc6\" is waiting to start: trying and failing to pull image\r\n"
     ]
    }
   ],
   "source": [
    "!$k logs pods/job-wq-2-pzmc6"
   ]
  },
  {
   "cell_type": "code",
   "execution_count": null,
   "metadata": {},
   "outputs": [],
   "source": []
  }
 ],
 "metadata": {
  "kernelspec": {
   "display_name": "Python 3",
   "language": "python",
   "name": "python3"
  },
  "language_info": {
   "codemirror_mode": {
    "name": "ipython",
    "version": 3
   },
   "file_extension": ".py",
   "mimetype": "text/x-python",
   "name": "python",
   "nbconvert_exporter": "python",
   "pygments_lexer": "ipython3",
   "version": "3.6.9"
  }
 },
 "nbformat": 4,
 "nbformat_minor": 4
}
