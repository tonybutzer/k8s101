{
 "cells": [
  {
   "cell_type": "markdown",
   "metadata": {},
   "source": [
    "# SCaling and Queues\n",
    "\n",
    "\n",
    "## reference\n",
    "\n",
    "https://kubernetes.io/docs/tasks/job/fine-parallel-processing-work-queue/\n",
    "\n",
    "\n",
    "In this example, we will run a Kubernetes Job with multiple parallel worker processes in a given pod.\n",
    "\n",
    "In this example, as each pod is created, it picks up one unit of work from a task queue, processes it, and repeats until the end of the queue is reached.\n",
    "\n",
    "\n",
    "1. Start a storage service to hold the work queue.\n",
    "2. Create a queue, and fill it with messages. \n",
    "3. Start a Job that works on tasks from the queue. \n"
   ]
  },
  {
   "cell_type": "code",
   "execution_count": 39,
   "metadata": {},
   "outputs": [
    {
     "name": "stdout",
     "output_type": "stream",
     "text": [
      "env: k=microk8s.kubectl\n"
     ]
    }
   ],
   "source": [
    "%env k=microk8s.kubectl"
   ]
  },
  {
   "cell_type": "code",
   "execution_count": 40,
   "metadata": {},
   "outputs": [
    {
     "name": "stdout",
     "output_type": "stream",
     "text": [
      "NAME                        READY   STATUS    RESTARTS   AGE\r\n",
      "pod/job-wq-2-dnpsn          1/1     Running   0          53s\r\n",
      "pod/job-wq-2-lfg2h          1/1     Running   0          53s\r\n",
      "pod/redis-master            1/1     Running   0          7h2m\r\n",
      "pod/temp-5878477f6c-zxqvx   1/1     Running   0          7h5m\r\n",
      "\r\n",
      "NAME                 TYPE        CLUSTER-IP       EXTERNAL-IP   PORT(S)    AGE\r\n",
      "service/kubernetes   ClusterIP   10.152.183.1     <none>        443/TCP    7h35m\r\n",
      "service/redis        ClusterIP   10.152.183.144   <none>        6379/TCP   7h1m\r\n",
      "\r\n",
      "NAME                   READY   UP-TO-DATE   AVAILABLE   AGE\r\n",
      "deployment.apps/temp   1/1     1            1           7h5m\r\n",
      "\r\n",
      "NAME                              DESIRED   CURRENT   READY   AGE\r\n",
      "replicaset.apps/temp-5878477f6c   1         1         1       7h5m\r\n",
      "\r\n",
      "NAME                 COMPLETIONS   DURATION   AGE\r\n",
      "job.batch/job-wq-2   0/1 of 2      53s        53s\r\n"
     ]
    }
   ],
   "source": [
    "! $k get all"
   ]
  },
  {
   "cell_type": "code",
   "execution_count": 41,
   "metadata": {},
   "outputs": [
    {
     "name": "stdout",
     "output_type": "stream",
     "text": [
      "dns: enabled\r\n"
     ]
    }
   ],
   "source": [
    "! microk8s.status |grep dns"
   ]
  },
  {
   "cell_type": "code",
   "execution_count": 42,
   "metadata": {},
   "outputs": [],
   "source": [
    "! mkdir -p redis"
   ]
  },
  {
   "cell_type": "code",
   "execution_count": 43,
   "metadata": {},
   "outputs": [
    {
     "name": "stdout",
     "output_type": "stream",
     "text": [
      "--2020-03-30 21:32:59--  https://kubernetes.io/examples/application/job/redis/redis-pod.yaml\n",
      "Resolving kubernetes.io (kubernetes.io)... 147.75.40.148\n",
      "Connecting to kubernetes.io (kubernetes.io)|147.75.40.148|:443... connected.\n",
      "HTTP request sent, awaiting response... 200 OK\n",
      "Length: 240 [application/x-yaml]\n",
      "Saving to: ‘redis-pod.yaml.1’\n",
      "\n",
      "redis-pod.yaml.1    100%[===================>]     240  --.-KB/s    in 0s      \n",
      "\n",
      "2020-03-30 21:33:00 (7.06 MB/s) - ‘redis-pod.yaml.1’ saved [240/240]\n",
      "\n"
     ]
    }
   ],
   "source": [
    "! (cd redis; wget https://kubernetes.io/examples/application/job/redis/redis-pod.yaml)"
   ]
  },
  {
   "cell_type": "code",
   "execution_count": 44,
   "metadata": {},
   "outputs": [
    {
     "name": "stdout",
     "output_type": "stream",
     "text": [
      "total 36\r\n",
      "-rw-rw-r-- 1 ubuntu ubuntu  115 Mar 30 14:23 Dockerfile\r\n",
      "-rw-rw-r-- 1 ubuntu ubuntu  195 Mar 30 15:43 Makefile\r\n",
      "-rw-rw-r-- 1 ubuntu ubuntu  235 Mar 30 15:48 job.yaml\r\n",
      "-rw-rw-r-- 1 ubuntu ubuntu  240 Mar 30 14:22 redis-pod.yaml\r\n",
      "-rw-rw-r-- 1 ubuntu ubuntu  240 Mar 30 21:33 redis-pod.yaml.1\r\n",
      "-rw-rw-r-- 1 ubuntu ubuntu  135 Mar 30 14:23 redis-service.yaml\r\n",
      "-rw-rw-r-- 1 ubuntu ubuntu 5545 Mar 30 14:24 rediswq.py\r\n",
      "-rw-rw-r-- 1 ubuntu ubuntu  657 Mar 30 14:24 worker.py\r\n"
     ]
    }
   ],
   "source": [
    "! ls -l redis"
   ]
  },
  {
   "cell_type": "code",
   "execution_count": 45,
   "metadata": {},
   "outputs": [
    {
     "name": "stderr",
     "output_type": "stream",
     "text": [
      "--2020-03-30 21:33:00--  https://kubernetes.io/examples/application/job/redis/redis-service.yaml\n",
      "Resolving kubernetes.io (kubernetes.io)... 147.75.40.148\n",
      "Connecting to kubernetes.io (kubernetes.io)|147.75.40.148|:443... connected.\n",
      "HTTP request sent, awaiting response... 200 OK\n",
      "Length: 135 [application/x-yaml]\n",
      "Saving to: ‘redis-service.yaml.1’\n",
      "\n",
      "     0K                                                       100% 7.45M=0s\n",
      "\n",
      "2020-03-30 21:33:00 (7.45 MB/s) - ‘redis-service.yaml.1’ saved [135/135]\n",
      "\n",
      "--2020-03-30 21:33:00--  https://kubernetes.io/examples/application/job/redis/Dockerfile\n",
      "Resolving kubernetes.io (kubernetes.io)... 147.75.40.148\n",
      "Connecting to kubernetes.io (kubernetes.io)|147.75.40.148|:443... connected.\n",
      "HTTP request sent, awaiting response... 200 OK\n",
      "Length: 115 [text/plain]\n",
      "Saving to: ‘Dockerfile.1’\n",
      "\n",
      "     0K                                                       100% 7.01M=0s\n",
      "\n",
      "2020-03-30 21:33:00 (7.01 MB/s) - ‘Dockerfile.1’ saved [115/115]\n",
      "\n",
      "--2020-03-30 21:33:00--  https://kubernetes.io/examples/application/job/redis/job.yaml\n",
      "Resolving kubernetes.io (kubernetes.io)... 147.75.40.148\n",
      "Connecting to kubernetes.io (kubernetes.io)|147.75.40.148|:443... connected.\n",
      "HTTP request sent, awaiting response... 200 OK\n",
      "Length: 244 [application/x-yaml]\n",
      "Saving to: ‘job.yaml.1’\n",
      "\n",
      "     0K                                                       100% 11.6M=0s\n",
      "\n",
      "2020-03-30 21:33:01 (11.6 MB/s) - ‘job.yaml.1’ saved [244/244]\n",
      "\n",
      "--2020-03-30 21:33:01--  https://kubernetes.io/examples/application/job/redis/rediswq.py\n",
      "Resolving kubernetes.io (kubernetes.io)... 147.75.40.148\n",
      "Connecting to kubernetes.io (kubernetes.io)|147.75.40.148|:443... connected.\n",
      "HTTP request sent, awaiting response... 200 OK\n",
      "Length: 5545 (5.4K) [text/x-python3]\n",
      "Saving to: ‘rediswq.py.1’\n",
      "\n",
      "     0K .....                                                 100% 76.3M=0s\n",
      "\n",
      "2020-03-30 21:33:01 (76.3 MB/s) - ‘rediswq.py.1’ saved [5545/5545]\n",
      "\n",
      "--2020-03-30 21:33:01--  https://kubernetes.io/examples/application/job/redis/worker.py\n",
      "Resolving kubernetes.io (kubernetes.io)... 147.75.40.148\n",
      "Connecting to kubernetes.io (kubernetes.io)|147.75.40.148|:443... connected.\n",
      "HTTP request sent, awaiting response... 200 OK\n",
      "Length: 657 [text/x-python3]\n",
      "Saving to: ‘worker.py.1’\n",
      "\n",
      "     0K                                                       100% 30.1M=0s\n",
      "\n",
      "2020-03-30 21:33:01 (30.1 MB/s) - ‘worker.py.1’ saved [657/657]\n",
      "\n"
     ]
    }
   ],
   "source": [
    "%%bash\n",
    "\n",
    "cd redis\n",
    "wget https://kubernetes.io/examples/application/job/redis/redis-service.yaml\n",
    "wget https://kubernetes.io/examples/application/job/redis/Dockerfile\n",
    "wget https://kubernetes.io/examples/application/job/redis/job.yaml\n",
    "wget https://kubernetes.io/examples/application/job/redis/rediswq.py\n",
    "wget https://kubernetes.io/examples/application/job/redis/worker.py"
   ]
  },
  {
   "cell_type": "code",
   "execution_count": 46,
   "metadata": {},
   "outputs": [
    {
     "name": "stdout",
     "output_type": "stream",
     "text": [
      "total 60\r\n",
      "-rw-rw-r-- 1 ubuntu ubuntu  115 Mar 30 14:23 Dockerfile\r\n",
      "-rw-rw-r-- 1 ubuntu ubuntu  115 Mar 30 21:33 Dockerfile.1\r\n",
      "-rw-rw-r-- 1 ubuntu ubuntu  195 Mar 30 15:43 Makefile\r\n",
      "-rw-rw-r-- 1 ubuntu ubuntu  235 Mar 30 15:48 job.yaml\r\n",
      "-rw-rw-r-- 1 ubuntu ubuntu  244 Mar 30 21:33 job.yaml.1\r\n",
      "-rw-rw-r-- 1 ubuntu ubuntu  240 Mar 30 14:22 redis-pod.yaml\r\n",
      "-rw-rw-r-- 1 ubuntu ubuntu  240 Mar 30 21:33 redis-pod.yaml.1\r\n",
      "-rw-rw-r-- 1 ubuntu ubuntu  135 Mar 30 14:23 redis-service.yaml\r\n",
      "-rw-rw-r-- 1 ubuntu ubuntu  135 Mar 30 21:33 redis-service.yaml.1\r\n",
      "-rw-rw-r-- 1 ubuntu ubuntu 5545 Mar 30 14:24 rediswq.py\r\n",
      "-rw-rw-r-- 1 ubuntu ubuntu 5545 Mar 30 21:33 rediswq.py.1\r\n",
      "-rw-rw-r-- 1 ubuntu ubuntu  657 Mar 30 14:24 worker.py\r\n",
      "-rw-rw-r-- 1 ubuntu ubuntu  657 Mar 30 21:33 worker.py.1\r\n"
     ]
    }
   ],
   "source": [
    "! ls -l redis"
   ]
  },
  {
   "cell_type": "markdown",
   "metadata": {},
   "source": [
    "# Run the redis cli interactively\n",
    "\n",
    "in a terminal windo do this\n",
    "\n",
    "## kubectl run -i --tty temp --image redis --command \"/bin/sh\""
   ]
  },
  {
   "cell_type": "markdown",
   "metadata": {},
   "source": [
    "# OOPS - need a basic redis service up"
   ]
  },
  {
   "cell_type": "code",
   "execution_count": 47,
   "metadata": {},
   "outputs": [
    {
     "name": "stdout",
     "output_type": "stream",
     "text": [
      "Error from server (AlreadyExists): error when creating \"./redis/redis-pod.yaml\": pods \"redis-master\" already exists\r\n"
     ]
    }
   ],
   "source": [
    "! $k create -f ./redis/redis-pod.yaml"
   ]
  },
  {
   "cell_type": "code",
   "execution_count": 48,
   "metadata": {},
   "outputs": [
    {
     "name": "stdout",
     "output_type": "stream",
     "text": [
      "Error from server (AlreadyExists): error when creating \"./redis/redis-service.yaml\": services \"redis\" already exists\r\n"
     ]
    }
   ],
   "source": [
    "! $k create -f ./redis/redis-service.yaml"
   ]
  },
  {
   "cell_type": "code",
   "execution_count": 90,
   "metadata": {},
   "outputs": [
    {
     "name": "stdout",
     "output_type": "stream",
     "text": [
      "env: k=microk8s.kubectl\n"
     ]
    }
   ],
   "source": [
    "%env k=microk8s.kubectl"
   ]
  },
  {
   "cell_type": "code",
   "execution_count": 91,
   "metadata": {},
   "outputs": [
    {
     "name": "stdout",
     "output_type": "stream",
     "text": [
      "job.batch \"job-wq-2\" deleted\r\n"
     ]
    }
   ],
   "source": [
    "! $k delete -f ./redis/job.yaml"
   ]
  },
  {
   "cell_type": "code",
   "execution_count": 92,
   "metadata": {},
   "outputs": [],
   "source": [
    "#! $k --help"
   ]
  },
  {
   "cell_type": "code",
   "execution_count": 93,
   "metadata": {},
   "outputs": [
    {
     "name": "stdout",
     "output_type": "stream",
     "text": [
      "job.batch/job-wq-2 created\r\n"
     ]
    }
   ],
   "source": [
    "! $k create -f ./redis/job.yaml"
   ]
  },
  {
   "cell_type": "code",
   "execution_count": 94,
   "metadata": {},
   "outputs": [
    {
     "name": "stdout",
     "output_type": "stream",
     "text": [
      "NAME                    READY   STATUS              RESTARTS   AGE\r\n",
      "job-wq-2-d4kgv          1/1     Terminating         0          5m6s\r\n",
      "job-wq-2-dpb8l          0/1     ContainerCreating   0          0s\r\n",
      "job-wq-2-rzqn5          0/1     ContainerCreating   0          0s\r\n",
      "job-wq-2-skml8          1/1     Terminating         0          5m6s\r\n",
      "redis-master            1/1     Running             0          7h9m\r\n",
      "temp-5878477f6c-zxqvx   1/1     Running             0          7h12m\r\n"
     ]
    }
   ],
   "source": [
    "! $k get pods"
   ]
  },
  {
   "cell_type": "code",
   "execution_count": 95,
   "metadata": {},
   "outputs": [
    {
     "name": "stdout",
     "output_type": "stream",
     "text": [
      "Name:           job-wq-2\r\n",
      "Namespace:      default\r\n",
      "Selector:       controller-uid=8b31deed-cc5e-45f9-9906-5f0710f0ceb1\r\n",
      "Labels:         controller-uid=8b31deed-cc5e-45f9-9906-5f0710f0ceb1\r\n",
      "                job-name=job-wq-2\r\n",
      "Annotations:    <none>\r\n",
      "Parallelism:    2\r\n",
      "Completions:    <unset>\r\n",
      "Start Time:     Mon, 30 Mar 2020 21:40:28 +0000\r\n",
      "Pods Statuses:  2 Running / 0 Succeeded / 0 Failed\r\n",
      "Pod Template:\r\n",
      "  Labels:  controller-uid=8b31deed-cc5e-45f9-9906-5f0710f0ceb1\r\n",
      "           job-name=job-wq-2\r\n",
      "  Containers:\r\n",
      "   c:\r\n",
      "    Image:        tbutzer/job-wq-2\r\n",
      "    Port:         <none>\r\n",
      "    Host Port:    <none>\r\n",
      "    Environment:  <none>\r\n",
      "    Mounts:       <none>\r\n",
      "  Volumes:        <none>\r\n",
      "Events:\r\n",
      "  Type    Reason            Age   From            Message\r\n",
      "  ----    ------            ----  ----            -------\r\n",
      "  Normal  SuccessfulCreate  0s    job-controller  Created pod: job-wq-2-rzqn5\r\n",
      "  Normal  SuccessfulCreate  0s    job-controller  Created pod: job-wq-2-dpb8l\r\n"
     ]
    }
   ],
   "source": [
    "! $k describe jobs/job-wq-2"
   ]
  },
  {
   "cell_type": "code",
   "execution_count": 96,
   "metadata": {},
   "outputs": [],
   "source": [
    "#!$k logs pods/job-wq-2-25zcv"
   ]
  },
  {
   "cell_type": "code",
   "execution_count": 97,
   "metadata": {},
   "outputs": [],
   "source": [
    "#!$k logs pods/job-wq-2-nj7wb"
   ]
  },
  {
   "cell_type": "code",
   "execution_count": 104,
   "metadata": {},
   "outputs": [],
   "source": [
    "! sleep 15"
   ]
  },
  {
   "cell_type": "code",
   "execution_count": 105,
   "metadata": {},
   "outputs": [
    {
     "name": "stdout",
     "output_type": "stream",
     "text": [
      "pod/job-wq-2-dpb8l pod/job-wq-2-rzqn5\n",
      ".\n",
      "------\n",
      ".\n",
      "------\n"
     ]
    }
   ],
   "source": [
    "%%bash\n",
    "\n",
    "POD=$(microk8s.kubectl get pods  -o name |grep wq-2)\n",
    "echo $POD\n",
    "#$k get logs pod ${POD}\n",
    "\n",
    "for pod in $POD; do echo . ; $k logs $pod; echo ------;  done"
   ]
  },
  {
   "cell_type": "code",
   "execution_count": 106,
   "metadata": {},
   "outputs": [
    {
     "name": "stdout",
     "output_type": "stream",
     "text": [
      "NAME                    READY   STATUS    RESTARTS   AGE\r\n",
      "job-wq-2-dpb8l          1/1     Running   0          77s\r\n",
      "job-wq-2-rzqn5          1/1     Running   0          77s\r\n",
      "redis-master            1/1     Running   0          7h11m\r\n",
      "temp-5878477f6c-zxqvx   1/1     Running   0          7h13m\r\n"
     ]
    }
   ],
   "source": [
    "! $k get pods"
   ]
  },
  {
   "cell_type": "code",
   "execution_count": 115,
   "metadata": {},
   "outputs": [],
   "source": [
    "! $k logs pods/job-wq-2-rzqn5 \n"
   ]
  },
  {
   "cell_type": "code",
   "execution_count": null,
   "metadata": {},
   "outputs": [],
   "source": []
  }
 ],
 "metadata": {
  "kernelspec": {
   "display_name": "Python 3",
   "language": "python",
   "name": "python3"
  },
  "language_info": {
   "codemirror_mode": {
    "name": "ipython",
    "version": 3
   },
   "file_extension": ".py",
   "mimetype": "text/x-python",
   "name": "python",
   "nbconvert_exporter": "python",
   "pygments_lexer": "ipython3",
   "version": "3.6.9"
  }
 },
 "nbformat": 4,
 "nbformat_minor": 4
}
