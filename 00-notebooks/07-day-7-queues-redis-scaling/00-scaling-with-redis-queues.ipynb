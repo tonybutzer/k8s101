{
 "cells": [
  {
   "cell_type": "markdown",
   "metadata": {},
   "source": [
    "# SCaling and Queues\n",
    "\n",
    "\n",
    "## reference\n",
    "\n",
    "https://kubernetes.io/docs/tasks/job/fine-parallel-processing-work-queue/\n",
    "\n",
    "\n",
    "In this example, we will run a Kubernetes Job with multiple parallel worker processes in a given pod.\n",
    "\n",
    "In this example, as each pod is created, it picks up one unit of work from a task queue, processes it, and repeats until the end of the queue is reached.\n",
    "\n",
    "\n",
    "1. Start a storage service to hold the work queue.\n",
    "2. Create a queue, and fill it with messages. \n",
    "3. Start a Job that works on tasks from the queue. \n"
   ]
  },
  {
   "cell_type": "code",
   "execution_count": 1,
   "metadata": {},
   "outputs": [
    {
     "name": "stdout",
     "output_type": "stream",
     "text": [
      "env: k=microk8s.kubectl\n"
     ]
    }
   ],
   "source": [
    "%env k=microk8s.kubectl"
   ]
  },
  {
   "cell_type": "code",
   "execution_count": 2,
   "metadata": {},
   "outputs": [
    {
     "name": "stdout",
     "output_type": "stream",
     "text": [
      "NAME                 TYPE        CLUSTER-IP     EXTERNAL-IP   PORT(S)   AGE\r\n",
      "service/kubernetes   ClusterIP   10.152.183.1   <none>        443/TCP   23h\r\n"
     ]
    }
   ],
   "source": [
    "! $k get all"
   ]
  },
  {
   "cell_type": "code",
   "execution_count": 4,
   "metadata": {},
   "outputs": [
    {
     "name": "stdout",
     "output_type": "stream",
     "text": [
      "Enabling DNS\n",
      "Applying manifest\n",
      "serviceaccount/coredns created\n",
      "configmap/coredns created\n",
      "deployment.apps/coredns created\n",
      "service/kube-dns created\n",
      "clusterrole.rbac.authorization.k8s.io/coredns created\n",
      "clusterrolebinding.rbac.authorization.k8s.io/coredns created\n",
      "Restarting kubelet\n",
      "DNS is enabled\n"
     ]
    }
   ],
   "source": [
    "! microk8s enable dns "
   ]
  },
  {
   "cell_type": "code",
   "execution_count": 5,
   "metadata": {},
   "outputs": [
    {
     "name": "stdout",
     "output_type": "stream",
     "text": [
      "dns: enabled\r\n"
     ]
    }
   ],
   "source": [
    "! microk8s.status |grep dns"
   ]
  },
  {
   "cell_type": "code",
   "execution_count": 42,
   "metadata": {},
   "outputs": [],
   "source": [
    "# ! mkdir -p redis"
   ]
  },
  {
   "cell_type": "code",
   "execution_count": 43,
   "metadata": {},
   "outputs": [
    {
     "name": "stdout",
     "output_type": "stream",
     "text": [
      "--2020-03-30 21:32:59--  https://kubernetes.io/examples/application/job/redis/redis-pod.yaml\n",
      "Resolving kubernetes.io (kubernetes.io)... 147.75.40.148\n",
      "Connecting to kubernetes.io (kubernetes.io)|147.75.40.148|:443... connected.\n",
      "HTTP request sent, awaiting response... 200 OK\n",
      "Length: 240 [application/x-yaml]\n",
      "Saving to: ‘redis-pod.yaml.1’\n",
      "\n",
      "redis-pod.yaml.1    100%[===================>]     240  --.-KB/s    in 0s      \n",
      "\n",
      "2020-03-30 21:33:00 (7.06 MB/s) - ‘redis-pod.yaml.1’ saved [240/240]\n",
      "\n"
     ]
    }
   ],
   "source": [
    "#! (cd redis; wget https://kubernetes.io/examples/application/job/redis/redis-pod.yaml)"
   ]
  },
  {
   "cell_type": "code",
   "execution_count": 6,
   "metadata": {},
   "outputs": [
    {
     "name": "stdout",
     "output_type": "stream",
     "text": [
      "total 60\r\n",
      "-rw-r--r-- 1 ubuntu root  115 Apr  1 18:43 Dockerfile\r\n",
      "-rw-r--r-- 1 ubuntu root  115 Apr  1 18:43 Dockerfile.1\r\n",
      "-rw-r--r-- 1 ubuntu root  195 Apr  1 18:43 Makefile\r\n",
      "-rw-r--r-- 1 ubuntu root  235 Apr  1 18:43 job.yaml\r\n",
      "-rw-r--r-- 1 ubuntu root  244 Apr  1 18:43 job.yaml.1\r\n",
      "-rw-r--r-- 1 ubuntu root  240 Apr  1 18:43 redis-pod.yaml\r\n",
      "-rw-r--r-- 1 ubuntu root  240 Apr  1 18:43 redis-pod.yaml.1\r\n",
      "-rw-r--r-- 1 ubuntu root  135 Apr  1 18:43 redis-service.yaml\r\n",
      "-rw-r--r-- 1 ubuntu root  135 Apr  1 18:43 redis-service.yaml.1\r\n",
      "-rw-r--r-- 1 ubuntu root 5545 Apr  1 18:43 rediswq.py\r\n",
      "-rw-r--r-- 1 ubuntu root 5545 Apr  1 18:43 rediswq.py.1\r\n",
      "-rw-r--r-- 1 ubuntu root  657 Apr  1 18:43 worker.py\r\n",
      "-rw-r--r-- 1 ubuntu root  657 Apr  1 18:43 worker.py.1\r\n"
     ]
    }
   ],
   "source": [
    "! ls -l redis"
   ]
  },
  {
   "cell_type": "code",
   "execution_count": 7,
   "metadata": {},
   "outputs": [
    {
     "data": {
      "text/plain": [
       "'\\n%%bash\\n\\ncd redis\\nwget https://kubernetes.io/examples/application/job/redis/redis-service.yaml\\nwget https://kubernetes.io/examples/application/job/redis/Dockerfile\\nwget https://kubernetes.io/examples/application/job/redis/job.yaml\\nwget https://kubernetes.io/examples/application/job/redis/rediswq.py\\nwget https://kubernetes.io/examples/application/job/redis/worker.py\\n'"
      ]
     },
     "execution_count": 7,
     "metadata": {},
     "output_type": "execute_result"
    }
   ],
   "source": [
    "'''\n",
    "%%bash\n",
    "\n",
    "cd redis\n",
    "wget https://kubernetes.io/examples/application/job/redis/redis-service.yaml\n",
    "wget https://kubernetes.io/examples/application/job/redis/Dockerfile\n",
    "wget https://kubernetes.io/examples/application/job/redis/job.yaml\n",
    "wget https://kubernetes.io/examples/application/job/redis/rediswq.py\n",
    "wget https://kubernetes.io/examples/application/job/redis/worker.py\n",
    "'''"
   ]
  },
  {
   "cell_type": "code",
   "execution_count": 8,
   "metadata": {},
   "outputs": [
    {
     "name": "stdout",
     "output_type": "stream",
     "text": [
      "total 60\r\n",
      "-rw-r--r-- 1 ubuntu root  115 Apr  1 18:43 Dockerfile\r\n",
      "-rw-r--r-- 1 ubuntu root  115 Apr  1 18:43 Dockerfile.1\r\n",
      "-rw-r--r-- 1 ubuntu root  195 Apr  1 18:43 Makefile\r\n",
      "-rw-r--r-- 1 ubuntu root  235 Apr  1 18:43 job.yaml\r\n",
      "-rw-r--r-- 1 ubuntu root  244 Apr  1 18:43 job.yaml.1\r\n",
      "-rw-r--r-- 1 ubuntu root  240 Apr  1 18:43 redis-pod.yaml\r\n",
      "-rw-r--r-- 1 ubuntu root  240 Apr  1 18:43 redis-pod.yaml.1\r\n",
      "-rw-r--r-- 1 ubuntu root  135 Apr  1 18:43 redis-service.yaml\r\n",
      "-rw-r--r-- 1 ubuntu root  135 Apr  1 18:43 redis-service.yaml.1\r\n",
      "-rw-r--r-- 1 ubuntu root 5545 Apr  1 18:43 rediswq.py\r\n",
      "-rw-r--r-- 1 ubuntu root 5545 Apr  1 18:43 rediswq.py.1\r\n",
      "-rw-r--r-- 1 ubuntu root  657 Apr  1 18:43 worker.py\r\n",
      "-rw-r--r-- 1 ubuntu root  657 Apr  1 18:43 worker.py.1\r\n"
     ]
    }
   ],
   "source": [
    "! ls -l redis"
   ]
  },
  {
   "cell_type": "markdown",
   "metadata": {},
   "source": [
    "# Run the redis cli interactively\n",
    "\n",
    "in a terminal windo do this\n",
    "\n",
    "## kubectl run -i --tty temp --image redis --command \"/bin/sh\""
   ]
  },
  {
   "cell_type": "markdown",
   "metadata": {},
   "source": [
    "# OOPS - need a basic redis service up"
   ]
  },
  {
   "cell_type": "code",
   "execution_count": 9,
   "metadata": {},
   "outputs": [
    {
     "name": "stdout",
     "output_type": "stream",
     "text": [
      "pod/redis-master created\r\n"
     ]
    }
   ],
   "source": [
    "! $k create -f ./redis/redis-pod.yaml"
   ]
  },
  {
   "cell_type": "code",
   "execution_count": 10,
   "metadata": {},
   "outputs": [
    {
     "name": "stdout",
     "output_type": "stream",
     "text": [
      "service/redis created\r\n"
     ]
    }
   ],
   "source": [
    "! $k create -f ./redis/redis-service.yaml"
   ]
  },
  {
   "cell_type": "markdown",
   "metadata": {},
   "source": [
    "# simulate master\n",
    "\n",
    "1. open new teminal and exec it into master tester\n",
    "\n",
    "## Filling the Queue with tasks\n",
    "\n",
    "Now let’s fill the queue with some “tasks”. In our example, our tasks are just strings to be printed.\n",
    "\n",
    "Start a temporary interactive pod for running the Redis CLI.\n",
    "\n",
    "```\n",
    "kubectl run -i --tty temp --image redis --command \"/bin/sh\"\n",
    "Waiting for pod default/redis2-c7h78 to be running, status is Pending, pod ready: false\n",
    "Hit enter for command prompt\n",
    "\n",
    "redis-cli -h redis\n",
    "\n",
    "```\n",
    "rpush job2 \"apple\"\n",
    "\n",
    "\n",
    "\n",
    "rpush job2 \"cherry\"\n",
    "\n",
    "\n",
    "rpush job2 \"date\"\n",
    "\n",
    "\n",
    "rpush job2 \"fig\"\n",
    "\n",
    "\n",
    "rpush job2 \"grape\"\n",
    "\n",
    "\n",
    "rpush job2 \"lemon\"\n",
    "\n",
    "\n",
    "rpush job2 \"melon\"\n",
    "\n",
    "\n",
    "rpush job2 \"orange\"\n",
    "\n",
    "\n",
    "\n",
    "\n",
    "\n",
    "\n",
    "lrange job2 0 -1\n",
    "\n",
    "```\n",
    "\n",
    "\n",
    "Now hit enter, start the redis CLI, and create a list with some work items in it.\n",
    "\n",
    "# redis-cli -h redis\n",
    "redis:6379> rpush job2 \"apple\"\n",
    "(integer) 1\n",
    "redis:6379> rpush job2 \"banana\"\n",
    "(integer) 2\n",
    "redis:6379> rpush job2 \"cherry\"\n",
    "(integer) 3\n",
    "redis:6379> rpush job2 \"date\"\n",
    "(integer) 4\n",
    "redis:6379> rpush job2 \"fig\"\n",
    "(integer) 5\n",
    "redis:6379> rpush job2 \"grape\"\n",
    "(integer) 6\n",
    "redis:6379> rpush job2 \"lemon\"\n",
    "(integer) 7\n",
    "redis:6379> rpush job2 \"melon\"\n",
    "(integer) 8\n",
    "redis:6379> rpush job2 \"orange\"\n",
    "(integer) 9\n",
    "redis:6379> lrange job2 0 -1\n"
   ]
  },
  {
   "cell_type": "code",
   "execution_count": 16,
   "metadata": {},
   "outputs": [
    {
     "name": "stdout",
     "output_type": "stream",
     "text": [
      "env: k=microk8s.kubectl\n"
     ]
    }
   ],
   "source": [
    "%env k=microk8s.kubectl"
   ]
  },
  {
   "cell_type": "code",
   "execution_count": 20,
   "metadata": {},
   "outputs": [
    {
     "name": "stdout",
     "output_type": "stream",
     "text": [
      "job.batch \"job-wq-2\" deleted\r\n"
     ]
    }
   ],
   "source": [
    "! $k delete -f ./redis/job.yaml"
   ]
  },
  {
   "cell_type": "code",
   "execution_count": 21,
   "metadata": {},
   "outputs": [],
   "source": [
    "#! $k --help"
   ]
  },
  {
   "cell_type": "code",
   "execution_count": 22,
   "metadata": {},
   "outputs": [
    {
     "name": "stdout",
     "output_type": "stream",
     "text": [
      "job.batch/job-wq-2 created\r\n"
     ]
    }
   ],
   "source": [
    "! $k create -f ./redis/job.yaml"
   ]
  },
  {
   "cell_type": "code",
   "execution_count": 23,
   "metadata": {},
   "outputs": [
    {
     "name": "stdout",
     "output_type": "stream",
     "text": [
      "NAME                    READY   STATUS              RESTARTS   AGE\r\n",
      "job-wq-2-txhhh          0/1     ContainerCreating   0          3s\r\n",
      "job-wq-2-zr24j          0/1     ContainerCreating   0          3s\r\n",
      "redis-master            1/1     Running             0          9m4s\r\n",
      "temp-5878477f6c-bk99j   1/1     Running             0          2m39s\r\n"
     ]
    }
   ],
   "source": [
    "! $k get pods"
   ]
  },
  {
   "cell_type": "code",
   "execution_count": 24,
   "metadata": {},
   "outputs": [
    {
     "name": "stdout",
     "output_type": "stream",
     "text": [
      "Name:           job-wq-2\r\n",
      "Namespace:      default\r\n",
      "Selector:       controller-uid=b500de9c-d76f-408e-a71c-d1eb37176cf6\r\n",
      "Labels:         controller-uid=b500de9c-d76f-408e-a71c-d1eb37176cf6\r\n",
      "                job-name=job-wq-2\r\n",
      "Annotations:    <none>\r\n",
      "Parallelism:    2\r\n",
      "Completions:    <unset>\r\n",
      "Start Time:     Thu, 02 Apr 2020 18:13:40 +0000\r\n",
      "Pods Statuses:  2 Running / 0 Succeeded / 0 Failed\r\n",
      "Pod Template:\r\n",
      "  Labels:  controller-uid=b500de9c-d76f-408e-a71c-d1eb37176cf6\r\n",
      "           job-name=job-wq-2\r\n",
      "  Containers:\r\n",
      "   c:\r\n",
      "    Image:        tbutzer/job-wq-2\r\n",
      "    Port:         <none>\r\n",
      "    Host Port:    <none>\r\n",
      "    Environment:  <none>\r\n",
      "    Mounts:       <none>\r\n",
      "  Volumes:        <none>\r\n",
      "Events:\r\n",
      "  Type    Reason            Age   From            Message\r\n",
      "  ----    ------            ----  ----            -------\r\n",
      "  Normal  SuccessfulCreate  5s    job-controller  Created pod: job-wq-2-zr24j\r\n",
      "  Normal  SuccessfulCreate  5s    job-controller  Created pod: job-wq-2-txhhh\r\n"
     ]
    }
   ],
   "source": [
    "! $k describe jobs/job-wq-2"
   ]
  },
  {
   "cell_type": "code",
   "execution_count": 25,
   "metadata": {},
   "outputs": [],
   "source": [
    "#!$k logs pods/job-wq-2-25zcv"
   ]
  },
  {
   "cell_type": "code",
   "execution_count": 26,
   "metadata": {},
   "outputs": [],
   "source": [
    "#!$k logs pods/job-wq-2-nj7wb"
   ]
  },
  {
   "cell_type": "code",
   "execution_count": 27,
   "metadata": {},
   "outputs": [],
   "source": [
    "! sleep 15"
   ]
  },
  {
   "cell_type": "code",
   "execution_count": 47,
   "metadata": {},
   "outputs": [
    {
     "name": "stdout",
     "output_type": "stream",
     "text": [
      "pod/job-wq-2-txhhh pod/job-wq-2-zr24j\n",
      ".\n",
      "Worker with sessionID: e52935d4-4d0d-4e3b-9702-96846cc46673\n",
      "Initial queue state: empty=False\n",
      "Working on apple\n",
      "Working on apple\n",
      "Working on apple\n",
      "Working on apple\n",
      "Working on apple\n",
      "Working on apple\n",
      "Working on apple\n",
      "Working on apple\n",
      "Working on apple\n",
      "Working on apple\n",
      "Working on apple\n",
      "Queue empty, exiting\n",
      "------\n",
      ".\n",
      "Worker with sessionID: 106f6849-f2fe-4bd0-b269-39dff186b766\n",
      "Initial queue state: empty=False\n",
      "Working on apple\n",
      "Working on apple\n",
      "Working on apple\n",
      "Working on apple\n",
      "Working on apple\n",
      "Working on apple\n",
      "Working on apple\n",
      "Working on apple\n",
      "Working on apple\n",
      "Working on apple\n",
      "Working on apple\n",
      "Queue empty, exiting\n",
      "------\n"
     ]
    }
   ],
   "source": [
    "%%bash\n",
    "\n",
    "POD=$(microk8s.kubectl get pods  -o name |grep wq-2)\n",
    "echo $POD\n",
    "#$k get logs pod ${POD}\n",
    "\n",
    "for pod in $POD; do echo . ; $k logs $pod; echo ------;  done"
   ]
  },
  {
   "cell_type": "code",
   "execution_count": 44,
   "metadata": {},
   "outputs": [
    {
     "name": "stdout",
     "output_type": "stream",
     "text": [
      "NAME                    READY   STATUS      RESTARTS   AGE\r\n",
      "job-wq-2-txhhh          0/1     Completed   0          117s\r\n",
      "job-wq-2-zr24j          0/1     Completed   0          117s\r\n",
      "redis-master            1/1     Running     0          10m\r\n",
      "temp-5878477f6c-bk99j   1/1     Running     0          4m33s\r\n"
     ]
    }
   ],
   "source": [
    "! $k get pods"
   ]
  },
  {
   "cell_type": "code",
   "execution_count": 46,
   "metadata": {},
   "outputs": [
    {
     "name": "stdout",
     "output_type": "stream",
     "text": [
      "Worker with sessionID: e52935d4-4d0d-4e3b-9702-96846cc46673\r\n",
      "Initial queue state: empty=False\r\n",
      "Working on apple\r\n",
      "Working on apple\r\n",
      "Working on apple\r\n",
      "Working on apple\r\n",
      "Working on apple\r\n",
      "Working on apple\r\n",
      "Working on apple\r\n",
      "Working on apple\r\n",
      "Working on apple\r\n",
      "Working on apple\r\n",
      "Working on apple\r\n",
      "Queue empty, exiting\r\n"
     ]
    }
   ],
   "source": [
    "! $k logs pods/job-wq-2-txhhh\n"
   ]
  },
  {
   "cell_type": "code",
   "execution_count": null,
   "metadata": {},
   "outputs": [],
   "source": []
  }
 ],
 "metadata": {
  "kernelspec": {
   "display_name": "Python 3",
   "language": "python",
   "name": "python3"
  },
  "language_info": {
   "codemirror_mode": {
    "name": "ipython",
    "version": 3
   },
   "file_extension": ".py",
   "mimetype": "text/x-python",
   "name": "python",
   "nbconvert_exporter": "python",
   "pygments_lexer": "ipython3",
   "version": "3.6.9"
  }
 },
 "nbformat": 4,
 "nbformat_minor": 4
}
