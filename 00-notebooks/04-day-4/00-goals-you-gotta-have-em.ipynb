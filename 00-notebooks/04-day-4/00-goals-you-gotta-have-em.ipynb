{
 "cells": [
  {
   "cell_type": "markdown",
   "metadata": {},
   "source": [
    "# Build a more complex set of pods \n",
    "\n",
    "## Simple visualization of those pods\n",
    "\n",
    "# Makefiles are ZEN!"
   ]
  },
  {
   "cell_type": "code",
   "execution_count": 1,
   "metadata": {},
   "outputs": [
    {
     "name": "stdout",
     "output_type": "stream",
     "text": [
      "00-goals-you-gotta-have-em.ipynb  product-service-deployment.yaml\r\n",
      "Makefile\t\t\t  product-service-service.yaml\r\n"
     ]
    }
   ],
   "source": [
    "! ls"
   ]
  },
  {
   "cell_type": "code",
   "execution_count": 2,
   "metadata": {},
   "outputs": [
    {
     "name": "stdout",
     "output_type": "stream",
     "text": [
      "up:\r\n",
      "\tkubectl create -f product-service-deployment.yaml\r\n",
      "\tkubectl create -f product-service-service.yaml\r\n",
      "\r\n",
      "down:\r\n",
      "\tkubectl delete -f product-service-deployment.yaml\r\n",
      "\tkubectl delete -f product-service-service.yaml\r\n",
      "\r\n",
      "ref:\r\n",
      "\techo \"https://kubernetes.io/docs/concepts/services-networking/connect-applications-service/\"\r\n",
      "\r\n",
      "svc:\r\n",
      "\tkubectl get svc\r\n",
      "\tkubectl describe svc product-service\r\n",
      "\tkubectl describe svc product-service|egrep '^Port|^IP'\r\n",
      "\tkubectl describe svc product-service|egrep -i 'endpoint'\r\n",
      "\r\n",
      "exec:\r\n",
      "\tkubectl exec debugger-7b6b564788-s7mck -it bash\r\n",
      "\r\n",
      "# Proxy\r\n",
      "# http://kubernetes_master_address/api/v1/namespaces/namespace_name/services/[https:]service_name[:port_name]/proxy\r\n",
      "# \r\n",
      "\r\n",
      "help:\r\n",
      "\techo http://localhost:8001/api/v1/namespaces/default/services/product-service:8081/proxy/\r\n",
      "\r\n",
      "# ubuntu@ip-10-12-69-193:~$ sudo kubectl port-forward svc/product-service 8080:8081 --address 10.12.69.193\r\n",
      "\r\n"
     ]
    }
   ],
   "source": [
    "! cat Makefile"
   ]
  },
  {
   "cell_type": "code",
   "execution_count": 4,
   "metadata": {},
   "outputs": [
    {
     "name": "stdout",
     "output_type": "stream",
     "text": [
      "make[1]: Entering directory '/opt/k8s101/00-notebooks/04-day-4'\n",
      "microk8s.kubectl create -f product-service-deployment.yaml\n",
      "error: unable to recognize \"product-service-deployment.yaml\": no matches for kind \"Deployment\" in version \"extensions/v1beta1\"\n",
      "Makefile:4: recipe for target 'up' failed\n",
      "make[1]: *** [up] Error 1\n",
      "make[1]: Leaving directory '/opt/k8s101/00-notebooks/04-day-4'\n"
     ]
    }
   ],
   "source": [
    "! make up"
   ]
  },
  {
   "cell_type": "code",
   "execution_count": 5,
   "metadata": {},
   "outputs": [
    {
     "name": "stdout",
     "output_type": "stream",
     "text": [
      "make[1]: Entering directory '/opt/k8s101/00-notebooks/04-day-4'\n",
      "microk8s.kubectl get svc\n",
      "NAME               TYPE        CLUSTER-IP       EXTERNAL-IP   PORT(S)        AGE\n",
      "kubernetes         ClusterIP   10.152.183.1     <none>        443/TCP        14h\n",
      "microbot-service   NodePort    10.152.183.195   <none>        80:31914/TCP   11h\n",
      "microk8s.kubectl describe svc product-service\n",
      "Error from server (NotFound): services \"product-service\" not found\n",
      "Makefile:15: recipe for target 'svc' failed\n",
      "make[1]: *** [svc] Error 1\n",
      "make[1]: Leaving directory '/opt/k8s101/00-notebooks/04-day-4'\n"
     ]
    }
   ],
   "source": [
    "! make svc"
   ]
  },
  {
   "cell_type": "code",
   "execution_count": null,
   "metadata": {},
   "outputs": [],
   "source": []
  }
 ],
 "metadata": {
  "kernelspec": {
   "display_name": "Python 3",
   "language": "python",
   "name": "python3"
  },
  "language_info": {
   "codemirror_mode": {
    "name": "ipython",
    "version": 3
   },
   "file_extension": ".py",
   "mimetype": "text/x-python",
   "name": "python",
   "nbconvert_exporter": "python",
   "pygments_lexer": "ipython3",
   "version": "3.6.9"
  }
 },
 "nbformat": 4,
 "nbformat_minor": 4
}
