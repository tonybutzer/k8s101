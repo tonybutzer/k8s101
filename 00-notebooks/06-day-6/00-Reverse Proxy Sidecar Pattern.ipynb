{
 "cells": [
  {
   "cell_type": "markdown",
   "metadata": {},
   "source": [
    "# Reverse Proxy Sidecar Pattern\n",
    "\n",
    "https://www.magalix.com/blog/implemeting-a-reverse-proxy-server-in-kubernetes-using-the-sidecar-pattern"
   ]
  },
  {
   "cell_type": "code",
   "execution_count": 2,
   "metadata": {},
   "outputs": [
    {
     "name": "stdout",
     "output_type": "stream",
     "text": [
      "env: k=microk8s.kubectl\n"
     ]
    }
   ],
   "source": [
    "%env k=microk8s.kubectl"
   ]
  },
  {
   "cell_type": "code",
   "execution_count": 4,
   "metadata": {},
   "outputs": [
    {
     "name": "stdout",
     "output_type": "stream",
     "text": [
      "Error: unknown command \"status\" for \"kubectl\"\r\n",
      "Run 'kubectl --help' for usage.\r\n"
     ]
    }
   ],
   "source": [
    "!$k status"
   ]
  },
  {
   "cell_type": "code",
   "execution_count": 5,
   "metadata": {},
   "outputs": [
    {
     "name": "stdout",
     "output_type": "stream",
     "text": [
      "microk8s is running\r\n",
      "addons:\r\n",
      "cilium: disabled\r\n",
      "dashboard: disabled\r\n",
      "dns: disabled\r\n",
      "fluentd: disabled\r\n",
      "gpu: disabled\r\n",
      "helm: disabled\r\n",
      "ingress: disabled\r\n",
      "istio: disabled\r\n",
      "jaeger: disabled\r\n",
      "juju: disabled\r\n",
      "knative: disabled\r\n",
      "kubeflow: disabled\r\n",
      "linkerd: disabled\r\n",
      "metallb: disabled\r\n",
      "metrics-server: disabled\r\n",
      "prometheus: disabled\r\n",
      "rbac: disabled\r\n",
      "registry: disabled\r\n",
      "storage: disabled\r\n"
     ]
    }
   ],
   "source": [
    "! microk8s.status --wait-ready"
   ]
  },
  {
   "cell_type": "code",
   "execution_count": 6,
   "metadata": {},
   "outputs": [
    {
     "name": "stdout",
     "output_type": "stream",
     "text": [
      "make[1]: Entering directory '/opt/k8s101/00-notebooks/06-day-6'\n",
      "docker run -d -p 5000:5000 tbutzer/flasksidecar\n",
      "f461e6764a539e7e01c76ab5d96a06763651e2e7c385cbab71993c3aea96f18d\n",
      "docker: Error response from daemon: driver failed programming external connectivity on endpoint condescending_torvalds (2aa1cabec2e685681c6ced31f0132457cb2ca51c228f3925027f23a70b3dcee7): Bind for 0.0.0.0:5000 failed: port is already allocated.\n",
      "Makefile:9: recipe for target 'run' failed\n",
      "make[1]: *** [run] Error 125\n",
      "make[1]: Leaving directory '/opt/k8s101/00-notebooks/06-day-6'\n"
     ]
    }
   ],
   "source": [
    "! make run"
   ]
  },
  {
   "cell_type": "code",
   "execution_count": 7,
   "metadata": {},
   "outputs": [
    {
     "name": "stdout",
     "output_type": "stream",
     "text": [
      "{\"message\":\"Hello World!\"}\r\n"
     ]
    }
   ],
   "source": [
    "! curl localhost:5000"
   ]
  },
  {
   "cell_type": "code",
   "execution_count": 8,
   "metadata": {},
   "outputs": [
    {
     "name": "stdout",
     "output_type": "stream",
     "text": [
      "CONTAINER ID        IMAGE                  COMMAND                  CREATED             STATUS              PORTS                    NAMES\r\n",
      "9a15cb549d7b        tbutzer/flasksidecar   \"gunicorn --bind 0.0…\"   7 minutes ago       Up 7 minutes        0.0.0.0:5000->5000/tcp   pedantic_sanderson\r\n"
     ]
    }
   ],
   "source": [
    "! docker ps"
   ]
  },
  {
   "cell_type": "code",
   "execution_count": 9,
   "metadata": {},
   "outputs": [
    {
     "name": "stdout",
     "output_type": "stream",
     "text": [
      "9a15cb549d7b\n",
      "9a15cb549d7b\n"
     ]
    }
   ],
   "source": [
    "! docker kill 9a15cb549d7b\n",
    "! docker rm 9a15cb549d7b"
   ]
  },
  {
   "cell_type": "code",
   "execution_count": 13,
   "metadata": {},
   "outputs": [
    {
     "name": "stdout",
     "output_type": "stream",
     "text": [
      "service/hello-svc created\n",
      "deployment.apps/hello-deployment created\n"
     ]
    }
   ],
   "source": [
    "# deployment and service\n",
    "! $k apply -f g_deployment.yaml"
   ]
  },
  {
   "cell_type": "code",
   "execution_count": 14,
   "metadata": {},
   "outputs": [
    {
     "name": "stdout",
     "output_type": "stream",
     "text": [
      "NAME                                READY   STATUS              RESTARTS   AGE   IP       NODE   NOMINATED NODE   READINESS GATES\r\n",
      "hello-deployment-59fb4b89c9-4mbxf   0/1     ContainerCreating   0          14s   <none>   k8s    <none>           <none>\r\n",
      "hello-deployment-59fb4b89c9-wmvrv   0/1     ContainerCreating   0          14s   <none>   k8s    <none>           <none>\r\n"
     ]
    }
   ],
   "source": [
    "! $k get pods -o wide"
   ]
  },
  {
   "cell_type": "code",
   "execution_count": 15,
   "metadata": {},
   "outputs": [
    {
     "name": "stdout",
     "output_type": "stream",
     "text": [
      "NAME         TYPE        CLUSTER-IP       EXTERNAL-IP   PORT(S)        AGE\r\n",
      "hello-svc    NodePort    10.152.183.168   <none>        80:32001/TCP   2m8s\r\n",
      "kubernetes   ClusterIP   10.152.183.1     <none>        443/TCP        143m\r\n"
     ]
    }
   ],
   "source": [
    "! $k get svc"
   ]
  },
  {
   "cell_type": "code",
   "execution_count": 16,
   "metadata": {},
   "outputs": [
    {
     "name": "stdout",
     "output_type": "stream",
     "text": [
      "{\"message\":\"Hello World!\"}\r\n"
     ]
    }
   ],
   "source": [
    "! curl localhost:32001"
   ]
  },
  {
   "cell_type": "code",
   "execution_count": 17,
   "metadata": {},
   "outputs": [
    {
     "name": "stdout",
     "output_type": "stream",
     "text": [
      "service/hello-svc configured\r\n",
      "deployment.apps/hello-deployment configured\r\n"
     ]
    }
   ],
   "source": [
    "# deployment and service\n",
    "! $k apply -f full_deployment.yaml"
   ]
  },
  {
   "cell_type": "code",
   "execution_count": 18,
   "metadata": {},
   "outputs": [
    {
     "name": "stdout",
     "output_type": "stream",
     "text": [
      "NAME         TYPE        CLUSTER-IP       EXTERNAL-IP   PORT(S)        AGE\r\n",
      "hello-svc    NodePort    10.152.183.168   <none>        80:32001/TCP   12m\r\n",
      "kubernetes   ClusterIP   10.152.183.1     <none>        443/TCP        153m\r\n"
     ]
    }
   ],
   "source": [
    "! $k get svc"
   ]
  },
  {
   "cell_type": "code",
   "execution_count": 19,
   "metadata": {},
   "outputs": [
    {
     "name": "stdout",
     "output_type": "stream",
     "text": [
      "NAME                                READY   STATUS    RESTARTS   AGE\r\n",
      "hello-deployment-6b9454d7f5-gwsbg   2/2     Running   0          34s\r\n",
      "hello-deployment-6b9454d7f5-hf5lk   2/2     Running   0          27s\r\n"
     ]
    }
   ],
   "source": [
    "! $k get pods"
   ]
  },
  {
   "cell_type": "code",
   "execution_count": 20,
   "metadata": {},
   "outputs": [
    {
     "name": "stdout",
     "output_type": "stream",
     "text": [
      "<!DOCTYPE html>\r\n",
      "<html>\r\n",
      "\r\n",
      "<head>\r\n",
      "   <meta charset=\"utf-8\">\r\n",
      "   <title>Hello World</title>\r\n",
      "</head>\r\n",
      "\r\n",
      "<body>\r\n",
      "   <h1&Message from backend API</h1>\r\n",
      "   <div id=\"backend\"></div>\r\n",
      "   <script src=\"http://code.jquery.com/jquery-1.9.1.min.js\"></script>\r\n",
      "   <script src=\"script.js\"></script>\r\n",
      "</body>\r\n",
      "\r\n",
      "</html>\r\n"
     ]
    }
   ],
   "source": [
    "! curl localhost:32001"
   ]
  },
  {
   "cell_type": "code",
   "execution_count": 24,
   "metadata": {},
   "outputs": [
    {
     "name": "stdout",
     "output_type": "stream",
     "text": [
      "{\"message\":\"Hello World!\"}\r\n"
     ]
    }
   ],
   "source": [
    "! curl localhost:32001/api/"
   ]
  },
  {
   "cell_type": "code",
   "execution_count": 28,
   "metadata": {},
   "outputs": [
    {
     "name": "stdout",
     "output_type": "stream",
     "text": [
      "Manage the rollout of a resource.\r\n",
      "  \r\n",
      " Valid resource types include:\r\n",
      "\r\n",
      "  *  deployments\r\n",
      "  *  daemonsets\r\n",
      "  *  statefulsets\r\n",
      "\r\n",
      "Examples:\r\n",
      "  # Rollback to the previous deployment\r\n",
      "  kubectl rollout undo deployment/abc\r\n",
      "  \r\n",
      "  # Check the rollout status of a daemonset\r\n",
      "  kubectl rollout status daemonset/foo\r\n",
      "\r\n",
      "Available Commands:\r\n",
      "  history     View rollout history\r\n",
      "  pause       Mark the provided resource as paused\r\n",
      "  restart     Restart a resource\r\n",
      "  resume      Resume a paused resource\r\n",
      "  status      Show the status of the rollout\r\n",
      "  undo        Undo a previous rollout\r\n",
      "\r\n",
      "Usage:\r\n",
      "  kubectl rollout SUBCOMMAND [options]\r\n",
      "\r\n",
      "Use \"kubectl <command> --help\" for more information about a given command.\r\n",
      "Use \"kubectl options\" for a list of global command-line options (applies to all\r\n",
      "commands).\r\n"
     ]
    }
   ],
   "source": [
    "# deployment and service\n",
    "! $k rollout -h"
   ]
  },
  {
   "cell_type": "code",
   "execution_count": 29,
   "metadata": {},
   "outputs": [
    {
     "name": "stdout",
     "output_type": "stream",
     "text": [
      "NAME               READY   UP-TO-DATE   AVAILABLE   AGE\r\n",
      "hello-deployment   2/2     2            2           33m\r\n"
     ]
    }
   ],
   "source": [
    "! $k get deployments"
   ]
  },
  {
   "cell_type": "code",
   "execution_count": 32,
   "metadata": {},
   "outputs": [
    {
     "name": "stdout",
     "output_type": "stream",
     "text": [
      "deployment.apps/hello-deployment restarted\r\n"
     ]
    }
   ],
   "source": [
    "!$k rollout restart deployment/hello-deployment"
   ]
  },
  {
   "cell_type": "code",
   "execution_count": 33,
   "metadata": {},
   "outputs": [
    {
     "name": "stdout",
     "output_type": "stream",
     "text": [
      "deployment.apps/hello-deployment rolled back\r\n"
     ]
    }
   ],
   "source": [
    "! $k rollout undo deployment/hello-deployment"
   ]
  },
  {
   "cell_type": "code",
   "execution_count": 37,
   "metadata": {},
   "outputs": [
    {
     "name": "stdout",
     "output_type": "stream",
     "text": [
      "NAME               READY   UP-TO-DATE   AVAILABLE   AGE\r\n",
      "hello-deployment   2/2     2            2           36m\r\n"
     ]
    }
   ],
   "source": [
    "! $k get deploy\n"
   ]
  },
  {
   "cell_type": "code",
   "execution_count": 38,
   "metadata": {},
   "outputs": [
    {
     "name": "stdout",
     "output_type": "stream",
     "text": [
      "deployment.apps \"hello-deployment\" deleted\r\n"
     ]
    }
   ],
   "source": [
    "!$k delete deploy hello-deployment"
   ]
  },
  {
   "cell_type": "code",
   "execution_count": 39,
   "metadata": {},
   "outputs": [
    {
     "name": "stdout",
     "output_type": "stream",
     "text": [
      "No resources found in default namespace.\r\n"
     ]
    }
   ],
   "source": [
    "! $k get deploy"
   ]
  },
  {
   "cell_type": "code",
   "execution_count": 40,
   "metadata": {},
   "outputs": [
    {
     "name": "stdout",
     "output_type": "stream",
     "text": [
      "service/hello-svc unchanged\r\n",
      "deployment.apps/hello-deployment created\r\n"
     ]
    }
   ],
   "source": [
    "! $k apply -f full_deployment.yaml"
   ]
  },
  {
   "cell_type": "code",
   "execution_count": null,
   "metadata": {},
   "outputs": [],
   "source": []
  }
 ],
 "metadata": {
  "kernelspec": {
   "display_name": "Python 3",
   "language": "python",
   "name": "python3"
  },
  "language_info": {
   "codemirror_mode": {
    "name": "ipython",
    "version": 3
   },
   "file_extension": ".py",
   "mimetype": "text/x-python",
   "name": "python",
   "nbconvert_exporter": "python",
   "pygments_lexer": "ipython3",
   "version": "3.6.9"
  }
 },
 "nbformat": 4,
 "nbformat_minor": 4
}
