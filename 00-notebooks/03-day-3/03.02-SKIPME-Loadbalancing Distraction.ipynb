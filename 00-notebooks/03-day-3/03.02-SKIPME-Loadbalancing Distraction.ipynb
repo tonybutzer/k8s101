{
 "cells": [
  {
   "cell_type": "code",
   "execution_count": 1,
   "metadata": {},
   "outputs": [
    {
     "name": "stdout",
     "output_type": "stream",
     "text": [
      "env: k=microk8s.kubectl\n"
     ]
    }
   ],
   "source": [
    "%env k=microk8s.kubectl"
   ]
  },
  {
   "cell_type": "code",
   "execution_count": 2,
   "metadata": {},
   "outputs": [
    {
     "name": "stdout",
     "output_type": "stream",
     "text": [
      "NAME                              READY   STATUS    RESTARTS   AGE\r\n",
      "pod/hello-node-64c578bdf8-swwlq   1/1     Running   0          6m5s\r\n",
      "\r\n",
      "NAME                 TYPE        CLUSTER-IP      EXTERNAL-IP   PORT(S)          AGE\r\n",
      "service/hello-node   NodePort    10.152.183.71   <none>        7777:30080/TCP   4m20s\r\n",
      "service/kubernetes   ClusterIP   10.152.183.1    <none>        443/TCP          21m\r\n",
      "\r\n",
      "NAME                         READY   UP-TO-DATE   AVAILABLE   AGE\r\n",
      "deployment.apps/hello-node   1/1     1            1           6m5s\r\n",
      "\r\n",
      "NAME                                    DESIRED   CURRENT   READY   AGE\r\n",
      "replicaset.apps/hello-node-64c578bdf8   1         1         1       6m5s\r\n"
     ]
    }
   ],
   "source": [
    "! $k get all"
   ]
  },
  {
   "cell_type": "code",
   "execution_count": 3,
   "metadata": {},
   "outputs": [
    {
     "name": "stdout",
     "output_type": "stream",
     "text": [
      "Enabling DNS\n",
      "Applying manifest\n",
      "service/kube-dns unchanged\n",
      "serviceaccount/kube-dns unchanged\n",
      "configmap/kube-dns unchanged\n",
      "deployment.extensions/kube-dns configured\n",
      "Restarting kubelet\n",
      "DNS is enabled\n"
     ]
    }
   ],
   "source": [
    "! microk8s.enable dns"
   ]
  },
  {
   "cell_type": "code",
   "execution_count": 4,
   "metadata": {},
   "outputs": [
    {
     "name": "stdout",
     "output_type": "stream",
     "text": [
      "microk8s is running\r\n",
      "addons:\r\n",
      "jaeger: disabled\r\n",
      "fluentd: disabled\r\n",
      "gpu: disabled\r\n",
      "storage: disabled\r\n",
      "registry: disabled\r\n",
      "ingress: disabled\r\n",
      "dns: enabled\r\n",
      "metrics-server: disabled\r\n",
      "prometheus: disabled\r\n",
      "istio: disabled\r\n",
      "dashboard: disabled\r\n"
     ]
    }
   ],
   "source": [
    "! microk8s.status "
   ]
  },
  {
   "cell_type": "code",
   "execution_count": 5,
   "metadata": {},
   "outputs": [],
   "source": [
    "# ! microk8s.enable metallb"
   ]
  },
  {
   "cell_type": "code",
   "execution_count": 6,
   "metadata": {},
   "outputs": [
    {
     "name": "stdout",
     "output_type": "stream",
     "text": [
      "Error from server (AlreadyExists): deployments.apps \"hello-node\" already exists\n",
      "Error from server (AlreadyExists): services \"hello-node\" already exists\n"
     ]
    }
   ],
   "source": [
    "! $k create deployment hello-node --image=gcr.io/hello-minikube-zero-install/hello-node\n",
    "! $k expose deployment hello-node --type=LoadBalancer --port=7777"
   ]
  },
  {
   "cell_type": "code",
   "execution_count": 7,
   "metadata": {},
   "outputs": [
    {
     "name": "stdout",
     "output_type": "stream",
     "text": [
      "NAME         TYPE        CLUSTER-IP      EXTERNAL-IP   PORT(S)          AGE\r\n",
      "hello-node   NodePort    10.152.183.71   <none>        7777:30080/TCP   4m28s\r\n",
      "kubernetes   ClusterIP   10.152.183.1    <none>        443/TCP          21m\r\n"
     ]
    }
   ],
   "source": [
    "! $k get services"
   ]
  },
  {
   "cell_type": "code",
   "execution_count": 8,
   "metadata": {},
   "outputs": [
    {
     "name": "stdout",
     "output_type": "stream",
     "text": [
      "error: Service hello-node does not have a service port 80\r\n"
     ]
    }
   ],
   "source": [
    "! sudo $k port-forward svc/hello-node 80:80 --address 10.12.69.17"
   ]
  },
  {
   "cell_type": "code",
   "execution_count": 9,
   "metadata": {},
   "outputs": [
    {
     "name": "stdout",
     "output_type": "stream",
     "text": [
      "NAME         TYPE        CLUSTER-IP      EXTERNAL-IP   PORT(S)          AGE\r\n",
      "hello-node   NodePort    10.152.183.71   <none>        7777:30080/TCP   4m28s\r\n",
      "kubernetes   ClusterIP   10.152.183.1    <none>        443/TCP          21m\r\n"
     ]
    }
   ],
   "source": [
    "! $k get services"
   ]
  },
  {
   "cell_type": "markdown",
   "metadata": {},
   "source": [
    "# Reference\n",
    "\n",
    "https://github.com/tonybutzer/jup/blob/2dde57ebb5cf291e4def7aa120c31226f821e16c/juphub/labs/00-just-product/02-two-loadbalanced/Makefile\n",
    "\n",
    "```\n",
    "# Proxy\n",
    "# http://kubernetes_master_address/api/v1/namespaces/namespace_name/services/[https:]service_name[:port_name]/proxy\n",
    "# \n",
    "\n",
    "help:\n",
    "\techo http://localhost:8001/api/v1/namespaces/default/services/product-service:8081/proxy/\n",
    "\n",
    "# ubuntu@ip-10-12-69-193:~$ sudo kubectl port-forward svc/product-service 8080:8081 --address 10.12.69.193\n",
    "\n",
    "```"
   ]
  },
  {
   "cell_type": "code",
   "execution_count": 10,
   "metadata": {},
   "outputs": [
    {
     "name": "stdout",
     "output_type": "stream",
     "text": [
      "service \"hello-node\" deleted\r\n"
     ]
    }
   ],
   "source": [
    "! $k delete service hello-node"
   ]
  },
  {
   "cell_type": "code",
   "execution_count": 11,
   "metadata": {},
   "outputs": [
    {
     "name": "stdout",
     "output_type": "stream",
     "text": [
      "service/hello-node exposed\r\n"
     ]
    }
   ],
   "source": [
    "! $k expose deployment hello-node --type=NodePort --port=7777"
   ]
  },
  {
   "cell_type": "code",
   "execution_count": 12,
   "metadata": {},
   "outputs": [
    {
     "name": "stdout",
     "output_type": "stream",
     "text": [
      "Forwarding from 10.12.69.195:80 -> 7777\n",
      "^C\n"
     ]
    }
   ],
   "source": [
    "# ! sudo $k port-forward svc/hello-node 80:7777 --address 10.12.69.195"
   ]
  },
  {
   "cell_type": "code",
   "execution_count": 14,
   "metadata": {},
   "outputs": [
    {
     "name": "stdout",
     "output_type": "stream",
     "text": [
      "NAME         TYPE        CLUSTER-IP     EXTERNAL-IP   PORT(S)          AGE\r\n",
      "hello-node   NodePort    10.152.183.6   <none>        7777:30817/TCP   117s\r\n",
      "kubernetes   ClusterIP   10.152.183.1   <none>        443/TCP          23m\r\n"
     ]
    }
   ],
   "source": [
    "! $k get services"
   ]
  },
  {
   "cell_type": "code",
   "execution_count": 15,
   "metadata": {},
   "outputs": [
    {
     "name": "stdout",
     "output_type": "stream",
     "text": [
      "(Not all processes could be identified, non-owned process info\r\n",
      " will not be shown, you would have to be root to see it all.)\r\n",
      "unix  2      [ ]         DGRAM                    17777    -                    \r\n"
     ]
    }
   ],
   "source": [
    "! netstat -anlp |grep 7777"
   ]
  },
  {
   "cell_type": "code",
   "execution_count": 17,
   "metadata": {},
   "outputs": [
    {
     "name": "stdout",
     "output_type": "stream",
     "text": [
      "curl: (7) Failed to connect to 10.152.183.6 port 30817: Connection timed out\r\n"
     ]
    }
   ],
   "source": [
    "! curl 10.152.183.6:30817"
   ]
  },
  {
   "cell_type": "code",
   "execution_count": null,
   "metadata": {},
   "outputs": [],
   "source": []
  }
 ],
 "metadata": {
  "kernelspec": {
   "display_name": "Python 3",
   "language": "python",
   "name": "python3"
  },
  "language_info": {
   "codemirror_mode": {
    "name": "ipython",
    "version": 3
   },
   "file_extension": ".py",
   "mimetype": "text/x-python",
   "name": "python",
   "nbconvert_exporter": "python",
   "pygments_lexer": "ipython3",
   "version": "3.6.9"
  }
 },
 "nbformat": 4,
 "nbformat_minor": 4
}
