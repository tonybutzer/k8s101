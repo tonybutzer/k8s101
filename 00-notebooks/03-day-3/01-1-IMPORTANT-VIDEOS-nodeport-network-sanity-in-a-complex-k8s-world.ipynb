{
 "cells": [
  {
   "cell_type": "markdown",
   "metadata": {},
   "source": [
    "\n",
    "# Kubernetes - Services Explained in 15 Minutes!\n",
    "\n",
    "https://www.youtube.com/watch?v=5lzUpDtmWgM&t=365s\n",
    "# NodePort Service in Kubernetes\n",
    "\n",
    "https://www.youtube.com/watch?v=eth7osiCryc\n",
    "\n",
    "\n",
    "\n",
    "resizing images with htpml tags\n",
    "https://www.youtube.com/watch?v=Vw1EZh1My8s\n"
   ]
  },
  {
   "cell_type": "markdown",
   "metadata": {},
   "source": [
    "---\n",
    "---\n",
    "---\n",
    "\n",
    "![](https://raw.githubusercontent.com/tonybutzer/assets/master/k8s/00-nodeport-before-service-attach.PNG)\n",
    "\n",
    "# Attaching to a k8s Service from OUTSIDE!\n",
    "\n",
    "### We can't use the pod IP and port - cause that's ephemeral and moves around in the cluster\n",
    "\n",
    "### We can't use the ClusterIP Service IP and Port Cause that's scoped inside\n",
    "\n",
    "# NodePort allows access from the Node Level \n",
    "\n",
    "---\n",
    "---\n",
    "![](https://raw.githubusercontent.com/tonybutzer/assets/master/k8s/01-nodeports-service-exposes-static-node-level-port-after.PNG)\n",
    "\n",
    "---\n",
    "---"
   ]
  },
  {
   "cell_type": "markdown",
   "metadata": {},
   "source": [
    "\n",
    "# Example Accessing From Outside\n",
    "\n",
    "## From the NODE\n",
    "\n",
    "- curl localhost:31000\n",
    "- curl 10.12.69.17:31000\n",
    "\n",
    "## From your windows desktop\n",
    "\n",
    "- tunnel\n",
    "    - ssh -i /home/butzer/.ssh/CHS-LSDSDPAS-butzer.pem -L 31000:localhost:31000 ubuntu@$ip\n",
    "    - firefox 10.12.69.17:31000\n",
    "    \n",
    "- via complicated proxy ip\n",
    "    - microk8s.kubectl proxy --accept-hosts=.* --address=0.0.0.0   ## 8001 proxy port default\n",
    "    - ssh -i /home/butzer/.ssh/CHS-LSDSDPAS-butzer.pem -L 8001:localhost:8001 ubuntu@$ip   #(tunnel to proxy server)\n",
    "    - http://localhost:8001/api/v1/namespaces/default/services/microbot-service/proxy/   # complicated proxy endpoint\n"
   ]
  },
  {
   "cell_type": "code",
   "execution_count": 3,
   "metadata": {},
   "outputs": [
    {
     "name": "stdout",
     "output_type": "stream",
     "text": [
      "NAME               TYPE        CLUSTER-IP       EXTERNAL-IP   PORT(S)        AGE\r\n",
      "kubernetes         ClusterIP   10.152.183.1     <none>        443/TCP        32m\r\n",
      "microbot-service   NodePort    10.152.183.206   <none>        80:30267/TCP   4m33s\r\n"
     ]
    }
   ],
   "source": [
    "! microk8s.kubectl get svc"
   ]
  },
  {
   "cell_type": "code",
   "execution_count": 4,
   "metadata": {},
   "outputs": [
    {
     "name": "stdout",
     "output_type": "stream",
     "text": [
      "Error from server (NotFound): services \"kubernetes-bootcamp\" not found\r\n"
     ]
    }
   ],
   "source": [
    "! microk8s.kubectl delete svc kubernetes-bootcamp"
   ]
  },
  {
   "cell_type": "code",
   "execution_count": 5,
   "metadata": {},
   "outputs": [
    {
     "name": "stdout",
     "output_type": "stream",
     "text": [
      "NAME               TYPE        CLUSTER-IP       EXTERNAL-IP   PORT(S)        AGE\r\n",
      "kubernetes         ClusterIP   10.152.183.1     <none>        443/TCP        33m\r\n",
      "microbot-service   NodePort    10.152.183.206   <none>        80:30267/TCP   4m41s\r\n"
     ]
    }
   ],
   "source": [
    "! microk8s.kubectl get svc"
   ]
  },
  {
   "cell_type": "code",
   "execution_count": 6,
   "metadata": {},
   "outputs": [
    {
     "name": "stdout",
     "output_type": "stream",
     "text": [
      "<!DOCTYPE html>\r\n",
      "<html>\r\n",
      "  <style type=\"text/css\">\r\n",
      "    .centered\r\n",
      "      {\r\n",
      "      text-align:center;\r\n",
      "      margin-top:0px;\r\n",
      "      margin-bottom:0px;\r\n",
      "      padding:0px;\r\n",
      "      }\r\n",
      "  </style>\r\n",
      "  <body>\r\n",
      "    <p class=\"centered\"><img src=\"microbot.png\" alt=\"microbot\"/></p>\r\n",
      "    <p class=\"centered\">Container hostname: microbot-5bb7fd7f5d-9jzm5</p>\r\n",
      "  </body>\r\n",
      "</html>\r\n"
     ]
    }
   ],
   "source": [
    "! curl localhost:30267"
   ]
  },
  {
   "cell_type": "code",
   "execution_count": 7,
   "metadata": {},
   "outputs": [
    {
     "name": "stdout",
     "output_type": "stream",
     "text": [
      "    inet 10.12.69.127/23 brd 10.12.69.255 scope global dynamic ens5\r\n"
     ]
    }
   ],
   "source": [
    "! ip a | grep 10.12"
   ]
  },
  {
   "cell_type": "code",
   "execution_count": 8,
   "metadata": {},
   "outputs": [
    {
     "name": "stdout",
     "output_type": "stream",
     "text": [
      "<!DOCTYPE html>\r\n",
      "<html>\r\n",
      "  <style type=\"text/css\">\r\n",
      "    .centered\r\n",
      "      {\r\n",
      "      text-align:center;\r\n",
      "      margin-top:0px;\r\n",
      "      margin-bottom:0px;\r\n",
      "      padding:0px;\r\n",
      "      }\r\n",
      "  </style>\r\n",
      "  <body>\r\n",
      "    <p class=\"centered\"><img src=\"microbot.png\" alt=\"microbot\"/></p>\r\n",
      "    <p class=\"centered\">Container hostname: microbot-5bb7fd7f5d-9jzm5</p>\r\n",
      "  </body>\r\n",
      "</html>\r\n"
     ]
    }
   ],
   "source": [
    "! curl 10.12.69.127:30267"
   ]
  },
  {
   "cell_type": "code",
   "execution_count": 9,
   "metadata": {},
   "outputs": [
    {
     "name": "stdout",
     "output_type": "stream",
     "text": [
      "pod/microbot-5bb7fd7f5d-9jzm5   1/1     Running   0          5m36s\r\n",
      "pod/microbot-5bb7fd7f5d-l9s49   1/1     Running   0          5m33s\r\n",
      "service/microbot-service   NodePort    10.152.183.206   <none>        80:30267/TCP   5m27s\r\n",
      "deployment.apps/microbot   2/2     2            2           5m36s\r\n",
      "replicaset.apps/microbot-5bb7fd7f5d   2         2         2       5m36s\r\n"
     ]
    }
   ],
   "source": [
    "! microk8s.kubectl get all | grep microbot"
   ]
  },
  {
   "cell_type": "markdown",
   "metadata": {},
   "source": [
    "---\n",
    "---\n",
    "## so thats 2 pods; 1 service; 1 deployment; 1 replicaset -- and a partridge ...\n",
    "---"
   ]
  },
  {
   "cell_type": "code",
   "execution_count": 10,
   "metadata": {},
   "outputs": [
    {
     "name": "stdout",
     "output_type": "stream",
     "text": [
      "service \"microbot-service\" deleted\r\n"
     ]
    }
   ],
   "source": [
    "! microk8s.kubectl delete svc microbot-service"
   ]
  },
  {
   "cell_type": "code",
   "execution_count": 11,
   "metadata": {},
   "outputs": [
    {
     "name": "stdout",
     "output_type": "stream",
     "text": [
      "pod/microbot-5bb7fd7f5d-9jzm5   1/1     Running   0          7m21s\r\n",
      "pod/microbot-5bb7fd7f5d-l9s49   1/1     Running   0          7m18s\r\n",
      "deployment.apps/microbot   2/2     2            2           7m21s\r\n",
      "replicaset.apps/microbot-5bb7fd7f5d   2         2         2       7m21s\r\n"
     ]
    }
   ],
   "source": [
    "! microk8s.kubectl get all | grep microbot"
   ]
  },
  {
   "cell_type": "code",
   "execution_count": 12,
   "metadata": {},
   "outputs": [
    {
     "name": "stdout",
     "output_type": "stream",
     "text": [
      "deployment.apps \"microbot\" deleted\r\n"
     ]
    }
   ],
   "source": [
    "! microk8s.kubectl delete deployment microbot"
   ]
  },
  {
   "cell_type": "code",
   "execution_count": 13,
   "metadata": {},
   "outputs": [
    {
     "name": "stdout",
     "output_type": "stream",
     "text": [
      "pod/microbot-5bb7fd7f5d-9jzm5   1/1     Terminating   0          7m52s\r\n",
      "pod/microbot-5bb7fd7f5d-l9s49   1/1     Terminating   0          7m49s\r\n"
     ]
    }
   ],
   "source": [
    "! microk8s.kubectl get all | grep microbot"
   ]
  },
  {
   "cell_type": "code",
   "execution_count": null,
   "metadata": {},
   "outputs": [],
   "source": []
  }
 ],
 "metadata": {
  "kernelspec": {
   "display_name": "Python 3",
   "language": "python",
   "name": "python3"
  },
  "language_info": {
   "codemirror_mode": {
    "name": "ipython",
    "version": 3
   },
   "file_extension": ".py",
   "mimetype": "text/x-python",
   "name": "python",
   "nbconvert_exporter": "python",
   "pygments_lexer": "ipython3",
   "version": "3.6.9"
  }
 },
 "nbformat": 4,
 "nbformat_minor": 4
}
