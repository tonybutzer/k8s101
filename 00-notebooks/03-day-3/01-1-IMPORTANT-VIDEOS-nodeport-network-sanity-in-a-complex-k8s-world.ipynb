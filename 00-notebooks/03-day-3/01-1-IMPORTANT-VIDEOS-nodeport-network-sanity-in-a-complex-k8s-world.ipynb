{
 "cells": [
  {
   "cell_type": "markdown",
   "metadata": {},
   "source": [
    "\n",
    "# Kubernetes - Services Explained in 15 Minutes!\n",
    "\n",
    "https://www.youtube.com/watch?v=5lzUpDtmWgM&t=365s\n",
    "# NodePort Service in Kubernetes\n",
    "\n",
    "https://www.youtube.com/watch?v=eth7osiCryc\n",
    "\n",
    "\n",
    "\n",
    "resizing images with htpml tags\n",
    "https://www.youtube.com/watch?v=Vw1EZh1My8s\n"
   ]
  },
  {
   "cell_type": "markdown",
   "metadata": {},
   "source": [
    "---\n",
    "---\n",
    "---\n",
    "\n",
    "![](https://raw.githubusercontent.com/tonybutzer/assets/master/k8s/00-nodeport-before-service-attach.PNG)\n",
    "\n",
    "# Attaching to a k8s Service from OUTSIDE!\n",
    "\n",
    "### We can't use the pod IP and port - cause that's ephemeral and moves around in the cluster\n",
    "\n",
    "### We can't use the ClusterIP Service IP and Port Cause that's scoped inside\n",
    "\n",
    "# NodePort allows access from the Node Level \n",
    "\n",
    "---\n",
    "---\n",
    "![](https://raw.githubusercontent.com/tonybutzer/assets/master/k8s/01-nodeports-service-exposes-static-node-level-port-after.PNG)\n",
    "\n",
    "---\n",
    "---"
   ]
  },
  {
   "cell_type": "markdown",
   "metadata": {},
   "source": [
    "\n",
    "# Example Accessing From Outside\n",
    "\n",
    "## From the NODE\n",
    "\n",
    "- curl localhost:31000\n",
    "- curl 10.12.69.17:31000\n",
    "\n",
    "## From your windows desktop\n",
    "\n",
    "- tunnel\n",
    "    - ssh -i /home/butzer/.ssh/CHS-LSDSDPAS-butzer.pem -L 31000:localhost:31000 ubuntu@$ip\n",
    "    - firefox 10.12.69.17:31000\n",
    "    \n",
    "- via complicated proxy ip\n",
    "    - microk8s.kubectl proxy --accept-hosts=.* --address=0.0.0.0   ## 8001 proxy port default\n",
    "    - ssh -i /home/butzer/.ssh/CHS-LSDSDPAS-butzer.pem -L 8001:localhost:8001 ubuntu@$ip   #(tunnel to proxy server)\n",
    "    - http://localhost:8001/api/v1/namespaces/default/services/microbot-service/proxy/   # complicated proxy endpoint\n"
   ]
  },
  {
   "cell_type": "code",
   "execution_count": 1,
   "metadata": {},
   "outputs": [
    {
     "name": "stdout",
     "output_type": "stream",
     "text": [
      "env: k=microk8s.kubectl\n"
     ]
    }
   ],
   "source": [
    "%env k=microk8s.kubectl"
   ]
  },
  {
   "cell_type": "code",
   "execution_count": 2,
   "metadata": {},
   "outputs": [
    {
     "name": "stdout",
     "output_type": "stream",
     "text": [
      "NAME                        READY   STATUS    RESTARTS   AGE\r\n",
      "microbot-5bb7fd7f5d-tn5b2   1/1     Running   0          2m41s\r\n",
      "microbot-5bb7fd7f5d-z4fxj   1/1     Running   0          2m40s\r\n"
     ]
    }
   ],
   "source": [
    " #$k expose deployment hello-node --type=LoadBalancer --port=80\n",
    "    \n",
    "! $k get pods"
   ]
  },
  {
   "cell_type": "code",
   "execution_count": 3,
   "metadata": {},
   "outputs": [
    {
     "name": "stdout",
     "output_type": "stream",
     "text": [
      "Error from server (AlreadyExists): deployments.apps \"microbot\" already exists\r\n"
     ]
    }
   ],
   "source": [
    "! microk8s.kubectl create deployment microbot --image=dontrebootme/microbot:v1"
   ]
  },
  {
   "cell_type": "code",
   "execution_count": 4,
   "metadata": {},
   "outputs": [
    {
     "name": "stdout",
     "output_type": "stream",
     "text": [
      "deployment.apps/microbot scaled\r\n"
     ]
    }
   ],
   "source": [
    "! microk8s.kubectl scale deployment microbot --replicas=2"
   ]
  },
  {
   "cell_type": "code",
   "execution_count": 5,
   "metadata": {},
   "outputs": [
    {
     "name": "stdout",
     "output_type": "stream",
     "text": [
      "NAME       READY   UP-TO-DATE   AVAILABLE   AGE\r\n",
      "microbot   2/2     2            2           2m42s\r\n"
     ]
    }
   ],
   "source": [
    "! microk8s.kubectl get deployments"
   ]
  },
  {
   "cell_type": "code",
   "execution_count": 6,
   "metadata": {},
   "outputs": [
    {
     "name": "stdout",
     "output_type": "stream",
     "text": [
      "Error from server (AlreadyExists): services \"microbot-service\" already exists\r\n"
     ]
    }
   ],
   "source": [
    "! microk8s.kubectl expose deployment microbot --type=NodePort --port=80 --name=microbot-service"
   ]
  },
  {
   "cell_type": "code",
   "execution_count": 7,
   "metadata": {},
   "outputs": [
    {
     "name": "stdout",
     "output_type": "stream",
     "text": [
      "Error from server (NotFound): services \"kubernetes-bootcamp\" not found\r\n"
     ]
    }
   ],
   "source": [
    "! microk8s.kubectl delete svc kubernetes-bootcamp"
   ]
  },
  {
   "cell_type": "code",
   "execution_count": 8,
   "metadata": {},
   "outputs": [
    {
     "name": "stdout",
     "output_type": "stream",
     "text": [
      "NAME               TYPE        CLUSTER-IP      EXTERNAL-IP   PORT(S)        AGE\r\n",
      "kubernetes         ClusterIP   10.152.183.1    <none>        443/TCP        69m\r\n",
      "microbot-service   NodePort    10.152.183.94   <none>        80:30399/TCP   2m42s\r\n"
     ]
    }
   ],
   "source": [
    "! microk8s.kubectl get svc"
   ]
  },
  {
   "cell_type": "code",
   "execution_count": 9,
   "metadata": {},
   "outputs": [
    {
     "name": "stdout",
     "output_type": "stream",
     "text": [
      "curl 10.152.183.94\n",
      "<!DOCTYPE html>\n",
      "<html>\n",
      "  <style type=\"text/css\">\n",
      "    .centered\n",
      "      {\n",
      "      text-align:center;\n",
      "      margin-top:0px;\n",
      "      margin-bottom:0px;\n",
      "      padding:0px;\n",
      "      }\n",
      "  </style>\n",
      "  <body>\n",
      "    <p class=\"centered\"><img src=\"microbot.png\" alt=\"microbot\"/></p>\n",
      "    <p class=\"centered\">Container hostname: microbot-5bb7fd7f5d-z4fxj</p>\n",
      "  </body>\n",
      "</html>\n",
      "curl localhost:30399\n",
      "<!DOCTYPE html>\n",
      "<html>\n",
      "  <style type=\"text/css\">\n",
      "    .centered\n",
      "      {\n",
      "      text-align:center;\n",
      "      margin-top:0px;\n",
      "      margin-bottom:0px;\n",
      "      padding:0px;\n",
      "      }\n",
      "  </style>\n",
      "  <body>\n",
      "    <p class=\"centered\"><img src=\"microbot.png\" alt=\"microbot\"/></p>\n",
      "    <p class=\"centered\">Container hostname: microbot-5bb7fd7f5d-z4fxj</p>\n",
      "  </body>\n",
      "</html>\n"
     ]
    },
    {
     "name": "stderr",
     "output_type": "stream",
     "text": [
      "  % Total    % Received % Xferd  Average Speed   Time    Time     Time  Current\n",
      "                                 Dload  Upload   Total   Spent    Left  Speed\n",
      "\r",
      "  0     0    0     0    0     0      0      0 --:--:-- --:--:-- --:--:--     0\r",
      "100   351  100   351    0     0   342k      0 --:--:-- --:--:-- --:--:--  342k\n",
      "  % Total    % Received % Xferd  Average Speed   Time    Time     Time  Current\n",
      "                                 Dload  Upload   Total   Spent    Left  Speed\n",
      "\r",
      "  0     0    0     0    0     0      0      0 --:--:-- --:--:-- --:--:--     0\r",
      "100   351  100   351    0     0   342k      0 --:--:-- --:--:-- --:--:--  342k\n"
     ]
    }
   ],
   "source": [
    "%%bash\n",
    "\n",
    "line=`microk8s.kubectl get svc |grep micro`\n",
    "ip=`echo $line | awk -F ' ' '{print $3}'`\n",
    "port=`echo $line | awk -F ' ' '{print $5}' | awk -F ':' '{print $2}'`\n",
    "\n",
    "nport=`echo $port |awk -F '/' '{print $1}'`\n",
    "\n",
    "echo curl $ip\n",
    "curl $ip\n",
    "\n",
    "echo curl localhost:${nport}\n",
    "\n",
    "curl localhost:${nport}\n",
    "\n",
    "\n"
   ]
  },
  {
   "cell_type": "code",
   "execution_count": 10,
   "metadata": {},
   "outputs": [],
   "source": [
    "#! curl localhost:31798"
   ]
  },
  {
   "cell_type": "code",
   "execution_count": 11,
   "metadata": {},
   "outputs": [
    {
     "name": "stdout",
     "output_type": "stream",
     "text": [
      "pod/microbot-5bb7fd7f5d-tn5b2   1/1     Running   0          2m43s\r\n",
      "pod/microbot-5bb7fd7f5d-z4fxj   1/1     Running   0          2m42s\r\n",
      "service/microbot-service   NodePort    10.152.183.94   <none>        80:30399/TCP   2m42s\r\n",
      "deployment.apps/microbot   2/2     2            2           2m43s\r\n",
      "replicaset.apps/microbot-5bb7fd7f5d   2         2         2       2m43s\r\n"
     ]
    }
   ],
   "source": [
    "! microk8s.kubectl get all | grep microbot"
   ]
  },
  {
   "cell_type": "markdown",
   "metadata": {},
   "source": [
    "---\n",
    "---\n",
    "## so thats 2 pods; 1 service; 1 deployment; 1 replicaset -- and a partridge ...\n",
    "---"
   ]
  },
  {
   "cell_type": "code",
   "execution_count": 12,
   "metadata": {},
   "outputs": [
    {
     "name": "stdout",
     "output_type": "stream",
     "text": [
      "service \"microbot-service\" deleted\r\n"
     ]
    }
   ],
   "source": [
    "! microk8s.kubectl delete svc microbot-service"
   ]
  },
  {
   "cell_type": "code",
   "execution_count": 13,
   "metadata": {},
   "outputs": [
    {
     "name": "stdout",
     "output_type": "stream",
     "text": [
      "pod/microbot-5bb7fd7f5d-tn5b2   1/1     Running   0          2m44s\r\n",
      "pod/microbot-5bb7fd7f5d-z4fxj   1/1     Running   0          2m43s\r\n",
      "deployment.apps/microbot   2/2     2            2           2m44s\r\n",
      "replicaset.apps/microbot-5bb7fd7f5d   2         2         2       2m44s\r\n"
     ]
    }
   ],
   "source": [
    "! microk8s.kubectl get all | grep microbot"
   ]
  },
  {
   "cell_type": "code",
   "execution_count": 14,
   "metadata": {},
   "outputs": [
    {
     "name": "stdout",
     "output_type": "stream",
     "text": [
      "deployment.apps \"microbot\" deleted\r\n"
     ]
    }
   ],
   "source": [
    "! microk8s.kubectl delete deployment microbot"
   ]
  },
  {
   "cell_type": "code",
   "execution_count": 15,
   "metadata": {},
   "outputs": [
    {
     "name": "stdout",
     "output_type": "stream",
     "text": [
      "pod/microbot-5bb7fd7f5d-tn5b2   1/1     Terminating   0          2m44s\r\n",
      "pod/microbot-5bb7fd7f5d-z4fxj   1/1     Terminating   0          2m43s\r\n"
     ]
    }
   ],
   "source": [
    "! microk8s.kubectl get all | grep microbot"
   ]
  },
  {
   "cell_type": "code",
   "execution_count": null,
   "metadata": {},
   "outputs": [],
   "source": []
  }
 ],
 "metadata": {
  "kernelspec": {
   "display_name": "Python 3",
   "language": "python",
   "name": "python3"
  },
  "language_info": {
   "codemirror_mode": {
    "name": "ipython",
    "version": 3
   },
   "file_extension": ".py",
   "mimetype": "text/x-python",
   "name": "python",
   "nbconvert_exporter": "python",
   "pygments_lexer": "ipython3",
   "version": "3.6.9"
  }
 },
 "nbformat": 4,
 "nbformat_minor": 4
}
