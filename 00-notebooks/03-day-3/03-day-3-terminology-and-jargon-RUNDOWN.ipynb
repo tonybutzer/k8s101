{
 "cells": [
  {
   "cell_type": "markdown",
   "metadata": {},
   "source": [
    "# Day 3 Overview of the Jargon\n",
    "\n",
    "\" If you can't dazzle them with brilliance - then baffle them with bullJargon\" -- Mr. FilaButzer\n",
    "\n",
    "https://towardsdatascience.com/key-kubernetes-commands-741fe61fde8\n",
    "\n",
    "## CUBE CONTROL\n",
    "\n",
    "![cube control](https://miro.medium.com/max/1200/1*APP1DfEr9oyYIEbKRf9l_A.jpeg)"
   ]
  },
  {
   "cell_type": "markdown",
   "metadata": {},
   "source": [
    "# Resources\n",
    "## Top 11 kubectl Resources\n",
    "\n",
    "```\n",
    "pods, po\n",
    "nodes, no\n",
    "deployments, deploy\n",
    "replicasets, rs\n",
    "daemonsets, ds\n",
    "statefulsets, sts\n",
    "jobs\n",
    "cronjobs, cj\n",
    "services, svc\n",
    "persistentvolumes, pv\n",
    "persistentvolumeclaims, pvc\n",
    "```"
   ]
  },
  {
   "cell_type": "code",
   "execution_count": 1,
   "metadata": {},
   "outputs": [
    {
     "name": "stdout",
     "output_type": "stream",
     "text": [
      "env: k=microk8s.kubectl\n"
     ]
    }
   ],
   "source": [
    "%env k=microk8s.kubectl"
   ]
  },
  {
   "cell_type": "code",
   "execution_count": 2,
   "metadata": {},
   "outputs": [
    {
     "name": "stdout",
     "output_type": "stream",
     "text": [
      "LAST SEEN   TYPE      REASON                    OBJECT                           MESSAGE\r\n",
      "18m         Normal    Starting                  node/k8s                         Starting kube-proxy.\r\n",
      "18m         Normal    RegisteredNode            node/k8s                         Node k8s event: Registered Node k8s in Controller\r\n",
      "17m         Normal    NodeReady                 node/k8s                         Node k8s status is now: NodeReady\r\n",
      "16m         Normal    Starting                  node/k8s                         Starting kubelet.\r\n",
      "16m         Warning   InvalidDiskCapacity       node/k8s                         invalid capacity 0 on image filesystem\r\n",
      "16m         Normal    NodeHasSufficientMemory   node/k8s                         Node k8s status is now: NodeHasSufficientMemory\r\n",
      "16m         Normal    NodeHasNoDiskPressure     node/k8s                         Node k8s status is now: NodeHasNoDiskPressure\r\n",
      "16m         Normal    NodeHasSufficientPID      node/k8s                         Node k8s status is now: NodeHasSufficientPID\r\n",
      "16m         Normal    NodeAllocatableEnforced   node/k8s                         Updated Node Allocatable limit across pods\r\n",
      "16m         Normal    Starting                  node/k8s                         Starting kube-proxy.\r\n",
      "16m         Normal    RegisteredNode            node/k8s                         Node k8s event: Registered Node k8s in Controller\r\n",
      "15m         Warning   MissingClusterDNS         node/k8s                         kubelet does not have ClusterDNS IP configured and cannot create Pod using \"ClusterFirst\" policy. Falling back to \"Default\" policy.\r\n",
      "14m         Normal    Starting                  node/k8s                         Starting kubelet.\r\n",
      "14m         Warning   InvalidDiskCapacity       node/k8s                         invalid capacity 0 on image filesystem\r\n",
      "14m         Normal    NodeHasSufficientMemory   node/k8s                         Node k8s status is now: NodeHasSufficientMemory\r\n",
      "14m         Normal    NodeHasNoDiskPressure     node/k8s                         Node k8s status is now: NodeHasNoDiskPressure\r\n",
      "14m         Normal    NodeHasSufficientPID      node/k8s                         Node k8s status is now: NodeHasSufficientPID\r\n",
      "14m         Normal    NodeNotReady              node/k8s                         Node k8s status is now: NodeNotReady\r\n",
      "14m         Normal    NodeAllocatableEnforced   node/k8s                         Updated Node Allocatable limit across pods\r\n",
      "14m         Normal    NodeReady                 node/k8s                         Node k8s status is now: NodeReady\r\n",
      "<unknown>   Normal    Scheduled                 pod/microbot-5bb7fd7f5d-75j2d    Successfully assigned default/microbot-5bb7fd7f5d-75j2d to k8s\r\n",
      "10m         Normal    Pulling                   pod/microbot-5bb7fd7f5d-75j2d    Pulling image \"dontrebootme/microbot:v1\"\r\n",
      "10m         Normal    Pulled                    pod/microbot-5bb7fd7f5d-75j2d    Successfully pulled image \"dontrebootme/microbot:v1\"\r\n",
      "10m         Normal    Created                   pod/microbot-5bb7fd7f5d-75j2d    Created container microbot\r\n",
      "10m         Normal    Started                   pod/microbot-5bb7fd7f5d-75j2d    Started container microbot\r\n",
      "<unknown>   Normal    Scheduled                 pod/microbot-5bb7fd7f5d-m48sn    Successfully assigned default/microbot-5bb7fd7f5d-m48sn to k8s\r\n",
      "10m         Normal    Pulled                    pod/microbot-5bb7fd7f5d-m48sn    Container image \"dontrebootme/microbot:v1\" already present on machine\r\n",
      "10m         Normal    Created                   pod/microbot-5bb7fd7f5d-m48sn    Created container microbot\r\n",
      "10m         Normal    Started                   pod/microbot-5bb7fd7f5d-m48sn    Started container microbot\r\n",
      "10m         Normal    SuccessfulCreate          replicaset/microbot-5bb7fd7f5d   Created pod: microbot-5bb7fd7f5d-75j2d\r\n",
      "10m         Normal    SuccessfulCreate          replicaset/microbot-5bb7fd7f5d   Created pod: microbot-5bb7fd7f5d-m48sn\r\n",
      "10m         Normal    ScalingReplicaSet         deployment/microbot              Scaled up replica set microbot-5bb7fd7f5d to 1\r\n",
      "10m         Normal    ScalingReplicaSet         deployment/microbot              Scaled up replica set microbot-5bb7fd7f5d to 2\r\n"
     ]
    }
   ],
   "source": [
    "! $k get events"
   ]
  },
  {
   "cell_type": "code",
   "execution_count": 3,
   "metadata": {},
   "outputs": [
    {
     "name": "stdout",
     "output_type": "stream",
     "text": [
      "Name:         microbot-5bb7fd7f5d-75j2d\n",
      "Namespace:    default\n",
      "Priority:     0\n",
      "Node:         k8s/172.31.54.249\n",
      "Start Time:   Sat, 28 Mar 2020 21:01:09 +0000\n",
      "Labels:       app=microbot\n",
      "              pod-template-hash=5bb7fd7f5d\n",
      "Annotations:  <none>\n",
      "Status:       Running\n",
      "IP:           10.1.15.12\n",
      "IPs:\n",
      "  IP:           10.1.15.12\n",
      "Controlled By:  ReplicaSet/microbot-5bb7fd7f5d\n",
      "Containers:\n",
      "  microbot:\n",
      "    Container ID:   containerd://1e7ab3b6dca7aa63d5e009ebf2794d070b207de2cd6992a565317c50c40fc56e\n",
      "    Image:          dontrebootme/microbot:v1\n",
      "    Image ID:       sha256:899ceb044bf694340a22d71a28f4fff64c8197cee2ed7badde83e0032118970a\n",
      "    Port:           <none>\n",
      "    Host Port:      <none>\n",
      "    State:          Running\n",
      "      Started:      Sat, 28 Mar 2020 21:01:18 +0000\n",
      "    Ready:          True\n",
      "    Restart Count:  0\n",
      "    Environment:    <none>\n",
      "    Mounts:\n",
      "      /var/run/secrets/kubernetes.io/serviceaccount from default-token-5qf6v (ro)\n",
      "Conditions:\n",
      "  Type              Status\n",
      "  Initialized       True \n",
      "  Ready             True \n",
      "  ContainersReady   True \n",
      "  PodScheduled      True \n",
      "Volumes:\n",
      "  default-token-5qf6v:\n",
      "    Type:        Secret (a volume populated by a Secret)\n",
      "    SecretName:  default-token-5qf6v\n",
      "    Optional:    false\n",
      "QoS Class:       BestEffort\n",
      "Node-Selectors:  <none>\n",
      "Tolerations:     node.kubernetes.io/not-ready:NoExecute for 300s\n",
      "                 node.kubernetes.io/unreachable:NoExecute for 300s\n",
      "Events:\n",
      "  Type    Reason     Age        From               Message\n",
      "  ----    ------     ----       ----               -------\n",
      "  Normal  Scheduled  <unknown>  default-scheduler  Successfully assigned default/microbot-5bb7fd7f5d-75j2d to k8s\n",
      "  Normal  Pulling    10m        kubelet, k8s       Pulling image \"dontrebootme/microbot:v1\"\n",
      "  Normal  Pulled     10m        kubelet, k8s       Successfully pulled image \"dontrebootme/microbot:v1\"\n",
      "  Normal  Created    10m        kubelet, k8s       Created container microbot\n",
      "  Normal  Started    10m        kubelet, k8s       Started container microbot\n",
      "\n",
      "\n",
      "Name:         microbot-5bb7fd7f5d-m48sn\n",
      "Namespace:    default\n",
      "Priority:     0\n",
      "Node:         k8s/172.31.54.249\n",
      "Start Time:   Sat, 28 Mar 2020 21:01:18 +0000\n",
      "Labels:       app=microbot\n",
      "              pod-template-hash=5bb7fd7f5d\n",
      "Annotations:  <none>\n",
      "Status:       Running\n",
      "IP:           10.1.15.13\n",
      "IPs:\n",
      "  IP:           10.1.15.13\n",
      "Controlled By:  ReplicaSet/microbot-5bb7fd7f5d\n",
      "Containers:\n",
      "  microbot:\n",
      "    Container ID:   containerd://c23153d03053a9e48f00f4a759fda8943f8452f0787b9e6a22633cbedf58c74f\n",
      "    Image:          dontrebootme/microbot:v1\n",
      "    Image ID:       sha256:899ceb044bf694340a22d71a28f4fff64c8197cee2ed7badde83e0032118970a\n",
      "    Port:           <none>\n",
      "    Host Port:      <none>\n",
      "    State:          Running\n",
      "      Started:      Sat, 28 Mar 2020 21:01:19 +0000\n",
      "    Ready:          True\n",
      "    Restart Count:  0\n",
      "    Environment:    <none>\n",
      "    Mounts:\n",
      "      /var/run/secrets/kubernetes.io/serviceaccount from default-token-5qf6v (ro)\n",
      "Conditions:\n",
      "  Type              Status\n",
      "  Initialized       True \n",
      "  Ready             True \n",
      "  ContainersReady   True \n",
      "  PodScheduled      True \n",
      "Volumes:\n",
      "  default-token-5qf6v:\n",
      "    Type:        Secret (a volume populated by a Secret)\n",
      "    SecretName:  default-token-5qf6v\n",
      "    Optional:    false\n",
      "QoS Class:       BestEffort\n",
      "Node-Selectors:  <none>\n",
      "Tolerations:     node.kubernetes.io/not-ready:NoExecute for 300s\n",
      "                 node.kubernetes.io/unreachable:NoExecute for 300s\n",
      "Events:\n",
      "  Type    Reason     Age        From               Message\n",
      "  ----    ------     ----       ----               -------\n",
      "  Normal  Scheduled  <unknown>  default-scheduler  Successfully assigned default/microbot-5bb7fd7f5d-m48sn to k8s\n",
      "  Normal  Pulled     10m        kubelet, k8s       Container image \"dontrebootme/microbot:v1\" already present on machine\n",
      "  Normal  Created    10m        kubelet, k8s       Created container microbot\n",
      "  Normal  Started    10m        kubelet, k8s       Started container microbot\n",
      "\n",
      "\n",
      "Name:              kubernetes\n",
      "Namespace:         default\n",
      "Labels:            component=apiserver\n",
      "                   provider=kubernetes\n",
      "Annotations:       <none>\n",
      "Selector:          <none>\n",
      "Type:              ClusterIP\n",
      "IP:                10.152.183.1\n",
      "Port:              https  443/TCP\n",
      "TargetPort:        16443/TCP\n",
      "Endpoints:         172.31.54.249:16443\n",
      "Session Affinity:  None\n",
      "Events:            <none>\n",
      "\n",
      "\n",
      "Name:                     microbot-service\n",
      "Namespace:                default\n",
      "Labels:                   app=microbot\n",
      "Annotations:              <none>\n",
      "Selector:                 app=microbot\n",
      "Type:                     NodePort\n",
      "IP:                       10.152.183.88\n",
      "Port:                     <unset>  80/TCP\n",
      "TargetPort:               80/TCP\n",
      "NodePort:                 <unset>  31468/TCP\n",
      "Endpoints:                10.1.15.12:80,10.1.15.13:80\n",
      "Session Affinity:         None\n",
      "External Traffic Policy:  Cluster\n",
      "Events:                   <none>\n",
      "\n",
      "\n",
      "Name:                   microbot\n",
      "Namespace:              default\n",
      "CreationTimestamp:      Sat, 28 Mar 2020 21:01:08 +0000\n",
      "Labels:                 app=microbot\n",
      "Annotations:            deployment.kubernetes.io/revision: 1\n",
      "Selector:               app=microbot\n",
      "Replicas:               2 desired | 2 updated | 2 total | 2 available | 0 unavailable\n",
      "StrategyType:           RollingUpdate\n",
      "MinReadySeconds:        0\n",
      "RollingUpdateStrategy:  25% max unavailable, 25% max surge\n",
      "Pod Template:\n",
      "  Labels:  app=microbot\n",
      "  Containers:\n",
      "   microbot:\n",
      "    Image:        dontrebootme/microbot:v1\n",
      "    Port:         <none>\n",
      "    Host Port:    <none>\n",
      "    Environment:  <none>\n",
      "    Mounts:       <none>\n",
      "  Volumes:        <none>\n",
      "Conditions:\n",
      "  Type           Status  Reason\n",
      "  ----           ------  ------\n",
      "  Available      True    MinimumReplicasAvailable\n",
      "  Progressing    True    NewReplicaSetAvailable\n",
      "OldReplicaSets:  <none>\n",
      "NewReplicaSet:   microbot-5bb7fd7f5d (2/2 replicas created)\n",
      "Events:\n",
      "  Type    Reason             Age   From                   Message\n",
      "  ----    ------             ----  ----                   -------\n",
      "  Normal  ScalingReplicaSet  10m   deployment-controller  Scaled up replica set microbot-5bb7fd7f5d to 1\n",
      "  Normal  ScalingReplicaSet  10m   deployment-controller  Scaled up replica set microbot-5bb7fd7f5d to 2\n",
      "\n",
      "\n",
      "Name:           microbot-5bb7fd7f5d\n",
      "Namespace:      default\n",
      "Selector:       app=microbot,pod-template-hash=5bb7fd7f5d\n",
      "Labels:         app=microbot\n",
      "                pod-template-hash=5bb7fd7f5d\n",
      "Annotations:    deployment.kubernetes.io/desired-replicas: 2\n",
      "                deployment.kubernetes.io/max-replicas: 3\n",
      "                deployment.kubernetes.io/revision: 1\n",
      "Controlled By:  Deployment/microbot\n",
      "Replicas:       2 current / 2 desired\n",
      "Pods Status:    2 Running / 0 Waiting / 0 Succeeded / 0 Failed\n",
      "Pod Template:\n",
      "  Labels:  app=microbot\n",
      "           pod-template-hash=5bb7fd7f5d\n",
      "  Containers:\n",
      "   microbot:\n",
      "    Image:        dontrebootme/microbot:v1\n",
      "    Port:         <none>\n",
      "    Host Port:    <none>\n",
      "    Environment:  <none>\n",
      "    Mounts:       <none>\n",
      "  Volumes:        <none>\n",
      "Events:\n",
      "  Type    Reason            Age   From                   Message\n",
      "  ----    ------            ----  ----                   -------\n",
      "  Normal  SuccessfulCreate  10m   replicaset-controller  Created pod: microbot-5bb7fd7f5d-75j2d\n",
      "  Normal  SuccessfulCreate  10m   replicaset-controller  Created pod: microbot-5bb7fd7f5d-m48sn\n"
     ]
    }
   ],
   "source": [
    "! $k describe all"
   ]
  },
  {
   "cell_type": "markdown",
   "metadata": {},
   "source": [
    "# k8s is hot search interest for kubernetes over time\n",
    "\n",
    "![hot](https://miro.medium.com/max/1584/1*K2qc67GtA52dZrbpQbORmw.png)\n",
    "\n",
    "https://towardsdatascience.com/key-kubernetes-concepts-62939f4bc08e\n",
    "\n",
    "> K8s doesn’t make a lot of sense for a basic static website that gets a handful of visitors per day. Its use case is for larger apps that might have to scale up and down quickly.\n",
    "\n",
    "\n",
    "![k8s abstractions](https://miro.medium.com/max/688/1*YggVOtB-mep_HP1C4rhpGg.png)\n",
    "\n",
    "```\n",
    "Deployments create and manage ReplicaSets, which create and manage Pods, which run on Nodes, which have a container runtime, which run the app code you put in your Docker image.```\n",
    "\n",
    "![kubelet](https://miro.medium.com/max/1316/1*Y4TTxjBCff9GVRfTZy8GGw.png)"
   ]
  },
  {
   "cell_type": "markdown",
   "metadata": {},
   "source": [
    "# Deployment\n",
    "\n",
    "If you want to make a **stateless app that will run continuously**, such as an HTTP server, you want a Deployment."
   ]
  },
  {
   "cell_type": "markdown",
   "metadata": {},
   "source": [
    "# ReplicaSet\n",
    "\n",
    "The Deployment creates a ReplicaSet that will ensure your app has the **desired number of Pods.**\n",
    "\n",
    "Replication Controllers are old school. so we ignore them - students have been notified."
   ]
  },
  {
   "cell_type": "markdown",
   "metadata": {},
   "source": [
    "# Pod\n",
    "\n",
    "The Pod is the basic building block of Kubernetes. A Pod contains a group of one or more containers. Generally, each Pod has one container.\n",
    "\n",
    "## So a Pod is the basic building block - many times one container inside"
   ]
  },
  {
   "cell_type": "code",
   "execution_count": 4,
   "metadata": {},
   "outputs": [
    {
     "name": "stdout",
     "output_type": "stream",
     "text": [
      "NAMESPACE     NAME                                              READY   STATUS    RESTARTS   AGE\r\n",
      "default       microbot-5bb7fd7f5d-75j2d                         1/1     Running   0          10m\r\n",
      "default       microbot-5bb7fd7f5d-m48sn                         1/1     Running   0          10m\r\n",
      "kube-system   coredns-9b8997588-ms8sb                           1/1     Running   0          14m\r\n",
      "kube-system   dashboard-metrics-scraper-687667bb6c-5t4w7        1/1     Running   0          15m\r\n",
      "kube-system   heapster-v1.5.2-5c58f64f8b-j885f                  4/4     Running   0          15m\r\n",
      "kube-system   kubernetes-dashboard-5c848cc544-224k8             1/1     Running   0          15m\r\n",
      "kube-system   monitoring-influxdb-grafana-v4-6d599df6bf-249bp   2/2     Running   0          15m\r\n"
     ]
    }
   ],
   "source": [
    "! $k get pods --all-namespaces"
   ]
  },
  {
   "cell_type": "markdown",
   "metadata": {},
   "source": [
    "## Pods live on Worker Nodes."
   ]
  },
  {
   "cell_type": "code",
   "execution_count": 5,
   "metadata": {},
   "outputs": [
    {
     "name": "stdout",
     "output_type": "stream",
     "text": [
      "NAME   STATUS   ROLES    AGE   VERSION\r\n",
      "k8s    Ready    <none>   18m   v1.17.4\r\n"
     ]
    }
   ],
   "source": [
    "# not many nodes in tony's little microk8s - not the same as little mike bloomberg\n",
    "! $k get nodes"
   ]
  },
  {
   "cell_type": "markdown",
   "metadata": {},
   "source": [
    "![bigpic](https://miro.medium.com/max/1178/1*gT5K52iFTJf6SDhwWBaClQ.png)\n",
    "\n",
    "Cluster Master\n",
    "\n",
    "The Cluster Master has a seriously ridiculous number of aliases. It’s also referred to as the Master Node, Kubernetes Master, Cluster Control Plane, Control Plane, and just Master.\n",
    "\n",
    "\n",
    "Worker Node\n",
    "\n",
    "A Worker Node is also referred to as a Node for short. A Node is an abstraction for a machine — either a physical machine or a virtual machine. Think of a Node as a computer server.\n",
    "\n",
    "\n",
    "![etcd](https://miro.medium.com/max/1153/1*2B3eMo0iCx3GCPoHWHd1EQ.png)\n",
    "\n",
    "\n",
    "if zooKeeper is to MESOS; etcd is to ______(blank)?\n"
   ]
  },
  {
   "cell_type": "markdown",
   "metadata": {},
   "source": [
    "- API Server — Exposes the K8s API. It’s the frontend for Kubernetes control. (aka. kube-apiserver) Think hub.\n",
    "- etcd — Distributed key-value store for Cluster state data. Think Cluster info.\n",
    "- Scheduler — Selects the Nodes for new Pods. (aka kube-scheduler) Think matcher.\n",
    "- kube-controller-manager —Process that runs controllers to handle Cluster background tasks. Think Cluster controller.\n",
    "- cloud-controller-manager — Runs controllers that interact with cloud providers. Think cloud interface.\n",
    "\n",
    "![work](https://miro.medium.com/max/1061/1*rrm3H9IVzNOrlLmJsvE4dg.png)\n",
    "\n",
    "- kubelet — Responsible for everything on the Worker Node. It communicates with the Master’s API server. Think brain for Worker Node.\n",
    "- kube-proxy — Routes connections to the correct Pods. Also performs load balancing across Pods for a Service. Think traffic cop.\n",
    "- Container Runtime — Downloads images and runs containers. For example, Docker is a Container Runtime. Think Docker."
   ]
  },
  {
   "cell_type": "markdown",
   "metadata": {},
   "source": [
    "![controllers](https://miro.medium.com/max/1245/1*4J08LAIHRduvtlaj_KzJGA.png)\n",
    "\n",
    "\n",
    "Sometimes your app will need to keep information about its state. You can think of state as the current status of your user’s interaction with your app. \n",
    "\n",
    "# Wasn't Mr Ron Dilley talk'n bout state\n",
    "## He is so wise...."
   ]
  },
  {
   "cell_type": "markdown",
   "metadata": {},
   "source": [
    "For example, the state in the original Super Mario Bros. game would include every relevant aspect of the user’s game: what level, what location in that level, big or small, fireballs or no fireballs, how many coins, how many points, and how many lives.\n",
    "\n",
    "### What do you do when your app has state you need to keep track of? Use a StatefulSet.\n",
    "\n",
    "## Use a StatefulSet\n",
    "\n",
    "Each Pod has a unique, persistent identifier that the controller maintains over any rescheduling. StatefulSets for good for persistent, stateful backends like databases.\n",
    "\n",
    "The state information for the Pod is held in a Volume associated with the StatefulSet. We’ll discuss Volumes in a bit."
   ]
  },
  {
   "cell_type": "markdown",
   "metadata": {},
   "source": [
    "# DaemonSet\n",
    "\n",
    "DaemonSets are for continuous process. They run one Pod per Node. Each new Node added to the cluster automatically gets a Pod started by the DaemonSet. \n",
    "\n",
    "### DaemonSets are useful for ongoing background tasks such as monitoring and log collection.\n",
    "\n",
    "StatefulSets and DaemonSets are not controlled by a Deployment. Although they are at the same level of abstraction as a ReplicaSet, there is not a higher level of abstraction for them in the current API.\n",
    "\n",
    "## Jobs and CronJobs\n",
    "\n",
    "A Job is a supervisor for Pods that run a batch process. \n",
    "#### Jobs end; they are not restarted\n",
    "### Use a Job when you want to run a process once.\n",
    "\n",
    "#### CronJob: A CronJob is similar to a Job, but is scheduled to repeat at regular intervals or set times."
   ]
  },
  {
   "cell_type": "markdown",
   "metadata": {},
   "source": [
    "## Service\n",
    "\n",
    "### \"whew\" -- finally -- this is todays lab\n",
    "\n",
    "### A K8s Service creates a single access point for a group of Pods. \n",
    "- A Service provides \n",
    "    - a **consistent IP address and port** to access underlying Pods. \n",
    "    - Both external users and internal Pods use Services to communicate with other Pods.\n",
    "    \n",
    "### This consistent ip and port is important to k8s snobs\n",
    "#### but it is kinda KOOL!"
   ]
  },
  {
   "cell_type": "markdown",
   "metadata": {},
   "source": [
    "# Volumes, PersistentVolumes, and PersistentVolume Claims\n",
    "## Volumes\n",
    "\n",
    "- A Volume is a directory that can hold data. \n",
    "- A Volume is a component of a Pod, and is not independent of it. \n",
    "- A Volume is created in the Pod specification. \n",
    "- A Volume cannot be deleted on its own.\n",
    "\n",
    "A Volume is made accessible to all the containers in a Pod. Each container that you want to access the Volume must mount it individually.\n",
    "\n",
    "#### Tony needs more experience with volumes and docker storage \n",
    "\n",
    "```\n",
    "A K8s Volume has more functionality than a Docker volume. A Volume can provide access to local disk storage, memory storage, or cloud storage. A Pod can use a combination of them simultaneously.\n",
    "\n",
    "PersisententVolumes (PV) and PersisentVolumeClaims (PVC) add complexity compared to using Volumes alone. However, PVs are useful for managing storage resources for large projects.\n",
    "\n",
    "```\n",
    "\n",
    "## These concepts may warrant an EROS Specialist\n",
    "\n",
    "### Tony might be more of a generalist"
   ]
  },
  {
   "cell_type": "markdown",
   "metadata": {},
   "source": [
    "```\n",
    "Let’s recap the K8s concepts we’ve seen. Here are the six levels of abstraction for a Deployment:\n",
    "\n",
    "    Deployment: manages ReplicaSets. Use for persistent, stateless apps (e.g. HTTP servers).\n",
    "    ReplicaSet: creates and manages Pods.\n",
    "    Pod: basic unit of K8s.\n",
    "    Node Cluster: Worker Nodes + Cluster Master.\n",
    "    - Worker Nodes: machines for Pods.\n",
    "    - Cluster Master: directs worker nodes.\n",
    "    Node Processes\n",
    "    Master subcomponents:\n",
    "    - API server: hub.\n",
    "    - etcd: cluster info.\n",
    "    - scheduler: matcher.\n",
    "    - kube-controller-manager: cluster controller.\n",
    "    - cloud-controller-manager: cloud interface.\n",
    "    Worker Node subcomponents:\n",
    "    - kubelet: Worker Node brain.\n",
    "    - kube-proxy: traffic cop.\n",
    "    - container-runtime: Docker.\n",
    "    Docker Container: where the app code lives.\n",
    "\n",
    "Here are the 7 additional high-level K8s API objects to know:\n",
    "\n",
    "    StatefulSet: Like a ReplicaSet for stateful processes. Think state.\n",
    "    DaemonSet: One automatic Pod per Node. Think monitor.\n",
    "    Job: Run a container to completion. Think batch.\n",
    "    CronJob: Repeated Job. Think time.\n",
    "    Service: Access point for Pods. Think access point.\n",
    "    Volume: Holds data. Think disk.\n",
    "    PersistentVolume, PersistentVolumeClaim: System for allocating storage. Think storage claim.\n",
    "```"
   ]
  },
  {
   "cell_type": "code",
   "execution_count": null,
   "metadata": {},
   "outputs": [],
   "source": []
  }
 ],
 "metadata": {
  "kernelspec": {
   "display_name": "Python 3",
   "language": "python",
   "name": "python3"
  },
  "language_info": {
   "codemirror_mode": {
    "name": "ipython",
    "version": 3
   },
   "file_extension": ".py",
   "mimetype": "text/x-python",
   "name": "python",
   "nbconvert_exporter": "python",
   "pygments_lexer": "ipython3",
   "version": "3.6.9"
  }
 },
 "nbformat": 4,
 "nbformat_minor": 4
}
