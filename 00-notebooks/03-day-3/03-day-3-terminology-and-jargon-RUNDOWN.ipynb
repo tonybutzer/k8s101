{
 "cells": [
  {
   "cell_type": "markdown",
   "metadata": {},
   "source": [
    "# Day 3 Overview of the Jargon\n",
    "\n",
    "\" If you can't dazzle them with brilliance - then baffle them with bullJargon\" -- Mr. FilaButzer\n",
    "\n",
    "https://towardsdatascience.com/key-kubernetes-commands-741fe61fde8\n",
    "\n",
    "## CUBE CONTROL\n",
    "\n",
    "![cube control](https://miro.medium.com/max/1200/1*APP1DfEr9oyYIEbKRf9l_A.jpeg)"
   ]
  },
  {
   "cell_type": "markdown",
   "metadata": {},
   "source": [
    "# Resources\n",
    "## Top 11 kubectl Resources\n",
    "\n",
    "```\n",
    "pods, po\n",
    "nodes, no\n",
    "deployments, deploy\n",
    "replicasets, rs\n",
    "daemonsets, ds\n",
    "statefulsets, sts\n",
    "jobs\n",
    "cronjobs, cj\n",
    "services, svc\n",
    "persistentvolumes, pv\n",
    "persistentvolumeclaims, pvc\n",
    "```"
   ]
  },
  {
   "cell_type": "code",
   "execution_count": 1,
   "metadata": {},
   "outputs": [
    {
     "name": "stdout",
     "output_type": "stream",
     "text": [
      "env: k=microk8s.kubectl\n"
     ]
    }
   ],
   "source": [
    "%env k=microk8s.kubectl"
   ]
  },
  {
   "cell_type": "code",
   "execution_count": 2,
   "metadata": {},
   "outputs": [
    {
     "name": "stdout",
     "output_type": "stream",
     "text": [
      "No resources found in default namespace.\r\n"
     ]
    }
   ],
   "source": [
    "! $k get events"
   ]
  },
  {
   "cell_type": "code",
   "execution_count": 4,
   "metadata": {},
   "outputs": [
    {
     "name": "stdout",
     "output_type": "stream",
     "text": [
      "Name:              kubernetes\r\n",
      "Namespace:         default\r\n",
      "Labels:            component=apiserver\r\n",
      "                   provider=kubernetes\r\n",
      "Annotations:       <none>\r\n",
      "Selector:          <none>\r\n",
      "Type:              ClusterIP\r\n",
      "IP:                10.152.183.1\r\n",
      "Port:              https  443/TCP\r\n",
      "TargetPort:        16443/TCP\r\n",
      "Endpoints:         10.12.69.17:16443\r\n",
      "Session Affinity:  None\r\n",
      "Events:            <none>\r\n"
     ]
    }
   ],
   "source": [
    "! $k describe all"
   ]
  },
  {
   "cell_type": "markdown",
   "metadata": {},
   "source": [
    "# k8s is hot search interest for kubernetes over time\n",
    "\n",
    "![hot](https://miro.medium.com/max/1584/1*K2qc67GtA52dZrbpQbORmw.png)\n",
    "\n",
    "https://towardsdatascience.com/key-kubernetes-concepts-62939f4bc08e\n",
    "\n",
    "> K8s doesn’t make a lot of sense for a basic static website that gets a handful of visitors per day. Its use case is for larger apps that might have to scale up and down quickly.\n",
    "\n",
    "\n",
    "![k8s abstractions](https://miro.medium.com/max/688/1*YggVOtB-mep_HP1C4rhpGg.png)\n",
    "\n",
    "```\n",
    "Deployments create and manage ReplicaSets, which create and manage Pods, which run on Nodes, which have a container runtime, which run the app code you put in your Docker image.```\n",
    "\n",
    "![kubelet](https://miro.medium.com/max/1316/1*Y4TTxjBCff9GVRfTZy8GGw.png)"
   ]
  },
  {
   "cell_type": "markdown",
   "metadata": {},
   "source": [
    "# Deployment\n",
    "\n",
    "If you want to make a **stateless app that will run continuously**, such as an HTTP server, you want a Deployment."
   ]
  },
  {
   "cell_type": "markdown",
   "metadata": {},
   "source": [
    "# ReplicaSet\n",
    "\n",
    "The Deployment creates a ReplicaSet that will ensure your app has the **desired number of Pods.**\n",
    "\n",
    "Replication Controllers are old school. so we ignore them - students have been notified."
   ]
  },
  {
   "cell_type": "markdown",
   "metadata": {},
   "source": [
    "# Pod\n",
    "\n",
    "The Pod is the basic building block of Kubernetes. A Pod contains a group of one or more containers. Generally, each Pod has one container.\n",
    "\n",
    "## So a Pod is the basic building block - many times one container inside"
   ]
  },
  {
   "cell_type": "code",
   "execution_count": 6,
   "metadata": {},
   "outputs": [
    {
     "name": "stdout",
     "output_type": "stream",
     "text": [
      "NAMESPACE     NAME                                              READY   STATUS    RESTARTS   AGE\r\n",
      "kube-system   coredns-9b8997588-9dvwg                           1/1     Running   0          13h\r\n",
      "kube-system   dashboard-metrics-scraper-687667bb6c-5qxnd        1/1     Running   0          13h\r\n",
      "kube-system   heapster-v1.5.2-5c58f64f8b-9w6nk                  4/4     Running   0          13h\r\n",
      "kube-system   kubernetes-dashboard-5c848cc544-4qzq5             1/1     Running   0          13h\r\n",
      "kube-system   monitoring-influxdb-grafana-v4-6d599df6bf-5mr9f   2/2     Running   0          13h\r\n"
     ]
    }
   ],
   "source": [
    "! $k get pods --all-namespaces"
   ]
  },
  {
   "cell_type": "markdown",
   "metadata": {},
   "source": [
    "## Pods live on Worker Nodes."
   ]
  },
  {
   "cell_type": "code",
   "execution_count": 8,
   "metadata": {},
   "outputs": [
    {
     "name": "stdout",
     "output_type": "stream",
     "text": [
      "NAME   STATUS   ROLES    AGE   VERSION\r\n",
      "k8s    Ready    <none>   14h   v1.17.2\r\n"
     ]
    }
   ],
   "source": [
    "# not many nodes in tony's little microk8s - not the same as little mike bloomberg\n",
    "! $k get nodes"
   ]
  },
  {
   "cell_type": "markdown",
   "metadata": {},
   "source": [
    "![bigpic](https://miro.medium.com/max/1178/1*gT5K52iFTJf6SDhwWBaClQ.png)\n",
    "\n",
    "Cluster Master\n",
    "\n",
    "The Cluster Master has a seriously ridiculous number of aliases. It’s also referred to as the Master Node, Kubernetes Master, Cluster Control Plane, Control Plane, and just Master.\n",
    "\n",
    "\n",
    "Worker Node\n",
    "\n",
    "A Worker Node is also referred to as a Node for short. A Node is an abstraction for a machine — either a physical machine or a virtual machine. Think of a Node as a computer server.\n",
    "\n",
    "\n",
    "![etcd](https://miro.medium.com/max/1153/1*2B3eMo0iCx3GCPoHWHd1EQ.png)\n",
    "\n",
    "\n",
    "if zooKeeper is to MESOS; etcd is to ______(blank)?\n"
   ]
  },
  {
   "cell_type": "markdown",
   "metadata": {},
   "source": [
    "- API Server — Exposes the K8s API. It’s the frontend for Kubernetes control. (aka. kube-apiserver) Think hub.\n",
    "- etcd — Distributed key-value store for Cluster state data. Think Cluster info.\n",
    "- Scheduler — Selects the Nodes for new Pods. (aka kube-scheduler) Think matcher.\n",
    "- kube-controller-manager —Process that runs controllers to handle Cluster background tasks. Think Cluster controller.\n",
    "- cloud-controller-manager — Runs controllers that interact with cloud providers. Think cloud interface.\n",
    "\n",
    "![work](https://miro.medium.com/max/1061/1*rrm3H9IVzNOrlLmJsvE4dg.png)\n",
    "\n",
    "- kubelet — Responsible for everything on the Worker Node. It communicates with the Master’s API server. Think brain for Worker Node.\n",
    "- kube-proxy — Routes connections to the correct Pods. Also performs load balancing across Pods for a Service. Think traffic cop.\n",
    "- Container Runtime — Downloads images and runs containers. For example, Docker is a Container Runtime. Think Docker."
   ]
  },
  {
   "cell_type": "markdown",
   "metadata": {},
   "source": [
    "![controllers](https://miro.medium.com/max/1245/1*4J08LAIHRduvtlaj_KzJGA.png)\n",
    "\n",
    "\n",
    "Sometimes your app will need to keep information about its state. You can think of state as the current status of your user’s interaction with your app. \n",
    "\n",
    "# Wasn't Mr Ron Diley talk'n bout state\n",
    "## He is so wise...."
   ]
  },
  {
   "cell_type": "markdown",
   "metadata": {},
   "source": [
    "For example, the state in the original Super Mario Bros. game would include every relevant aspect of the user’s game: what level, what location in that level, big or small, fireballs or no fireballs, how many coins, how many points, and how many lives.\n",
    "\n",
    "### What do you do when your app has state you need to keep track of? Use a StatefulSet.\n",
    "\n",
    "## Use a StatefulSet\n",
    "\n",
    "Each Pod has a unique, persistent identifier that the controller maintains over any rescheduling. StatefulSets for good for persistent, stateful backends like databases.\n",
    "\n",
    "The state information for the Pod is held in a Volume associated with the StatefulSet. We’ll discuss Volumes in a bit."
   ]
  },
  {
   "cell_type": "markdown",
   "metadata": {},
   "source": [
    "# DaemonSet\n",
    "\n",
    "DaemonSets are for continuous process. They run one Pod per Node. Each new Node added to the cluster automatically gets a Pod started by the DaemonSet. \n",
    "\n",
    "### DaemonSets are useful for ongoing background tasks such as monitoring and log collection.\n",
    "\n",
    "StatefulSets and DaemonSets are not controlled by a Deployment. Although they are at the same level of abstraction as a ReplicaSet, there is not a higher level of abstraction for them in the current API.\n",
    "\n",
    "## Jobs and CronJobs\n",
    "\n",
    "A Job is a supervisor for Pods that run a batch process. \n",
    "#### Jobs end; they are not restarted\n",
    "### Use a Job when you want to run a process once.\n",
    "\n",
    "#### CronJob: A CronJob is similar to a Job, but is scheduled to repeat at regular intervals or set times."
   ]
  },
  {
   "cell_type": "markdown",
   "metadata": {},
   "source": [
    "## Service\n",
    "\n",
    "### \"whew\" -- finally -- this is todays lab\n",
    "\n",
    "### A K8s Service creates a single access point for a group of Pods. \n",
    "- A Service provides \n",
    "    - a **consistent IP address and port** to access underlying Pods. \n",
    "    - Both external users and internal Pods use Services to communicate with other Pods.\n",
    "    \n",
    "### This consistent ip and port is important to k8s snobs\n",
    "#### but it is kinda KOOL!"
   ]
  },
  {
   "cell_type": "markdown",
   "metadata": {},
   "source": [
    "# Volumes, PersistentVolumes, and PersistentVolume Claims\n",
    "## Volumes\n",
    "\n",
    "- A Volume is a directory that can hold data. \n",
    "- A Volume is a component of a Pod, and is not independent of it. \n",
    "- A Volume is created in the Pod specification. \n",
    "- A Volume cannot be deleted on its own.\n",
    "\n",
    "A Volume is made accessible to all the containers in a Pod. Each container that you want to access the Volume must mount it individually.\n",
    "\n",
    "#### Tony needs more experience with volumes and docker storage \n",
    "\n",
    "```\n",
    "A K8s Volume has more functionality than a Docker volume. A Volume can provide access to local disk storage, memory storage, or cloud storage. A Pod can use a combination of them simultaneously.\n",
    "\n",
    "PersisententVolumes (PV) and PersisentVolumeClaims (PVC) add complexity compared to using Volumes alone. However, PVs are useful for managing storage resources for large projects.\n",
    "\n",
    "```\n",
    "\n",
    "## These concepts may warrant an EROS Specialist\n",
    "\n",
    "### Tony might be more of a generalist"
   ]
  },
  {
   "cell_type": "markdown",
   "metadata": {},
   "source": [
    "```\n",
    "Let’s recap the K8s concepts we’ve seen. Here are the six levels of abstraction for a Deployment:\n",
    "\n",
    "    Deployment: manages ReplicaSets. Use for persistent, stateless apps (e.g. HTTP servers).\n",
    "    ReplicaSet: creates and manages Pods.\n",
    "    Pod: basic unit of K8s.\n",
    "    Node Cluster: Worker Nodes + Cluster Master.\n",
    "    - Worker Nodes: machines for Pods.\n",
    "    - Cluster Master: directs worker nodes.\n",
    "    Node Processes\n",
    "    Master subcomponents:\n",
    "    - API server: hub.\n",
    "    - etcd: cluster info.\n",
    "    - scheduler: matcher.\n",
    "    - kube-controller-manager: cluster controller.\n",
    "    - cloud-controller-manager: cloud interface.\n",
    "    Worker Node subcomponents:\n",
    "    - kubelet: Worker Node brain.\n",
    "    - kube-proxy: traffic cop.\n",
    "    - container-runtime: Docker.\n",
    "    Docker Container: where the app code lives.\n",
    "\n",
    "Here are the 7 additional high-level K8s API objects to know:\n",
    "\n",
    "    StatefulSet: Like a ReplicaSet for stateful processes. Think state.\n",
    "    DaemonSet: One automatic Pod per Node. Think monitor.\n",
    "    Job: Run a container to completion. Think batch.\n",
    "    CronJob: Repeated Job. Think time.\n",
    "    Service: Access point for Pods. Think access point.\n",
    "    Volume: Holds data. Think disk.\n",
    "    PersistentVolume, PersistentVolumeClaim: System for allocating storage. Think storage claim.\n",
    "```"
   ]
  },
  {
   "cell_type": "code",
   "execution_count": null,
   "metadata": {},
   "outputs": [],
   "source": []
  }
 ],
 "metadata": {
  "kernelspec": {
   "display_name": "Python 3",
   "language": "python",
   "name": "python3"
  },
  "language_info": {
   "codemirror_mode": {
    "name": "ipython",
    "version": 3
   },
   "file_extension": ".py",
   "mimetype": "text/x-python",
   "name": "python",
   "nbconvert_exporter": "python",
   "pygments_lexer": "ipython3",
   "version": "3.6.9"
  }
 },
 "nbformat": 4,
 "nbformat_minor": 4
}
