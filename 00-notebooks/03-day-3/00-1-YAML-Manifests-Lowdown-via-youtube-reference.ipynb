{
 "cells": [
  {
   "cell_type": "markdown",
   "metadata": {},
   "source": [
    "# yaml rundown manifests\n",
    "\n",
    "\n",
    "## References\n",
    "\n",
    "## Kubernetes: Understanding Resources via YAML, Deployments, Replica Sets, and Pods\n",
    "https://www.youtube.com/channel/UCwgYv9lmioF0uR7dnsINFKw\n",
    "\n",
    "## Good -- Kubernetes - Creating Objects with YAML\n",
    "https://www.youtube.com/watch?v=6XN6LEzsQTQ\n",
    "\n",
    "### How to Create Kubernetes Deployment & Service Using YAML Files - Kubernetes Tutorial Part 4\n",
    "https://www.youtube.com/watch?v=ersOPKRVHw4\n",
    "\n",
    "\n",
    "![](https://3.bp.blogspot.com/-nwv8zzIa22Q/W28afZKyLWI/AAAAAAAABiM/ZfWa_nmGOOkkO-l440ysZaJhKhfj1hyugCLcBGAs/s640/kubernetes%2Bcluster%2Bconfiguration.jpg)\n"
   ]
  },
  {
   "cell_type": "markdown",
   "metadata": {},
   "source": [
    "## SImple Yaml example\n",
    "\n",
    "```\n",
    "kind: Deployment\n",
    "apiVersion: apps/v1beta1\n",
    "metadata:\n",
    "  name: my-httpd\n",
    "spec:\n",
    "  replicas: 1\n",
    "  template:\n",
    "    metadata:\n",
    "      labels:\n",
    "        app: webservers\n",
    "    spec:\n",
    "      containers:\n",
    "      - name: my-httpd-container1\n",
    "        image: httpd\n",
    "        ports:\n",
    "        - containerPort: 80\n",
    "```\n",
    "\n",
    "\n"
   ]
  },
  {
   "cell_type": "markdown",
   "metadata": {},
   "source": [
    "### Most of the above is obvious or boiler.\n",
    "\n",
    "the spec spec hierarchy is going to get some time for me to understand\n",
    "\n",
    "\n",
    "### Reference\n",
    "\n",
    "https://kubernetes.io/docs/reference/generated/kubernetes-api/v1.10/\n",
    "\n",
    "```\n",
    "apiVersion: apps/v1beta1\n",
    "kind: Deployment\n",
    "metadata:\n",
    "  # Unique key of the Deployment instance\n",
    "  name: deployment-example\n",
    "spec:\n",
    "  # 3 Pods should exist at all times.\n",
    "  replicas: 3\n",
    "  template:\n",
    "    metadata:\n",
    "      labels:\n",
    "        # Apply this label to pods and default\n",
    "        # the Deployment label selector to this value\n",
    "        app: nginx\n",
    "    spec:\n",
    "      containers:\n",
    "      - name: nginx\n",
    "        # Run this image\n",
    "        image: nginx:1.10\n",
    " ```"
   ]
  },
  {
   "cell_type": "markdown",
   "metadata": {},
   "source": [
    "- kind: Deployment, ReplicaSet, DaemonSet - Job - etc ...\n",
    "\n",
    "# cheat sheet - nice\n",
    "https://kubernetes.io/docs/reference/kubectl/cheatsheet/"
   ]
  },
  {
   "cell_type": "markdown",
   "metadata": {},
   "source": [
    "## Label & Annontation\n",
    "\n",
    "from another cheat\n",
    "\n",
    "https://github.com/dennyzhang/cheatsheet-kubernetes-A4/blob/master/README.org\n",
    "\n",
    "---\n",
    "\n",
    "| Name                             | Command                                                           |\n",
    "|----------------------------------|-------------------------------------------------------------------|\n",
    "| Filter pods by label             | **kubectl get pods -l owner=denny**                              |\n",
    "| Manually add label to a pod      | **kubectl label pods dummy-input owner=denny**                     |\n",
    "| Remove label                     | **kubectl label pods dummy-input owner**                          |\n",
    "| Manually add annonation to a pod | **kubectl annotate pods dummy-input my-url=https://dennyzhang.com** |"
   ]
  },
  {
   "cell_type": "markdown",
   "metadata": {},
   "source": [
    "| Option | Description |\n",
    "| ------ | ----------- |\n",
    "| data   | path to data files to supply the data that will be passed into templates. |\n",
    "| engine | engine to be used for processing templates. Handlebars is the default. |\n",
    "| ext    | extension to be used for dest files. |\n"
   ]
  },
  {
   "cell_type": "markdown",
   "metadata": {},
   "source": [
    "# Whats Next - Persistent Volume Claims and Persistent Volumes\n",
    "\n",
    "### Kubernetes Volumes 1: emptydir, NFS, YAML, volumes, and intro to Persistent Volume Claims\n",
    "\n",
    "https://www.youtube.com/watch?v=VB7vI9OT-WQ\n",
    "\n",
    "https://www.youtube.com/watch?v=OulmwTYTauI\n",
    "\n",
    "\n",
    "https://www.youtube.com/watch?v=X6Vkz-ny574\n",
    "\n",
    "\n",
    "# K8s Master 101\n",
    "https://www.youtube.com/watch?v=DZ-Wv3XNoAk\n",
    "\n",
    "\n"
   ]
  },
  {
   "cell_type": "code",
   "execution_count": null,
   "metadata": {},
   "outputs": [],
   "source": []
  }
 ],
 "metadata": {
  "kernelspec": {
   "display_name": "Python 3",
   "language": "python",
   "name": "python3"
  },
  "language_info": {
   "codemirror_mode": {
    "name": "ipython",
    "version": 3
   },
   "file_extension": ".py",
   "mimetype": "text/x-python",
   "name": "python",
   "nbconvert_exporter": "python",
   "pygments_lexer": "ipython3",
   "version": "3.6.9"
  }
 },
 "nbformat": 4,
 "nbformat_minor": 4
}
