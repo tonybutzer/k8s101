{
 "cells": [
  {
   "cell_type": "markdown",
   "metadata": {},
   "source": [
    "# Deploying an app again\n",
    "\n",
    "## Deeper Dive - I Think SO"
   ]
  },
  {
   "cell_type": "code",
   "execution_count": 1,
   "metadata": {},
   "outputs": [
    {
     "name": "stdout",
     "output_type": "stream",
     "text": [
      "env: k=microk8s.kubectl\n"
     ]
    }
   ],
   "source": [
    "%env k=microk8s.kubectl"
   ]
  },
  {
   "cell_type": "code",
   "execution_count": 2,
   "metadata": {},
   "outputs": [
    {
     "name": "stdout",
     "output_type": "stream",
     "text": [
      "Error from server (AlreadyExists): deployments.apps \"hello-node\" already exists\r\n"
     ]
    }
   ],
   "source": [
    "! $k create deployment hello-node --image=gcr.io/hello-minikube-zero-install/hello-node"
   ]
  },
  {
   "cell_type": "code",
   "execution_count": 3,
   "metadata": {},
   "outputs": [
    {
     "name": "stdout",
     "output_type": "stream",
     "text": [
      "NAME                              READY   STATUS    RESTARTS   AGE\r\n",
      "pod/hello-node-7676b5fb8d-7dncj   1/1     Running   0          10m\r\n",
      "\r\n",
      "NAME                 TYPE           CLUSTER-IP      EXTERNAL-IP   PORT(S)        AGE\r\n",
      "service/hello-node   LoadBalancer   10.152.183.50   <pending>     80:32584/TCP   7m50s\r\n",
      "service/kubernetes   ClusterIP      10.152.183.1    <none>        443/TCP        14h\r\n",
      "\r\n",
      "NAME                         READY   UP-TO-DATE   AVAILABLE   AGE\r\n",
      "deployment.apps/hello-node   1/1     1            1           10m\r\n",
      "\r\n",
      "NAME                                    DESIRED   CURRENT   READY   AGE\r\n",
      "replicaset.apps/hello-node-7676b5fb8d   1         1         1       10m\r\n"
     ]
    }
   ],
   "source": [
    "! $k get all"
   ]
  },
  {
   "cell_type": "code",
   "execution_count": 4,
   "metadata": {},
   "outputs": [
    {
     "name": "stdout",
     "output_type": "stream",
     "text": [
      "LAST SEEN   TYPE     REASON              OBJECT                             MESSAGE\r\n",
      "10m         Normal   Scheduled           pod/hello-node-7676b5fb8d-7dncj    Successfully assigned default/hello-node-7676b5fb8d-7dncj to k8s\r\n",
      "10m         Normal   Pulling             pod/hello-node-7676b5fb8d-7dncj    Pulling image \"gcr.io/hello-minikube-zero-install/hello-node\"\r\n",
      "10m         Normal   Pulled              pod/hello-node-7676b5fb8d-7dncj    Successfully pulled image \"gcr.io/hello-minikube-zero-install/hello-node\"\r\n",
      "10m         Normal   Created             pod/hello-node-7676b5fb8d-7dncj    Created container hello-node\r\n",
      "10m         Normal   Started             pod/hello-node-7676b5fb8d-7dncj    Started container hello-node\r\n",
      "10m         Normal   SuccessfulCreate    replicaset/hello-node-7676b5fb8d   Created pod: hello-node-7676b5fb8d-7dncj\r\n",
      "10m         Normal   ScalingReplicaSet   deployment/hello-node              Scaled up replica set hello-node-7676b5fb8d to 1\r\n"
     ]
    }
   ],
   "source": [
    "! $k get events"
   ]
  },
  {
   "cell_type": "markdown",
   "metadata": {},
   "source": [
    "### To make the Pod accessible to the world outside the K8s cluster, \n",
    "\n",
    "- you need to expose the Pod as a Service. Create a Service with the command \n",
    "\n",
    "## Expose it!"
   ]
  },
  {
   "cell_type": "code",
   "execution_count": 5,
   "metadata": {},
   "outputs": [
    {
     "name": "stdout",
     "output_type": "stream",
     "text": [
      "Error from server (AlreadyExists): services \"hello-node\" already exists\r\n"
     ]
    }
   ],
   "source": [
    "! $k expose deployment hello-node --type=LoadBalancer --port=80"
   ]
  },
  {
   "cell_type": "code",
   "execution_count": 6,
   "metadata": {},
   "outputs": [
    {
     "name": "stdout",
     "output_type": "stream",
     "text": [
      "NAME         TYPE           CLUSTER-IP      EXTERNAL-IP   PORT(S)        AGE\r\n",
      "hello-node   LoadBalancer   10.152.183.50   <pending>     80:32584/TCP   7m51s\r\n",
      "kubernetes   ClusterIP      10.152.183.1    <none>        443/TCP        14h\r\n"
     ]
    }
   ],
   "source": [
    "! $k get services"
   ]
  },
  {
   "cell_type": "code",
   "execution_count": 7,
   "metadata": {},
   "outputs": [
    {
     "name": "stdout",
     "output_type": "stream",
     "text": [
      "curl: (7) Failed to connect to 10.152.183.50 port 80: Connection refused\r\n"
     ]
    }
   ],
   "source": [
    "! curl 10.152.183.50  ## need to remember why"
   ]
  },
  {
   "cell_type": "code",
   "execution_count": 8,
   "metadata": {},
   "outputs": [
    {
     "name": "stdout",
     "output_type": "stream",
     "text": [
      "curl: (7) Failed to connect to localhost port 80: Connection refused\r\n"
     ]
    }
   ],
   "source": [
    "! curl localhost "
   ]
  },
  {
   "cell_type": "code",
   "execution_count": 9,
   "metadata": {},
   "outputs": [],
   "source": [
    "# ! curl 10.152.183.50:32584"
   ]
  },
  {
   "cell_type": "code",
   "execution_count": 10,
   "metadata": {},
   "outputs": [
    {
     "name": "stdout",
     "output_type": "stream",
     "text": [
      "curl: (7) Failed to connect to 10.12.69.17 port 80: Connection refused\r\n"
     ]
    }
   ],
   "source": [
    "! curl 10.12.69.17:80"
   ]
  },
  {
   "cell_type": "code",
   "execution_count": 12,
   "metadata": {},
   "outputs": [
    {
     "name": "stdout",
     "output_type": "stream",
     "text": [
      "(Not all processes could be identified, non-owned process info\r\n",
      " will not be shown, you would have to be root to see it all.)\r\n",
      "tcp        0      0 127.0.0.1:2380          0.0.0.0:*               LISTEN      -                   \r\n",
      "tcp        0      0 0.0.0.0:8080            0.0.0.0:*               LISTEN      27433/python3       \r\n",
      "tcp        0      0 10.12.69.17:8080        158.68.216.171:27094    ESTABLISHED 27433/python3       \r\n",
      "tcp        0      0 127.0.0.1:44845         127.0.0.1:49080         ESTABLISHED 2018/python3        \r\n",
      "tcp        0   1251 10.12.69.17:8080        158.68.216.171:1923     ESTABLISHED 27433/python3       \r\n",
      "tcp        0      0 10.1.68.1:58700         10.1.68.6:8000          ESTABLISHED -                   \r\n",
      "tcp        0      0 127.0.0.1:49080         127.0.0.1:44845         ESTABLISHED 27433/python3       \r\n",
      "tcp        0      0 10.12.69.17:8080        158.68.216.171:9793     ESTABLISHED 27433/python3       \r\n",
      "tcp        0      0 127.0.0.1:60080         127.0.0.1:12379         ESTABLISHED -                   \r\n",
      "tcp        0      0 10.12.69.17:8080        158.68.216.171:4966     TIME_WAIT   -                   \r\n",
      "tcp        0      0 10.12.69.17:8080        158.68.216.171:31219    ESTABLISHED 27433/python3       \r\n",
      "tcp6       0      0 127.0.0.1:12379         127.0.0.1:60080         ESTABLISHED -                   \r\n",
      "unix  2      [ ACC ]     STREAM     LISTENING     1379507  -                    @/containerd-shim/k8s.io/9c0e9fe5d305058bb26b7f26e22d501295803c152f542525c0bfc9d0d691258f/shim.sock@\r\n",
      "unix  2      [ ACC ]     STREAM     LISTENING     104634   -                    @/containerd-shim/k8s.io/0868dcc6a38e89c3b8c8e7447415ba785cd7929846c11133e80a5d29f271ad08/shim.sock@\r\n",
      "unix  2      [ ACC ]     STREAM     LISTENING     106805   -                    @/containerd-shim/k8s.io/cd6cbd34bf273201d48314c2d931975f152537b40f63fecde5de6475b9145c5e/shim.sock@\r\n",
      "unix  2      [ ACC ]     STREAM     LISTENING     1399804  -                    @/containerd-shim/k8s.io/58c3e9060b376d92385b3eac16ecebffccfc22984a9b20c1fe8f26a1f44cb7e8/shim.sock@\r\n",
      "unix  2      [ ACC ]     STREAM     LISTENING     112773   -                    @/containerd-shim/k8s.io/2d7bf1d80b13f46bbaf9d73293e72a579496f6c7c6e9d0c53a03e09d41e422f3/shim.sock@\r\n",
      "unix  3      [ ]         STREAM     CONNECTED     980665   2018/python3         \r\n",
      "unix  3      [ ]         STREAM     CONNECTED     980664   2018/python3         \r\n",
      "unix  3      [ ]         STREAM     CONNECTED     980647   2018/python3         \r\n",
      "unix  3      [ ]         STREAM     CONNECTED     18062    -                    /var/run/dbus/system_bus_socket\r\n",
      "unix  3      [ ]         STREAM     CONNECTED     1378988  -                    @/containerd-shim/k8s.io/9c0e9fe5d305058bb26b7f26e22d501295803c152f542525c0bfc9d0d691258f/shim.sock@\r\n",
      "unix  3      [ ]         STREAM     CONNECTED     1399808  -                    \r\n",
      "unix  3      [ ]         STREAM     CONNECTED     980653   2018/python3         \r\n",
      "unix  3      [ ]         STREAM     CONNECTED     980587   27433/python3        \r\n",
      "unix  3      [ ]         STREAM     CONNECTED     980661   2018/python3         \r\n",
      "unix  3      [ ]         STREAM     CONNECTED     980588   27433/python3        \r\n",
      "unix  3      [ ]         STREAM     CONNECTED     980590   27433/python3        \r\n",
      "unix  3      [ ]         STREAM     CONNECTED     980649   2018/python3         \r\n",
      "unix  3      [ ]         STREAM     CONNECTED     980644   2018/python3         \r\n",
      "unix  3      [ ]         STREAM     CONNECTED     980645   2018/python3         \r\n",
      "unix  3      [ ]         STREAM     CONNECTED     1417180  6406/python3         \r\n",
      "unix  3      [ ]         STREAM     CONNECTED     980656   2018/python3         \r\n",
      "unix  3      [ ]         STREAM     CONNECTED     980584   27433/python3        \r\n",
      "unix  3      [ ]         STREAM     CONNECTED     980657   2018/python3         \r\n",
      "unix  3      [ ]         STREAM     CONNECTED     980652   2018/python3         \r\n",
      "unix  3      [ ]         STREAM     CONNECTED     980585   27433/python3        \r\n",
      "unix  3      [ ]         STREAM     CONNECTED     980648   2018/python3         \r\n",
      "unix  3      [ ]         STREAM     CONNECTED     18030    -                    /var/run/dbus/system_bus_socket\r\n",
      "unix  3      [ ]         STREAM     CONNECTED     980586   27433/python3        \r\n",
      "unix  3      [ ]         STREAM     CONNECTED     980660   2018/python3         \r\n",
      "unix  3      [ ]         STREAM     CONNECTED     980589   27433/python3        \r\n",
      "unix  3      [ ]         STREAM     CONNECTED     980646   2018/python3         \r\n",
      "unix  3      [ ]         STREAM     CONNECTED     980675   2018/python3         \r\n",
      "unix  3      [ ]         STREAM     CONNECTED     1418018  6406/python3         \r\n",
      "unix  3      [ ]         STREAM     CONNECTED     18006    -                    \r\n",
      "unix  3      [ ]         STREAM     CONNECTED     1418014  6406/python3         \r\n",
      "unix  3      [ ]         STREAM     CONNECTED     980677   2018/python3         \r\n",
      "unix  3      [ ]         STREAM     CONNECTED     106809   -                    \r\n",
      "unix  3      [ ]         STREAM     CONNECTED     1418015  6406/python3         \r\n",
      "unix  3      [ ]         STREAM     CONNECTED     1418017  6406/python3         \r\n",
      "unix  3      [ ]         STREAM     CONNECTED     981280   27433/python3        \r\n",
      "unix  3      [ ]         STREAM     CONNECTED     980678   2018/python3         \r\n",
      "unix  3      [ ]         STREAM     CONNECTED     1418016  6406/python3         \r\n",
      "unix  3      [ ]         STREAM     CONNECTED     104674   -                    @/containerd-shim/k8s.io/0868dcc6a38e89c3b8c8e7447415ba785cd7929846c11133e80a5d29f271ad08/shim.sock@\r\n",
      "unix  3      [ ]         STREAM     CONNECTED     1418019  6406/python3         \r\n",
      "unix  3      [ ]         STREAM     CONNECTED     963180   27640/python3        \r\n",
      "unix  3      [ ]         STREAM     CONNECTED     980666   2018/python3         \r\n",
      "unix  3      [ ]         STREAM     CONNECTED     980674   2018/python3         \r\n",
      "unix  3      [ ]         STREAM     CONNECTED     980667   2018/python3         \r\n",
      "unix  3      [ ]         STREAM     CONNECTED     235809   -                    \r\n",
      "unix  3      [ ]         STREAM     CONNECTED     980643   2018/python3         \r\n",
      "unix  3      [ ]         STREAM     CONNECTED     980673   2018/python3         \r\n",
      "unix  3      [ ]         STREAM     CONNECTED     980670   2018/python3         \r\n",
      "unix  3      [ ]         STREAM     CONNECTED     111870   -                    @/containerd-shim/k8s.io/2d7bf1d80b13f46bbaf9d73293e72a579496f6c7c6e9d0c53a03e09d41e422f3/shim.sock@\r\n",
      "unix  3      [ ]         STREAM     CONNECTED     980642   2018/python3         \r\n",
      "unix  3      [ ]         STREAM     CONNECTED     980582   27433/python3        \r\n",
      "unix  3      [ ]         STREAM     CONNECTED     980583   27433/python3        \r\n",
      "unix  3      [ ]         STREAM     CONNECTED     980581   27433/python3        \r\n",
      "unix  3      [ ]         STREAM     CONNECTED     980672   2018/python3         \r\n",
      "unix  3      [ ]         STREAM     CONNECTED     980671   2018/python3         \r\n"
     ]
    }
   ],
   "source": [
    "! netstat -anlp | grep 80"
   ]
  },
  {
   "cell_type": "code",
   "execution_count": 14,
   "metadata": {},
   "outputs": [
    {
     "name": "stdout",
     "output_type": "stream",
     "text": [
      "service \"hello-node\" deleted\r\n"
     ]
    }
   ],
   "source": [
    "! $k delete service hello-node"
   ]
  },
  {
   "cell_type": "code",
   "execution_count": 15,
   "metadata": {},
   "outputs": [
    {
     "name": "stdout",
     "output_type": "stream",
     "text": [
      "NAME         TYPE        CLUSTER-IP     EXTERNAL-IP   PORT(S)   AGE\r\n",
      "kubernetes   ClusterIP   10.152.183.1   <none>        443/TCP   15h\r\n"
     ]
    }
   ],
   "source": [
    "! $k get services"
   ]
  },
  {
   "cell_type": "code",
   "execution_count": 16,
   "metadata": {},
   "outputs": [
    {
     "name": "stdout",
     "output_type": "stream",
     "text": [
      "Error from server (AlreadyExists): deployments.apps \"hello-node\" already exists\n",
      "service/hello-node exposed\n"
     ]
    }
   ],
   "source": [
    "# try again\n",
    "! $k create deployment hello-node --image=gcr.io/hello-minikube-zero-install/hello-node\n",
    "! $k expose deployment hello-node --type=LoadBalancer --port=7777"
   ]
  },
  {
   "cell_type": "code",
   "execution_count": 17,
   "metadata": {},
   "outputs": [
    {
     "name": "stdout",
     "output_type": "stream",
     "text": [
      "(Not all processes could be identified, non-owned process info\r\n",
      " will not be shown, you would have to be root to see it all.)\r\n"
     ]
    }
   ],
   "source": [
    "! netstat -anlp |grep 7777"
   ]
  },
  {
   "cell_type": "markdown",
   "metadata": {},
   "source": [
    "https://stackoverflow.com/questions/57530575/how-to-expose-microk8s-containers-so-they-are-available-from-another-machine\n",
    "\n",
    "You are right, if you want to connect to your cluster from outside, you have to expose service as LoadBalancer or NodePort.\n",
    "\n",
    "Unfortunately, as you are not using any cloud provider which support LoadBalancer (like AWS or GCP which provides External-IPs) you will be not able to expose service as LoadBalancer (service stuck on Pending state)."
   ]
  },
  {
   "cell_type": "markdown",
   "metadata": {},
   "source": [
    "https://itnext.io/an-illustrated-guide-to-kubernetes-networking-part-1-d1ede3322727\n",
    ">Even though there are a bunch of tools available to setup and manage a cluster, you’ve still wondered how it all works under the hood. And where do you look if it breaks? I know I did.\n",
    "\n",
    "Sure Kubernetes is simple enough to start using it. But let’s face it — \n",
    "\n",
    "## it’s a complex beast under the hood. \n",
    "### There are a lot of moving parts, and knowing how they all fit in and work together is a must, \n",
    "\n",
    " > if you want to be ready for failures. One of the most complex, and probably the most critical parts is the Networking.\n",
    " \n",
    "### Microk8s is not the best for this - we will work on this when we have a full cluster \n",
    "\n",
    "\n",
    "## So we just introduce networking here\n",
    "\n",
    "# Every Pod hs a unique IP\n",
    "\n",
    "![nodeport](https://miro.medium.com/max/1013/0*QtFlPHXtuol02b_j.png)"
   ]
  },
  {
   "cell_type": "code",
   "execution_count": 18,
   "metadata": {},
   "outputs": [
    {
     "name": "stdout",
     "output_type": "stream",
     "text": [
      "service \"hello-node\" deleted\r\n"
     ]
    }
   ],
   "source": [
    "! $k delete service hello-node"
   ]
  },
  {
   "cell_type": "code",
   "execution_count": 19,
   "metadata": {},
   "outputs": [
    {
     "name": "stdout",
     "output_type": "stream",
     "text": [
      "Error from server (AlreadyExists): deployments.apps \"hello-node\" already exists\n",
      "service/hello-node exposed\n"
     ]
    }
   ],
   "source": [
    "! $k create deployment hello-node --image=gcr.io/hello-minikube-zero-install/hello-node\n",
    "! $k expose deployment hello-node --type=NodePort --port=80"
   ]
  },
  {
   "cell_type": "code",
   "execution_count": 20,
   "metadata": {},
   "outputs": [
    {
     "name": "stdout",
     "output_type": "stream",
     "text": [
      "NAME         TYPE        CLUSTER-IP      EXTERNAL-IP   PORT(S)        AGE\r\n",
      "hello-node   NodePort    10.152.183.57   <none>        80:32487/TCP   20s\r\n",
      "kubernetes   ClusterIP   10.152.183.1    <none>        443/TCP        15h\r\n"
     ]
    }
   ],
   "source": [
    "!$k get services"
   ]
  },
  {
   "cell_type": "code",
   "execution_count": 21,
   "metadata": {},
   "outputs": [
    {
     "name": "stdout",
     "output_type": "stream",
     "text": [
      "curl: (7) Failed to connect to localhost port 80: Connection refused\r\n"
     ]
    }
   ],
   "source": [
    "! curl localhost"
   ]
  },
  {
   "cell_type": "code",
   "execution_count": 22,
   "metadata": {},
   "outputs": [
    {
     "name": "stdout",
     "output_type": "stream",
     "text": [
      "curl: (7) Failed to connect to 10.152.183.57 port 80: Connection refused\r\n"
     ]
    }
   ],
   "source": [
    "! curl 10.152.183.57"
   ]
  },
  {
   "cell_type": "code",
   "execution_count": 1,
   "metadata": {},
   "outputs": [],
   "source": [
    "# ! curl 10.152.183.57:32487 # runs forevere"
   ]
  },
  {
   "cell_type": "code",
   "execution_count": 2,
   "metadata": {},
   "outputs": [
    {
     "name": "stdout",
     "output_type": "stream",
     "text": [
      "/bin/sh: 1: get: not found\r\n"
     ]
    }
   ],
   "source": [
    "! $k get services"
   ]
  },
  {
   "cell_type": "code",
   "execution_count": null,
   "metadata": {},
   "outputs": [],
   "source": []
  }
 ],
 "metadata": {
  "kernelspec": {
   "display_name": "Python 3",
   "language": "python",
   "name": "python3"
  },
  "language_info": {
   "codemirror_mode": {
    "name": "ipython",
    "version": 3
   },
   "file_extension": ".py",
   "mimetype": "text/x-python",
   "name": "python",
   "nbconvert_exporter": "python",
   "pygments_lexer": "ipython3",
   "version": "3.6.9"
  }
 },
 "nbformat": 4,
 "nbformat_minor": 4
}
