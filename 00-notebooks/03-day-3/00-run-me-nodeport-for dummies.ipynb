{
 "cells": [
  {
   "cell_type": "code",
   "execution_count": 1,
   "metadata": {},
   "outputs": [
    {
     "name": "stdout",
     "output_type": "stream",
     "text": [
      "deployment.apps/microbot created\r\n"
     ]
    }
   ],
   "source": [
    "! microk8s.kubectl create deployment microbot --image=dontrebootme/microbot:v1"
   ]
  },
  {
   "cell_type": "code",
   "execution_count": 2,
   "metadata": {},
   "outputs": [
    {
     "name": "stdout",
     "output_type": "stream",
     "text": [
      "deployment.apps/microbot scaled\r\n"
     ]
    }
   ],
   "source": [
    "! microk8s.kubectl scale deployment microbot --replicas=2"
   ]
  },
  {
   "cell_type": "code",
   "execution_count": 3,
   "metadata": {},
   "outputs": [
    {
     "name": "stdout",
     "output_type": "stream",
     "text": [
      "service/microbot-service exposed\r\n"
     ]
    }
   ],
   "source": [
    "! microk8s.kubectl expose deployment microbot --type=NodePort --port=80 --name=microbot-service"
   ]
  },
  {
   "cell_type": "code",
   "execution_count": 4,
   "metadata": {},
   "outputs": [
    {
     "name": "stdout",
     "output_type": "stream",
     "text": [
      "NAMESPACE     NAME                                                  READY   STATUS    RESTARTS   AGE\r\n",
      "default       pod/microbot-5bb7fd7f5d-9jzm5                         1/1     Running   0          13s\r\n",
      "default       pod/microbot-5bb7fd7f5d-l9s49                         1/1     Running   0          10s\r\n",
      "kube-system   pod/coredns-9b8997588-48jxl                           1/1     Running   0          21m\r\n",
      "kube-system   pod/dashboard-metrics-scraper-687667bb6c-ghnxq        1/1     Running   0          21m\r\n",
      "kube-system   pod/heapster-v1.5.2-5c58f64f8b-n5xtn                  4/4     Running   0          21m\r\n",
      "kube-system   pod/kubernetes-dashboard-5c848cc544-h2sdj             1/1     Running   0          21m\r\n",
      "kube-system   pod/monitoring-influxdb-grafana-v4-6d599df6bf-f5h8x   2/2     Running   0          21m\r\n",
      "\r\n",
      "NAMESPACE     NAME                                TYPE        CLUSTER-IP       EXTERNAL-IP   PORT(S)                  AGE\r\n",
      "default       service/kubernetes                  ClusterIP   10.152.183.1     <none>        443/TCP                  28m\r\n",
      "default       service/microbot-service            NodePort    10.152.183.206   <none>        80:30267/TCP             4s\r\n",
      "kube-system   service/dashboard-metrics-scraper   ClusterIP   10.152.183.250   <none>        8000/TCP                 21m\r\n",
      "kube-system   service/heapster                    ClusterIP   10.152.183.127   <none>        80/TCP                   21m\r\n",
      "kube-system   service/kube-dns                    ClusterIP   10.152.183.10    <none>        53/UDP,53/TCP,9153/TCP   21m\r\n",
      "kube-system   service/kubernetes-dashboard        ClusterIP   10.152.183.254   <none>        443/TCP                  21m\r\n",
      "kube-system   service/monitoring-grafana          ClusterIP   10.152.183.82    <none>        80/TCP                   21m\r\n",
      "kube-system   service/monitoring-influxdb         ClusterIP   10.152.183.106   <none>        8083/TCP,8086/TCP        21m\r\n",
      "\r\n",
      "NAMESPACE     NAME                                             READY   UP-TO-DATE   AVAILABLE   AGE\r\n",
      "default       deployment.apps/microbot                         2/2     2            2           13s\r\n",
      "kube-system   deployment.apps/coredns                          1/1     1            1           21m\r\n",
      "kube-system   deployment.apps/dashboard-metrics-scraper        1/1     1            1           21m\r\n",
      "kube-system   deployment.apps/heapster-v1.5.2                  1/1     1            1           21m\r\n",
      "kube-system   deployment.apps/kubernetes-dashboard             1/1     1            1           21m\r\n",
      "kube-system   deployment.apps/monitoring-influxdb-grafana-v4   1/1     1            1           21m\r\n",
      "\r\n",
      "NAMESPACE     NAME                                                        DESIRED   CURRENT   READY   AGE\r\n",
      "default       replicaset.apps/microbot-5bb7fd7f5d                         2         2         2       13s\r\n",
      "kube-system   replicaset.apps/coredns-9b8997588                           1         1         1       21m\r\n",
      "kube-system   replicaset.apps/dashboard-metrics-scraper-687667bb6c        1         1         1       21m\r\n",
      "kube-system   replicaset.apps/heapster-v1.5.2-5c58f64f8b                  1         1         1       21m\r\n",
      "kube-system   replicaset.apps/kubernetes-dashboard-5c848cc544             1         1         1       21m\r\n",
      "kube-system   replicaset.apps/monitoring-influxdb-grafana-v4-6d599df6bf   1         1         1       21m\r\n"
     ]
    }
   ],
   "source": [
    "! microk8s.kubectl get all --all-namespaces"
   ]
  },
  {
   "cell_type": "code",
   "execution_count": 6,
   "metadata": {},
   "outputs": [
    {
     "name": "stdout",
     "output_type": "stream",
     "text": [
      "<!DOCTYPE html>\r\n",
      "<html>\r\n",
      "  <style type=\"text/css\">\r\n",
      "    .centered\r\n",
      "      {\r\n",
      "      text-align:center;\r\n",
      "      margin-top:0px;\r\n",
      "      margin-bottom:0px;\r\n",
      "      padding:0px;\r\n",
      "      }\r\n",
      "  </style>\r\n",
      "  <body>\r\n",
      "    <p class=\"centered\"><img src=\"microbot.png\" alt=\"microbot\"/></p>\r\n",
      "    <p class=\"centered\">Container hostname: microbot-5bb7fd7f5d-9jzm5</p>\r\n",
      "  </body>\r\n",
      "</html>\r\n"
     ]
    }
   ],
   "source": [
    "# access service port 80 from microbot\n",
    "! curl 10.152.183.206"
   ]
  },
  {
   "cell_type": "markdown",
   "metadata": {},
   "source": [
    "# Kubernetes - Services Explained in 15 Minutes!\n",
    "\n",
    "https://www.youtube.com/watch?v=5lzUpDtmWgM&t=365s\n",
    "\n",
    "# NodePort Service in Kubernetes \n",
    "\n",
    "https://www.youtube.com/watch?v=eth7osiCryc"
   ]
  },
  {
   "cell_type": "code",
   "execution_count": 7,
   "metadata": {},
   "outputs": [
    {
     "name": "stdout",
     "output_type": "stream",
     "text": [
      "NAME                        READY   STATUS    RESTARTS   AGE   IP           NODE   NOMINATED NODE   READINESS GATES\r\n",
      "microbot-5bb7fd7f5d-9jzm5   1/1     Running   0          67s   10.1.52.12   k8s    <none>           <none>\r\n",
      "microbot-5bb7fd7f5d-l9s49   1/1     Running   0          64s   10.1.52.13   k8s    <none>           <none>\r\n"
     ]
    }
   ],
   "source": [
    "! microk8s.kubectl get pods -o wide"
   ]
  },
  {
   "cell_type": "code",
   "execution_count": 8,
   "metadata": {},
   "outputs": [
    {
     "name": "stdout",
     "output_type": "stream",
     "text": [
      "Name:         microbot-5bb7fd7f5d-9jzm5\r\n",
      "Namespace:    default\r\n",
      "Priority:     0\r\n",
      "Node:         k8s/10.12.69.127\r\n",
      "Start Time:   Mon, 09 Mar 2020 16:00:26 +0000\r\n",
      "Labels:       app=microbot\r\n",
      "              pod-template-hash=5bb7fd7f5d\r\n",
      "Annotations:  <none>\r\n",
      "Status:       Running\r\n",
      "IP:           10.1.52.12\r\n",
      "IPs:\r\n",
      "  IP:           10.1.52.12\r\n",
      "Controlled By:  ReplicaSet/microbot-5bb7fd7f5d\r\n",
      "Containers:\r\n",
      "  microbot:\r\n",
      "    Container ID:   containerd://23676d0b89b3809ae047b0d1045c7053bf2e660c14db00f230aa344a70fa3dc9\r\n",
      "    Image:          dontrebootme/microbot:v1\r\n",
      "    Image ID:       sha256:899ceb044bf694340a22d71a28f4fff64c8197cee2ed7badde83e0032118970a\r\n",
      "    Port:           <none>\r\n",
      "    Host Port:      <none>\r\n",
      "    State:          Running\r\n",
      "      Started:      Mon, 09 Mar 2020 16:00:30 +0000\r\n",
      "    Ready:          True\r\n",
      "    Restart Count:  0\r\n",
      "    Environment:    <none>\r\n",
      "    Mounts:\r\n",
      "      /var/run/secrets/kubernetes.io/serviceaccount from default-token-kcnpn (ro)\r\n",
      "Conditions:\r\n",
      "  Type              Status\r\n",
      "  Initialized       True \r\n",
      "  Ready             True \r\n",
      "  ContainersReady   True \r\n",
      "  PodScheduled      True \r\n",
      "Volumes:\r\n",
      "  default-token-kcnpn:\r\n",
      "    Type:        Secret (a volume populated by a Secret)\r\n",
      "    SecretName:  default-token-kcnpn\r\n",
      "    Optional:    false\r\n",
      "QoS Class:       BestEffort\r\n",
      "Node-Selectors:  <none>\r\n",
      "Tolerations:     node.kubernetes.io/not-ready:NoExecute for 300s\r\n",
      "                 node.kubernetes.io/unreachable:NoExecute for 300s\r\n",
      "Events:\r\n",
      "  Type    Reason     Age        From               Message\r\n",
      "  ----    ------     ----       ----               -------\r\n",
      "  Normal  Scheduled  <unknown>  default-scheduler  Successfully assigned default/microbot-5bb7fd7f5d-9jzm5 to k8s\r\n",
      "  Normal  Pulling    86s        kubelet, k8s       Pulling image \"dontrebootme/microbot:v1\"\r\n",
      "  Normal  Pulled     84s        kubelet, k8s       Successfully pulled image \"dontrebootme/microbot:v1\"\r\n",
      "  Normal  Created    83s        kubelet, k8s       Created container microbot\r\n",
      "  Normal  Started    83s        kubelet, k8s       Started container microbot\r\n"
     ]
    }
   ],
   "source": [
    "! microk8s.kubectl describe pod microbot-5bb7fd7f5d-9jzm5"
   ]
  },
  {
   "cell_type": "code",
   "execution_count": 9,
   "metadata": {},
   "outputs": [
    {
     "name": "stdout",
     "output_type": "stream",
     "text": [
      "<!DOCTYPE html>\r\n",
      "<html>\r\n",
      "  <style type=\"text/css\">\r\n",
      "    .centered\r\n",
      "      {\r\n",
      "      text-align:center;\r\n",
      "      margin-top:0px;\r\n",
      "      margin-bottom:0px;\r\n",
      "      padding:0px;\r\n",
      "      }\r\n",
      "  </style>\r\n",
      "  <body>\r\n",
      "    <p class=\"centered\"><img src=\"microbot.png\" alt=\"microbot\"/></p>\r\n",
      "    <p class=\"centered\">Container hostname: microbot-5bb7fd7f5d-9jzm5</p>\r\n",
      "  </body>\r\n",
      "</html>\r\n"
     ]
    }
   ],
   "source": [
    "!curl 10.1.52.12"
   ]
  },
  {
   "cell_type": "markdown",
   "metadata": {},
   "source": [
    "# Run this in a window instead\n",
    "- microk8s.kubectl proxy --accept-hosts=.* --address=0.0.0.0"
   ]
  },
  {
   "cell_type": "code",
   "execution_count": 10,
   "metadata": {},
   "outputs": [
    {
     "name": "stdout",
     "output_type": "stream",
     "text": [
      "env: k=microk8s.kubectl\n"
     ]
    }
   ],
   "source": [
    "%env k=microk8s.kubectl"
   ]
  },
  {
   "cell_type": "code",
   "execution_count": 11,
   "metadata": {},
   "outputs": [
    {
     "name": "stdout",
     "output_type": "stream",
     "text": [
      "NAME               TYPE        CLUSTER-IP       EXTERNAL-IP   PORT(S)        AGE\r\n",
      "kubernetes         ClusterIP   10.152.183.1     <none>        443/TCP        30m\r\n",
      "microbot-service   NodePort    10.152.183.206   <none>        80:30267/TCP   2m20s\r\n"
     ]
    }
   ],
   "source": [
    "! $k get svc"
   ]
  },
  {
   "cell_type": "code",
   "execution_count": 12,
   "metadata": {},
   "outputs": [
    {
     "name": "stdout",
     "output_type": "stream",
     "text": [
      "<!DOCTYPE html>\r\n",
      "<html>\r\n",
      "  <style type=\"text/css\">\r\n",
      "    .centered\r\n",
      "      {\r\n",
      "      text-align:center;\r\n",
      "      margin-top:0px;\r\n",
      "      margin-bottom:0px;\r\n",
      "      padding:0px;\r\n",
      "      }\r\n",
      "  </style>\r\n",
      "  <body>\r\n",
      "    <p class=\"centered\"><img src=\"microbot.png\" alt=\"microbot\"/></p>\r\n",
      "    <p class=\"centered\">Container hostname: microbot-5bb7fd7f5d-9jzm5</p>\r\n",
      "  </body>\r\n",
      "</html>\r\n"
     ]
    }
   ],
   "source": [
    "# the PROXY service needs to be up on default 8001\n",
    "# the PROXY service needs to be up on default 8001\n",
    "\n",
    "!curl localhost:8001/api/v1/namespaces/default/services/microbot-service/proxy/"
   ]
  },
  {
   "cell_type": "markdown",
   "metadata": {},
   "source": [
    "# from my pc with an 8001 tunnel use\n",
    "\n",
    "http://localhost:8001/api/v1/namespaces/default/services/microbot-service/proxy/\n",
    "\n",
    "[CLICK ME!!!](http://localhost:8001/api/v1/namespaces/default/services/microbot-service/proxy/)\n",
    "\n",
    "# is your tunnel up?"
   ]
  },
  {
   "cell_type": "code",
   "execution_count": null,
   "metadata": {},
   "outputs": [],
   "source": []
  }
 ],
 "metadata": {
  "kernelspec": {
   "display_name": "Python 3",
   "language": "python",
   "name": "python3"
  },
  "language_info": {
   "codemirror_mode": {
    "name": "ipython",
    "version": 3
   },
   "file_extension": ".py",
   "mimetype": "text/x-python",
   "name": "python",
   "nbconvert_exporter": "python",
   "pygments_lexer": "ipython3",
   "version": "3.6.9"
  }
 },
 "nbformat": 4,
 "nbformat_minor": 4
}
