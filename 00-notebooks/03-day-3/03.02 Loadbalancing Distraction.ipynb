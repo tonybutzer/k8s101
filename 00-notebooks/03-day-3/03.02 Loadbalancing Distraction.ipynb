{
 "cells": [
  {
   "cell_type": "code",
   "execution_count": 1,
   "metadata": {},
   "outputs": [
    {
     "name": "stdout",
     "output_type": "stream",
     "text": [
      "env: k=microk8s.kubectl\n"
     ]
    }
   ],
   "source": [
    "%env k=microk8s.kubectl"
   ]
  },
  {
   "cell_type": "code",
   "execution_count": 2,
   "metadata": {},
   "outputs": [
    {
     "name": "stdout",
     "output_type": "stream",
     "text": [
      "NAME                              READY   STATUS    RESTARTS   AGE\r\n",
      "pod/hello-node-7676b5fb8d-7dncj   1/1     Running   0          54m\r\n",
      "\r\n",
      "NAME                 TYPE        CLUSTER-IP      EXTERNAL-IP   PORT(S)        AGE\r\n",
      "service/hello-node   NodePort    10.152.183.57   <none>        80:32487/TCP   19m\r\n",
      "service/kubernetes   ClusterIP   10.152.183.1    <none>        443/TCP        15h\r\n",
      "\r\n",
      "NAME                         READY   UP-TO-DATE   AVAILABLE   AGE\r\n",
      "deployment.apps/hello-node   0/1     1            0           54m\r\n",
      "\r\n",
      "NAME                                    DESIRED   CURRENT   READY   AGE\r\n",
      "replicaset.apps/hello-node-7676b5fb8d   1         1         0       54m\r\n"
     ]
    }
   ],
   "source": [
    "! $k get all"
   ]
  },
  {
   "cell_type": "code",
   "execution_count": 3,
   "metadata": {},
   "outputs": [
    {
     "name": "stdout",
     "output_type": "stream",
     "text": [
      "Enabling DNS\n",
      "Applying manifest\n",
      "serviceaccount/coredns unchanged\n",
      "configmap/coredns unchanged\n",
      "deployment.apps/coredns unchanged\n",
      "service/kube-dns unchanged\n",
      "clusterrole.rbac.authorization.k8s.io/coredns unchanged\n",
      "clusterrolebinding.rbac.authorization.k8s.io/coredns unchanged\n",
      "Restarting kubelet\n",
      "DNS is enabled\n"
     ]
    }
   ],
   "source": [
    "! microk8s.enable dns"
   ]
  },
  {
   "cell_type": "code",
   "execution_count": 4,
   "metadata": {},
   "outputs": [
    {
     "name": "stdout",
     "output_type": "stream",
     "text": [
      "microk8s is not running. Use microk8s.inspect for a deeper inspection.\r\n"
     ]
    }
   ],
   "source": [
    "! microk8s.status "
   ]
  },
  {
   "cell_type": "code",
   "execution_count": 5,
   "metadata": {},
   "outputs": [],
   "source": [
    "# ! microk8s.enable metallb"
   ]
  },
  {
   "cell_type": "code",
   "execution_count": 6,
   "metadata": {},
   "outputs": [
    {
     "name": "stdout",
     "output_type": "stream",
     "text": [
      "Error from server (AlreadyExists): deployments.apps \"hello-node\" already exists\n",
      "Error from server (AlreadyExists): services \"hello-node\" already exists\n"
     ]
    }
   ],
   "source": [
    "! $k create deployment hello-node --image=gcr.io/hello-minikube-zero-install/hello-node\n",
    "! $k expose deployment hello-node --type=LoadBalancer --port=7777"
   ]
  },
  {
   "cell_type": "code",
   "execution_count": 7,
   "metadata": {},
   "outputs": [
    {
     "name": "stdout",
     "output_type": "stream",
     "text": [
      "NAME         TYPE        CLUSTER-IP      EXTERNAL-IP   PORT(S)        AGE\r\n",
      "hello-node   NodePort    10.152.183.57   <none>        80:32487/TCP   19m\r\n",
      "kubernetes   ClusterIP   10.152.183.1    <none>        443/TCP        15h\r\n"
     ]
    }
   ],
   "source": [
    "! $k get services"
   ]
  },
  {
   "cell_type": "code",
   "execution_count": 8,
   "metadata": {},
   "outputs": [
    {
     "name": "stdout",
     "output_type": "stream",
     "text": [
      "error: error upgrading connection: unable to upgrade connection: pod does not exist\r\n"
     ]
    }
   ],
   "source": [
    "! sudo $k port-forward svc/hello-node 80:80 --address 10.12.69.17"
   ]
  },
  {
   "cell_type": "code",
   "execution_count": 9,
   "metadata": {},
   "outputs": [
    {
     "name": "stdout",
     "output_type": "stream",
     "text": [
      "NAME         TYPE        CLUSTER-IP      EXTERNAL-IP   PORT(S)        AGE\r\n",
      "hello-node   NodePort    10.152.183.57   <none>        80:32487/TCP   25m\r\n",
      "kubernetes   ClusterIP   10.152.183.1    <none>        443/TCP        15h\r\n"
     ]
    }
   ],
   "source": [
    "! $k get services"
   ]
  },
  {
   "cell_type": "markdown",
   "metadata": {},
   "source": [
    "# Reference\n",
    "\n",
    "https://github.com/tonybutzer/jup/blob/2dde57ebb5cf291e4def7aa120c31226f821e16c/juphub/labs/00-just-product/02-two-loadbalanced/Makefile\n",
    "\n",
    "```\n",
    "# Proxy\n",
    "# http://kubernetes_master_address/api/v1/namespaces/namespace_name/services/[https:]service_name[:port_name]/proxy\n",
    "# \n",
    "\n",
    "help:\n",
    "\techo http://localhost:8001/api/v1/namespaces/default/services/product-service:8081/proxy/\n",
    "\n",
    "# ubuntu@ip-10-12-69-193:~$ sudo kubectl port-forward svc/product-service 8080:8081 --address 10.12.69.193\n",
    "\n",
    "```"
   ]
  },
  {
   "cell_type": "code",
   "execution_count": null,
   "metadata": {},
   "outputs": [],
   "source": []
  }
 ],
 "metadata": {
  "kernelspec": {
   "display_name": "Python 3",
   "language": "python",
   "name": "python3"
  },
  "language_info": {
   "codemirror_mode": {
    "name": "ipython",
    "version": 3
   },
   "file_extension": ".py",
   "mimetype": "text/x-python",
   "name": "python",
   "nbconvert_exporter": "python",
   "pygments_lexer": "ipython3",
   "version": "3.6.9"
  }
 },
 "nbformat": 4,
 "nbformat_minor": 4
}
