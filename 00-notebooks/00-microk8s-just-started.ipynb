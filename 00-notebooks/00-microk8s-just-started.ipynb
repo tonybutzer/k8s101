{
 "cells": [
  {
   "cell_type": "markdown",
   "metadata": {},
   "source": [
    "# Lesson 0\n",
    "\n",
    "Installing and my first day with kubernetes\n",
    "\n",
    "https://microk8s.io/docs/\n",
    "\n",
    "\n",
    "https://github.com/tonybutzer/k8s101"
   ]
  },
  {
   "cell_type": "markdown",
   "metadata": {},
   "source": [
    "# Tell Them Where You Learned It\n",
    "\n",
    "## Working from home - it aint perfect\n",
    "\n",
    "### Who's your boss - tell them where you got it\n",
    "\n",
    "#### These classes will give you hours of free time to do more fun things or build on these fundamentals"
   ]
  },
  {
   "cell_type": "code",
   "execution_count": 1,
   "metadata": {},
   "outputs": [
    {
     "name": "stdout",
     "output_type": "stream",
     "text": [
      "Current date is: Mon Mar  9 15:02:59 UTC 2020\n",
      "\n"
     ]
    }
   ],
   "source": [
    "import subprocess\n",
    "\n",
    "cmd = \"date\"\n",
    "\n",
    "# returns output as byte string\n",
    "returned_output = subprocess.check_output(cmd)\n",
    "\n",
    "# using decode() function to convert byte string to string\n",
    "print('Current date is:', returned_output.decode(\"utf-8\"))"
   ]
  },
  {
   "cell_type": "code",
   "execution_count": 2,
   "metadata": {},
   "outputs": [],
   "source": [
    "\n",
    "def am_i_in_group(group):\n",
    "    cmd = \"id\"\n",
    "\n",
    "    # returns output as byte string\n",
    "    returned_output = subprocess.check_output(cmd)\n",
    "\n",
    "    # using decode() function to convert byte string to string\n",
    "    #print('Current date is:', returned_output.decode(\"utf-8\"))\n",
    "    str_out = returned_output.decode(\"utf-8\")\n",
    "    if(group in str_out):\n",
    "        print(\"Hell YES i'm a member of \", group)\n",
    "    else:\n",
    "        print(\"NOPE \" * 10)"
   ]
  },
  {
   "cell_type": "code",
   "execution_count": 3,
   "metadata": {},
   "outputs": [
    {
     "name": "stdout",
     "output_type": "stream",
     "text": [
      "NOPE NOPE NOPE NOPE NOPE NOPE NOPE NOPE NOPE NOPE \n"
     ]
    }
   ],
   "source": [
    "am_i_in_group('bogus')"
   ]
  },
  {
   "cell_type": "code",
   "execution_count": 4,
   "metadata": {},
   "outputs": [
    {
     "name": "stdout",
     "output_type": "stream",
     "text": [
      "Hell YES i'm a member of  microk8s\n"
     ]
    }
   ],
   "source": [
    "am_i_in_group('microk8s')"
   ]
  },
  {
   "cell_type": "code",
   "execution_count": 5,
   "metadata": {},
   "outputs": [
    {
     "name": "stdout",
     "output_type": "stream",
     "text": [
      "Hell YES i'm a member of  docker\n"
     ]
    }
   ],
   "source": [
    "am_i_in_group('docker')"
   ]
  },
  {
   "cell_type": "code",
   "execution_count": 6,
   "metadata": {},
   "outputs": [
    {
     "name": "stdout",
     "output_type": "stream",
     "text": [
      "uid=1000(ubuntu) gid=1000(ubuntu) groups=1000(ubuntu),4(adm),20(dialout),24(cdrom),25(floppy),27(sudo),29(audio),30(dip),44(video),46(plugdev),108(lxd),114(netdev),998(docker),999(microk8s)\r\n"
     ]
    }
   ],
   "source": [
    "! id"
   ]
  },
  {
   "cell_type": "code",
   "execution_count": 7,
   "metadata": {},
   "outputs": [],
   "source": [
    "# I am the perfect teacher - cause i only have one eye and a really bad memory"
   ]
  },
  {
   "cell_type": "code",
   "execution_count": 8,
   "metadata": {},
   "outputs": [
    {
     "name": "stdout",
     "output_type": "stream",
     "text": [
      "microk8s is running\r\n",
      "addons:\r\n",
      "cilium: disabled\r\n",
      "dashboard: enabled\r\n",
      "dns: enabled\r\n",
      "fluentd: disabled\r\n",
      "gpu: disabled\r\n",
      "helm: disabled\r\n",
      "ingress: disabled\r\n",
      "istio: disabled\r\n",
      "jaeger: disabled\r\n",
      "juju: disabled\r\n",
      "knative: disabled\r\n",
      "kubeflow: disabled\r\n",
      "linkerd: disabled\r\n",
      "metallb: disabled\r\n",
      "metrics-server: disabled\r\n",
      "prometheus: disabled\r\n",
      "rbac: disabled\r\n",
      "registry: disabled\r\n",
      "storage: disabled\r\n"
     ]
    }
   ],
   "source": [
    "! microk8s.status --wait-ready"
   ]
  },
  {
   "cell_type": "code",
   "execution_count": 9,
   "metadata": {},
   "outputs": [
    {
     "name": "stdout",
     "output_type": "stream",
     "text": [
      "dashboard: enabled\r\n",
      "dns: enabled\r\n"
     ]
    }
   ],
   "source": [
    "! microk8s.status --wait-ready | egrep 'dns|dashboard'"
   ]
  },
  {
   "cell_type": "code",
   "execution_count": 10,
   "metadata": {},
   "outputs": [
    {
     "name": "stdout",
     "output_type": "stream",
     "text": [
      "NAME   STATUS   ROLES    AGE   VERSION\r\n",
      "k8s    Ready    <none>   54m   v1.17.2\r\n"
     ]
    }
   ],
   "source": [
    "! microk8s.kubectl get nodes"
   ]
  },
  {
   "cell_type": "code",
   "execution_count": 11,
   "metadata": {},
   "outputs": [
    {
     "name": "stdout",
     "output_type": "stream",
     "text": [
      "NAME         TYPE        CLUSTER-IP     EXTERNAL-IP   PORT(S)   AGE\r\n",
      "kubernetes   ClusterIP   10.152.183.1   <none>        443/TCP   54m\r\n"
     ]
    }
   ],
   "source": [
    "! microk8s.kubectl get services"
   ]
  },
  {
   "cell_type": "code",
   "execution_count": 12,
   "metadata": {},
   "outputs": [
    {
     "name": "stdout",
     "output_type": "stream",
     "text": [
      "alias kubectl='microk8s.kubectl'\r\n",
      "\r\n",
      "alias k='kubectl'\r\n"
     ]
    }
   ],
   "source": [
    "! cat ~/.bash_aliases"
   ]
  },
  {
   "cell_type": "code",
   "execution_count": 13,
   "metadata": {},
   "outputs": [
    {
     "name": "stdout",
     "output_type": "stream",
     "text": [
      "kubectl controls the Kubernetes cluster manager.\n",
      "\n",
      " Find more information at: https://kubernetes.io/docs/reference/kubectl/overview/\n",
      "\n",
      "Basic Commands (Beginner):\n",
      "  create         Create a resource from a file or from stdin.\n",
      "  expose         Take a replication controller, service, deployment or pod and expose it as a new Kubernetes Service\n",
      "  run            Run a particular image on the cluster\n",
      "  set            Set specific features on objects\n",
      "\n",
      "Basic Commands (Intermediate):\n",
      "  explain        Documentation of resources\n",
      "  get            Display one or many resources\n",
      "  edit           Edit a resource on the server\n",
      "  delete         Delete resources by filenames, stdin, resources and names, or by resources and label selector\n",
      "\n",
      "Deploy Commands:\n",
      "  rollout        Manage the rollout of a resource\n",
      "  scale          Set a new size for a Deployment, ReplicaSet or Replication Controller\n",
      "  autoscale      Auto-scale a Deployment, ReplicaSet, or ReplicationController\n",
      "\n",
      "Cluster Management Commands:\n",
      "  certificate    Modify certificate resources.\n",
      "  cluster-info   Display cluster info\n",
      "  top            Display Resource (CPU/Memory/Storage) usage.\n",
      "  cordon         Mark node as unschedulable\n",
      "  uncordon       Mark node as schedulable\n",
      "  drain          Drain node in preparation for maintenance\n",
      "  taint          Update the taints on one or more nodes\n",
      "\n",
      "Troubleshooting and Debugging Commands:\n",
      "  describe       Show details of a specific resource or group of resources\n",
      "  logs           Print the logs for a container in a pod\n",
      "  attach         Attach to a running container\n",
      "  exec           Execute a command in a container\n",
      "  port-forward   Forward one or more local ports to a pod\n",
      "  proxy          Run a proxy to the Kubernetes API server\n",
      "  cp             Copy files and directories to and from containers.\n",
      "  auth           Inspect authorization\n",
      "\n",
      "Advanced Commands:\n",
      "  diff           Diff live version against would-be applied version\n",
      "  apply          Apply a configuration to a resource by filename or stdin\n",
      "  patch          Update field(s) of a resource using strategic merge patch\n",
      "  replace        Replace a resource by filename or stdin\n",
      "  wait           Experimental: Wait for a specific condition on one or many resources.\n",
      "  convert        Convert config files between different API versions\n",
      "  kustomize      Build a kustomization target from a directory or a remote url.\n",
      "\n",
      "Settings Commands:\n",
      "  label          Update the labels on a resource\n",
      "  annotate       Update the annotations on a resource\n",
      "  completion     Output shell completion code for the specified shell (bash or zsh)\n",
      "\n",
      "Other Commands:\n",
      "  api-resources  Print the supported API resources on the server\n",
      "  api-versions   Print the supported API versions on the server, in the form of \"group/version\"\n",
      "  config         Modify kubeconfig files\n",
      "  plugin         Provides utilities for interacting with plugins.\n",
      "  version        Print the client and server version information\n",
      "\n",
      "Usage:\n",
      "  kubectl [flags] [options]\n",
      "\n",
      "Use \"kubectl <command> --help\" for more information about a given command.\n",
      "Use \"kubectl options\" for a list of global command-line options (applies to all commands).\n"
     ]
    }
   ],
   "source": [
    "%%bash\n",
    "alias kubectl='microk8s.kubectl'\n",
    "alias k='kubectl'\n",
    "microk8s.kubectl --help"
   ]
  },
  {
   "cell_type": "code",
   "execution_count": 14,
   "metadata": {},
   "outputs": [
    {
     "name": "stdout",
     "output_type": "stream",
     "text": [
      "/bin/sh: 1: k: not found\r\n"
     ]
    }
   ],
   "source": [
    "# epic fail - I get smarter in later lessons\n",
    "! k --help"
   ]
  },
  {
   "cell_type": "code",
   "execution_count": 15,
   "metadata": {},
   "outputs": [
    {
     "name": "stdout",
     "output_type": "stream",
     "text": [
      "  expose         Take a replication controller, service, deployment or pod and expose it as a new Kubernetes Service\r\n",
      "  get            Display one or many resources\r\n",
      "  describe       Show details of a specific resource or group of resources\r\n",
      "  exec           Execute a command in a container\r\n",
      "  kustomize      Build a kustomization target from a directory or a remote url.\r\n"
     ]
    }
   ],
   "source": [
    "! microk8s.kubectl | egrep 'get|describe|exec|expose'"
   ]
  },
  {
   "cell_type": "code",
   "execution_count": 16,
   "metadata": {},
   "outputs": [],
   "source": [
    "# DEMO APP DEPLOYMENT"
   ]
  },
  {
   "cell_type": "code",
   "execution_count": 17,
   "metadata": {},
   "outputs": [
    {
     "name": "stdout",
     "output_type": "stream",
     "text": [
      "deployment.apps/kubernetes-bootcamp created\r\n"
     ]
    }
   ],
   "source": [
    "! microk8s.kubectl create deployment kubernetes-bootcamp --image=gcr.io/google-samples/kubernetes-bootcamp:v1"
   ]
  },
  {
   "cell_type": "code",
   "execution_count": 18,
   "metadata": {},
   "outputs": [
    {
     "name": "stdout",
     "output_type": "stream",
     "text": [
      "NAME                                   READY   STATUS              RESTARTS   AGE\r\n",
      "kubernetes-bootcamp-69fbc6f4cf-vt274   0/1     ContainerCreating   0          0s\r\n"
     ]
    }
   ],
   "source": [
    "! microk8s.kubectl get pods"
   ]
  },
  {
   "cell_type": "code",
   "execution_count": 19,
   "metadata": {},
   "outputs": [
    {
     "name": "stdout",
     "output_type": "stream",
     "text": [
      "NAME                                   READY   STATUS              RESTARTS   AGE   IP       NODE   NOMINATED NODE   READINESS GATES\r\n",
      "kubernetes-bootcamp-69fbc6f4cf-vt274   0/1     ContainerCreating   0          0s    <none>   k8s    <none>           <none>\r\n"
     ]
    }
   ],
   "source": [
    "! microk8s.kubectl get pods -o wide"
   ]
  },
  {
   "cell_type": "code",
   "execution_count": 20,
   "metadata": {},
   "outputs": [
    {
     "name": "stdout",
     "output_type": "stream",
     "text": [
      "curl: (7) Failed to connect to 10.1.90.2 port 80: No route to host\r\n"
     ]
    }
   ],
   "source": [
    "! curl 10.1.90.2"
   ]
  },
  {
   "cell_type": "markdown",
   "metadata": {},
   "source": [
    "# EXEC into Container BASH\n",
    "\n",
    "go to a cygwin terminal bash window and\n",
    "\n",
    "\n",
    "```\n",
    "k exec -it kubernetes-bootcamp-69fbc6f4cf-pv9tz bash\n",
    "```\n"
   ]
  },
  {
   "cell_type": "code",
   "execution_count": 21,
   "metadata": {},
   "outputs": [
    {
     "name": "stdout",
     "output_type": "stream",
     "text": [
      "/bin/sh: 1: microk8s.docker: not found\r\n"
     ]
    }
   ],
   "source": [
    "! microk8s.docker ps"
   ]
  },
  {
   "cell_type": "markdown",
   "metadata": {},
   "source": [
    "Version **1.14.0** introduced changes in microk8s.daemon-docker and change it to microk8s.daemon-containerd. Due to this change microk8s **cannot execute docker** commands. Microk8s contains daemon-docker between versions 1.11 and 1.13.\n",
    "\n",
    "If you are used to use docker install microk8s v1.13 by sudo snap install microk8s --classic --channel=1.13/stable\n",
    "\n",
    "For future use:\n",
    "\n",
    "1) Install microk8s - sudo snap install microk8s --classic --channel=1.13/stable (if still want use docker)"
   ]
  },
  {
   "cell_type": "markdown",
   "metadata": {},
   "source": [
    "! microk8s.kubectl get all --all-namespaces"
   ]
  },
  {
   "cell_type": "code",
   "execution_count": null,
   "metadata": {},
   "outputs": [
    {
     "name": "stdout",
     "output_type": "stream",
     "text": [
      "Applying manifest\n",
      "serviceaccount/kubernetes-dashboard unchanged\n",
      "service/kubernetes-dashboard unchanged\n",
      "secret/kubernetes-dashboard-certs unchanged\n",
      "secret/kubernetes-dashboard-csrf configured\n",
      "Warning: kubectl apply should be used on resource created by either kubectl create --save-config or kubectl apply\n",
      "secret/kubernetes-dashboard-key-holder configured\n",
      "configmap/kubernetes-dashboard-settings unchanged\n",
      "role.rbac.authorization.k8s.io/kubernetes-dashboard unchanged\n",
      "clusterrole.rbac.authorization.k8s.io/kubernetes-dashboard unchanged\n",
      "rolebinding.rbac.authorization.k8s.io/kubernetes-dashboard unchanged\n",
      "clusterrolebinding.rbac.authorization.k8s.io/kubernetes-dashboard unchanged\n",
      "deployment.apps/kubernetes-dashboard unchanged\n",
      "service/dashboard-metrics-scraper unchanged\n",
      "deployment.apps/dashboard-metrics-scraper unchanged\n",
      "service/monitoring-grafana unchanged\n",
      "service/monitoring-influxdb unchanged\n",
      "service/heapster unchanged\n",
      "deployment.apps/monitoring-influxdb-grafana-v4 unchanged\n",
      "serviceaccount/heapster unchanged\n",
      "clusterrolebinding.rbac.authorization.k8s.io/heapster unchanged\n",
      "configmap/heapster-config unchanged\n",
      "configmap/eventer-config unchanged\n",
      "deployment.apps/heapster-v1.5.2 unchanged\n",
      "\n",
      "If RBAC is not enabled access the dashboard using the default token retrieved with:\n",
      "\n",
      "token=$(microk8s.kubectl -n kube-system get secret | grep default-token | cut -d \" \" -f1)\n",
      "microk8s.kubectl -n kube-system describe secret $token\n",
      "\n",
      "In an RBAC enabled setup (microk8s.enable RBAC) you need to create a user with restricted\n",
      "permissions as shown in:\n",
      "https://github.com/kubernetes/dashboard/blob/master/docs/user/access-control/creating-sample-user.md\n",
      "\n",
      "Enabling DNS\n",
      "Applying manifest\n",
      "serviceaccount/coredns unchanged\n",
      "configmap/coredns unchanged\n",
      "deployment.apps/coredns unchanged\n",
      "service/kube-dns unchanged\n",
      "clusterrole.rbac.authorization.k8s.io/coredns unchanged\n",
      "clusterrolebinding.rbac.authorization.k8s.io/coredns unchanged\n"
     ]
    }
   ],
   "source": [
    "! microk8s.enable dashboard dns"
   ]
  },
  {
   "cell_type": "code",
   "execution_count": null,
   "metadata": {},
   "outputs": [],
   "source": [
    "# i think this is a microk8s - thing - somebody google it after class\n",
    "! microk8s.status --wait-ready | egrep 'dns|dashboard'"
   ]
  },
  {
   "cell_type": "code",
   "execution_count": null,
   "metadata": {},
   "outputs": [],
   "source": [
    "%%bash\n",
    "token=$(microk8s.kubectl -n kube-system get secret | grep default-token | cut -d \" \" -f1)\n",
    "microk8s.kubectl -n kube-system describe secret $token"
   ]
  },
  {
   "cell_type": "code",
   "execution_count": null,
   "metadata": {},
   "outputs": [],
   "source": [
    "!microk8s.kubectl get services --all-namespaces"
   ]
  },
  {
   "cell_type": "code",
   "execution_count": null,
   "metadata": {},
   "outputs": [],
   "source": [
    "! microk8s.kubectl get services --all-namespaces | grep dashboard"
   ]
  },
  {
   "cell_type": "markdown",
   "metadata": {},
   "source": [
    "# Run this in a window instead\n",
    "\n",
    "## starts the PROXY service with long ugly end points on 8001\n",
    "\n",
    "###  ssh tunnel 8001 - needed!\n",
    "\n",
    "- ! microk8s.kubectl proxy --accept-hosts=.* --address=0.0.0.0"
   ]
  },
  {
   "cell_type": "markdown",
   "metadata": {},
   "source": [
    "# Console\n",
    "http://{Ubuntu_IP_address}:8001/api/v1/namespaces/kube-system/services/https:kubernetes-dashboard:/proxy/\n",
    "\n",
    "```\n",
    "tunkube k8\n",
    "http://localhost:8001/api/v1/namespaces/kube-system/services/https:kubernetes-dashboard:/proxy/\n",
    "\n",
    "http://10.12.69.17:8001/api/v1/namespaces/kube-system/services/https:kubernetes-dashboard:/proxy/\n",
    "```\n",
    "\n",
    "[CLICK FOR CONSOLE](http://localhost:8001/api/v1/namespaces/kube-system/services/https:kubernetes-dashboard:/proxy/\n",
    ")"
   ]
  },
  {
   "cell_type": "code",
   "execution_count": null,
   "metadata": {},
   "outputs": [],
   "source": [
    "! microk8s.status --wait-ready"
   ]
  },
  {
   "cell_type": "markdown",
   "metadata": {},
   "source": [
    "# DASHBOARD STUFF\n",
    "1. SCALE the bootcamp replica set using the DASHBOARD and with command line kubectl\n",
    "\n",
    "## Revised - look at this in later lessons"
   ]
  },
  {
   "cell_type": "code",
   "execution_count": null,
   "metadata": {},
   "outputs": [],
   "source": [
    "! microk8s.kubectl delete deployment kubernetes-bootcamp"
   ]
  },
  {
   "cell_type": "code",
   "execution_count": null,
   "metadata": {},
   "outputs": [],
   "source": [
    "! microk8s.kubectl get all --all-namespaces"
   ]
  },
  {
   "cell_type": "code",
   "execution_count": null,
   "metadata": {},
   "outputs": [],
   "source": [
    "! microk8s.kubectl get all --all-namespaces |grep default"
   ]
  },
  {
   "cell_type": "markdown",
   "metadata": {},
   "source": [
    "### Tony Don't forget to checkpoint this  (cd /opt/k8s101; make)\n",
    "\n",
    "![](https://encrypted-tbn0.gstatic.com/images?q=tbn%3AANd9GcQ_XzO7BkFd_ZWuy51FSjMYjCqSvzosDjRpENR860P4cYr6x7TX)\n",
    "\n"
   ]
  },
  {
   "cell_type": "code",
   "execution_count": null,
   "metadata": {},
   "outputs": [],
   "source": []
  }
 ],
 "metadata": {
  "kernelspec": {
   "display_name": "Python 3",
   "language": "python",
   "name": "python3"
  },
  "language_info": {
   "codemirror_mode": {
    "name": "ipython",
    "version": 3
   },
   "file_extension": ".py",
   "mimetype": "text/x-python",
   "name": "python",
   "nbconvert_exporter": "python",
   "pygments_lexer": "ipython3",
   "version": "3.6.9"
  }
 },
 "nbformat": 4,
 "nbformat_minor": 4
}
