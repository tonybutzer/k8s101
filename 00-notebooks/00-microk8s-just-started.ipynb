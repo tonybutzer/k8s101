{
 "cells": [
  {
   "cell_type": "code",
   "execution_count": 4,
   "metadata": {},
   "outputs": [
    {
     "name": "stdout",
     "output_type": "stream",
     "text": [
      "microk8s is running\r\n",
      "addons:\r\n",
      "cilium: disabled\r\n",
      "dashboard: disabled\r\n",
      "dns: disabled\r\n",
      "fluentd: disabled\r\n",
      "gpu: disabled\r\n",
      "helm: disabled\r\n",
      "ingress: disabled\r\n",
      "istio: disabled\r\n",
      "jaeger: disabled\r\n",
      "juju: disabled\r\n",
      "knative: disabled\r\n",
      "kubeflow: disabled\r\n",
      "linkerd: disabled\r\n",
      "metallb: disabled\r\n",
      "metrics-server: disabled\r\n",
      "prometheus: disabled\r\n",
      "rbac: disabled\r\n",
      "registry: disabled\r\n",
      "storage: disabled\r\n"
     ]
    }
   ],
   "source": [
    "! microk8s.status --wait-ready"
   ]
  },
  {
   "cell_type": "code",
   "execution_count": 5,
   "metadata": {},
   "outputs": [
    {
     "name": "stdout",
     "output_type": "stream",
     "text": [
      "NAME   STATUS   ROLES    AGE   VERSION\r\n",
      "k8s    Ready    <none>   12m   v1.17.2\r\n"
     ]
    }
   ],
   "source": [
    "! microk8s.kubectl get nodes"
   ]
  },
  {
   "cell_type": "code",
   "execution_count": 6,
   "metadata": {},
   "outputs": [
    {
     "name": "stdout",
     "output_type": "stream",
     "text": [
      "NAME         TYPE        CLUSTER-IP     EXTERNAL-IP   PORT(S)   AGE\r\n",
      "kubernetes   ClusterIP   10.152.183.1   <none>        443/TCP   12m\r\n"
     ]
    }
   ],
   "source": [
    "! microk8s.kubectl get services"
   ]
  },
  {
   "cell_type": "code",
   "execution_count": 16,
   "metadata": {},
   "outputs": [
    {
     "name": "stdout",
     "output_type": "stream",
     "text": [
      "kubectl controls the Kubernetes cluster manager.\n",
      "\n",
      " Find more information at: https://kubernetes.io/docs/reference/kubectl/overview/\n",
      "\n",
      "Basic Commands (Beginner):\n",
      "  create         Create a resource from a file or from stdin.\n",
      "  expose         Take a replication controller, service, deployment or pod and expose it as a new Kubernetes Service\n",
      "  run            Run a particular image on the cluster\n",
      "  set            Set specific features on objects\n",
      "\n",
      "Basic Commands (Intermediate):\n",
      "  explain        Documentation of resources\n",
      "  get            Display one or many resources\n",
      "  edit           Edit a resource on the server\n",
      "  delete         Delete resources by filenames, stdin, resources and names, or by resources and label selector\n",
      "\n",
      "Deploy Commands:\n",
      "  rollout        Manage the rollout of a resource\n",
      "  scale          Set a new size for a Deployment, ReplicaSet or Replication Controller\n",
      "  autoscale      Auto-scale a Deployment, ReplicaSet, or ReplicationController\n",
      "\n",
      "Cluster Management Commands:\n",
      "  certificate    Modify certificate resources.\n",
      "  cluster-info   Display cluster info\n",
      "  top            Display Resource (CPU/Memory/Storage) usage.\n",
      "  cordon         Mark node as unschedulable\n",
      "  uncordon       Mark node as schedulable\n",
      "  drain          Drain node in preparation for maintenance\n",
      "  taint          Update the taints on one or more nodes\n",
      "\n",
      "Troubleshooting and Debugging Commands:\n",
      "  describe       Show details of a specific resource or group of resources\n",
      "  logs           Print the logs for a container in a pod\n",
      "  attach         Attach to a running container\n",
      "  exec           Execute a command in a container\n",
      "  port-forward   Forward one or more local ports to a pod\n",
      "  proxy          Run a proxy to the Kubernetes API server\n",
      "  cp             Copy files and directories to and from containers.\n",
      "  auth           Inspect authorization\n",
      "\n",
      "Advanced Commands:\n",
      "  diff           Diff live version against would-be applied version\n",
      "  apply          Apply a configuration to a resource by filename or stdin\n",
      "  patch          Update field(s) of a resource using strategic merge patch\n",
      "  replace        Replace a resource by filename or stdin\n",
      "  wait           Experimental: Wait for a specific condition on one or many resources.\n",
      "  convert        Convert config files between different API versions\n",
      "  kustomize      Build a kustomization target from a directory or a remote url.\n",
      "\n",
      "Settings Commands:\n",
      "  label          Update the labels on a resource\n",
      "  annotate       Update the annotations on a resource\n",
      "  completion     Output shell completion code for the specified shell (bash or zsh)\n",
      "\n",
      "Other Commands:\n",
      "  api-resources  Print the supported API resources on the server\n",
      "  api-versions   Print the supported API versions on the server, in the form of \"group/version\"\n",
      "  config         Modify kubeconfig files\n",
      "  plugin         Provides utilities for interacting with plugins.\n",
      "  version        Print the client and server version information\n",
      "\n",
      "Usage:\n",
      "  kubectl [flags] [options]\n",
      "\n",
      "Use \"kubectl <command> --help\" for more information about a given command.\n",
      "Use \"kubectl options\" for a list of global command-line options (applies to all commands).\n"
     ]
    }
   ],
   "source": [
    "%%bash\n",
    "alias kubectl='microk8s.kubectl'\n",
    "alias k='kubectl'\n",
    "microk8s.kubectl --help"
   ]
  },
  {
   "cell_type": "code",
   "execution_count": 9,
   "metadata": {},
   "outputs": [
    {
     "name": "stdout",
     "output_type": "stream",
     "text": [
      "/bin/sh: 1: k: not found\r\n"
     ]
    }
   ],
   "source": [
    "! k --help"
   ]
  },
  {
   "cell_type": "code",
   "execution_count": 17,
   "metadata": {},
   "outputs": [],
   "source": [
    "# DEMO APP DEPLOYMENT"
   ]
  },
  {
   "cell_type": "code",
   "execution_count": 19,
   "metadata": {},
   "outputs": [
    {
     "name": "stdout",
     "output_type": "stream",
     "text": [
      "deployment.apps/kubernetes-bootcamp created\r\n"
     ]
    }
   ],
   "source": [
    "! microk8s.kubectl create deployment kubernetes-bootcamp --image=gcr.io/google-samples/kubernetes-bootcamp:v1"
   ]
  },
  {
   "cell_type": "code",
   "execution_count": 20,
   "metadata": {},
   "outputs": [
    {
     "name": "stdout",
     "output_type": "stream",
     "text": [
      "NAME                                   READY   STATUS    RESTARTS   AGE\r\n",
      "kubernetes-bootcamp-69fbc6f4cf-pv9tz   1/1     Running   0          16s\r\n"
     ]
    }
   ],
   "source": [
    "! microk8s.kubectl get pods"
   ]
  },
  {
   "cell_type": "markdown",
   "metadata": {},
   "source": [
    "# EXEC into Container BASH\n",
    "\n",
    "\n",
    " k exec -it kubernetes-bootcamp-69fbc6f4cf-pv9tz bash\n"
   ]
  }
 ],
 "metadata": {
  "kernelspec": {
   "display_name": "Python 3",
   "language": "python",
   "name": "python3"
  },
  "language_info": {
   "codemirror_mode": {
    "name": "ipython",
    "version": 3
   },
   "file_extension": ".py",
   "mimetype": "text/x-python",
   "name": "python",
   "nbconvert_exporter": "python",
   "pygments_lexer": "ipython3",
   "version": "3.6.9"
  }
 },
 "nbformat": 4,
 "nbformat_minor": 4
}
