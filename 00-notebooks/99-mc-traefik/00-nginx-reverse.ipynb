{
 "cells": [
  {
   "cell_type": "markdown",
   "metadata": {},
   "source": [
    "# Using NGINX for demos on microk8s - ie - guestbook ...\n",
    "\n",
    "1. "
   ]
  },
  {
   "cell_type": "code",
   "execution_count": 1,
   "metadata": {},
   "outputs": [],
   "source": [
    "import os\n",
    "my_out = os.system('ls')"
   ]
  },
  {
   "cell_type": "code",
   "execution_count": 2,
   "metadata": {},
   "outputs": [
    {
     "data": {
      "text/plain": [
       "0"
      ]
     },
     "execution_count": 2,
     "metadata": {},
     "output_type": "execute_result"
    }
   ],
   "source": [
    "my_out"
   ]
  },
  {
   "cell_type": "code",
   "execution_count": 3,
   "metadata": {},
   "outputs": [
    {
     "name": "stdout",
     "output_type": "stream",
     "text": [
      "Current date is: Mon Mar  9 01:27:15 UTC 2020\n",
      "\n"
     ]
    }
   ],
   "source": [
    "import subprocess\n",
    "\n",
    "cmd = \"date\"\n",
    "\n",
    "# returns output as byte string\n",
    "returned_output = subprocess.check_output(cmd)\n",
    "\n",
    "# using decode() function to convert byte string to string\n",
    "print('Current date is:', returned_output.decode(\"utf-8\"))"
   ]
  },
  {
   "cell_type": "code",
   "execution_count": 4,
   "metadata": {},
   "outputs": [
    {
     "name": "stdout",
     "output_type": "stream",
     "text": [
      "Current LS STUFF is:\n",
      " 00-nginx-reverse.ipynb\n",
      "99-using-traefik-for-class.ipynb\n",
      "docker-compose.yml\n",
      "nginx\n",
      "traefik.toml\n",
      "\n"
     ]
    }
   ],
   "source": [
    "cmd = \"ls\"\n",
    "\n",
    "# returns output as byte string\n",
    "returned_output = subprocess.check_output(cmd)\n",
    "\n",
    "# using decode() function to convert byte string to string\n",
    "print('Current LS STUFF is:\\n', returned_output.decode(\"utf-8\"))"
   ]
  },
  {
   "cell_type": "code",
   "execution_count": 5,
   "metadata": {},
   "outputs": [
    {
     "name": "stdout",
     "output_type": "stream",
     "text": [
      "Current LS STUFF is:\n",
      " microk8s is running\n",
      "addons:\n",
      "cilium: disabled\n",
      "dashboard: enabled\n",
      "dns: enabled\n",
      "fluentd: disabled\n",
      "gpu: disabled\n",
      "helm: disabled\n",
      "ingress: disabled\n",
      "istio: disabled\n",
      "jaeger: disabled\n",
      "juju: disabled\n",
      "knative: disabled\n",
      "kubeflow: disabled\n",
      "linkerd: disabled\n",
      "metallb: disabled\n",
      "metrics-server: disabled\n",
      "prometheus: disabled\n",
      "rbac: disabled\n",
      "registry: disabled\n",
      "storage: disabled\n",
      "\n"
     ]
    }
   ],
   "source": [
    "cmd = \"/snap/bin/microk8s.status\"\n",
    "\n",
    "# returns output as byte string\n",
    "returned_output = subprocess.check_output(cmd)\n",
    "\n",
    "# using decode() function to convert byte string to string\n",
    "print('Current LS STUFF is:\\n', returned_output.decode(\"utf-8\"))"
   ]
  },
  {
   "cell_type": "code",
   "execution_count": 6,
   "metadata": {},
   "outputs": [
    {
     "name": "stdout",
     "output_type": "stream",
     "text": [
      "Current LS STUFF is:\n",
      " kubectl controls the Kubernetes cluster manager.\n",
      "\n",
      " Find more information at: https://kubernetes.io/docs/reference/kubectl/overview/\n",
      "\n",
      "Basic Commands (Beginner):\n",
      "  create         Create a resource from a file or from stdin.\n",
      "  expose         Take a replication controller, service, deployment or pod and expose it as a new Kubernetes Service\n",
      "  run            Run a particular image on the cluster\n",
      "  set            Set specific features on objects\n",
      "\n",
      "Basic Commands (Intermediate):\n",
      "  explain        Documentation of resources\n",
      "  get            Display one or many resources\n",
      "  edit           Edit a resource on the server\n",
      "  delete         Delete resources by filenames, stdin, resources and names, or by resources and label selector\n",
      "\n",
      "Deploy Commands:\n",
      "  rollout        Manage the rollout of a resource\n",
      "  scale          Set a new size for a Deployment, ReplicaSet or Replication Controller\n",
      "  autoscale      Auto-scale a Deployment, ReplicaSet, or ReplicationController\n",
      "\n",
      "Cluster Management Commands:\n",
      "  certificate    Modify certificate resources.\n",
      "  cluster-info   Display cluster info\n",
      "  top            Display Resource (CPU/Memory/Storage) usage.\n",
      "  cordon         Mark node as unschedulable\n",
      "  uncordon       Mark node as schedulable\n",
      "  drain          Drain node in preparation for maintenance\n",
      "  taint          Update the taints on one or more nodes\n",
      "\n",
      "Troubleshooting and Debugging Commands:\n",
      "  describe       Show details of a specific resource or group of resources\n",
      "  logs           Print the logs for a container in a pod\n",
      "  attach         Attach to a running container\n",
      "  exec           Execute a command in a container\n",
      "  port-forward   Forward one or more local ports to a pod\n",
      "  proxy          Run a proxy to the Kubernetes API server\n",
      "  cp             Copy files and directories to and from containers.\n",
      "  auth           Inspect authorization\n",
      "\n",
      "Advanced Commands:\n",
      "  diff           Diff live version against would-be applied version\n",
      "  apply          Apply a configuration to a resource by filename or stdin\n",
      "  patch          Update field(s) of a resource using strategic merge patch\n",
      "  replace        Replace a resource by filename or stdin\n",
      "  wait           Experimental: Wait for a specific condition on one or many resources.\n",
      "  convert        Convert config files between different API versions\n",
      "  kustomize      Build a kustomization target from a directory or a remote url.\n",
      "\n",
      "Settings Commands:\n",
      "  label          Update the labels on a resource\n",
      "  annotate       Update the annotations on a resource\n",
      "  completion     Output shell completion code for the specified shell (bash or zsh)\n",
      "\n",
      "Other Commands:\n",
      "  api-resources  Print the supported API resources on the server\n",
      "  api-versions   Print the supported API versions on the server, in the form of \"group/version\"\n",
      "  config         Modify kubeconfig files\n",
      "  plugin         Provides utilities for interacting with plugins.\n",
      "  version        Print the client and server version information\n",
      "\n",
      "Usage:\n",
      "  kubectl [flags] [options]\n",
      "\n",
      "Use \"kubectl <command> --help\" for more information about a given command.\n",
      "Use \"kubectl options\" for a list of global command-line options (applies to all commands).\n",
      "\n"
     ]
    }
   ],
   "source": [
    "cmd = [\"/snap/bin/microk8s.kubectl\", \"--help\"]\n",
    "\n",
    "# returns output as byte string\n",
    "returned_output = subprocess.check_output(cmd)\n",
    "\n",
    "# using decode() function to convert byte string to string\n",
    "print('Current LS STUFF is:\\n', returned_output.decode(\"utf-8\"))"
   ]
  },
  {
   "cell_type": "code",
   "execution_count": 7,
   "metadata": {},
   "outputs": [
    {
     "name": "stdout",
     "output_type": "stream",
     "text": [
      "Current LS STUFF is:\n",
      " NAME       TYPE       CLUSTER-IP       EXTERNAL-IP   PORT(S)        AGE\n",
      "frontend   NodePort   10.152.183.182   <none>        80:30537/TCP   19h\n",
      "\n"
     ]
    }
   ],
   "source": [
    "cmd = [\"/snap/bin/microk8s.kubectl\", \"get\", 'svc', '-l tier=frontend']\n",
    "\n",
    "# returns output as byte string\n",
    "returned_output = subprocess.check_output(cmd)\n",
    "\n",
    "# using decode() function to convert byte string to string\n",
    "print('Current LS STUFF is:\\n', returned_output.decode(\"utf-8\"))"
   ]
  },
  {
   "cell_type": "code",
   "execution_count": 8,
   "metadata": {},
   "outputs": [
    {
     "data": {
      "text/plain": [
       "'frontend   NodePort   10.152.183.182   <none>        80:30537/TCP   19h'"
      ]
     },
     "execution_count": 8,
     "metadata": {},
     "output_type": "execute_result"
    }
   ],
   "source": [
    "just_fe = returned_output.decode(\"utf-8\") \n",
    "just_fe = just_fe.split('\\n')[1]\n",
    "just_fe"
   ]
  },
  {
   "cell_type": "code",
   "execution_count": 9,
   "metadata": {},
   "outputs": [],
   "source": [
    "import re\n",
    "ports = re.split('\\s+',just_fe)"
   ]
  },
  {
   "cell_type": "code",
   "execution_count": 10,
   "metadata": {},
   "outputs": [
    {
     "data": {
      "text/plain": [
       "['frontend', 'NodePort', '10.152.183.182', '<none>', '80:30537/TCP', '19h']"
      ]
     },
     "execution_count": 10,
     "metadata": {},
     "output_type": "execute_result"
    }
   ],
   "source": [
    "ports"
   ]
  },
  {
   "cell_type": "code",
   "execution_count": 11,
   "metadata": {},
   "outputs": [
    {
     "data": {
      "text/plain": [
       "'80:30537/TCP'"
      ]
     },
     "execution_count": 11,
     "metadata": {},
     "output_type": "execute_result"
    }
   ],
   "source": [
    "nodeport = ports[4]\n",
    "nodeport"
   ]
  },
  {
   "cell_type": "code",
   "execution_count": 12,
   "metadata": {},
   "outputs": [],
   "source": [
    "nodeport = nodeport.split(':')[1]"
   ]
  },
  {
   "cell_type": "code",
   "execution_count": 13,
   "metadata": {},
   "outputs": [
    {
     "data": {
      "text/plain": [
       "'30537/TCP'"
      ]
     },
     "execution_count": 13,
     "metadata": {},
     "output_type": "execute_result"
    }
   ],
   "source": [
    "nodeport"
   ]
  },
  {
   "cell_type": "code",
   "execution_count": 14,
   "metadata": {},
   "outputs": [],
   "source": [
    "nodeport = nodeport.split('/')[0]"
   ]
  },
  {
   "cell_type": "code",
   "execution_count": 15,
   "metadata": {},
   "outputs": [
    {
     "data": {
      "text/plain": [
       "'30537'"
      ]
     },
     "execution_count": 15,
     "metadata": {},
     "output_type": "execute_result"
    }
   ],
   "source": [
    "nodeport"
   ]
  },
  {
   "cell_type": "code",
   "execution_count": 16,
   "metadata": {},
   "outputs": [
    {
     "name": "stdout",
     "output_type": "stream",
     "text": [
      "Current LS STUFF is:\n",
      " 2: ens5: <BROADCAST,MULTICAST,UP,LOWER_UP> mtu 9001 qdisc mq state UP group default qlen 1000\n",
      "    link/ether 02:4a:23:b8:cb:64 brd ff:ff:ff:ff:ff:ff\n",
      "    inet 10.12.68.23/23 brd 10.12.69.255 scope global dynamic ens5\n",
      "       valid_lft 3003sec preferred_lft 3003sec\n",
      "    inet6 fe80::4a:23ff:feb8:cb64/64 scope link \n",
      "       valid_lft forever preferred_lft forever\n",
      "\n"
     ]
    }
   ],
   "source": [
    "cmd = [\"ip\", \"a\", 'show', 'ens5']\n",
    "\n",
    "# returns output as byte string\n",
    "returned_output = subprocess.check_output(cmd)\n",
    "\n",
    "# using decode() function to convert byte string to string\n",
    "print('Current LS STUFF is:\\n', returned_output.decode(\"utf-8\"))"
   ]
  },
  {
   "cell_type": "code",
   "execution_count": 17,
   "metadata": {},
   "outputs": [
    {
     "data": {
      "text/plain": [
       "'    inet 10.12.68.23/23 brd 10.12.69.255 scope global dynamic ens5'"
      ]
     },
     "execution_count": 17,
     "metadata": {},
     "output_type": "execute_result"
    }
   ],
   "source": [
    "just_fe = returned_output.decode(\"utf-8\") \n",
    "just_fe = just_fe.split('\\n')[2]\n",
    "just_fe"
   ]
  },
  {
   "cell_type": "code",
   "execution_count": 18,
   "metadata": {},
   "outputs": [],
   "source": [
    "ips = re.split('\\s+',just_fe)"
   ]
  },
  {
   "cell_type": "code",
   "execution_count": 19,
   "metadata": {},
   "outputs": [
    {
     "data": {
      "text/plain": [
       "['',\n",
       " 'inet',\n",
       " '10.12.68.23/23',\n",
       " 'brd',\n",
       " '10.12.69.255',\n",
       " 'scope',\n",
       " 'global',\n",
       " 'dynamic',\n",
       " 'ens5']"
      ]
     },
     "execution_count": 19,
     "metadata": {},
     "output_type": "execute_result"
    }
   ],
   "source": [
    "ips"
   ]
  },
  {
   "cell_type": "code",
   "execution_count": 20,
   "metadata": {},
   "outputs": [
    {
     "data": {
      "text/plain": [
       "'10.12.68.23/23'"
      ]
     },
     "execution_count": 20,
     "metadata": {},
     "output_type": "execute_result"
    }
   ],
   "source": [
    "my_ip = ips[2]\n",
    "my_ip"
   ]
  },
  {
   "cell_type": "code",
   "execution_count": 21,
   "metadata": {},
   "outputs": [],
   "source": [
    "my_ip = my_ip.split('/')[0]"
   ]
  },
  {
   "cell_type": "code",
   "execution_count": 22,
   "metadata": {},
   "outputs": [
    {
     "data": {
      "text/plain": [
       "'10.12.68.23'"
      ]
     },
     "execution_count": 22,
     "metadata": {},
     "output_type": "execute_result"
    }
   ],
   "source": [
    "my_ip"
   ]
  },
  {
   "cell_type": "code",
   "execution_count": 23,
   "metadata": {},
   "outputs": [
    {
     "name": "stdout",
     "output_type": "stream",
     "text": [
      "10.12.68.23\n"
     ]
    }
   ],
   "source": [
    "print(my_ip)"
   ]
  },
  {
   "cell_type": "code",
   "execution_count": 24,
   "metadata": {},
   "outputs": [],
   "source": [
    "def modify_kub_conf(version):\n",
    "    \"\"\" reads docker file and will increment version\"\"\"\n",
    "    # Open the file with read only permit\n",
    "    f = open('./nginx/nginx/conf.d/kub.conf', \"r\")\n",
    "    # use readlines to read all lines in the file\n",
    "    # The variable \"lines\" is a list containing all lines in the file\n",
    "    lines = f.readlines()\n",
    "    # close the file after reading the lines.\n",
    "    for line in lines:\n",
    "        print(line)\n",
    "        if version in line:\n",
    "            print(line)\n",
    "            #increment_line(line)\n",
    "    f.close()\n",
    "    print(version)"
   ]
  },
  {
   "cell_type": "code",
   "execution_count": 25,
   "metadata": {},
   "outputs": [
    {
     "name": "stdout",
     "output_type": "stream",
     "text": [
      "upstream k8s {\n",
      "\n",
      "  server        10.12.68.23:30537;\n",
      "\n",
      "}\n",
      "\n",
      "\n",
      "\n",
      "server {\n",
      "\n",
      "  listen        80;\n",
      "\n",
      "  server_name   k8s.tony.com;\n",
      "\n",
      "\n",
      "\n",
      "  location / {\n",
      "\n",
      "    proxy_pass  http://10.12.68.23:30537;\n",
      "\n",
      "  }\n",
      "\n",
      "}\n",
      "\n",
      "1.1\n"
     ]
    }
   ],
   "source": [
    "version='1.1'\n",
    "modify_kub_conf(version)"
   ]
  },
  {
   "cell_type": "code",
   "execution_count": 26,
   "metadata": {},
   "outputs": [
    {
     "name": "stdout",
     "output_type": "stream",
     "text": [
      "kub.conf  sites-available  sites-enabled\r\n"
     ]
    }
   ],
   "source": [
    "!ls nginx/nginx/conf.d"
   ]
  },
  {
   "cell_type": "code",
   "execution_count": 27,
   "metadata": {},
   "outputs": [],
   "source": [
    "kub_con = \"\"\"\n",
    "server {\n",
    "  listen        80;\n",
    "  server_name   k8s.tony.com;\n",
    "\n",
    "  location / {\n",
    "    #proxy_pass  http://10.12.68.23:30537;\n",
    "  }\n",
    "}\n",
    "\n",
    "\"\"\""
   ]
  },
  {
   "cell_type": "code",
   "execution_count": 29,
   "metadata": {},
   "outputs": [
    {
     "name": "stdout",
     "output_type": "stream",
     "text": [
      "\n",
      "server {\n",
      "  listen        80;\n",
      "  server_name   k8s.tony.com;\n",
      "\n",
      "  location / {\n",
      "    #proxy_pass  http://10.12.68.23:30537;\n",
      "  }\n",
      "}\n",
      "\n",
      "\n"
     ]
    }
   ],
   "source": [
    "print (kub_con)"
   ]
  },
  {
   "cell_type": "code",
   "execution_count": 35,
   "metadata": {},
   "outputs": [],
   "source": [
    "kub_con = \"\"\"\n",
    "server {\n",
    "  listen        80;\n",
    "  server_name   k8s.tony.com;\n",
    "\n",
    "  location / {\n",
    "    #proxy_pass  http://10.12.68.23:30537;\n",
    "    %s\n",
    "  }\n",
    "}\n",
    "\n",
    "\"\"\""
   ]
  },
  {
   "cell_type": "code",
   "execution_count": 36,
   "metadata": {},
   "outputs": [
    {
     "name": "stdout",
     "output_type": "stream",
     "text": [
      "\n",
      "server {\n",
      "  listen        80;\n",
      "  server_name   k8s.tony.com;\n",
      "\n",
      "  location / {\n",
      "    #proxy_pass  http://10.12.68.23:30537;\n",
      "    %s\n",
      "  }\n",
      "}\n",
      "\n",
      "\n"
     ]
    }
   ],
   "source": [
    "print(kub_con)"
   ]
  },
  {
   "cell_type": "code",
   "execution_count": 37,
   "metadata": {},
   "outputs": [
    {
     "data": {
      "text/plain": [
       "'proxy_pass http://10.12.68.23:30537'"
      ]
     },
     "execution_count": 37,
     "metadata": {},
     "output_type": "execute_result"
    }
   ],
   "source": [
    "proxy_str = \"proxy_pass http://%s:%s\" % (my_ip, nodeport)\n",
    "proxy_str"
   ]
  },
  {
   "cell_type": "code",
   "execution_count": 38,
   "metadata": {},
   "outputs": [],
   "source": [
    "kub_con = kub_con % (proxy_str)"
   ]
  },
  {
   "cell_type": "code",
   "execution_count": 39,
   "metadata": {},
   "outputs": [
    {
     "data": {
      "text/plain": [
       "'\\nserver {\\n  listen        80;\\n  server_name   k8s.tony.com;\\n\\n  location / {\\n    #proxy_pass  http://10.12.68.23:30537;\\n    proxy_pass http://10.12.68.23:30537\\n  }\\n}\\n\\n'"
      ]
     },
     "execution_count": 39,
     "metadata": {},
     "output_type": "execute_result"
    }
   ],
   "source": [
    "kub_con"
   ]
  },
  {
   "cell_type": "code",
   "execution_count": 40,
   "metadata": {},
   "outputs": [
    {
     "name": "stdout",
     "output_type": "stream",
     "text": [
      "nginx/nginx/conf.d/kub.conf\r\n"
     ]
    }
   ],
   "source": [
    "! ls nginx/nginx/conf.d/kub.conf"
   ]
  },
  {
   "cell_type": "code",
   "execution_count": 41,
   "metadata": {},
   "outputs": [],
   "source": [
    "filename = 'nginx/nginx/conf.d/kub.conf'\n",
    "f = open(filename, \"w\")\n",
    "f.write(kub_con)\n",
    "f.close()"
   ]
  },
  {
   "cell_type": "code",
   "execution_count": 42,
   "metadata": {},
   "outputs": [
    {
     "name": "stdout",
     "output_type": "stream",
     "text": [
      "\n",
      "\n",
      "server {\n",
      "\n",
      "  listen        80;\n",
      "\n",
      "  server_name   k8s.tony.com;\n",
      "\n",
      "\n",
      "\n",
      "  location / {\n",
      "\n",
      "    #proxy_pass  http://10.12.68.23:30537;\n",
      "\n",
      "    proxy_pass http://10.12.68.23:30537\n",
      "\n",
      "  }\n",
      "\n",
      "}\n",
      "\n",
      "\n",
      "\n",
      "1.1\n"
     ]
    }
   ],
   "source": [
    "version='1.1'\n",
    "modify_kub_conf(version)"
   ]
  },
  {
   "cell_type": "code",
   "execution_count": 44,
   "metadata": {},
   "outputs": [
    {
     "name": "stdout",
     "output_type": "stream",
     "text": [
      "env: k=microk8s.kubectl\n"
     ]
    }
   ],
   "source": [
    "%env k=microk8s.kubectl"
   ]
  },
  {
   "cell_type": "code",
   "execution_count": 45,
   "metadata": {},
   "outputs": [
    {
     "name": "stdout",
     "output_type": "stream",
     "text": [
      "NAME               TYPE        CLUSTER-IP       EXTERNAL-IP   PORT(S)        AGE\r\n",
      "frontend           NodePort    10.152.183.182   <none>        80:30537/TCP   19h\r\n",
      "kubernetes         ClusterIP   10.152.183.1     <none>        443/TCP        2d1h\r\n",
      "microbot-service   NodePort    10.152.183.195   <none>        80:31914/TCP   46h\r\n",
      "redis-master       ClusterIP   10.152.183.198   <none>        6379/TCP       20h\r\n",
      "redis-slave        ClusterIP   10.152.183.78    <none>        6379/TCP       20h\r\n"
     ]
    }
   ],
   "source": [
    "! $k get svc"
   ]
  },
  {
   "cell_type": "code",
   "execution_count": null,
   "metadata": {},
   "outputs": [],
   "source": []
  }
 ],
 "metadata": {
  "kernelspec": {
   "display_name": "Python 3",
   "language": "python",
   "name": "python3"
  },
  "language_info": {
   "codemirror_mode": {
    "name": "ipython",
    "version": 3
   },
   "file_extension": ".py",
   "mimetype": "text/x-python",
   "name": "python",
   "nbconvert_exporter": "python",
   "pygments_lexer": "ipython3",
   "version": "3.6.9"
  }
 },
 "nbformat": 4,
 "nbformat_minor": 4
}
