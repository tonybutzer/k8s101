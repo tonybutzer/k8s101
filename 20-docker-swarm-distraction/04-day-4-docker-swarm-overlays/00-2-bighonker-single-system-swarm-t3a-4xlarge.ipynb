{
 "cells": [
  {
   "cell_type": "markdown",
   "metadata": {},
   "source": [
    "# Fuck the Firewall and Security Groups\n",
    "\n",
    "So the strategy is too run on a single bigass computer EC2 instance in AWS CHS\n",
    "\n",
    "and:\n",
    "\n",
    "1. play with swarm on the local qotom\n",
    "2. pay with k3d and k3s on the qotom as well\n",
    "\n",
    "so now back to aws bigass"
   ]
  },
  {
   "cell_type": "markdown",
   "metadata": {},
   "source": [
    "# Step 1 Create a Big master\n",
    "\n",
    "use chs-master-only\n",
    "\n",
    "and start with a smaller instance for swarm for development\n",
    "and then\n",
    "- graduate to a bigger machine when doing demos of pnger - PNG generator\n",
    "\n",
    "1. add new liberal security grooups tpo the list to have more options for jupyter etc"
   ]
  },
  {
   "cell_type": "code",
   "execution_count": null,
   "metadata": {},
   "outputs": [],
   "source": []
  }
 ],
 "metadata": {
  "kernelspec": {
   "display_name": "Python 3",
   "language": "python",
   "name": "python3"
  },
  "language_info": {
   "codemirror_mode": {
    "name": "ipython",
    "version": 3
   },
   "file_extension": ".py",
   "mimetype": "text/x-python",
   "name": "python",
   "nbconvert_exporter": "python",
   "pygments_lexer": "ipython3",
   "version": "3.6.9"
  }
 },
 "nbformat": 4,
 "nbformat_minor": 4
}
