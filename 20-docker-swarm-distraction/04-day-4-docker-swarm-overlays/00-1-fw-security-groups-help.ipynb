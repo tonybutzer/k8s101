{
 "cells": [
  {
   "cell_type": "markdown",
   "metadata": {},
   "source": [
    "# Docker Swarm Revisited\n",
    "\n",
    "so i was able to get a docker swarm up using other ports for the api such as\n",
    "- 8080\n",
    "- 8200,8300\n",
    "\n",
    "BUT\n",
    "\n",
    "# BUT\n",
    "\n",
    "gossip does not synchronize resource discover - so only inside a node can you find a resource\n",
    "\n",
    "## That Sucks so\n",
    "\n",
    "\n",
    "---\n",
    "---\n",
    "\n",
    "# Overlay Networks\n",
    "\n",
    "### explained here well \n",
    "\n",
    "## Overlay Networking for Multi-Host Container Networking\n",
    "https://www.youtube.com/watch?v=nGSNULpHHZc\n",
    "\n",
    "\n",
    "\n",
    "or here not so well\n",
    "https://docs.docker.com/compose/networking/\n",
    "\n"
   ]
  },
  {
   "cell_type": "code",
   "execution_count": 1,
   "metadata": {},
   "outputs": [
    {
     "name": "stdout",
     "output_type": "stream",
     "text": [
      "NETWORK ID          NAME                DRIVER              SCOPE\r\n",
      "47123a21292e        bridge              bridge              local\r\n",
      "bc07cc822bb7        docker_gwbridge     bridge              local\r\n",
      "aa01dc44c4cf        host                host                local\r\n",
      "xhndl0felg28        ingress             overlay             swarm\r\n",
      "988c47c1f7ed        none                null                local\r\n",
      "n0nhzmzs553b        stackdemo_default   overlay             swarm\r\n"
     ]
    }
   ],
   "source": [
    "! docker network list"
   ]
  },
  {
   "cell_type": "markdown",
   "metadata": {},
   "source": [
    "## Docker Advanced Networking\n",
    "https://www.youtube.com/watch?v=Xxhhdo2e-DA"
   ]
  },
  {
   "cell_type": "markdown",
   "metadata": {},
   "source": [
    "Create an overlay network\n",
    "\n",
    "    Prerequisites:\n",
    "\n",
    "        Firewall rules for Docker daemons using overlay networks\n",
    "\n",
    "        You need the following ports open to traffic to and from each Docker host participating on an overlay network:\n",
    "            TCP port 2377 for cluster management communications\n",
    "            TCP and UDP port 7946 for communication among nodes\n",
    "            UDP port 4789 for overlay network traffic\n",
    "\n",
    "        Before you can create an overlay network, you need to either initialize your Docker daemon as a swarm manager using docker swarm init or join it to an existing swarm using docker swarm join. Either of these creates the default ingress overlay network which is used by swarm services by default. You need to do this even if you never plan to use swarm services. Afterward, you can create additional user-defined overlay networks.\n",
    "\n"
   ]
  },
  {
   "cell_type": "markdown",
   "metadata": {},
   "source": [
    "# Original Reference Repeated\n",
    "\n",
    "https://docs.docker.com/engine/swarm/stack-deploy/\n",
    "\n",
    "https://docs.docker.com/engine/swarm/stack-deploy/\n",
    "\n",
    "https://docs.docker.com/engine/reference/commandline/swarm_join/\n",
    "\n",
    "rabbitmq - keep waiting to meet you - sorry\n",
    "https://www.youtube.com/watch?v=wDv1iCMjypg\n",
    "\n",
    "How to look inside RabbitMQ queues for messages (Command Line & Web Interface) | Building a\n",
    "\n",
    "\n",
    "https://www.youtube.com/watch?v=2SE9w1XfevA\n",
    "\n",
    "\n",
    "\n"
   ]
  },
  {
   "cell_type": "code",
   "execution_count": null,
   "metadata": {},
   "outputs": [],
   "source": []
  }
 ],
 "metadata": {
  "kernelspec": {
   "display_name": "Python 3",
   "language": "python",
   "name": "python3"
  },
  "language_info": {
   "codemirror_mode": {
    "name": "ipython",
    "version": 3
   },
   "file_extension": ".py",
   "mimetype": "text/x-python",
   "name": "python",
   "nbconvert_exporter": "python",
   "pygments_lexer": "ipython3",
   "version": "3.6.9"
  }
 },
 "nbformat": 4,
 "nbformat_minor": 4
}
