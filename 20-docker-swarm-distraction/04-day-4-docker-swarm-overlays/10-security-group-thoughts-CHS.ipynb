{
 "cells": [
  {
   "cell_type": "markdown",
   "metadata": {},
   "source": [
    "# step1 - create a group for swarm"
   ]
  },
  {
   "cell_type": "markdown",
   "metadata": {},
   "source": [
    "# ports\n",
    "\n",
    "Docker Swarm Mode Ports\n",
    "\n",
    "Starting with 1.12 in July 2016, Docker Swarm Mode is a built-in solution with built-in key/value store. Easier to get started, and fewer ports to configure.\n",
    "Inbound Traffic for Swarm Management\n",
    "\n",
    "    TCP port 2377 for cluster management & raft sync communications\n",
    "    TCP and UDP port 7946 for \"control plane\" gossip discovery communication between all nodes\n",
    "    UDP port 4789 for \"data plane\" VXLAN overlay network traffic\n",
    "    IP Protocol 50 (ESP) if you plan on using overlay network with the encryption option\n",
    "\n",
    "AWS Security Group Example\n",
    "\n",
    "AWS Tip: You should use Security Groups in AWS's \"source\" field rather then subnets, so SG's will all dynamically update when new nodes are added.\n",
    "Inbound to Swarm Managers (superset of worker ports)\n",
    "- Type \tProtocol \tPorts \tSource\n",
    "```\n",
    "Custom TCP Rule \tTCP \t2377 \tswarm + remote mgmt\n",
    "Custom TCP Rule \tTCP \t7946 \tswarm\n",
    "Custom UDP Rule \tUDP \t7946 \tswarm\n",
    "Custom UDP Rule \tUDP \t4789 \tswarm\n",
    "Custom Protocol \t50 \tall \tswarm\n",
    "Inbound to Swarm Workers\n",
    "Type \tProtocol \tPorts \tSource\n",
    "Custom TCP Rule \tTCP \t7946 \tswarm\n",
    "Custom UDP Rule \tUDP \t7946 \tswarm\n",
    "Custom UDP Rule \tUDP \t4789 \tswarm\n",
    "Custom Protocol \t50 \tall \tswarm\n",
    "```"
   ]
  },
  {
   "cell_type": "code",
   "execution_count": null,
   "metadata": {},
   "outputs": [],
   "source": []
  }
 ],
 "metadata": {
  "kernelspec": {
   "display_name": "Python 3",
   "language": "python",
   "name": "python3"
  },
  "language_info": {
   "codemirror_mode": {
    "name": "ipython",
    "version": 3
   },
   "file_extension": ".py",
   "mimetype": "text/x-python",
   "name": "python",
   "nbconvert_exporter": "python",
   "pygments_lexer": "ipython3",
   "version": "3.6.9"
  }
 },
 "nbformat": 4,
 "nbformat_minor": 4
}
