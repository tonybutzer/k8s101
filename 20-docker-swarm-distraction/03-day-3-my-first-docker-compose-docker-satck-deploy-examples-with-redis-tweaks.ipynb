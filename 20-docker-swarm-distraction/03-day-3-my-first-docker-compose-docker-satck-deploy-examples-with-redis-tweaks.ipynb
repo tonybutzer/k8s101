{
 "cells": [
  {
   "cell_type": "markdown",
   "metadata": {},
   "source": [
    "# References\n",
    "\n",
    "https://docs.docker.com/engine/swarm/stack-deploy/\n",
    "\n",
    "## Redis Tweaks - Compromise\n",
    "\n",
    "### @sanjibukai The best solution I've found for 1), and 2) \n",
    "\n",
    "> is to simply set them in the compose file:\n",
    "\n",
    "redis:\n",
    "\n",
    "    sysctls:\n",
    "    - net.core.somaxconn=511\n",
    "    - vm.overcommit_memory=1\n",
    "\n",
    "and it's my understanding that handling 3) in some way, would require running the container as privileged, giving it access to the host, which isn't the best security idea.\n",
    "\n",
    "Note: I would hesitate to follow net.core.somaxconn=65535 as the value—far above the 511 Redis wants—without understanding the implications (How TCP Backlog Works in Linux)"
   ]
  },
  {
   "cell_type": "markdown",
   "metadata": {},
   "source": [
    "https://kb.objectrocket.com/redis/how-to-install-redis-on-ubuntu-using-docker-505\n",
    "\n"
   ]
  }
 ],
 "metadata": {
  "kernelspec": {
   "display_name": "Python 3",
   "language": "python",
   "name": "python3"
  },
  "language_info": {
   "codemirror_mode": {
    "name": "ipython",
    "version": 3
   },
   "file_extension": ".py",
   "mimetype": "text/x-python",
   "name": "python",
   "nbconvert_exporter": "python",
   "pygments_lexer": "ipython3",
   "version": "3.6.9"
  }
 },
 "nbformat": 4,
 "nbformat_minor": 4
}
