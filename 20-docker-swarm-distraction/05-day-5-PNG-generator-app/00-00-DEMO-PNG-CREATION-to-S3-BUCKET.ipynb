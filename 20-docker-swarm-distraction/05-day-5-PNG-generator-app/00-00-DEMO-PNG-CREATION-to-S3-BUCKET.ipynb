{
 "cells": [
  {
   "cell_type": "code",
   "execution_count": 1,
   "metadata": {},
   "outputs": [
    {
     "name": "stdout",
     "output_type": "stream",
     "text": [
      "2020-04-11 14:11:22      62233 tmax001.png\r\n",
      "2020-04-11 14:11:30      61915 tmax002.png\r\n"
     ]
    }
   ],
   "source": [
    "! ~/.local/bin/aws s3 ls dev-rhassan/tony/"
   ]
  },
  {
   "cell_type": "code",
   "execution_count": 2,
   "metadata": {},
   "outputs": [
    {
     "name": "stdout",
     "output_type": "stream",
     "text": [
      "      2       8      86\r\n"
     ]
    }
   ],
   "source": [
    "! ~/.local/bin/aws s3 ls dev-rhassan/tony/ | wc"
   ]
  },
  {
   "cell_type": "code",
   "execution_count": 3,
   "metadata": {},
   "outputs": [
    {
     "name": "stdout",
     "output_type": "stream",
     "text": [
      "delete: s3://dev-rhassan/tony/tmax001.png\r\n",
      "delete: s3://dev-rhassan/tony/tmax002.png\r\n"
     ]
    }
   ],
   "source": [
    "! ~/.local/bin/aws s3 rm s3://dev-rhassan/tony/ --recursive"
   ]
  },
  {
   "cell_type": "code",
   "execution_count": 4,
   "metadata": {},
   "outputs": [],
   "source": [
    "! ~/.local/bin/aws s3 ls dev-rhassan/tony/"
   ]
  },
  {
   "cell_type": "code",
   "execution_count": 5,
   "metadata": {},
   "outputs": [
    {
     "name": "stdout",
     "output_type": "stream",
     "text": [
      "                           PRE TRR_test_cases/\r\n",
      "                           PRE africa-scene-li/\r\n",
      "                           PRE africa-scene-lists/\r\n",
      "                           PRE newsslcert/\r\n",
      "2020-04-10 15:00:03        315 get-cw-log-stream\r\n",
      "2020-04-10 13:15:07     276255 lpgs_integration_testing_test_case_512_TC-512-10000-list.txt\r\n",
      "2020-04-01 19:06:46      89930 tc_512_cloud_end_to_end.pdf\r\n"
     ]
    }
   ],
   "source": [
    "! ~/.local/bin/aws s3 ls dev-rhassan/"
   ]
  },
  {
   "cell_type": "code",
   "execution_count": 6,
   "metadata": {},
   "outputs": [
    {
     "name": "stdout",
     "output_type": "stream",
     "text": [
      "List count = 366\n"
     ]
    }
   ],
   "source": [
    "from playLib.bo_bucket import bo_get_bucket_list\n",
    "bucket_name = 'ga-et-data'\n",
    "prefix='Cloud_Veg_ET/Data/TMAX/'\n",
    "lista=bo_get_bucket_list(bucket_name, prefix)"
   ]
  },
  {
   "cell_type": "code",
   "execution_count": 33,
   "metadata": {},
   "outputs": [
    {
     "data": {
      "text/plain": [
       "['Cloud_Veg_ET/Data/TMAX/tmax_001_gw.tif.npy',\n",
       " 'Cloud_Veg_ET/Data/TMAX/tmax_002_gw.tif.npy',\n",
       " 'Cloud_Veg_ET/Data/TMAX/tmax_003_gw.tif.npy',\n",
       " 'Cloud_Veg_ET/Data/TMAX/tmax_004_gw.tif.npy',\n",
       " 'Cloud_Veg_ET/Data/TMAX/tmax_005_gw.tif.npy']"
      ]
     },
     "execution_count": 33,
     "metadata": {},
     "output_type": "execute_result"
    }
   ],
   "source": [
    "lista[0:5]"
   ]
  },
  {
   "cell_type": "code",
   "execution_count": 7,
   "metadata": {},
   "outputs": [
    {
     "name": "stdout",
     "output_type": "stream",
     "text": [
      "ga-et-data,Cloud_Veg_ET/Data/TMAX/,tmax_001_gw.tif.npy\n",
      "ga-et-data,Cloud_Veg_ET/Data/TMAX/,tmax_002_gw.tif.npy\n"
     ]
    }
   ],
   "source": [
    "\n",
    "# This is serial and VERY SLOW!\n",
    "import os\n",
    "\n",
    "bucket='ga-et-data'\n",
    "for i in range(2):\n",
    "    \n",
    "    file_obj=lista[i]\n",
    "    prefix = '/'.join(file_obj.split('/')[0:-1]) + '/'\n",
    "    #print(prefix)\n",
    "    filen = file_obj.split('/')[-1]\n",
    "    #print(filen)\n",
    "    argv = ','.join([bucket,prefix,filen])\n",
    "    print(argv)\n",
    "    cmd = 'python3 ./png-maker/png-maker.py ' + argv\n",
    "    os.system(cmd) "
   ]
  },
  {
   "cell_type": "code",
   "execution_count": 8,
   "metadata": {},
   "outputs": [
    {
     "name": "stdout",
     "output_type": "stream",
     "text": [
      "      2       8      86\r\n"
     ]
    }
   ],
   "source": [
    "! ~/.local/bin/aws s3 ls dev-rhassan/tony/ | wc"
   ]
  },
  {
   "cell_type": "code",
   "execution_count": 9,
   "metadata": {},
   "outputs": [
    {
     "name": "stdout",
     "output_type": "stream",
     "text": [
      "2020-04-11 14:12:49      62233 tmax001.png\r\n",
      "2020-04-11 14:12:58      61915 tmax002.png\r\n"
     ]
    }
   ],
   "source": [
    "! ~/.local/bin/aws s3 ls dev-rhassan/tony/"
   ]
  },
  {
   "cell_type": "markdown",
   "metadata": {},
   "source": [
    "# Part 2 Queues with RabitMQ"
   ]
  },
  {
   "cell_type": "code",
   "execution_count": 10,
   "metadata": {},
   "outputs": [
    {
     "name": "stdout",
     "output_type": "stream",
     "text": [
      "   Active: inactive (dead) since Sat 2020-04-11 01:19:25 UTC; 12h ago\r\n"
     ]
    }
   ],
   "source": [
    " ! sudo systemctl status rabbitmq-server.service | grep Active"
   ]
  },
  {
   "cell_type": "code",
   "execution_count": 11,
   "metadata": {},
   "outputs": [],
   "source": [
    "# hello"
   ]
  },
  {
   "cell_type": "code",
   "execution_count": 12,
   "metadata": {},
   "outputs": [
    {
     "name": "stdout",
     "output_type": "stream",
     "text": [
      "   Active: inactive (dead) since Sat 2020-04-11 01:19:25 UTC; 12h ago\n"
     ]
    }
   ],
   "source": [
    "%%bash\n",
    "#systemctl --type=service\n",
    "systemctl status rabbitmq-server.service |grep Active\n"
   ]
  },
  {
   "cell_type": "code",
   "execution_count": 13,
   "metadata": {},
   "outputs": [
    {
     "name": "stdout",
     "output_type": "stream",
     "text": [
      "\u001b[33mWARNING\u001b[0m: Some services (tony) use the 'deploy' key, which will be ignored. Compose does not support 'deploy' configuration - use `docker stack deploy` to deploy to a swarm.\n",
      "Creating network \"rabbit_default\" with the default driver\n",
      "Creating rabbit_web_1 ... \n",
      "Creating rabbit_redis_1 ... \n",
      "Creating rabbit_tony_1 ... \n",
      "Creating rabbitmq ... \n",
      "Creating rabbit_qbarf_1 ... \n",
      "Creating rabbit_redis_1\n",
      "Creating rabbit_web_1\n",
      "Creating rabbit_tony_1\n",
      "Creating rabbitmq\n",
      "Creating rabbit_qbarf_1\n",
      "\u001b[1Bting rabbitmq ... \u001b[32mdone\u001b[0m\u001b[0m0m\u001b[1A\u001b[2K\u001b[1A\u001b[2K\u001b[1A\u001b[2K\u001b[1A\u001b[2K"
     ]
    }
   ],
   "source": [
    "! (cd rabbit; docker-compose up -d)"
   ]
  },
  {
   "cell_type": "code",
   "execution_count": 14,
   "metadata": {},
   "outputs": [
    {
     "name": "stdout",
     "output_type": "stream",
     "text": [
      "sleeping...\r\n"
     ]
    }
   ],
   "source": [
    "! echo sleeping..."
   ]
  },
  {
   "cell_type": "code",
   "execution_count": 15,
   "metadata": {},
   "outputs": [
    {
     "name": "stdout",
     "output_type": "stream",
     "text": [
      "waiting...\n",
      "waiting...\n",
      "waiting...\n",
      "waiting...\n",
      "waiting...\n",
      "waiting...\n",
      "waiting...\n",
      "waiting...\n",
      "waiting...\n",
      "waiting...\n"
     ]
    }
   ],
   "source": [
    "\n",
    "%%bash\n",
    "for i in {1..10}; do\n",
    "    echo waiting... ;\n",
    "    sleep 1 ;\n",
    "done"
   ]
  },
  {
   "cell_type": "code",
   "execution_count": 16,
   "metadata": {},
   "outputs": [],
   "source": [
    "from playLib.qbird import Qbird\n",
    "\n",
    "q = Qbird('localhost','tonyq')\n",
    "q.q_declare()\n",
    "msg='COVID-19 bites!!!!'\n",
    "q.q_publish(msg)"
   ]
  },
  {
   "cell_type": "code",
   "execution_count": 17,
   "metadata": {},
   "outputs": [],
   "source": [
    "for i in range(10):\n",
    "    msg = 'COVID-19 bites!!!!' +str(i)\n",
    "    q.q_publish(msg)"
   ]
  },
  {
   "cell_type": "code",
   "execution_count": 18,
   "metadata": {},
   "outputs": [
    {
     "name": "stdout",
     "output_type": "stream",
     "text": [
      "WARNING: Error loading config file: /home/ubuntu/.docker/config.json: stat /home/ubuntu/.docker/config.json: permission denied\r\n",
      "CONTAINER ID        IMAGE                          COMMAND                  CREATED             STATUS              PORTS                                                                                        NAMES\r\n",
      "116edf47cdf9        tbutzer/q_barfer               \"/usr/bin/python3 q_…\"   17 seconds ago      Up 12 seconds                                                                                                    rabbit_qbarf_1\r\n",
      "533112463ee7        tbutzer/bash-tester            \"docker-entrypoint.s…\"   17 seconds ago      Up 13 seconds       6379/tcp                                                                                     rabbit_tony_1\r\n",
      "0e3c66575b83        rabbitmq:3-management-alpine   \"docker-entrypoint.s…\"   17 seconds ago      Up 10 seconds       4369/tcp, 5671/tcp, 0.0.0.0:5672->5672/tcp, 15671/tcp, 25672/tcp, 0.0.0.0:15672->15672/tcp   rabbitmq\r\n",
      "4964386a5ad6        redis:alpine                   \"docker-entrypoint.s…\"   17 seconds ago      Up 14 seconds       6379/tcp                                                                                     rabbit_redis_1\r\n",
      "57d3328c8b1c        tbutzer/stackdemo              \"python myapp.py\"        17 seconds ago      Up 11 seconds       0.0.0.0:8000->8000/tcp                                                                       rabbit_web_1\r\n"
     ]
    }
   ],
   "source": [
    "! docker ps"
   ]
  },
  {
   "cell_type": "code",
   "execution_count": 19,
   "metadata": {},
   "outputs": [
    {
     "name": "stdout",
     "output_type": "stream",
     "text": [
      "\u001b[33mWARNING\u001b[0m: Some services (tony) use the 'deploy' key, which will be ignored. Compose does not support 'deploy' configuration - use `docker stack deploy` to deploy to a swarm.\n",
      "Attaching to rabbit_qbarf_1, rabbit_tony_1, rabbitmq, rabbit_redis_1, rabbit_web_1\n",
      "\u001b[36mqbarf_1     |\u001b[0m 2020-04-11 14:13:03,940 - Q_BARFER - INFO - Logging Begins\n",
      "\u001b[36mqbarf_1     |\u001b[0m 2020-04-11 14:13:08,998 - Q_BARFER - INFO - sleeping - waiting ... rabbitmq where are you?\n",
      "\u001b[36mqbarf_1     |\u001b[0m 2020-04-11 14:13:12,002 - Q_BARFER - INFO - sleeping - waiting ... rabbitmq where are you?\n",
      "\u001b[36mqbarf_1     |\u001b[0m 2020-04-11 14:13:15,008 - Q_BARFER - INFO - sleeping - waiting ... rabbitmq where are you?\n",
      "\u001b[36mqbarf_1     |\u001b[0m 2020-04-11 14:13:16,306 - Q_BARFER - INFO -  [x] Received b'COVID-19 bites!!!!'\n",
      "\u001b[36mqbarf_1     |\u001b[0m 2020-04-11 14:13:16,315 - Q_BARFER - INFO -  [x] Received b'COVID-19 bites!!!!0'\n",
      "\u001b[36mqbarf_1     |\u001b[0m 2020-04-11 14:13:16,317 - Q_BARFER - INFO -  [x] Received b'COVID-19 bites!!!!1'\n",
      "\u001b[36mqbarf_1     |\u001b[0m 2020-04-11 14:13:16,319 - Q_BARFER - INFO -  [x] Received b'COVID-19 bites!!!!2'\n",
      "\u001b[36mqbarf_1     |\u001b[0m 2020-04-11 14:13:16,320 - Q_BARFER - INFO -  [x] Received b'COVID-19 bites!!!!3'\n",
      "\u001b[36mqbarf_1     |\u001b[0m 2020-04-11 14:13:16,323 - Q_BARFER - INFO -  [x] Received b'COVID-19 bites!!!!4'\n",
      "\u001b[36mqbarf_1     |\u001b[0m 2020-04-11 14:13:16,323 - Q_BARFER - INFO -  [x] Received b'COVID-19 bites!!!!5'\n",
      "\u001b[36mqbarf_1     |\u001b[0m 2020-04-11 14:13:16,323 - Q_BARFER - INFO -  [x] Received b'COVID-19 bites!!!!6'\n",
      "\u001b[36mqbarf_1     |\u001b[0m 2020-04-11 14:13:16,323 - Q_BARFER - INFO -  [x] Received b'COVID-19 bites!!!!7'\n",
      "\u001b[36mqbarf_1     |\u001b[0m 2020-04-11 14:13:16,323 - Q_BARFER - INFO -  [x] Received b'COVID-19 bites!!!!8'\n",
      "\u001b[36mqbarf_1     |\u001b[0m 2020-04-11 14:13:16,323 - Q_BARFER - INFO -  [x] Received b'COVID-19 bites!!!!9'\n"
     ]
    }
   ],
   "source": [
    "! (cd rabbit; docker-compose logs |grep qbarf | tail -20)"
   ]
  },
  {
   "cell_type": "code",
   "execution_count": 20,
   "metadata": {},
   "outputs": [
    {
     "name": "stdout",
     "output_type": "stream",
     "text": [
      "Status of node rabbit@0e3c66575b83 ...\n",
      "\u001b[1mRuntime\u001b[0m\n",
      "\n",
      "OS PID: 331\n",
      "OS: Linux\n",
      "Uptime (seconds): 10\n",
      "RabbitMQ version: 3.8.3\n",
      "Node name: rabbit@0e3c66575b83\n",
      "Erlang configuration: Erlang/OTP 22 [erts-10.7.1] [source] [64-bit] [smp:2:2] [ds:2:2:10] [async-threads:64]\n",
      "Erlang processes: 448 used, 1048576 limit\n",
      "Scheduler run queue: 1\n",
      "Cluster heartbeat timeout (net_ticktime): 60\n",
      "\n",
      "\u001b[1mPlugins\u001b[0m\n",
      "\n",
      "Enabled plugin file: /etc/rabbitmq/enabled_plugins\n",
      "Enabled plugins:\n",
      "\n",
      " * rabbitmq_management\n",
      " * rabbitmq_web_dispatch\n",
      " * rabbitmq_management_agent\n",
      " * amqp_client\n",
      " * cowboy\n",
      " * cowlib\n",
      "\n",
      "\u001b[1mData directory\u001b[0m\n",
      "\n",
      "Node data directory: /var/lib/rabbitmq/mnesia/rabbit@0e3c66575b83\n",
      "\n",
      "\u001b[1mConfig files\u001b[0m\n",
      "\n",
      " * /etc/rabbitmq/rabbitmq.conf\n",
      "\n",
      "\u001b[1mLog file(s)\u001b[0m\n",
      "\n",
      " * <stdout>\n",
      "\n",
      "\u001b[1mAlarms\u001b[0m\n",
      "\n",
      "(none)\n",
      "\n",
      "\u001b[1mMemory\u001b[0m\n",
      "\n",
      "Calculation strategy: rss\n",
      "Memory high watermark setting: 0.4 of available memory, computed to: 3.3124 gb\n",
      "code: 0.0302 gb (29.16 %)\n",
      "other_proc: 0.0263 gb (25.39 %)\n",
      "other_system: 0.024 gb (23.19 %)\n",
      "allocated_unused: 0.0144 gb (13.9 %)\n",
      "other_ets: 0.0029 gb (2.79 %)\n",
      "reserved_unallocated: 0.0021 gb (2.02 %)\n",
      "atom: 0.0015 gb (1.47 %)\n",
      "binary: 0.001 gb (0.92 %)\n",
      "plugins: 0.0004 gb (0.42 %)\n",
      "metrics: 0.0002 gb (0.21 %)\n",
      "connection_other: 0.0001 gb (0.14 %)\n",
      "mgmt_db: 0.0001 gb (0.13 %)\n",
      "mnesia: 0.0001 gb (0.08 %)\n",
      "connection_readers: 0.0001 gb (0.07 %)\n",
      "quorum_ets: 0.0 gb (0.05 %)\n",
      "msg_index: 0.0 gb (0.03 %)\n",
      "queue_procs: 0.0 gb (0.02 %)\n",
      "connection_writers: 0.0 gb (0.01 %)\n",
      "connection_channels: 0.0 gb (0.01 %)\n",
      "queue_slave_procs: 0.0 gb (0.0 %)\n",
      "quorum_queue_procs: 0.0 gb (0.0 %)\n",
      "\n",
      "\u001b[1mFile Descriptors\u001b[0m\n",
      "\n",
      "Total: 4, limit: 1048479\n",
      "Sockets: 2, limit: 943629\n",
      "\n",
      "\u001b[1mFree Disk Space\u001b[0m\n",
      "\n",
      "Low free disk space watermark: 0.05 gb\n",
      "Free disk space: 27.8852 gb\n",
      "\n",
      "\u001b[1mTotals\u001b[0m\n",
      "\n",
      "Connection count: 2\n",
      "Queue count: 1\n",
      "Virtual host count: 1\n",
      "\n",
      "\u001b[1mListeners\u001b[0m\n",
      "\n",
      "Interface: [::], port: 25672, protocol: clustering, purpose: inter-node and CLI tool communication\n",
      "Interface: [::], port: 5672, protocol: amqp, purpose: AMQP 0-9-1 and AMQP 1.0\n",
      "Interface: [::], port: 15672, protocol: http, purpose: HTTP API\n"
     ]
    }
   ],
   "source": [
    "! sudo docker exec rabbitmq rabbitmqctl status"
   ]
  },
  {
   "cell_type": "code",
   "execution_count": 21,
   "metadata": {},
   "outputs": [
    {
     "name": "stdout",
     "output_type": "stream",
     "text": [
      "Timeout: 60.0 seconds ...\r\n",
      "Listing queues for vhost / ...\r\n",
      "name\tmessages\r\n",
      "tonyq\t0\r\n"
     ]
    }
   ],
   "source": [
    "! sudo docker exec rabbitmq rabbitmqctl list_queues"
   ]
  },
  {
   "cell_type": "markdown",
   "metadata": {},
   "source": [
    "# Now Consume those Right here"
   ]
  },
  {
   "cell_type": "code",
   "execution_count": 22,
   "metadata": {},
   "outputs": [],
   "source": [
    "def callback(ch, method, properties, body):\n",
    "    print(\" [x] Received %r\" % body)"
   ]
  },
  {
   "cell_type": "code",
   "execution_count": 23,
   "metadata": {},
   "outputs": [],
   "source": [
    "qr=Qbird('localhost','tonyq')\n",
    "qr.q_set_callback(callback)\n"
   ]
  },
  {
   "cell_type": "markdown",
   "metadata": {},
   "source": [
    "# I used to consume the queue items here\n",
    "\n",
    "## But now i have the qbarf service to do that in docker-compose and docker swarm!"
   ]
  },
  {
   "cell_type": "code",
   "execution_count": 34,
   "metadata": {},
   "outputs": [],
   "source": [
    "# Dont blok here anymore\n",
    "# qr.q_consume()"
   ]
  },
  {
   "cell_type": "code",
   "execution_count": 25,
   "metadata": {},
   "outputs": [
    {
     "name": "stdout",
     "output_type": "stream",
     "text": [
      "Timeout: 60.0 seconds ...\n",
      "Listing queues for vhost / ...\n",
      "name\tmessages\n",
      "tonyq\t0\n"
     ]
    }
   ],
   "source": [
    "! sudo docker exec rabbitmq rabbitmqctl list_queues"
   ]
  },
  {
   "cell_type": "markdown",
   "metadata": {},
   "source": [
    "# Q them again"
   ]
  },
  {
   "cell_type": "code",
   "execution_count": 26,
   "metadata": {},
   "outputs": [],
   "source": [
    "q = Qbird('localhost','tonyq')\n",
    "q.q_declare()\n",
    "for i in range(10):\n",
    "    msg = 'COVID-19 STILL bites!!!!' +str(i)\n",
    "    q.q_publish(msg)"
   ]
  },
  {
   "cell_type": "code",
   "execution_count": 27,
   "metadata": {},
   "outputs": [
    {
     "name": "stdout",
     "output_type": "stream",
     "text": [
      "Timeout: 60.0 seconds ...\n",
      "Listing queues for vhost / ...\n",
      "name\tmessages\n",
      "tonyq\t0\n"
     ]
    }
   ],
   "source": [
    "! sudo docker exec rabbitmq rabbitmqctl list_queues"
   ]
  },
  {
   "cell_type": "markdown",
   "metadata": {},
   "source": [
    "# Drain these messages using the admin gui port \n",
    "\n",
    "http://localhost:15672/\n",
    "        \n",
    "## ssh tunnel via 03<tab> 15672 mhonk"
   ]
  },
  {
   "cell_type": "code",
   "execution_count": 29,
   "metadata": {},
   "outputs": [
    {
     "name": "stdout",
     "output_type": "stream",
     "text": [
      "Timeout: 60.0 seconds ...\n",
      "Listing queues for vhost / ...\n",
      "name\tmessages\n",
      "tonyq\t0\n"
     ]
    }
   ],
   "source": [
    "! sudo docker exec rabbitmq rabbitmqctl list_queues"
   ]
  },
  {
   "cell_type": "code",
   "execution_count": 30,
   "metadata": {},
   "outputs": [
    {
     "name": "stdout",
     "output_type": "stream",
     "text": [
      "tcp6       0      0 :::8000                 :::*                    LISTEN      25016/docker-proxy  \r\n",
      "tcp6       0      0 :::5672                 :::*                    LISTEN      25101/docker-proxy  \r\n",
      "tcp6       0      0 :::15672                :::*                    LISTEN      25049/docker-proxy  \r\n"
     ]
    }
   ],
   "source": [
    "! sudo netstat -anlp |grep docker-proxy |grep LISTEN"
   ]
  },
  {
   "cell_type": "code",
   "execution_count": 31,
   "metadata": {},
   "outputs": [
    {
     "name": "stdout",
     "output_type": "stream",
     "text": [
      "Hello World! I have been seen 1 times.\n",
      "Hello World! I have been seen 2 times.\n",
      "Hello World! I have been seen 3 times.\n"
     ]
    }
   ],
   "source": [
    "! curl localhost:8000\n",
    "    \n",
    "! curl localhost:8000\n",
    "\n",
    "! curl localhost:8000"
   ]
  },
  {
   "cell_type": "markdown",
   "metadata": {},
   "source": [
    "## Shut down the services with docker-compose"
   ]
  },
  {
   "cell_type": "code",
   "execution_count": 32,
   "metadata": {},
   "outputs": [
    {
     "name": "stdout",
     "output_type": "stream",
     "text": [
      "\u001b[33mWARNING\u001b[0m: Some services (tony) use the 'deploy' key, which will be ignored. Compose does not support 'deploy' configuration - use `docker stack deploy` to deploy to a swarm.\n",
      "Stopping rabbit_qbarf_1 ... \n",
      "Stopping rabbit_tony_1  ... \n",
      "Stopping rabbitmq       ... \n",
      "Stopping rabbit_redis_1 ... \n",
      "Stopping rabbit_web_1   ... \n",
      "\u001b[3Bping rabbitmq       ... \u001b[32mdone\u001b[0m\u001b[1A\u001b[2K\u001b[5A\u001b[2K\u001b[3A\u001b[2KRemoving rabbit_qbarf_1 ... \n",
      "Removing rabbit_tony_1  ... \n",
      "Removing rabbitmq       ... \n",
      "Removing rabbit_redis_1 ... \n",
      "Removing rabbit_web_1   ... \n",
      "\u001b[3BRemoving network rabbit_defaultne\u001b[0m\n"
     ]
    }
   ],
   "source": [
    "# SHUT Er DOWN NOW!!!!!!!\n",
    "! (cd rabbit; docker-compose down)"
   ]
  },
  {
   "cell_type": "code",
   "execution_count": null,
   "metadata": {},
   "outputs": [],
   "source": []
  }
 ],
 "metadata": {
  "kernelspec": {
   "display_name": "Python 3",
   "language": "python",
   "name": "python3"
  },
  "language_info": {
   "codemirror_mode": {
    "name": "ipython",
    "version": 3
   },
   "file_extension": ".py",
   "mimetype": "text/x-python",
   "name": "python",
   "nbconvert_exporter": "python",
   "pygments_lexer": "ipython3",
   "version": "3.6.9"
  }
 },
 "nbformat": 4,
 "nbformat_minor": 4
}
