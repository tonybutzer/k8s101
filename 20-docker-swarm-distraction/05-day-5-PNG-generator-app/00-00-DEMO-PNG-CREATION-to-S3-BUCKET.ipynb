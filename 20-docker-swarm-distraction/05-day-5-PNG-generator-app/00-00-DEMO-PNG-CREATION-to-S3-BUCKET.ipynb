{
 "cells": [
  {
   "cell_type": "code",
   "execution_count": 1,
   "metadata": {},
   "outputs": [
    {
     "name": "stdout",
     "output_type": "stream",
     "text": [
      "2020-04-10 17:14:45      62233 tmax001.png\r\n",
      "2020-04-10 17:15:02      56764 tmax003.png\r\n",
      "2020-04-10 17:15:10      55980 tmax004.png\r\n"
     ]
    }
   ],
   "source": [
    "! ~/.local/bin/aws s3 ls dev-rhassan/tony/"
   ]
  },
  {
   "cell_type": "code",
   "execution_count": 2,
   "metadata": {},
   "outputs": [
    {
     "name": "stdout",
     "output_type": "stream",
     "text": [
      "      3      12     129\r\n"
     ]
    }
   ],
   "source": [
    "! ~/.local/bin/aws s3 ls dev-rhassan/tony/ | wc"
   ]
  },
  {
   "cell_type": "code",
   "execution_count": 3,
   "metadata": {},
   "outputs": [
    {
     "name": "stdout",
     "output_type": "stream",
     "text": [
      "delete: s3://dev-rhassan/tony/tmax001.png\n",
      "delete: s3://dev-rhassan/tony/tmax004.png\n",
      "delete: s3://dev-rhassan/tony/tmax003.png\n"
     ]
    }
   ],
   "source": [
    "! ~/.local/bin/aws s3 rm s3://dev-rhassan/tony/ --recursive"
   ]
  },
  {
   "cell_type": "code",
   "execution_count": 4,
   "metadata": {},
   "outputs": [],
   "source": [
    "! ~/.local/bin/aws s3 ls dev-rhassan/tony/"
   ]
  },
  {
   "cell_type": "code",
   "execution_count": 5,
   "metadata": {},
   "outputs": [
    {
     "name": "stdout",
     "output_type": "stream",
     "text": [
      "                           PRE TRR_test_cases/\r\n",
      "                           PRE africa-scene-li/\r\n",
      "                           PRE africa-scene-lists/\r\n",
      "                           PRE newsslcert/\r\n",
      "2020-04-10 15:00:03        315 get-cw-log-stream\r\n",
      "2020-04-10 13:15:07     276255 lpgs_integration_testing_test_case_512_TC-512-10000-list.txt\r\n",
      "2020-04-01 19:06:46      89930 tc_512_cloud_end_to_end.pdf\r\n"
     ]
    }
   ],
   "source": [
    "! ~/.local/bin/aws s3 ls dev-rhassan/"
   ]
  },
  {
   "cell_type": "code",
   "execution_count": 6,
   "metadata": {},
   "outputs": [
    {
     "name": "stdout",
     "output_type": "stream",
     "text": [
      "List count = 366\n"
     ]
    }
   ],
   "source": [
    "from playLib.bo_bucket import bo_get_bucket_list\n",
    "bucket_name = 'ga-et-data'\n",
    "prefix='Cloud_Veg_ET/Data/TMAX/'\n",
    "lista=bo_get_bucket_list(bucket_name, prefix)"
   ]
  },
  {
   "cell_type": "code",
   "execution_count": 7,
   "metadata": {},
   "outputs": [
    {
     "data": {
      "text/plain": [
       "\"\\n# This is serial and VERY SLOW!\\nimport os\\n\\nbucket='ga-et-data'\\nfor file_obj in lista:\\n    \\n    prefix = '/'.join(file_obj.split('/')[0:-1]) + '/'\\n    #print(prefix)\\n    filen = file_obj.split('/')[-1]\\n    #print(filen)\\n    argv = ','.join([bucket,prefix,filen])\\n    print(argv)\\n    cmd = 'python3 ./png-maker/png-maker.py ' + argv\\n    os.system(cmd) \\n\""
      ]
     },
     "execution_count": 7,
     "metadata": {},
     "output_type": "execute_result"
    }
   ],
   "source": [
    "'''\n",
    "# This is serial and VERY SLOW!\n",
    "import os\n",
    "\n",
    "bucket='ga-et-data'\n",
    "for file_obj in lista:\n",
    "    \n",
    "    prefix = '/'.join(file_obj.split('/')[0:-1]) + '/'\n",
    "    #print(prefix)\n",
    "    filen = file_obj.split('/')[-1]\n",
    "    #print(filen)\n",
    "    argv = ','.join([bucket,prefix,filen])\n",
    "    print(argv)\n",
    "    cmd = 'python3 ./png-maker/png-maker.py ' + argv\n",
    "    os.system(cmd) \n",
    "'''"
   ]
  },
  {
   "cell_type": "code",
   "execution_count": 8,
   "metadata": {},
   "outputs": [
    {
     "name": "stdout",
     "output_type": "stream",
     "text": [
      "      0       0       0\r\n"
     ]
    }
   ],
   "source": [
    "! ~/.local/bin/aws s3 ls dev-rhassan/tony/ | wc"
   ]
  },
  {
   "cell_type": "code",
   "execution_count": 9,
   "metadata": {},
   "outputs": [],
   "source": [
    "! ~/.local/bin/aws s3 ls dev-rhassan/tony/"
   ]
  },
  {
   "cell_type": "markdown",
   "metadata": {},
   "source": [
    "# Part 2 Queues with RabittMQ"
   ]
  },
  {
   "cell_type": "code",
   "execution_count": 10,
   "metadata": {},
   "outputs": [
    {
     "name": "stdout",
     "output_type": "stream",
     "text": [
      "\u001b[?1h\u001b=\r",
      "Unit rabbitmq.service could not be found.\u001b[m\r\n",
      "\r",
      "\u001b[K\u001b[?1l\u001b>"
     ]
    }
   ],
   "source": [
    "! sudo systemctl status rabbitmq"
   ]
  },
  {
   "cell_type": "code",
   "execution_count": 11,
   "metadata": {},
   "outputs": [
    {
     "name": "stdout",
     "output_type": "stream",
     "text": [
      "systemctl: unrecognized option '--unit=list'\r\n"
     ]
    }
   ],
   "source": [
    "! sudo systemctl --unit=list"
   ]
  },
  {
   "cell_type": "code",
   "execution_count": 12,
   "metadata": {},
   "outputs": [
    {
     "name": "stdout",
     "output_type": "stream",
     "text": [
      "   Active: inactive (dead) since Fri 2020-04-10 16:08:00 UTC; 1h 8min ago\n"
     ]
    }
   ],
   "source": [
    "%%bash\n",
    "#systemctl --type=service\n",
    "systemctl status rabbitmq-server.service |grep Active\n"
   ]
  },
  {
   "cell_type": "code",
   "execution_count": 13,
   "metadata": {},
   "outputs": [
    {
     "name": "stdout",
     "output_type": "stream",
     "text": [
      "\u001b[33mWARNING\u001b[0m: Some services (tony) use the 'deploy' key, which will be ignored. Compose does not support 'deploy' configuration - use `docker stack deploy` to deploy to a swarm.\n",
      "rabbit_web_1 is up-to-date\n",
      "rabbit_redis_1 is up-to-date\n",
      "rabbit_tony_1 is up-to-date\n",
      "rabbitmq is up-to-date\n"
     ]
    }
   ],
   "source": [
    "! (cd rabbit; docker-compose up -d)"
   ]
  },
  {
   "cell_type": "code",
   "execution_count": 14,
   "metadata": {},
   "outputs": [],
   "source": [
    "from playLib.qbird import Qbird\n",
    "\n",
    "q = Qbird('localhost','tonyq')\n",
    "q.q_declare()\n",
    "msg='COVID-19 bites!!!!'\n",
    "q.q_publish(msg)"
   ]
  },
  {
   "cell_type": "code",
   "execution_count": 15,
   "metadata": {},
   "outputs": [],
   "source": [
    "for i in range(10):\n",
    "    msg = 'COVID-19 bites!!!!' +str(i)\n",
    "    q.q_publish(msg)"
   ]
  },
  {
   "cell_type": "code",
   "execution_count": 16,
   "metadata": {},
   "outputs": [
    {
     "name": "stdout",
     "output_type": "stream",
     "text": [
      "CONTAINER ID        IMAGE                          COMMAND                  CREATED             STATUS              PORTS                                                                                        NAMES\r\n",
      "fd99d93bd65b        tbutzer/bash-tester            \"docker-entrypoint.s…\"   About an hour ago   Up 5 minutes        6379/tcp                                                                                     rabbit_tony_1\r\n",
      "c5ecbbf6982b        tbutzer/stackdemo              \"python myapp.py\"        About an hour ago   Up 5 minutes        0.0.0.0:8000->8000/tcp                                                                       rabbit_web_1\r\n",
      "4497bc911125        redis:alpine                   \"docker-entrypoint.s…\"   About an hour ago   Up 5 minutes        6379/tcp                                                                                     rabbit_redis_1\r\n",
      "c8c69e577d14        rabbitmq:3-management-alpine   \"docker-entrypoint.s…\"   About an hour ago   Up 5 minutes        4369/tcp, 5671/tcp, 0.0.0.0:5672->5672/tcp, 15671/tcp, 25672/tcp, 0.0.0.0:15672->15672/tcp   rabbitmq\r\n"
     ]
    }
   ],
   "source": [
    "! docker ps"
   ]
  },
  {
   "cell_type": "code",
   "execution_count": 32,
   "metadata": {},
   "outputs": [
    {
     "name": "stdout",
     "output_type": "stream",
     "text": [
      "Status of node rabbit@c8c69e577d14 ...\n",
      "\u001b[1mRuntime\u001b[0m\n",
      "\n",
      "OS PID: 164\n",
      "OS: Linux\n",
      "Uptime (seconds): 1103\n",
      "RabbitMQ version: 3.8.3\n",
      "Node name: rabbit@c8c69e577d14\n",
      "Erlang configuration: Erlang/OTP 22 [erts-10.7.1] [source] [64-bit] [smp:2:2] [ds:2:2:10] [async-threads:64]\n",
      "Erlang processes: 430 used, 1048576 limit\n",
      "Scheduler run queue: 1\n",
      "Cluster heartbeat timeout (net_ticktime): 60\n",
      "\n",
      "\u001b[1mPlugins\u001b[0m\n",
      "\n",
      "Enabled plugin file: /etc/rabbitmq/enabled_plugins\n",
      "Enabled plugins:\n",
      "\n",
      " * rabbitmq_management\n",
      " * rabbitmq_web_dispatch\n",
      " * rabbitmq_management_agent\n",
      " * amqp_client\n",
      " * cowboy\n",
      " * cowlib\n",
      "\n",
      "\u001b[1mData directory\u001b[0m\n",
      "\n",
      "Node data directory: /var/lib/rabbitmq/mnesia/rabbit@c8c69e577d14\n",
      "\n",
      "\u001b[1mConfig files\u001b[0m\n",
      "\n",
      " * /etc/rabbitmq/rabbitmq.conf\n",
      "\n",
      "\u001b[1mLog file(s)\u001b[0m\n",
      "\n",
      " * <stdout>\n",
      "\n",
      "\u001b[1mAlarms\u001b[0m\n",
      "\n",
      "(none)\n",
      "\n",
      "\u001b[1mMemory\u001b[0m\n",
      "\n",
      "Calculation strategy: rss\n",
      "Memory high watermark setting: 0.4 of available memory, computed to: 3.3124 gb\n",
      "code: 0.0302 gb (29.7 %)\n",
      "other_system: 0.024 gb (23.58 %)\n",
      "other_proc: 0.0226 gb (22.22 %)\n",
      "allocated_unused: 0.0176 gb (17.28 %)\n",
      "other_ets: 0.0029 gb (2.84 %)\n",
      "plugins: 0.0017 gb (1.71 %)\n",
      "atom: 0.0015 gb (1.49 %)\n",
      "binary: 0.0005 gb (0.51 %)\n",
      "mgmt_db: 0.0003 gb (0.25 %)\n",
      "metrics: 0.0002 gb (0.21 %)\n",
      "mnesia: 0.0001 gb (0.08 %)\n",
      "quorum_ets: 0.0 gb (0.05 %)\n",
      "connection_other: 0.0 gb (0.04 %)\n",
      "msg_index: 0.0 gb (0.03 %)\n",
      "queue_procs: 0.0 gb (0.02 %)\n",
      "connection_channels: 0.0 gb (0.0 %)\n",
      "connection_readers: 0.0 gb (0.0 %)\n",
      "connection_writers: 0.0 gb (0.0 %)\n",
      "queue_slave_procs: 0.0 gb (0.0 %)\n",
      "quorum_queue_procs: 0.0 gb (0.0 %)\n",
      "reserved_unallocated: 0.0 gb (0.0 %)\n",
      "\n",
      "\u001b[1mFile Descriptors\u001b[0m\n",
      "\n",
      "Total: 2, limit: 1048479\n",
      "Sockets: 0, limit: 943629\n",
      "\n",
      "\u001b[1mFree Disk Space\u001b[0m\n",
      "\n",
      "Low free disk space watermark: 0.05 gb\n",
      "Free disk space: 36.4326 gb\n",
      "\n",
      "\u001b[1mTotals\u001b[0m\n",
      "\n",
      "Connection count: 0\n",
      "Queue count: 1\n",
      "Virtual host count: 1\n",
      "\n",
      "\u001b[1mListeners\u001b[0m\n",
      "\n",
      "Interface: [::], port: 25672, protocol: clustering, purpose: inter-node and CLI tool communication\n",
      "Interface: [::], port: 5672, protocol: amqp, purpose: AMQP 0-9-1 and AMQP 1.0\n",
      "Interface: [::], port: 15672, protocol: http, purpose: HTTP API\n"
     ]
    }
   ],
   "source": [
    "! sudo docker exec rabbitmq rabbitmqctl status"
   ]
  },
  {
   "cell_type": "code",
   "execution_count": 33,
   "metadata": {},
   "outputs": [
    {
     "name": "stdout",
     "output_type": "stream",
     "text": [
      "Timeout: 60.0 seconds ...\r\n",
      "Listing queues for vhost / ...\r\n",
      "name\tmessages\r\n",
      "tonyq\t11\r\n"
     ]
    }
   ],
   "source": [
    "! sudo docker exec rabbitmq rabbitmqctl list_queues"
   ]
  },
  {
   "cell_type": "markdown",
   "metadata": {},
   "source": [
    "# Now Consume those Right here"
   ]
  },
  {
   "cell_type": "code",
   "execution_count": 34,
   "metadata": {},
   "outputs": [],
   "source": [
    "def callback(ch, method, properties, body):\n",
    "    print(\" [x] Received %r\" % body)"
   ]
  },
  {
   "cell_type": "code",
   "execution_count": 35,
   "metadata": {},
   "outputs": [],
   "source": [
    "qr=Qbird('localhost','tonyq')\n",
    "qr.q_set_callback(callback)\n"
   ]
  },
  {
   "cell_type": "code",
   "execution_count": 36,
   "metadata": {},
   "outputs": [
    {
     "name": "stdout",
     "output_type": "stream",
     "text": [
      " [x] Received b'COVID-19 bites!!!!'\n",
      " [x] Received b'COVID-19 bites!!!!0'\n",
      " [x] Received b'COVID-19 bites!!!!1'\n",
      " [x] Received b'COVID-19 bites!!!!2'\n",
      " [x] Received b'COVID-19 bites!!!!3'\n",
      " [x] Received b'COVID-19 bites!!!!4'\n",
      " [x] Received b'COVID-19 bites!!!!5'\n",
      " [x] Received b'COVID-19 bites!!!!6'\n",
      " [x] Received b'COVID-19 bites!!!!7'\n",
      " [x] Received b'COVID-19 bites!!!!8'\n",
      " [x] Received b'COVID-19 bites!!!!9'\n"
     ]
    },
    {
     "ename": "KeyboardInterrupt",
     "evalue": "",
     "output_type": "error",
     "traceback": [
      "\u001b[0;31m---------------------------------------------------------------------------\u001b[0m",
      "\u001b[0;31mKeyboardInterrupt\u001b[0m                         Traceback (most recent call last)",
      "\u001b[0;32m<ipython-input-36-121cc8de81fc>\u001b[0m in \u001b[0;36m<module>\u001b[0;34m\u001b[0m\n\u001b[0;32m----> 1\u001b[0;31m \u001b[0mqr\u001b[0m\u001b[0;34m.\u001b[0m\u001b[0mq_consume\u001b[0m\u001b[0;34m(\u001b[0m\u001b[0;34m)\u001b[0m\u001b[0;34m\u001b[0m\u001b[0;34m\u001b[0m\u001b[0m\n\u001b[0m",
      "\u001b[0;32m/opt/npset/mylib/playLib/playLib/qbird.py\u001b[0m in \u001b[0;36mq_consume\u001b[0;34m(self)\u001b[0m\n\u001b[1;32m     42\u001b[0m \u001b[0;34m\u001b[0m\u001b[0m\n\u001b[1;32m     43\u001b[0m     \u001b[0;32mdef\u001b[0m \u001b[0mq_consume\u001b[0m\u001b[0;34m(\u001b[0m\u001b[0mself\u001b[0m\u001b[0;34m)\u001b[0m\u001b[0;34m:\u001b[0m\u001b[0;34m\u001b[0m\u001b[0;34m\u001b[0m\u001b[0m\n\u001b[0;32m---> 44\u001b[0;31m         \u001b[0mself\u001b[0m\u001b[0;34m.\u001b[0m\u001b[0mchannel\u001b[0m\u001b[0;34m.\u001b[0m\u001b[0mstart_consuming\u001b[0m\u001b[0;34m(\u001b[0m\u001b[0;34m)\u001b[0m\u001b[0;34m\u001b[0m\u001b[0;34m\u001b[0m\u001b[0m\n\u001b[0m\u001b[1;32m     45\u001b[0m \u001b[0;34m\u001b[0m\u001b[0m\n\u001b[1;32m     46\u001b[0m \u001b[0;34m\u001b[0m\u001b[0m\n",
      "\u001b[0;32m~/.local/lib/python3.6/site-packages/pika/adapters/blocking_connection.py\u001b[0m in \u001b[0;36mstart_consuming\u001b[0;34m(self)\u001b[0m\n\u001b[1;32m   1864\u001b[0m         \u001b[0;32mwhile\u001b[0m \u001b[0mself\u001b[0m\u001b[0;34m.\u001b[0m\u001b[0m_consumer_infos\u001b[0m\u001b[0;34m:\u001b[0m\u001b[0;34m\u001b[0m\u001b[0;34m\u001b[0m\u001b[0m\n\u001b[1;32m   1865\u001b[0m             \u001b[0;31m# This will raise ChannelClosed if channel is closed by broker\u001b[0m\u001b[0;34m\u001b[0m\u001b[0;34m\u001b[0m\u001b[0;34m\u001b[0m\u001b[0m\n\u001b[0;32m-> 1866\u001b[0;31m             \u001b[0mself\u001b[0m\u001b[0;34m.\u001b[0m\u001b[0m_process_data_events\u001b[0m\u001b[0;34m(\u001b[0m\u001b[0mtime_limit\u001b[0m\u001b[0;34m=\u001b[0m\u001b[0;32mNone\u001b[0m\u001b[0;34m)\u001b[0m\u001b[0;34m\u001b[0m\u001b[0;34m\u001b[0m\u001b[0m\n\u001b[0m\u001b[1;32m   1867\u001b[0m \u001b[0;34m\u001b[0m\u001b[0m\n\u001b[1;32m   1868\u001b[0m     \u001b[0;32mdef\u001b[0m \u001b[0mstop_consuming\u001b[0m\u001b[0;34m(\u001b[0m\u001b[0mself\u001b[0m\u001b[0;34m,\u001b[0m \u001b[0mconsumer_tag\u001b[0m\u001b[0;34m=\u001b[0m\u001b[0;32mNone\u001b[0m\u001b[0;34m)\u001b[0m\u001b[0;34m:\u001b[0m\u001b[0;34m\u001b[0m\u001b[0;34m\u001b[0m\u001b[0m\n",
      "\u001b[0;32m~/.local/lib/python3.6/site-packages/pika/adapters/blocking_connection.py\u001b[0m in \u001b[0;36m_process_data_events\u001b[0;34m(self, time_limit)\u001b[0m\n\u001b[1;32m   2025\u001b[0m \u001b[0;34m\u001b[0m\u001b[0m\n\u001b[1;32m   2026\u001b[0m         \"\"\"\n\u001b[0;32m-> 2027\u001b[0;31m         \u001b[0mself\u001b[0m\u001b[0;34m.\u001b[0m\u001b[0mconnection\u001b[0m\u001b[0;34m.\u001b[0m\u001b[0mprocess_data_events\u001b[0m\u001b[0;34m(\u001b[0m\u001b[0mtime_limit\u001b[0m\u001b[0;34m=\u001b[0m\u001b[0mtime_limit\u001b[0m\u001b[0;34m)\u001b[0m\u001b[0;34m\u001b[0m\u001b[0;34m\u001b[0m\u001b[0m\n\u001b[0m\u001b[1;32m   2028\u001b[0m         if self.is_closed and isinstance(self._closing_reason,\n\u001b[1;32m   2029\u001b[0m                                          exceptions.ChannelClosedByBroker):\n",
      "\u001b[0;32m~/.local/lib/python3.6/site-packages/pika/adapters/blocking_connection.py\u001b[0m in \u001b[0;36mprocess_data_events\u001b[0;34m(self, time_limit)\u001b[0m\n\u001b[1;32m    823\u001b[0m                                               self._ready_events))\n\u001b[1;32m    824\u001b[0m             \u001b[0;32mif\u001b[0m \u001b[0mtime_limit\u001b[0m \u001b[0;32mis\u001b[0m \u001b[0;32mNone\u001b[0m\u001b[0;34m:\u001b[0m\u001b[0;34m\u001b[0m\u001b[0;34m\u001b[0m\u001b[0m\n\u001b[0;32m--> 825\u001b[0;31m                 \u001b[0mself\u001b[0m\u001b[0;34m.\u001b[0m\u001b[0m_flush_output\u001b[0m\u001b[0;34m(\u001b[0m\u001b[0mcommon_terminator\u001b[0m\u001b[0;34m)\u001b[0m\u001b[0;34m\u001b[0m\u001b[0;34m\u001b[0m\u001b[0m\n\u001b[0m\u001b[1;32m    826\u001b[0m             \u001b[0;32melse\u001b[0m\u001b[0;34m:\u001b[0m\u001b[0;34m\u001b[0m\u001b[0;34m\u001b[0m\u001b[0m\n\u001b[1;32m    827\u001b[0m                 \u001b[0;32mwith\u001b[0m \u001b[0m_IoloopTimerContext\u001b[0m\u001b[0;34m(\u001b[0m\u001b[0mtime_limit\u001b[0m\u001b[0;34m,\u001b[0m \u001b[0mself\u001b[0m\u001b[0;34m.\u001b[0m\u001b[0m_impl\u001b[0m\u001b[0;34m)\u001b[0m \u001b[0;32mas\u001b[0m \u001b[0mtimer\u001b[0m\u001b[0;34m:\u001b[0m\u001b[0;34m\u001b[0m\u001b[0;34m\u001b[0m\u001b[0m\n",
      "\u001b[0;32m~/.local/lib/python3.6/site-packages/pika/adapters/blocking_connection.py\u001b[0m in \u001b[0;36m_flush_output\u001b[0;34m(self, *waiters)\u001b[0m\n\u001b[1;32m    511\u001b[0m         \u001b[0;31m# Process I/O until our completion condition is satisfied\u001b[0m\u001b[0;34m\u001b[0m\u001b[0;34m\u001b[0m\u001b[0;34m\u001b[0m\u001b[0m\n\u001b[1;32m    512\u001b[0m         \u001b[0;32mwhile\u001b[0m \u001b[0;32mnot\u001b[0m \u001b[0mis_done\u001b[0m\u001b[0;34m(\u001b[0m\u001b[0;34m)\u001b[0m\u001b[0;34m:\u001b[0m\u001b[0;34m\u001b[0m\u001b[0;34m\u001b[0m\u001b[0m\n\u001b[0;32m--> 513\u001b[0;31m             \u001b[0mself\u001b[0m\u001b[0;34m.\u001b[0m\u001b[0m_impl\u001b[0m\u001b[0;34m.\u001b[0m\u001b[0mioloop\u001b[0m\u001b[0;34m.\u001b[0m\u001b[0mpoll\u001b[0m\u001b[0;34m(\u001b[0m\u001b[0;34m)\u001b[0m\u001b[0;34m\u001b[0m\u001b[0;34m\u001b[0m\u001b[0m\n\u001b[0m\u001b[1;32m    514\u001b[0m             \u001b[0mself\u001b[0m\u001b[0;34m.\u001b[0m\u001b[0m_impl\u001b[0m\u001b[0;34m.\u001b[0m\u001b[0mioloop\u001b[0m\u001b[0;34m.\u001b[0m\u001b[0mprocess_timeouts\u001b[0m\u001b[0;34m(\u001b[0m\u001b[0;34m)\u001b[0m\u001b[0;34m\u001b[0m\u001b[0;34m\u001b[0m\u001b[0m\n\u001b[1;32m    515\u001b[0m \u001b[0;34m\u001b[0m\u001b[0m\n",
      "\u001b[0;32m~/.local/lib/python3.6/site-packages/pika/adapters/select_connection.py\u001b[0m in \u001b[0;36mpoll\u001b[0;34m(self)\u001b[0m\n\u001b[1;32m    574\u001b[0m \u001b[0;34m\u001b[0m\u001b[0m\n\u001b[1;32m    575\u001b[0m         \"\"\"\n\u001b[0;32m--> 576\u001b[0;31m         \u001b[0mself\u001b[0m\u001b[0;34m.\u001b[0m\u001b[0m_poller\u001b[0m\u001b[0;34m.\u001b[0m\u001b[0mpoll\u001b[0m\u001b[0;34m(\u001b[0m\u001b[0;34m)\u001b[0m\u001b[0;34m\u001b[0m\u001b[0;34m\u001b[0m\u001b[0m\n\u001b[0m\u001b[1;32m    577\u001b[0m \u001b[0;34m\u001b[0m\u001b[0m\n\u001b[1;32m    578\u001b[0m \u001b[0;34m\u001b[0m\u001b[0m\n",
      "\u001b[0;32m~/.local/lib/python3.6/site-packages/pika/adapters/select_connection.py\u001b[0m in \u001b[0;36mpoll\u001b[0;34m(self)\u001b[0m\n\u001b[1;32m   1179\u001b[0m         \u001b[0;32mwhile\u001b[0m \u001b[0;32mTrue\u001b[0m\u001b[0;34m:\u001b[0m\u001b[0;34m\u001b[0m\u001b[0;34m\u001b[0m\u001b[0m\n\u001b[1;32m   1180\u001b[0m             \u001b[0;32mtry\u001b[0m\u001b[0;34m:\u001b[0m\u001b[0;34m\u001b[0m\u001b[0;34m\u001b[0m\u001b[0m\n\u001b[0;32m-> 1181\u001b[0;31m                 \u001b[0mevents\u001b[0m \u001b[0;34m=\u001b[0m \u001b[0mself\u001b[0m\u001b[0;34m.\u001b[0m\u001b[0m_poll\u001b[0m\u001b[0;34m.\u001b[0m\u001b[0mpoll\u001b[0m\u001b[0;34m(\u001b[0m\u001b[0mself\u001b[0m\u001b[0;34m.\u001b[0m\u001b[0m_get_max_wait\u001b[0m\u001b[0;34m(\u001b[0m\u001b[0;34m)\u001b[0m\u001b[0;34m)\u001b[0m\u001b[0;34m\u001b[0m\u001b[0;34m\u001b[0m\u001b[0m\n\u001b[0m\u001b[1;32m   1182\u001b[0m                 \u001b[0;32mbreak\u001b[0m\u001b[0;34m\u001b[0m\u001b[0;34m\u001b[0m\u001b[0m\n\u001b[1;32m   1183\u001b[0m             \u001b[0;32mexcept\u001b[0m \u001b[0m_SELECT_ERRORS\u001b[0m \u001b[0;32mas\u001b[0m \u001b[0merror\u001b[0m\u001b[0;34m:\u001b[0m\u001b[0;34m\u001b[0m\u001b[0;34m\u001b[0m\u001b[0m\n",
      "\u001b[0;31mKeyboardInterrupt\u001b[0m: "
     ]
    }
   ],
   "source": [
    "qr.q_consume()"
   ]
  },
  {
   "cell_type": "code",
   "execution_count": 37,
   "metadata": {},
   "outputs": [
    {
     "name": "stdout",
     "output_type": "stream",
     "text": [
      "Timeout: 60.0 seconds ...\n",
      "Listing queues for vhost / ...\n",
      "name\tmessages\n",
      "tonyq\t0\n"
     ]
    }
   ],
   "source": [
    "! sudo docker exec rabbitmq rabbitmqctl list_queues"
   ]
  },
  {
   "cell_type": "markdown",
   "metadata": {},
   "source": [
    "# Q them again"
   ]
  },
  {
   "cell_type": "code",
   "execution_count": 39,
   "metadata": {},
   "outputs": [],
   "source": [
    "q = Qbird('localhost','tonyq')\n",
    "q.q_declare()\n",
    "for i in range(10):\n",
    "    msg = 'COVID-19 STILL bites!!!!' +str(i)\n",
    "    q.q_publish(msg)"
   ]
  },
  {
   "cell_type": "code",
   "execution_count": 40,
   "metadata": {},
   "outputs": [
    {
     "name": "stdout",
     "output_type": "stream",
     "text": [
      "Timeout: 60.0 seconds ...\r\n",
      "Listing queues for vhost / ...\r\n",
      "name\tmessages\r\n",
      "tonyq\t10\r\n"
     ]
    }
   ],
   "source": [
    "! sudo docker exec rabbitmq rabbitmqctl list_queues"
   ]
  },
  {
   "cell_type": "markdown",
   "metadata": {},
   "source": [
    "# Drain these messages using the admin gui port \n",
    "\n",
    "http://localhost:15672/\n",
    "        \n",
    "## ssh tunnel via 03<tab> 15672 mhonk"
   ]
  },
  {
   "cell_type": "code",
   "execution_count": 41,
   "metadata": {},
   "outputs": [
    {
     "name": "stdout",
     "output_type": "stream",
     "text": [
      "Timeout: 60.0 seconds ...\r\n",
      "Listing queues for vhost / ...\r\n",
      "name\tmessages\r\n",
      "tonyq\t4\r\n"
     ]
    }
   ],
   "source": [
    "! sudo docker exec rabbitmq rabbitmqctl list_queues"
   ]
  },
  {
   "cell_type": "code",
   "execution_count": 42,
   "metadata": {},
   "outputs": [
    {
     "name": "stdout",
     "output_type": "stream",
     "text": [
      "Timeout: 60.0 seconds ...\r\n",
      "Listing queues for vhost / ...\r\n",
      "name\tmessages\r\n",
      "tonyq\t0\r\n"
     ]
    }
   ],
   "source": [
    "! sudo docker exec rabbitmq rabbitmqctl list_queues"
   ]
  },
  {
   "cell_type": "code",
   "execution_count": 44,
   "metadata": {},
   "outputs": [
    {
     "name": "stdout",
     "output_type": "stream",
     "text": [
      "tcp        0      0 172.18.0.1:57806        172.18.0.5:15672        ESTABLISHED 20731/docker-proxy  \r\n",
      "tcp6       0      0 :::8000                 :::*                    LISTEN      20626/docker-proxy  \r\n",
      "tcp6       0      0 :::5672                 :::*                    LISTEN      20755/docker-proxy  \r\n",
      "tcp6       0      0 :::15672                :::*                    LISTEN      20731/docker-proxy  \r\n",
      "tcp6       0      0 127.0.0.1:5672          127.0.0.1:41152         FIN_WAIT2   20755/docker-proxy  \r\n",
      "tcp6       0      0 127.0.0.1:15672         127.0.0.1:37634         ESTABLISHED 20731/docker-proxy  \r\n",
      "tcp6       0      0 127.0.0.1:5672          127.0.0.1:41140         FIN_WAIT2   20755/docker-proxy  \r\n"
     ]
    }
   ],
   "source": [
    "! sudo netstat -anlp |grep docker-proxy"
   ]
  },
  {
   "cell_type": "code",
   "execution_count": null,
   "metadata": {},
   "outputs": [],
   "source": []
  }
 ],
 "metadata": {
  "kernelspec": {
   "display_name": "Python 3",
   "language": "python",
   "name": "python3"
  },
  "language_info": {
   "codemirror_mode": {
    "name": "ipython",
    "version": 3
   },
   "file_extension": ".py",
   "mimetype": "text/x-python",
   "name": "python",
   "nbconvert_exporter": "python",
   "pygments_lexer": "ipython3",
   "version": "3.6.9"
  }
 },
 "nbformat": 4,
 "nbformat_minor": 4
}
