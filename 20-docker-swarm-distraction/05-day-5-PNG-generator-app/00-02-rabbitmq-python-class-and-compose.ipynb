{
 "cells": [
  {
   "cell_type": "markdown",
   "metadata": {},
   "source": [
    "# References\n",
    "\n",
    "https://www.rabbitmq.com/\n",
    "\n",
    "https://www.rabbitmq.com/\n",
    "\n",
    "\n",
    "\n",
    "# Goals\n",
    "\n",
    "1. build the library Play playLib -DONE\n",
    "    - add qbird class\n",
    "    - add s3cp to bo_...\n",
    "2. simple docker compose - PENDING\n",
    "    - test console via ssh tunnel from desktop\n",
    "    - test simple interactive queing\n",
    "3. run a simple send and recv containers with bash-tester - add some rabbit to this image\n",
    "    - find this container - cloud sanity ?\n",
    "4. deeper dive into rabbitmq"
   ]
  },
  {
   "cell_type": "code",
   "execution_count": null,
   "metadata": {},
   "outputs": [],
   "source": []
  },
  {
   "cell_type": "markdown",
   "metadata": {},
   "source": [
    "# Other pip\n",
    "\n",
    "someday i should change all the makefiles to pip3\n",
    "\n",
    "so i don't need this hack\n",
    "32\n",
    "\n",
    "Rather than manually creating your own alias in bash and hoping this doesn't conflict with anything, most package managers should allow you to register the version you wish to use whilst maintaining dependencies.\n",
    "\n",
    "For instance on Linux:\n",
    "\n",
    "### sudo update-alternatives --install /usr/bin/pip pip /usr/bin/pip3 1\n"
   ]
  },
  {
   "cell_type": "code",
   "execution_count": null,
   "metadata": {},
   "outputs": [],
   "source": []
  }
 ],
 "metadata": {
  "kernelspec": {
   "display_name": "Python 3",
   "language": "python",
   "name": "python3"
  },
  "language_info": {
   "codemirror_mode": {
    "name": "ipython",
    "version": 3
   },
   "file_extension": ".py",
   "mimetype": "text/x-python",
   "name": "python",
   "nbconvert_exporter": "python",
   "pygments_lexer": "ipython3",
   "version": "3.6.9"
  }
 },
 "nbformat": 4,
 "nbformat_minor": 4
}
