{
 "cells": [
  {
   "cell_type": "markdown",
   "metadata": {},
   "source": [
    "# Step 1 - Commit to Sawrm and Portainer"
   ]
  },
  {
   "cell_type": "markdown",
   "metadata": {},
   "source": [
    "# Step 2 - Clean Up Old Infrastructure\n",
    "\n",
    "1. copy pem file to ms3 from desktop -\n",
    "    -  scp -i ~/.ssh/CHS-LSDSDPAS-butzer.pem ~/.ssh/CHS-LSDSDPAS-butzer.pem ubuntu@$(resolv ms3):.\n",
    "2. edit host file /etc/hosts - sudo vi /etc/hosts ...\n",
    "4. practice ssh withpem file - \n",
    "    - ssh -i ~/.ssh/CHS-LSDSDPAS-butzer.pem ubuntu@10.12.69.21\n",
    "5. alias ssh to be ssh -i .... - \n",
    "6. try alias ssh - \n",
    "    - alias sshx='ssh -i ~/.ssh/CHS-LSDSDPAS-butzer.pem'\n",
    "    - sshx ubuntu@10.12.69.21\n",
    "7. sshx ubuntu@10.12.69.21 /home/ubuntu/.local/bin/pinstance status  | grep -A1 butz\n",
    "\n",
    "\n",
    "```\n",
    "ubuntu@ip-10-12-68-223:~$ sshx ubuntu@10.12.69.21 /home/ubuntu/.local/bin/pinstance status  | grep -A1 butz\n",
    "The INSTANCE butzer-2 is running\n",
    "10.12.69.21\n",
    "--\n",
    "The INSTANCE butzer-little-micro-hub1 is stopped\n",
    "------------------------------------------------------------\n",
    "--\n",
    "The INSTANCE butzer-k8s-sb is running\n",
    "10.12.68.64\n",
    "--\n",
    "The INSTANCE butzer-master-rancher is running\n",
    "10.12.68.223\n",
    "--\n",
    "The INSTANCE butzer-master-k3s-prime is running\n",
    "10.12.68.210\n",
    "```\n",
    "\n",
    "## NEXT -->\n",
    "\n",
    "1. terrform destroy butzer-k8s-sb\n",
    "2. destroy butzer-master-k3s-prime\n",
    "3. destroy butzer-master-rancher\n",
    "\n"
   ]
  },
  {
   "cell_type": "markdown",
   "metadata": {},
   "source": [
    "# Move jupyter documentation to butz2 - \n",
    "## independent of the work on master etc"
   ]
  },
  {
   "cell_type": "code",
   "execution_count": null,
   "metadata": {},
   "outputs": [],
   "source": []
  }
 ],
 "metadata": {
  "kernelspec": {
   "display_name": "Python 3",
   "language": "python",
   "name": "python3"
  },
  "language_info": {
   "codemirror_mode": {
    "name": "ipython",
    "version": 3
   },
   "file_extension": ".py",
   "mimetype": "text/x-python",
   "name": "python",
   "nbconvert_exporter": "python",
   "pygments_lexer": "ipython3",
   "version": "3.6.9"
  }
 },
 "nbformat": 4,
 "nbformat_minor": 4
}
