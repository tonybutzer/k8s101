{
 "cells": [
  {
   "cell_type": "code",
   "execution_count": 20,
   "metadata": {},
   "outputs": [
    {
     "name": "stdout",
     "output_type": "stream",
     "text": [
      "Dockerfile  docker-compose.yml\torig-compose.yaml\r\n",
      "Makefile    myapp.py\t\trequirements.txt\r\n"
     ]
    }
   ],
   "source": [
    "! ls code"
   ]
  },
  {
   "cell_type": "code",
   "execution_count": 22,
   "metadata": {},
   "outputs": [
    {
     "name": "stdout",
     "output_type": "stream",
     "text": [
      "\r\n",
      "from flask import Flask\r\n",
      "from redis import Redis\r\n",
      "\r\n",
      "app = Flask(__name__)\r\n",
      "redis = Redis(host='redis', port=6379)\r\n",
      "\r\n",
      "@app.route('/')\r\n",
      "def hello():\r\n",
      "    count = redis.incr('hits')\r\n",
      "    return 'Hello World! I have been seen {} times.\\n'.format(count)\r\n",
      "\r\n",
      "if __name__ == \"__main__\":\r\n",
      "    app.run(host=\"0.0.0.0\", port=8000, debug=True)\r\n",
      "\r\n",
      "\r\n"
     ]
    }
   ],
   "source": [
    "! cat code/myapp.py"
   ]
  },
  {
   "cell_type": "code",
   "execution_count": 24,
   "metadata": {},
   "outputs": [
    {
     "name": "stdout",
     "output_type": "stream",
     "text": [
      "flask\r\n",
      "redis\r\n"
     ]
    }
   ],
   "source": [
    "! cat code/requirements.txt"
   ]
  },
  {
   "cell_type": "code",
   "execution_count": 25,
   "metadata": {},
   "outputs": [
    {
     "name": "stdout",
     "output_type": "stream",
     "text": [
      "FROM python:3.4-alpine\r\n",
      "ADD . /code\r\n",
      "WORKDIR /code\r\n",
      "RUN pip install -r requirements.txt\r\n",
      "CMD [\"python\", \"myapp.py\"]\r\n",
      "\r\n",
      "\r\n"
     ]
    }
   ],
   "source": [
    "! cat code/Dockerfile"
   ]
  },
  {
   "cell_type": "code",
   "execution_count": 26,
   "metadata": {},
   "outputs": [
    {
     "name": "stdout",
     "output_type": "stream",
     "text": [
      "Image='tbutzer/stackdemo'\r\n",
      "\r\n",
      "build:\r\n",
      "\tdocker build --tag ${Image} .\r\n",
      "\r\n",
      "publish: ## Send this image to docker hub!\r\n",
      "\tsudo docker login -u tbutzer\r\n",
      "\tsudo docker push ${Image}\r\n",
      "\r\n",
      "gnufix:\r\n",
      "\tsudo apt install gnupg2 pass\r\n",
      "\r\n",
      "test:\r\n",
      "\tfor i in 1 2 3 4 5 6\\ ; do\\\r\n",
      "\t\tcurl localhost:8000 ; \\\r\n",
      "\tdone\r\n",
      "\r\n",
      "shell:\r\n",
      "\tdocker run --rm -it \\\r\n",
      "\t\t-v /data3/butzer:/data \\\r\n",
      "\t\t--name rose ${Image} /bin/bash\r\n"
     ]
    }
   ],
   "source": [
    "! cat code/Makefile"
   ]
  },
  {
   "cell_type": "code",
   "execution_count": 27,
   "metadata": {},
   "outputs": [
    {
     "name": "stdout",
     "output_type": "stream",
     "text": [
      "version: '3'\r\n",
      "\r\n",
      "services:\r\n",
      "  web:\r\n",
      "    image: tbutzer/stackdemo\r\n",
      "    build: .\r\n",
      "    ports:\r\n",
      "      - \"8000:8000\"\r\n",
      "  redis:\r\n",
      "    image: redis:alpine\r\n",
      "  tony:\r\n",
      "    image: tbutzer/bash-tester\r\n"
     ]
    }
   ],
   "source": [
    "! cat code/docker-compose.yml"
   ]
  },
  {
   "cell_type": "code",
   "execution_count": 1,
   "metadata": {},
   "outputs": [
    {
     "name": "stdout",
     "output_type": "stream",
     "text": [
      "Ignoring unsupported options: build\n",
      "\n",
      "Updating service stackdemo_web (id: 22m2djkh71if2k88cfcjlzjkl)\n",
      "Updating service stackdemo_redis (id: 6rpaa2jdfz5vmrh7dy4zfg1nz)\n",
      "Updating service stackdemo_tony (id: 70n38yu5ut34mt5krmmvs9lv5)\n"
     ]
    }
   ],
   "source": [
    "!  docker stack deploy --compose-file code/docker-compose.yml stackdemo"
   ]
  },
  {
   "cell_type": "code",
   "execution_count": 2,
   "metadata": {},
   "outputs": [
    {
     "name": "stdout",
     "output_type": "stream",
     "text": [
      "ID                  NAME                MODE                REPLICAS            IMAGE                        PORTS\r\n",
      "6rpaa2jdfz5v        stackdemo_redis     replicated          1/1                 redis:alpine                 \r\n",
      "70n38yu5ut34        stackdemo_tony      replicated          1/1                 tbutzer/bash-tester:latest   \r\n",
      "22m2djkh71if        stackdemo_web       replicated          1/1                 tbutzer/stackdemo:latest     *:8000->8000/tcp\r\n"
     ]
    }
   ],
   "source": [
    "!  docker service ls"
   ]
  },
  {
   "cell_type": "code",
   "execution_count": 3,
   "metadata": {},
   "outputs": [
    {
     "name": "stdout",
     "output_type": "stream",
     "text": [
      "ID                  NAME                IMAGE                        NODE                DESIRED STATE       CURRENT STATE            ERROR               PORTS\r\n",
      "salkofc1kl4s        stackdemo_tony.1    tbutzer/bash-tester:latest   mhonk               Running             Running 29 minutes ago                       \r\n"
     ]
    }
   ],
   "source": [
    "!  docker service ps stackdemo_tony"
   ]
  },
  {
   "cell_type": "code",
   "execution_count": 4,
   "metadata": {},
   "outputs": [
    {
     "name": "stdout",
     "output_type": "stream",
     "text": [
      "Hello World! I have been seen 66 times.\r\n"
     ]
    }
   ],
   "source": [
    "! docker exec -it `docker ps |grep bash-tester | awk '{print $1}'` curl web:8000"
   ]
  },
  {
   "cell_type": "code",
   "execution_count": 5,
   "metadata": {},
   "outputs": [
    {
     "name": "stdout",
     "output_type": "stream",
     "text": [
      "Hello World! I have been seen 67 times.\r\n"
     ]
    }
   ],
   "source": [
    "! docker exec -it `docker ps |grep bash-tester | awk '{print $1}'` curl stackdemo_web:8000"
   ]
  },
  {
   "cell_type": "code",
   "execution_count": 6,
   "metadata": {},
   "outputs": [
    {
     "name": "stdout",
     "output_type": "stream",
     "text": [
      "stackdemo_web has address 10.0.2.5\r\n"
     ]
    }
   ],
   "source": [
    "! docker exec -it `docker ps |grep bash-tester | awk '{print $1}'`  host stackdemo_web"
   ]
  },
  {
   "cell_type": "code",
   "execution_count": 7,
   "metadata": {},
   "outputs": [
    {
     "name": "stdout",
     "output_type": "stream",
     "text": [
      "redis has address 10.0.2.7\r\n"
     ]
    }
   ],
   "source": [
    "! docker exec -it `docker ps |grep bash-tester | awk '{print $1}'`  host redis"
   ]
  },
  {
   "cell_type": "code",
   "execution_count": 8,
   "metadata": {},
   "outputs": [
    {
     "name": "stdout",
     "output_type": "stream",
     "text": [
      "NETWORK ID          NAME                DRIVER              SCOPE\r\n",
      "44fe69509e08        bridge              bridge              local\r\n",
      "190a23a05c45        docker_gwbridge     bridge              local\r\n",
      "eacb4483945d        host                host                local\r\n",
      "mbsdzmpfah84        ingress             overlay             swarm\r\n",
      "d64b3a51d13c        none                null                local\r\n",
      "yfszhlko6p92        stackdemo_default   overlay             swarm\r\n"
     ]
    }
   ],
   "source": [
    "! docker network ls"
   ]
  },
  {
   "cell_type": "code",
   "execution_count": 9,
   "metadata": {},
   "outputs": [
    {
     "name": "stdout",
     "output_type": "stream",
     "text": [
      "7.2.0.10.in-addr.arpa domain name pointer ip-10-0-2-7.us-west-2.compute.internal.\r\n"
     ]
    }
   ],
   "source": [
    "! docker exec -it `docker ps |grep bash-tester | awk '{print $1}'`  host 10.0.2.7"
   ]
  },
  {
   "cell_type": "markdown",
   "metadata": {},
   "source": [
    "# Try this in a terminal\n",
    "\n",
    "1. redis-cli -h redis\n",
    "2. ping\n"
   ]
  },
  {
   "cell_type": "code",
   "execution_count": 10,
   "metadata": {},
   "outputs": [
    {
     "name": "stdout",
     "output_type": "stream",
     "text": [
      "docker exec -it d8b52c135ada bash\r\n"
     ]
    }
   ],
   "source": [
    "! echo docker exec -it `docker ps |grep bash-tester | awk '{print $1}'` bash"
   ]
  },
  {
   "cell_type": "code",
   "execution_count": 11,
   "metadata": {},
   "outputs": [
    {
     "name": "stdout",
     "output_type": "stream",
     "text": [
      "[\r\n",
      "    {\r\n",
      "        \"ID\": \"6rpaa2jdfz5vmrh7dy4zfg1nz\",\r\n",
      "        \"Version\": {\r\n",
      "            \"Index\": 83\r\n",
      "        },\r\n",
      "        \"CreatedAt\": \"2020-04-08T23:26:23.698461624Z\",\r\n",
      "        \"UpdatedAt\": \"2020-04-08T23:55:36.167968092Z\",\r\n",
      "        \"Spec\": {\r\n",
      "            \"Name\": \"stackdemo_redis\",\r\n",
      "            \"Labels\": {\r\n",
      "                \"com.docker.stack.image\": \"redis:alpine\",\r\n",
      "                \"com.docker.stack.namespace\": \"stackdemo\"\r\n",
      "            },\r\n",
      "            \"TaskTemplate\": {\r\n",
      "                \"ContainerSpec\": {\r\n",
      "                    \"Image\": \"redis:alpine@sha256:511275ddf4c4582e296f6fca803df853a8ab2b733a704c44c498f0a6a90e5ba0\",\r\n",
      "                    \"Labels\": {\r\n",
      "                        \"com.docker.stack.namespace\": \"stackdemo\"\r\n",
      "                    },\r\n",
      "                    \"Privileges\": {\r\n",
      "                        \"CredentialSpec\": null,\r\n",
      "                        \"SELinuxContext\": null\r\n",
      "                    },\r\n",
      "                    \"StopGracePeriod\": 10000000000,\r\n",
      "                    \"DNSConfig\": {},\r\n",
      "                    \"Isolation\": \"default\"\r\n",
      "                },\r\n",
      "                \"Resources\": {},\r\n",
      "                \"RestartPolicy\": {\r\n",
      "                    \"Condition\": \"any\",\r\n",
      "                    \"Delay\": 5000000000,\r\n",
      "                    \"MaxAttempts\": 0\r\n",
      "                },\r\n",
      "                \"Placement\": {\r\n",
      "                    \"Platforms\": [\r\n",
      "                        {\r\n",
      "                            \"Architecture\": \"amd64\",\r\n",
      "                            \"OS\": \"linux\"\r\n",
      "                        },\r\n",
      "                        {\r\n",
      "                            \"OS\": \"linux\"\r\n",
      "                        },\r\n",
      "                        {\r\n",
      "                            \"OS\": \"linux\"\r\n",
      "                        },\r\n",
      "                        {\r\n",
      "                            \"Architecture\": \"arm64\",\r\n",
      "                            \"OS\": \"linux\"\r\n",
      "                        },\r\n",
      "                        {\r\n",
      "                            \"Architecture\": \"386\",\r\n",
      "                            \"OS\": \"linux\"\r\n",
      "                        },\r\n",
      "                        {\r\n",
      "                            \"Architecture\": \"ppc64le\",\r\n",
      "                            \"OS\": \"linux\"\r\n",
      "                        },\r\n",
      "                        {\r\n",
      "                            \"Architecture\": \"s390x\",\r\n",
      "                            \"OS\": \"linux\"\r\n",
      "                        }\r\n",
      "                    ]\r\n",
      "                },\r\n",
      "                \"Networks\": [\r\n",
      "                    {\r\n",
      "                        \"Target\": \"yfszhlko6p92izv11zdhdf37j\",\r\n",
      "                        \"Aliases\": [\r\n",
      "                            \"redis\"\r\n",
      "                        ]\r\n",
      "                    }\r\n",
      "                ],\r\n",
      "                \"ForceUpdate\": 0,\r\n",
      "                \"Runtime\": \"container\"\r\n",
      "            },\r\n",
      "            \"Mode\": {\r\n",
      "                \"Replicated\": {\r\n",
      "                    \"Replicas\": 1\r\n",
      "                }\r\n",
      "            },\r\n",
      "            \"UpdateConfig\": {\r\n",
      "                \"Parallelism\": 1,\r\n",
      "                \"FailureAction\": \"pause\",\r\n",
      "                \"Monitor\": 5000000000,\r\n",
      "                \"MaxFailureRatio\": 0,\r\n",
      "                \"Order\": \"stop-first\"\r\n",
      "            },\r\n",
      "            \"RollbackConfig\": {\r\n",
      "                \"Parallelism\": 1,\r\n",
      "                \"FailureAction\": \"pause\",\r\n",
      "                \"Monitor\": 5000000000,\r\n",
      "                \"MaxFailureRatio\": 0,\r\n",
      "                \"Order\": \"stop-first\"\r\n",
      "            },\r\n",
      "            \"EndpointSpec\": {\r\n",
      "                \"Mode\": \"vip\"\r\n",
      "            }\r\n",
      "        },\r\n",
      "        \"PreviousSpec\": {\r\n",
      "            \"Name\": \"stackdemo_redis\",\r\n",
      "            \"Labels\": {\r\n",
      "                \"com.docker.stack.image\": \"redis:alpine\",\r\n",
      "                \"com.docker.stack.namespace\": \"stackdemo\"\r\n",
      "            },\r\n",
      "            \"TaskTemplate\": {\r\n",
      "                \"ContainerSpec\": {\r\n",
      "                    \"Image\": \"redis:alpine@sha256:511275ddf4c4582e296f6fca803df853a8ab2b733a704c44c498f0a6a90e5ba0\",\r\n",
      "                    \"Labels\": {\r\n",
      "                        \"com.docker.stack.namespace\": \"stackdemo\"\r\n",
      "                    },\r\n",
      "                    \"Privileges\": {\r\n",
      "                        \"CredentialSpec\": null,\r\n",
      "                        \"SELinuxContext\": null\r\n",
      "                    },\r\n",
      "                    \"Isolation\": \"default\"\r\n",
      "                },\r\n",
      "                \"Resources\": {},\r\n",
      "                \"Placement\": {\r\n",
      "                    \"Platforms\": [\r\n",
      "                        {\r\n",
      "                            \"Architecture\": \"amd64\",\r\n",
      "                            \"OS\": \"linux\"\r\n",
      "                        },\r\n",
      "                        {\r\n",
      "                            \"OS\": \"linux\"\r\n",
      "                        },\r\n",
      "                        {\r\n",
      "                            \"OS\": \"linux\"\r\n",
      "                        },\r\n",
      "                        {\r\n",
      "                            \"Architecture\": \"arm64\",\r\n",
      "                            \"OS\": \"linux\"\r\n",
      "                        },\r\n",
      "                        {\r\n",
      "                            \"Architecture\": \"386\",\r\n",
      "                            \"OS\": \"linux\"\r\n",
      "                        },\r\n",
      "                        {\r\n",
      "                            \"Architecture\": \"ppc64le\",\r\n",
      "                            \"OS\": \"linux\"\r\n",
      "                        },\r\n",
      "                        {\r\n",
      "                            \"Architecture\": \"s390x\",\r\n",
      "                            \"OS\": \"linux\"\r\n",
      "                        }\r\n",
      "                    ]\r\n",
      "                },\r\n",
      "                \"Networks\": [\r\n",
      "                    {\r\n",
      "                        \"Target\": \"yfszhlko6p92izv11zdhdf37j\",\r\n",
      "                        \"Aliases\": [\r\n",
      "                            \"redis\"\r\n",
      "                        ]\r\n",
      "                    }\r\n",
      "                ],\r\n",
      "                \"ForceUpdate\": 0,\r\n",
      "                \"Runtime\": \"container\"\r\n",
      "            },\r\n",
      "            \"Mode\": {\r\n",
      "                \"Replicated\": {\r\n",
      "                    \"Replicas\": 1\r\n",
      "                }\r\n",
      "            },\r\n",
      "            \"EndpointSpec\": {\r\n",
      "                \"Mode\": \"vip\"\r\n",
      "            }\r\n",
      "        },\r\n",
      "        \"Endpoint\": {\r\n",
      "            \"Spec\": {\r\n",
      "                \"Mode\": \"vip\"\r\n",
      "            },\r\n",
      "            \"VirtualIPs\": [\r\n",
      "                {\r\n",
      "                    \"NetworkID\": \"yfszhlko6p92izv11zdhdf37j\",\r\n",
      "                    \"Addr\": \"10.0.2.7/24\"\r\n",
      "                }\r\n",
      "            ]\r\n",
      "        }\r\n",
      "    }\r\n",
      "]\r\n"
     ]
    }
   ],
   "source": [
    "! docker service inspect stackdemo_redis"
   ]
  },
  {
   "cell_type": "code",
   "execution_count": 12,
   "metadata": {},
   "outputs": [
    {
     "name": "stdout",
     "output_type": "stream",
     "text": [
      "                \"Mode\": \"vip\"\r\n",
      "                \"Mode\": \"vip\"\r\n",
      "                \"Mode\": \"vip\"\r\n",
      "            \"VirtualIPs\": [\r\n",
      "                    \"Addr\": \"10.0.2.7/24\"\r\n"
     ]
    }
   ],
   "source": [
    "! docker service inspect stackdemo_redis | egrep -i 'ip|addr'"
   ]
  },
  {
   "cell_type": "code",
   "execution_count": 13,
   "metadata": {},
   "outputs": [
    {
     "name": "stdout",
     "output_type": "stream",
     "text": [
      "redis has address 10.0.2.7\r\n"
     ]
    }
   ],
   "source": [
    "! docker exec -it `docker ps |grep bash-tester | awk '{print $1}'`  host redis"
   ]
  },
  {
   "cell_type": "code",
   "execution_count": 14,
   "metadata": {},
   "outputs": [
    {
     "name": "stdout",
     "output_type": "stream",
     "text": [
      "tcp6       0      0 :::8000                 :::*                    LISTEN      5551/dockerd        \r\n"
     ]
    }
   ],
   "source": [
    "! sudo netstat -anlp | grep 8000"
   ]
  },
  {
   "cell_type": "markdown",
   "metadata": {},
   "source": [
    "https://dev.to/realabbas/explain-redis-like-i-m-five-4anm\n",
    "\n",
    "\n",
    "Redis is an open source (BSD licensed), \n",
    "- in-memory data structure store, \n",
    "- used as a database, cache and message broker. -\n",
    "- It supports data structures such as \n",
    "    - strings, \n",
    "    - hashes, -\n",
    "    - lists, \n",
    "    - sets, \n",
    "    sorted sets with range queries, bitmaps, hyperloglogs, geospatial indexes with radius queries and streams. Redis has built-in replication, Lua scripting, LRU eviction, transactions and different levels of on-disk persistence, and provides high availability via Redis Sentinel and automatic partitioning with Redis Cluster. "
   ]
  },
  {
   "cell_type": "code",
   "execution_count": 15,
   "metadata": {},
   "outputs": [
    {
     "name": "stdout",
     "output_type": "stream",
     "text": [
      "ID                  NAME                IMAGE               NODE                DESIRED STATE       CURRENT STATE            ERROR               PORTS\r\n",
      "n05npm23x4k3        stackdemo_redis.1   redis:alpine        mhonk               Running             Running 29 minutes ago                       \r\n"
     ]
    }
   ],
   "source": [
    "! docker service  ps stackdemo_redis"
   ]
  },
  {
   "cell_type": "code",
   "execution_count": 16,
   "metadata": {},
   "outputs": [
    {
     "name": "stdout",
     "output_type": "stream",
     "text": [
      "IMAGE PORTS\r\n",
      "redis:alpine \r\n",
      "tbutzer/bash-tester:latest \r\n",
      "tbutzer/stackdemo:latest *:8000->8000/tcp\r\n"
     ]
    }
   ],
   "source": [
    "! docker service ls | awk '{print $5, $6}'"
   ]
  },
  {
   "cell_type": "code",
   "execution_count": 17,
   "metadata": {},
   "outputs": [
    {
     "name": "stdout",
     "output_type": "stream",
     "text": [
      "Hello World! I have been seen 68 times.\r\n"
     ]
    }
   ],
   "source": [
    "! curl localhost:8000"
   ]
  },
  {
   "cell_type": "code",
   "execution_count": 18,
   "metadata": {},
   "outputs": [
    {
     "name": "stdout",
     "output_type": "stream",
     "text": [
      "Hello World! I have been seen 69 times.\n",
      "Hello World! I have been seen 70 times.\n",
      "Hello World! I have been seen 71 times.\n",
      "Hello World! I have been seen 72 times.\n",
      "Hello World! I have been seen 73 times.\n",
      "Hello World! I have been seen 74 times.\n",
      "Hello World! I have been seen 75 times.\n",
      "Hello World! I have been seen 76 times.\n",
      "Hello World! I have been seen 77 times.\n",
      "Hello World! I have been seen 78 times.\n",
      "Hello World! I have been seen 79 times.\n",
      "Hello World! I have been seen 80 times.\n",
      "Hello World! I have been seen 81 times.\n",
      "Hello World! I have been seen 82 times.\n",
      "Hello World! I have been seen 83 times.\n",
      "Hello World! I have been seen 84 times.\n",
      "Hello World! I have been seen 85 times.\n",
      "Hello World! I have been seen 86 times.\n",
      "Hello World! I have been seen 87 times.\n",
      "Hello World! I have been seen 88 times.\n"
     ]
    },
    {
     "name": "stderr",
     "output_type": "stream",
     "text": [
      "  % Total    % Received % Xferd  Average Speed   Time    Time     Time  Current\n",
      "                                 Dload  Upload   Total   Spent    Left  Speed\n",
      "\r",
      "  0     0    0     0    0     0      0      0 --:--:-- --:--:-- --:--:--     0\r",
      "100    40  100    40    0     0  13333      0 --:--:-- --:--:-- --:--:-- 20000\n",
      "  % Total    % Received % Xferd  Average Speed   Time    Time     Time  Current\n",
      "                                 Dload  Upload   Total   Spent    Left  Speed\n",
      "\r",
      "  0     0    0     0    0     0      0      0 --:--:-- --:--:-- --:--:--     0\r",
      "100    40  100    40    0     0  20000      0 --:--:-- --:--:-- --:--:-- 20000\n",
      "  % Total    % Received % Xferd  Average Speed   Time    Time     Time  Current\n",
      "                                 Dload  Upload   Total   Spent    Left  Speed\n",
      "\r",
      "  0     0    0     0    0     0      0      0 --:--:-- --:--:-- --:--:--     0\r",
      "100    40  100    40    0     0  20000      0 --:--:-- --:--:-- --:--:-- 20000\n",
      "  % Total    % Received % Xferd  Average Speed   Time    Time     Time  Current\n",
      "                                 Dload  Upload   Total   Spent    Left  Speed\n",
      "\r",
      "  0     0    0     0    0     0      0      0 --:--:-- --:--:-- --:--:--     0\r",
      "100    40  100    40    0     0  20000      0 --:--:-- --:--:-- --:--:-- 20000\n",
      "  % Total    % Received % Xferd  Average Speed   Time    Time     Time  Current\n",
      "                                 Dload  Upload   Total   Spent    Left  Speed\n",
      "\r",
      "  0     0    0     0    0     0      0      0 --:--:-- --:--:-- --:--:--     0\r",
      "100    40  100    40    0     0  20000      0 --:--:-- --:--:-- --:--:-- 20000\n",
      "  % Total    % Received % Xferd  Average Speed   Time    Time     Time  Current\n",
      "                                 Dload  Upload   Total   Spent    Left  Speed\n",
      "\r",
      "  0     0    0     0    0     0      0      0 --:--:-- --:--:-- --:--:--     0\r",
      "100    40  100    40    0     0  20000      0 --:--:-- --:--:-- --:--:-- 20000\n",
      "  % Total    % Received % Xferd  Average Speed   Time    Time     Time  Current\n",
      "                                 Dload  Upload   Total   Spent    Left  Speed\n",
      "\r",
      "  0     0    0     0    0     0      0      0 --:--:-- --:--:-- --:--:--     0\r",
      "100    40  100    40    0     0  20000      0 --:--:-- --:--:-- --:--:-- 20000\n",
      "  % Total    % Received % Xferd  Average Speed   Time    Time     Time  Current\n",
      "                                 Dload  Upload   Total   Spent    Left  Speed\n",
      "\r",
      "  0     0    0     0    0     0      0      0 --:--:-- --:--:-- --:--:--     0\r",
      "100    40  100    40    0     0   6666      0 --:--:-- --:--:-- --:--:--  6666\n",
      "  % Total    % Received % Xferd  Average Speed   Time    Time     Time  Current\n",
      "                                 Dload  Upload   Total   Spent    Left  Speed\n",
      "\r",
      "  0     0    0     0    0     0      0      0 --:--:-- --:--:-- --:--:--     0\r",
      "100    40  100    40    0     0  20000      0 --:--:-- --:--:-- --:--:-- 20000\n",
      "  % Total    % Received % Xferd  Average Speed   Time    Time     Time  Current\n",
      "                                 Dload  Upload   Total   Spent    Left  Speed\n",
      "\r",
      "  0     0    0     0    0     0      0      0 --:--:-- --:--:-- --:--:--     0\r",
      "100    40  100    40    0     0   6666      0 --:--:-- --:--:-- --:--:--  6666\n",
      "  % Total    % Received % Xferd  Average Speed   Time    Time     Time  Current\n",
      "                                 Dload  Upload   Total   Spent    Left  Speed\n",
      "\r",
      "  0     0    0     0    0     0      0      0 --:--:-- --:--:-- --:--:--     0\r",
      "100    40  100    40    0     0  20000      0 --:--:-- --:--:-- --:--:-- 20000\n",
      "  % Total    % Received % Xferd  Average Speed   Time    Time     Time  Current\n",
      "                                 Dload  Upload   Total   Spent    Left  Speed\n",
      "\r",
      "  0     0    0     0    0     0      0      0 --:--:-- --:--:-- --:--:--     0\r",
      "100    40  100    40    0     0  13333      0 --:--:-- --:--:-- --:--:-- 20000\n",
      "  % Total    % Received % Xferd  Average Speed   Time    Time     Time  Current\n",
      "                                 Dload  Upload   Total   Spent    Left  Speed\n",
      "\r",
      "  0     0    0     0    0     0      0      0 --:--:-- --:--:-- --:--:--     0\r",
      "100    40  100    40    0     0  20000      0 --:--:-- --:--:-- --:--:-- 20000\n",
      "  % Total    % Received % Xferd  Average Speed   Time    Time     Time  Current\n",
      "                                 Dload  Upload   Total   Spent    Left  Speed\n",
      "\r",
      "  0     0    0     0    0     0      0      0 --:--:-- --:--:-- --:--:--     0\r",
      "100    40  100    40    0     0  13333      0 --:--:-- --:--:-- --:--:-- 13333\n",
      "  % Total    % Received % Xferd  Average Speed   Time    Time     Time  Current\n",
      "                                 Dload  Upload   Total   Spent    Left  Speed\n",
      "\r",
      "  0     0    0     0    0     0      0      0 --:--:-- --:--:-- --:--:--     0\r",
      "100    40  100    40    0     0   6666      0 --:--:-- --:--:-- --:--:--  6666\n",
      "  % Total    % Received % Xferd  Average Speed   Time    Time     Time  Current\n",
      "                                 Dload  Upload   Total   Spent    Left  Speed\n",
      "\r",
      "  0     0    0     0    0     0      0      0 --:--:-- --:--:-- --:--:--     0\r",
      "100    40  100    40    0     0  20000      0 --:--:-- --:--:-- --:--:-- 20000\n",
      "  % Total    % Received % Xferd  Average Speed   Time    Time     Time  Current\n",
      "                                 Dload  Upload   Total   Spent    Left  Speed\n",
      "\r",
      "  0     0    0     0    0     0      0      0 --:--:-- --:--:-- --:--:--     0\r",
      "100    40  100    40    0     0   6666      0 --:--:-- --:--:-- --:--:--  6666\n",
      "  % Total    % Received % Xferd  Average Speed   Time    Time     Time  Current\n",
      "                                 Dload  Upload   Total   Spent    Left  Speed\n",
      "\r",
      "  0     0    0     0    0     0      0      0 --:--:-- --:--:-- --:--:--     0\r",
      "100    40  100    40    0     0   6666      0 --:--:-- --:--:-- --:--:--  6666\n",
      "  % Total    % Received % Xferd  Average Speed   Time    Time     Time  Current\n",
      "                                 Dload  Upload   Total   Spent    Left  Speed\n",
      "\r",
      "  0     0    0     0    0     0      0      0 --:--:-- --:--:-- --:--:--     0\r",
      "100    40  100    40    0     0  20000      0 --:--:-- --:--:-- --:--:-- 20000\n",
      "  % Total    % Received % Xferd  Average Speed   Time    Time     Time  Current\n",
      "                                 Dload  Upload   Total   Spent    Left  Speed\n",
      "\r",
      "  0     0    0     0    0     0      0      0 --:--:-- --:--:-- --:--:--     0\r",
      "100    40  100    40    0     0  20000      0 --:--:-- --:--:-- --:--:-- 20000\n"
     ]
    }
   ],
   "source": [
    "%%bash\n",
    "\n",
    "for i in {1..20} ; do\n",
    "{\n",
    "    curl localhost:8000 \n",
    "} ;\n",
    "done"
   ]
  },
  {
   "cell_type": "code",
   "execution_count": 19,
   "metadata": {},
   "outputs": [
    {
     "name": "stdout",
     "output_type": "stream",
     "text": [
      "d8b52c135ada\n",
      "Hello World! I have been seen 89 times.\n",
      "Hello World! I have been seen 90 times.\n",
      "Hello World! I have been seen 91 times.\n",
      "Hello World! I have been seen 92 times.\n",
      "Hello World! I have been seen 93 times.\n",
      "Hello World! I have been seen 94 times.\n",
      "Hello World! I have been seen 95 times.\n",
      "Hello World! I have been seen 96 times.\n",
      "Hello World! I have been seen 97 times.\n",
      "Hello World! I have been seen 98 times.\n",
      "Hello World! I have been seen 99 times.\n",
      "Hello World! I have been seen 100 times.\n"
     ]
    },
    {
     "name": "stderr",
     "output_type": "stream",
     "text": [
      "  % Total    % Received % Xferd  Average Speed   Time    Time     Time  Current\n",
      "                                 Dload  Upload   Total   Spent    Left  Speed\n",
      "\r",
      "  0     0    0     0    0     0      0      0 --:--:-- --:--:-- --:--:--     0\r",
      "100    40  100    40    0     0   4866      0 --:--:-- --:--:-- --:--:--  5000\n",
      "  % Total    % Received % Xferd  Average Speed   Time    Time     Time  Current\n",
      "                                 Dload  Upload   Total   Spent    Left  Speed\n",
      "\r",
      "  0     0    0     0    0     0      0      0 --:--:-- --:--:-- --:--:--     0\r",
      "100    40  100    40    0     0   6087      0 --:--:-- --:--:-- --:--:--  6666\n",
      "  % Total    % Received % Xferd  Average Speed   Time    Time     Time  Current\n",
      "                                 Dload  Upload   Total   Spent    Left  Speed\n",
      "\r",
      "  0     0    0     0    0     0      0      0 --:--:-- --:--:-- --:--:--     0\r",
      "100    40  100    40    0     0   5983      0 --:--:-- --:--:-- --:--:--  6666\n",
      "  % Total    % Received % Xferd  Average Speed   Time    Time     Time  Current\n",
      "                                 Dload  Upload   Total   Spent    Left  Speed\n",
      "\r",
      "  0     0    0     0    0     0      0      0 --:--:-- --:--:-- --:--:--     0\r",
      "100    40  100    40    0     0   6042      0 --:--:-- --:--:-- --:--:--  6666\n",
      "  % Total    % Received % Xferd  Average Speed   Time    Time     Time  Current\n",
      "                                 Dload  Upload   Total   Spent    Left  Speed\n",
      "\r",
      "  0     0    0     0    0     0      0      0 --:--:-- --:--:-- --:--:--     0\r",
      "100    40  100    40    0     0   5984      0 --:--:-- --:--:-- --:--:--  6666\n",
      "  % Total    % Received % Xferd  Average Speed   Time    Time     Time  Current\n",
      "                                 Dload  Upload   Total   Spent    Left  Speed\n",
      "\r",
      "  0     0    0     0    0     0      0      0 --:--:-- --:--:-- --:--:--     0\r",
      "100    40  100    40    0     0   5908      0 --:--:-- --:--:-- --:--:--  6666\n",
      "  % Total    % Received % Xferd  Average Speed   Time    Time     Time  Current\n",
      "                                 Dload  Upload   Total   Spent    Left  Speed\n",
      "\r",
      "  0     0    0     0    0     0      0      0 --:--:-- --:--:-- --:--:--     0\r",
      "100    40  100    40    0     0   5941      0 --:--:-- --:--:-- --:--:--  6666\n",
      "  % Total    % Received % Xferd  Average Speed   Time    Time     Time  Current\n",
      "                                 Dload  Upload   Total   Spent    Left  Speed\n",
      "\r",
      "  0     0    0     0    0     0      0      0 --:--:-- --:--:-- --:--:--     0\r",
      "100    40  100    40    0     0   6006      0 --:--:-- --:--:-- --:--:--  6666\n",
      "  % Total    % Received % Xferd  Average Speed   Time    Time     Time  Current\n",
      "                                 Dload  Upload   Total   Spent    Left  Speed\n",
      "\r",
      "  0     0    0     0    0     0      0      0 --:--:-- --:--:-- --:--:--     0\r",
      "100    40  100    40    0     0   6065      0 --:--:-- --:--:-- --:--:--  6666\n",
      "  % Total    % Received % Xferd  Average Speed   Time    Time     Time  Current\n",
      "                                 Dload  Upload   Total   Spent    Left  Speed\n",
      "\r",
      "  0     0    0     0    0     0      0      0 --:--:-- --:--:-- --:--:--     0\r",
      "100    40  100    40    0     0   6044      0 --:--:-- --:--:-- --:--:--  6666\n",
      "  % Total    % Received % Xferd  Average Speed   Time    Time     Time  Current\n",
      "                                 Dload  Upload   Total   Spent    Left  Speed\n",
      "\r",
      "  0     0    0     0    0     0      0      0 --:--:-- --:--:-- --:--:--     0\r",
      "100    40  100    40    0     0   5969      0 --:--:-- --:--:-- --:--:--  6666\n",
      "  % Total    % Received % Xferd  Average Speed   Time    Time     Time  Current\n",
      "                                 Dload  Upload   Total   Spent    Left  Speed\n",
      "\r",
      "  0     0    0     0    0     0      0      0 --:--:-- --:--:-- --:--:--     0\r",
      "100    41  100    41    0     0   6185      0 --:--:-- --:--:-- --:--:--  6833\n"
     ]
    }
   ],
   "source": [
    "%%bash\n",
    "\n",
    "CONTAINER=`docker ps |grep bash-tester | awk '{print $1}'`\n",
    "\n",
    "echo ${CONTAINER}\n",
    "\n",
    "for i in {1..12} ; do\n",
    "{\n",
    "    docker exec ${CONTAINER} curl web:8000\n",
    "} ;\n",
    "done\n"
   ]
  },
  {
   "cell_type": "code",
   "execution_count": null,
   "metadata": {},
   "outputs": [],
   "source": []
  }
 ],
 "metadata": {
  "kernelspec": {
   "display_name": "Python 3",
   "language": "python",
   "name": "python3"
  },
  "language_info": {
   "codemirror_mode": {
    "name": "ipython",
    "version": 3
   },
   "file_extension": ".py",
   "mimetype": "text/x-python",
   "name": "python",
   "nbconvert_exporter": "python",
   "pygments_lexer": "ipython3",
   "version": "3.6.9"
  }
 },
 "nbformat": 4,
 "nbformat_minor": 4
}
